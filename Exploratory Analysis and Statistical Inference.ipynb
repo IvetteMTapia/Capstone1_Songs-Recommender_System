{
 "cells": [
  {
   "cell_type": "markdown",
   "metadata": {},
   "source": [
    "# Exploratory Analysis & Statistical Inference"
   ]
  },
  {
   "cell_type": "markdown",
   "metadata": {},
   "source": [
    "## Import Libraries"
   ]
  },
  {
   "cell_type": "code",
   "execution_count": 1,
   "metadata": {},
   "outputs": [],
   "source": [
    "import pandas as pd\n",
    "import seaborn as sns\n",
    "import matplotlib.pyplot as plt\n",
    "import numpy as np\n",
    "from scipy import stats"
   ]
  },
  {
   "cell_type": "markdown",
   "metadata": {},
   "source": [
    "## Upload Data"
   ]
  },
  {
   "cell_type": "markdown",
   "metadata": {},
   "source": [
    "Upload User Data - *User song play counts and play indicator (y=1 if song listened to)* "
   ]
  },
  {
   "cell_type": "code",
   "execution_count": 2,
   "metadata": {},
   "outputs": [
    {
     "name": "stderr",
     "output_type": "stream",
     "text": [
      "/anaconda3/lib/python3.6/site-packages/numpy/lib/arraysetops.py:466: FutureWarning: elementwise comparison failed; returning scalar instead, but in the future will perform elementwise comparison\n",
      "  mask |= (ar1 == a)\n"
     ]
    },
    {
     "name": "stdout",
     "output_type": "stream",
     "text": [
      "<class 'pandas.core.frame.DataFrame'>\n",
      "Int64Index: 48373586 entries, 0 to 48373585\n",
      "Data columns (total 4 columns):\n",
      "user_id       object\n",
      "song_id       object\n",
      "play_count    int64\n",
      "play          int64\n",
      "dtypes: int64(2), object(2)\n",
      "memory usage: 1.8+ GB\n",
      "None\n"
     ]
    },
    {
     "data": {
      "text/html": [
       "<div>\n",
       "<style scoped>\n",
       "    .dataframe tbody tr th:only-of-type {\n",
       "        vertical-align: middle;\n",
       "    }\n",
       "\n",
       "    .dataframe tbody tr th {\n",
       "        vertical-align: top;\n",
       "    }\n",
       "\n",
       "    .dataframe thead th {\n",
       "        text-align: right;\n",
       "    }\n",
       "</style>\n",
       "<table border=\"1\" class=\"dataframe\">\n",
       "  <thead>\n",
       "    <tr style=\"text-align: right;\">\n",
       "      <th></th>\n",
       "      <th>user_id</th>\n",
       "      <th>song_id</th>\n",
       "      <th>play_count</th>\n",
       "      <th>play</th>\n",
       "    </tr>\n",
       "    <tr>\n",
       "      <th>index</th>\n",
       "      <th></th>\n",
       "      <th></th>\n",
       "      <th></th>\n",
       "      <th></th>\n",
       "    </tr>\n",
       "  </thead>\n",
       "  <tbody>\n",
       "    <tr>\n",
       "      <th>0</th>\n",
       "      <td>b80344d063b5ccb3212f76538f3d9e43d87dca9e</td>\n",
       "      <td>SOAKIMP12A8C130995</td>\n",
       "      <td>1</td>\n",
       "      <td>1</td>\n",
       "    </tr>\n",
       "    <tr>\n",
       "      <th>1</th>\n",
       "      <td>b80344d063b5ccb3212f76538f3d9e43d87dca9e</td>\n",
       "      <td>SOAPDEY12A81C210A9</td>\n",
       "      <td>1</td>\n",
       "      <td>1</td>\n",
       "    </tr>\n",
       "    <tr>\n",
       "      <th>2</th>\n",
       "      <td>b80344d063b5ccb3212f76538f3d9e43d87dca9e</td>\n",
       "      <td>SOBBMDR12A8C13253B</td>\n",
       "      <td>2</td>\n",
       "      <td>1</td>\n",
       "    </tr>\n",
       "    <tr>\n",
       "      <th>3</th>\n",
       "      <td>b80344d063b5ccb3212f76538f3d9e43d87dca9e</td>\n",
       "      <td>SOBFNSP12AF72A0E22</td>\n",
       "      <td>1</td>\n",
       "      <td>1</td>\n",
       "    </tr>\n",
       "    <tr>\n",
       "      <th>4</th>\n",
       "      <td>b80344d063b5ccb3212f76538f3d9e43d87dca9e</td>\n",
       "      <td>SOBFOVM12A58A7D494</td>\n",
       "      <td>1</td>\n",
       "      <td>1</td>\n",
       "    </tr>\n",
       "  </tbody>\n",
       "</table>\n",
       "</div>"
      ],
      "text/plain": [
       "                                        user_id             song_id  \\\n",
       "index                                                                 \n",
       "0      b80344d063b5ccb3212f76538f3d9e43d87dca9e  SOAKIMP12A8C130995   \n",
       "1      b80344d063b5ccb3212f76538f3d9e43d87dca9e  SOAPDEY12A81C210A9   \n",
       "2      b80344d063b5ccb3212f76538f3d9e43d87dca9e  SOBBMDR12A8C13253B   \n",
       "3      b80344d063b5ccb3212f76538f3d9e43d87dca9e  SOBFNSP12AF72A0E22   \n",
       "4      b80344d063b5ccb3212f76538f3d9e43d87dca9e  SOBFOVM12A58A7D494   \n",
       "\n",
       "       play_count  play  \n",
       "index                    \n",
       "0               1     1  \n",
       "1               1     1  \n",
       "2               2     1  \n",
       "3               1     1  \n",
       "4               1     1  "
      ]
     },
     "execution_count": 2,
     "metadata": {},
     "output_type": "execute_result"
    }
   ],
   "source": [
    "users_path = ('/Users/ivettetapia 1/Symbolic Link Seagate Drive/Springboard/Capstone 1_Mus_Recomend/Data/msd_user_data.csv')\n",
    "\n",
    "users = pd.read_csv(users_path, na_values = 'NaN', index_col = 0)\n",
    "\n",
    "users.index.names = ['index']\n",
    "\n",
    "print(users.info())\n",
    "\n",
    "users.head()"
   ]
  },
  {
   "cell_type": "markdown",
   "metadata": {},
   "source": [
    "Upload Song Metadata - *Song Features & Characteristics*"
   ]
  },
  {
   "cell_type": "code",
   "execution_count": 3,
   "metadata": {
    "scrolled": true
   },
   "outputs": [
    {
     "name": "stdout",
     "output_type": "stream",
     "text": [
      "<class 'pandas.core.frame.DataFrame'>\n",
      "Int64Index: 905712 entries, 0 to 981021\n",
      "Data columns (total 51 columns):\n",
      "artist_7digitalid                 905712 non-null int64\n",
      "artist_familiarity                905531 non-null float64\n",
      "artist_hotttnesss                 905700 non-null float64\n",
      "artist_id                         905712 non-null object\n",
      "artist_latitude                   325985 non-null float64\n",
      "artist_location                   460185 non-null object\n",
      "artist_longitude                  325985 non-null float64\n",
      "artist_mbid                       847639 non-null object\n",
      "artist_name                       905712 non-null object\n",
      "artist_playmeid                   905712 non-null int64\n",
      "idx_artist_terms                  905712 non-null int64\n",
      "idx_similar_artists               905712 non-null int64\n",
      "release                           905707 non-null object\n",
      "release_7digitalid                905712 non-null int64\n",
      "song_hotttnesss                   551532 non-null float64\n",
      "song_id                           905712 non-null object\n",
      "title                             905708 non-null object\n",
      "track_7digitalid                  905712 non-null int64\n",
      "analysis_sample_rate              905712 non-null int64\n",
      "audio_md5                         905712 non-null object\n",
      "danceability                      905712 non-null float64\n",
      "duration                          905712 non-null float64\n",
      "end_of_fade_in                    905712 non-null float64\n",
      "energy                            905712 non-null float64\n",
      "idx_bars_confidence               905712 non-null int64\n",
      "idx_bars_start                    905712 non-null int64\n",
      "idx_beats_confidence              905712 non-null int64\n",
      "idx_beats_start                   905712 non-null int64\n",
      "idx_sections_confidence           905712 non-null int64\n",
      "idx_sections_start                905712 non-null int64\n",
      "idx_segments_confidence           905712 non-null int64\n",
      "idx_segments_loudness_max         905712 non-null int64\n",
      "idx_segments_loudness_max_time    905712 non-null int64\n",
      "idx_segments_loudness_start       905712 non-null int64\n",
      "idx_segments_pitches              905712 non-null int64\n",
      "idx_segments_start                905712 non-null int64\n",
      "idx_segments_timbre               905712 non-null int64\n",
      "idx_tatums_confidence             905712 non-null int64\n",
      "idx_tatums_start                  905712 non-null int64\n",
      "key                               905712 non-null int64\n",
      "key_confidence                    905712 non-null float64\n",
      "loudness                          905712 non-null float64\n",
      "mode                              905712 non-null int64\n",
      "mode_confidence                   905712 non-null float64\n",
      "start_of_fade_out                 905712 non-null float64\n",
      "tempo                             905712 non-null float64\n",
      "time_signature                    905712 non-null int64\n",
      "time_signature_confidence         905712 non-null float64\n",
      "track_id                          905712 non-null object\n",
      "idx_artist_mbtags                 905712 non-null int64\n",
      "year                              456811 non-null float64\n",
      "dtypes: float64(16), int64(26), object(9)\n",
      "memory usage: 359.3+ MB\n",
      "None\n"
     ]
    },
    {
     "data": {
      "text/html": [
       "<div>\n",
       "<style scoped>\n",
       "    .dataframe tbody tr th:only-of-type {\n",
       "        vertical-align: middle;\n",
       "    }\n",
       "\n",
       "    .dataframe tbody tr th {\n",
       "        vertical-align: top;\n",
       "    }\n",
       "\n",
       "    .dataframe thead th {\n",
       "        text-align: right;\n",
       "    }\n",
       "</style>\n",
       "<table border=\"1\" class=\"dataframe\">\n",
       "  <thead>\n",
       "    <tr style=\"text-align: right;\">\n",
       "      <th></th>\n",
       "      <th>artist_7digitalid</th>\n",
       "      <th>artist_familiarity</th>\n",
       "      <th>artist_hotttnesss</th>\n",
       "      <th>artist_id</th>\n",
       "      <th>artist_latitude</th>\n",
       "      <th>artist_location</th>\n",
       "      <th>artist_longitude</th>\n",
       "      <th>artist_mbid</th>\n",
       "      <th>artist_name</th>\n",
       "      <th>artist_playmeid</th>\n",
       "      <th>...</th>\n",
       "      <th>loudness</th>\n",
       "      <th>mode</th>\n",
       "      <th>mode_confidence</th>\n",
       "      <th>start_of_fade_out</th>\n",
       "      <th>tempo</th>\n",
       "      <th>time_signature</th>\n",
       "      <th>time_signature_confidence</th>\n",
       "      <th>track_id</th>\n",
       "      <th>idx_artist_mbtags</th>\n",
       "      <th>year</th>\n",
       "    </tr>\n",
       "    <tr>\n",
       "      <th>index</th>\n",
       "      <th></th>\n",
       "      <th></th>\n",
       "      <th></th>\n",
       "      <th></th>\n",
       "      <th></th>\n",
       "      <th></th>\n",
       "      <th></th>\n",
       "      <th></th>\n",
       "      <th></th>\n",
       "      <th></th>\n",
       "      <th></th>\n",
       "      <th></th>\n",
       "      <th></th>\n",
       "      <th></th>\n",
       "      <th></th>\n",
       "      <th></th>\n",
       "      <th></th>\n",
       "      <th></th>\n",
       "      <th></th>\n",
       "      <th></th>\n",
       "      <th></th>\n",
       "    </tr>\n",
       "  </thead>\n",
       "  <tbody>\n",
       "    <tr>\n",
       "      <th>0</th>\n",
       "      <td>4069</td>\n",
       "      <td>0.649822</td>\n",
       "      <td>0.394032</td>\n",
       "      <td>ARYZTJS1187B98C555</td>\n",
       "      <td>NaN</td>\n",
       "      <td>NaN</td>\n",
       "      <td>NaN</td>\n",
       "      <td>357ff05d-848a-44cf-b608-cb34b5701ae5</td>\n",
       "      <td>Faster Pussy cat</td>\n",
       "      <td>44895</td>\n",
       "      <td>...</td>\n",
       "      <td>-4.829</td>\n",
       "      <td>0</td>\n",
       "      <td>0.688</td>\n",
       "      <td>236.635</td>\n",
       "      <td>87.002</td>\n",
       "      <td>4</td>\n",
       "      <td>0.940</td>\n",
       "      <td>TRMMMYQ128F932D901</td>\n",
       "      <td>0</td>\n",
       "      <td>2003.0</td>\n",
       "    </tr>\n",
       "    <tr>\n",
       "      <th>1</th>\n",
       "      <td>113480</td>\n",
       "      <td>0.439604</td>\n",
       "      <td>0.356992</td>\n",
       "      <td>ARMVN3U1187FB3A1EB</td>\n",
       "      <td>NaN</td>\n",
       "      <td>NaN</td>\n",
       "      <td>NaN</td>\n",
       "      <td>8d7ef530-a6fd-4f8f-b2e2-74aec765e0f9</td>\n",
       "      <td>Karkkiautomaatti</td>\n",
       "      <td>-1</td>\n",
       "      <td>...</td>\n",
       "      <td>-10.555</td>\n",
       "      <td>1</td>\n",
       "      <td>0.355</td>\n",
       "      <td>148.660</td>\n",
       "      <td>150.778</td>\n",
       "      <td>1</td>\n",
       "      <td>0.000</td>\n",
       "      <td>TRMMMKD128F425225D</td>\n",
       "      <td>0</td>\n",
       "      <td>1995.0</td>\n",
       "    </tr>\n",
       "    <tr>\n",
       "      <th>2</th>\n",
       "      <td>63531</td>\n",
       "      <td>0.643681</td>\n",
       "      <td>0.437504</td>\n",
       "      <td>ARGEKB01187FB50750</td>\n",
       "      <td>55.8578</td>\n",
       "      <td>Glasgow, Scotland</td>\n",
       "      <td>-4.24251</td>\n",
       "      <td>3d403d44-36ce-465c-ad43-ae877e65adc4</td>\n",
       "      <td>Hudson Mohawke</td>\n",
       "      <td>-1</td>\n",
       "      <td>...</td>\n",
       "      <td>-2.060</td>\n",
       "      <td>1</td>\n",
       "      <td>0.566</td>\n",
       "      <td>138.971</td>\n",
       "      <td>177.768</td>\n",
       "      <td>4</td>\n",
       "      <td>0.446</td>\n",
       "      <td>TRMMMRX128F93187D9</td>\n",
       "      <td>0</td>\n",
       "      <td>2006.0</td>\n",
       "    </tr>\n",
       "    <tr>\n",
       "      <th>3</th>\n",
       "      <td>65051</td>\n",
       "      <td>0.448501</td>\n",
       "      <td>0.372349</td>\n",
       "      <td>ARNWYLR1187B9B2F9C</td>\n",
       "      <td>NaN</td>\n",
       "      <td>NaN</td>\n",
       "      <td>NaN</td>\n",
       "      <td>12be7648-7094-495f-90e6-df4189d68615</td>\n",
       "      <td>Yerba Brava</td>\n",
       "      <td>34000</td>\n",
       "      <td>...</td>\n",
       "      <td>-4.654</td>\n",
       "      <td>1</td>\n",
       "      <td>0.451</td>\n",
       "      <td>138.687</td>\n",
       "      <td>87.433</td>\n",
       "      <td>4</td>\n",
       "      <td>0.000</td>\n",
       "      <td>TRMMMCH128F425532C</td>\n",
       "      <td>0</td>\n",
       "      <td>2003.0</td>\n",
       "    </tr>\n",
       "    <tr>\n",
       "      <th>4</th>\n",
       "      <td>158279</td>\n",
       "      <td>0.000000</td>\n",
       "      <td>0.000000</td>\n",
       "      <td>AREQDTE1269FB37231</td>\n",
       "      <td>NaN</td>\n",
       "      <td>NaN</td>\n",
       "      <td>NaN</td>\n",
       "      <td>NaN</td>\n",
       "      <td>Der Mystic</td>\n",
       "      <td>-1</td>\n",
       "      <td>...</td>\n",
       "      <td>-7.806</td>\n",
       "      <td>0</td>\n",
       "      <td>0.290</td>\n",
       "      <td>506.717</td>\n",
       "      <td>140.035</td>\n",
       "      <td>4</td>\n",
       "      <td>0.315</td>\n",
       "      <td>TRMMMWA128F426B589</td>\n",
       "      <td>0</td>\n",
       "      <td>NaN</td>\n",
       "    </tr>\n",
       "  </tbody>\n",
       "</table>\n",
       "<p>5 rows × 51 columns</p>\n",
       "</div>"
      ],
      "text/plain": [
       "       artist_7digitalid  artist_familiarity  artist_hotttnesss  \\\n",
       "index                                                             \n",
       "0                   4069            0.649822           0.394032   \n",
       "1                 113480            0.439604           0.356992   \n",
       "2                  63531            0.643681           0.437504   \n",
       "3                  65051            0.448501           0.372349   \n",
       "4                 158279            0.000000           0.000000   \n",
       "\n",
       "                artist_id  artist_latitude    artist_location  \\\n",
       "index                                                           \n",
       "0      ARYZTJS1187B98C555              NaN                NaN   \n",
       "1      ARMVN3U1187FB3A1EB              NaN                NaN   \n",
       "2      ARGEKB01187FB50750          55.8578  Glasgow, Scotland   \n",
       "3      ARNWYLR1187B9B2F9C              NaN                NaN   \n",
       "4      AREQDTE1269FB37231              NaN                NaN   \n",
       "\n",
       "       artist_longitude                           artist_mbid  \\\n",
       "index                                                           \n",
       "0                   NaN  357ff05d-848a-44cf-b608-cb34b5701ae5   \n",
       "1                   NaN  8d7ef530-a6fd-4f8f-b2e2-74aec765e0f9   \n",
       "2              -4.24251  3d403d44-36ce-465c-ad43-ae877e65adc4   \n",
       "3                   NaN  12be7648-7094-495f-90e6-df4189d68615   \n",
       "4                   NaN                                   NaN   \n",
       "\n",
       "            artist_name  artist_playmeid   ...    loudness  mode  \\\n",
       "index                                      ...                     \n",
       "0      Faster Pussy cat            44895   ...      -4.829     0   \n",
       "1      Karkkiautomaatti               -1   ...     -10.555     1   \n",
       "2        Hudson Mohawke               -1   ...      -2.060     1   \n",
       "3           Yerba Brava            34000   ...      -4.654     1   \n",
       "4            Der Mystic               -1   ...      -7.806     0   \n",
       "\n",
       "      mode_confidence  start_of_fade_out    tempo time_signature  \\\n",
       "index                                                              \n",
       "0               0.688            236.635   87.002              4   \n",
       "1               0.355            148.660  150.778              1   \n",
       "2               0.566            138.971  177.768              4   \n",
       "3               0.451            138.687   87.433              4   \n",
       "4               0.290            506.717  140.035              4   \n",
       "\n",
       "      time_signature_confidence            track_id  idx_artist_mbtags    year  \n",
       "index                                                                           \n",
       "0                         0.940  TRMMMYQ128F932D901                  0  2003.0  \n",
       "1                         0.000  TRMMMKD128F425225D                  0  1995.0  \n",
       "2                         0.446  TRMMMRX128F93187D9                  0  2006.0  \n",
       "3                         0.000  TRMMMCH128F425532C                  0  2003.0  \n",
       "4                         0.315  TRMMMWA128F426B589                  0     NaN  \n",
       "\n",
       "[5 rows x 51 columns]"
      ]
     },
     "execution_count": 3,
     "metadata": {},
     "output_type": "execute_result"
    }
   ],
   "source": [
    "songs_path = ('/Users/ivettetapia 1/Symbolic Link Seagate Drive/Springboard/Capstone 1_Mus_Recomend/Data/msd_song_metadata.csv')\n",
    "\n",
    "songs = pd.read_csv(songs_path, na_values = 'NaN', index_col = 0)\n",
    "\n",
    "songs.index.names = ['index']\n",
    "\n",
    "print(songs.info())\n",
    "\n",
    "songs.head()"
   ]
  },
  {
   "cell_type": "markdown",
   "metadata": {},
   "source": [
    "Upload Artist Tags - *Artist Genre Description from MusicBrainz and Echo Nest*"
   ]
  },
  {
   "cell_type": "code",
   "execution_count": 4,
   "metadata": {},
   "outputs": [
    {
     "name": "stderr",
     "output_type": "stream",
     "text": [
      "/anaconda3/lib/python3.6/site-packages/numpy/lib/arraysetops.py:466: FutureWarning: elementwise comparison failed; returning scalar instead, but in the future will perform elementwise comparison\n",
      "  mask |= (ar1 == a)\n"
     ]
    },
    {
     "name": "stdout",
     "output_type": "stream",
     "text": [
      "<class 'pandas.core.frame.DataFrame'>\n",
      "Int64Index: 1621124 entries, 0 to 1621123\n",
      "Data columns (total 3 columns):\n",
      "artist_id    1621124 non-null object\n",
      "mbtag        798145 non-null object\n",
      "terms        1621118 non-null object\n",
      "dtypes: object(3)\n",
      "memory usage: 49.5+ MB\n",
      "None\n"
     ]
    },
    {
     "data": {
      "text/html": [
       "<div>\n",
       "<style scoped>\n",
       "    .dataframe tbody tr th:only-of-type {\n",
       "        vertical-align: middle;\n",
       "    }\n",
       "\n",
       "    .dataframe tbody tr th {\n",
       "        vertical-align: top;\n",
       "    }\n",
       "\n",
       "    .dataframe thead th {\n",
       "        text-align: right;\n",
       "    }\n",
       "</style>\n",
       "<table border=\"1\" class=\"dataframe\">\n",
       "  <thead>\n",
       "    <tr style=\"text-align: right;\">\n",
       "      <th></th>\n",
       "      <th>artist_id</th>\n",
       "      <th>mbtag</th>\n",
       "      <th>terms</th>\n",
       "    </tr>\n",
       "    <tr>\n",
       "      <th>index</th>\n",
       "      <th></th>\n",
       "      <th></th>\n",
       "      <th></th>\n",
       "    </tr>\n",
       "  </thead>\n",
       "  <tbody>\n",
       "    <tr>\n",
       "      <th>0</th>\n",
       "      <td>AR002UA1187B9A637D</td>\n",
       "      <td>uk</td>\n",
       "      <td>garage rock</td>\n",
       "    </tr>\n",
       "    <tr>\n",
       "      <th>1</th>\n",
       "      <td>AR002UA1187B9A637D</td>\n",
       "      <td>uk</td>\n",
       "      <td>country rock</td>\n",
       "    </tr>\n",
       "    <tr>\n",
       "      <th>2</th>\n",
       "      <td>AR002UA1187B9A637D</td>\n",
       "      <td>uk</td>\n",
       "      <td>free jazz</td>\n",
       "    </tr>\n",
       "    <tr>\n",
       "      <th>3</th>\n",
       "      <td>AR002UA1187B9A637D</td>\n",
       "      <td>uk</td>\n",
       "      <td>oi</td>\n",
       "    </tr>\n",
       "    <tr>\n",
       "      <th>4</th>\n",
       "      <td>AR002UA1187B9A637D</td>\n",
       "      <td>uk</td>\n",
       "      <td>space rock</td>\n",
       "    </tr>\n",
       "  </tbody>\n",
       "</table>\n",
       "</div>"
      ],
      "text/plain": [
       "                artist_id mbtag         terms\n",
       "index                                        \n",
       "0      AR002UA1187B9A637D    uk   garage rock\n",
       "1      AR002UA1187B9A637D    uk  country rock\n",
       "2      AR002UA1187B9A637D    uk     free jazz\n",
       "3      AR002UA1187B9A637D    uk            oi\n",
       "4      AR002UA1187B9A637D    uk    space rock"
      ]
     },
     "execution_count": 4,
     "metadata": {},
     "output_type": "execute_result"
    }
   ],
   "source": [
    "artist_tags_path = ('/Users/ivettetapia 1/Symbolic Link Seagate Drive/Springboard/Capstone 1_Mus_Recomend/Data/msd_tags.csv')\n",
    "\n",
    "artist_tags = pd.read_csv(artist_tags_path, index_col = 0, na_values = 'NaN',\n",
    "                        dtype = {0:'int', 1:'str',2:'str',3:'str'})\n",
    "\n",
    "artist_tags.index.names = ['index']\n",
    "\n",
    "print(artist_tags.info())\n",
    "\n",
    "artist_tags.head()"
   ]
  },
  {
   "cell_type": "markdown",
   "metadata": {},
   "source": [
    "## Part 1. Basic Song Catalog Exploration"
   ]
  },
  {
   "cell_type": "code",
   "execution_count": 5,
   "metadata": {},
   "outputs": [
    {
     "data": {
      "text/html": [
       "<div>\n",
       "<style scoped>\n",
       "    .dataframe tbody tr th:only-of-type {\n",
       "        vertical-align: middle;\n",
       "    }\n",
       "\n",
       "    .dataframe tbody tr th {\n",
       "        vertical-align: top;\n",
       "    }\n",
       "\n",
       "    .dataframe thead th {\n",
       "        text-align: right;\n",
       "    }\n",
       "</style>\n",
       "<table border=\"1\" class=\"dataframe\">\n",
       "  <thead>\n",
       "    <tr style=\"text-align: right;\">\n",
       "      <th></th>\n",
       "      <th>artist_familiarity</th>\n",
       "      <th>artist_hotttnesss</th>\n",
       "      <th>song_hotttnesss</th>\n",
       "      <th>danceability</th>\n",
       "      <th>duration</th>\n",
       "      <th>energy</th>\n",
       "      <th>key</th>\n",
       "      <th>loudness</th>\n",
       "      <th>mode</th>\n",
       "      <th>tempo</th>\n",
       "      <th>time_signature</th>\n",
       "      <th>year</th>\n",
       "    </tr>\n",
       "  </thead>\n",
       "  <tbody>\n",
       "    <tr>\n",
       "      <th>count</th>\n",
       "      <td>905531.000000</td>\n",
       "      <td>905700.000000</td>\n",
       "      <td>551532.000000</td>\n",
       "      <td>905712.0</td>\n",
       "      <td>905712.000000</td>\n",
       "      <td>905712.0</td>\n",
       "      <td>905712.000000</td>\n",
       "      <td>905712.000000</td>\n",
       "      <td>905712.000000</td>\n",
       "      <td>905712.000000</td>\n",
       "      <td>905712.000000</td>\n",
       "      <td>456811.000000</td>\n",
       "    </tr>\n",
       "    <tr>\n",
       "      <th>mean</th>\n",
       "      <td>0.552926</td>\n",
       "      <td>0.375825</td>\n",
       "      <td>0.350871</td>\n",
       "      <td>0.0</td>\n",
       "      <td>246.913997</td>\n",
       "      <td>0.0</td>\n",
       "      <td>5.310544</td>\n",
       "      <td>-10.163313</td>\n",
       "      <td>0.668136</td>\n",
       "      <td>123.840877</td>\n",
       "      <td>3.591662</td>\n",
       "      <td>1998.948718</td>\n",
       "    </tr>\n",
       "    <tr>\n",
       "      <th>std</th>\n",
       "      <td>0.136430</td>\n",
       "      <td>0.124020</td>\n",
       "      <td>0.232737</td>\n",
       "      <td>0.0</td>\n",
       "      <td>124.880635</td>\n",
       "      <td>0.0</td>\n",
       "      <td>3.594880</td>\n",
       "      <td>5.242631</td>\n",
       "      <td>0.470883</td>\n",
       "      <td>35.282309</td>\n",
       "      <td>1.227227</td>\n",
       "      <td>10.292170</td>\n",
       "    </tr>\n",
       "    <tr>\n",
       "      <th>min</th>\n",
       "      <td>0.000000</td>\n",
       "      <td>0.000000</td>\n",
       "      <td>0.000000</td>\n",
       "      <td>0.0</td>\n",
       "      <td>0.313020</td>\n",
       "      <td>0.0</td>\n",
       "      <td>0.000000</td>\n",
       "      <td>-58.178000</td>\n",
       "      <td>0.000000</td>\n",
       "      <td>0.000000</td>\n",
       "      <td>0.000000</td>\n",
       "      <td>1922.000000</td>\n",
       "    </tr>\n",
       "    <tr>\n",
       "      <th>25%</th>\n",
       "      <td>0.475977</td>\n",
       "      <td>0.334415</td>\n",
       "      <td>0.215080</td>\n",
       "      <td>0.0</td>\n",
       "      <td>179.930980</td>\n",
       "      <td>0.0</td>\n",
       "      <td>2.000000</td>\n",
       "      <td>-12.736000</td>\n",
       "      <td>0.000000</td>\n",
       "      <td>97.725000</td>\n",
       "      <td>3.000000</td>\n",
       "      <td>1995.000000</td>\n",
       "    </tr>\n",
       "    <tr>\n",
       "      <th>50%</th>\n",
       "      <td>0.555851</td>\n",
       "      <td>0.384529</td>\n",
       "      <td>0.375984</td>\n",
       "      <td>0.0</td>\n",
       "      <td>227.787300</td>\n",
       "      <td>0.0</td>\n",
       "      <td>5.000000</td>\n",
       "      <td>-8.994000</td>\n",
       "      <td>1.000000</td>\n",
       "      <td>121.689000</td>\n",
       "      <td>4.000000</td>\n",
       "      <td>2002.000000</td>\n",
       "    </tr>\n",
       "    <tr>\n",
       "      <th>75%</th>\n",
       "      <td>0.636053</td>\n",
       "      <td>0.440371</td>\n",
       "      <td>0.525961</td>\n",
       "      <td>0.0</td>\n",
       "      <td>286.406080</td>\n",
       "      <td>0.0</td>\n",
       "      <td>9.000000</td>\n",
       "      <td>-6.386000</td>\n",
       "      <td>1.000000</td>\n",
       "      <td>144.900000</td>\n",
       "      <td>4.000000</td>\n",
       "      <td>2006.000000</td>\n",
       "    </tr>\n",
       "    <tr>\n",
       "      <th>max</th>\n",
       "      <td>1.000000</td>\n",
       "      <td>1.082503</td>\n",
       "      <td>1.000000</td>\n",
       "      <td>0.0</td>\n",
       "      <td>3034.905670</td>\n",
       "      <td>0.0</td>\n",
       "      <td>11.000000</td>\n",
       "      <td>4.318000</td>\n",
       "      <td>1.000000</td>\n",
       "      <td>302.300000</td>\n",
       "      <td>7.000000</td>\n",
       "      <td>2011.000000</td>\n",
       "    </tr>\n",
       "  </tbody>\n",
       "</table>\n",
       "</div>"
      ],
      "text/plain": [
       "       artist_familiarity  artist_hotttnesss  song_hotttnesss  danceability  \\\n",
       "count       905531.000000      905700.000000    551532.000000      905712.0   \n",
       "mean             0.552926           0.375825         0.350871           0.0   \n",
       "std              0.136430           0.124020         0.232737           0.0   \n",
       "min              0.000000           0.000000         0.000000           0.0   \n",
       "25%              0.475977           0.334415         0.215080           0.0   \n",
       "50%              0.555851           0.384529         0.375984           0.0   \n",
       "75%              0.636053           0.440371         0.525961           0.0   \n",
       "max              1.000000           1.082503         1.000000           0.0   \n",
       "\n",
       "            duration    energy            key       loudness           mode  \\\n",
       "count  905712.000000  905712.0  905712.000000  905712.000000  905712.000000   \n",
       "mean      246.913997       0.0       5.310544     -10.163313       0.668136   \n",
       "std       124.880635       0.0       3.594880       5.242631       0.470883   \n",
       "min         0.313020       0.0       0.000000     -58.178000       0.000000   \n",
       "25%       179.930980       0.0       2.000000     -12.736000       0.000000   \n",
       "50%       227.787300       0.0       5.000000      -8.994000       1.000000   \n",
       "75%       286.406080       0.0       9.000000      -6.386000       1.000000   \n",
       "max      3034.905670       0.0      11.000000       4.318000       1.000000   \n",
       "\n",
       "               tempo  time_signature           year  \n",
       "count  905712.000000   905712.000000  456811.000000  \n",
       "mean      123.840877        3.591662    1998.948718  \n",
       "std        35.282309        1.227227      10.292170  \n",
       "min         0.000000        0.000000    1922.000000  \n",
       "25%        97.725000        3.000000    1995.000000  \n",
       "50%       121.689000        4.000000    2002.000000  \n",
       "75%       144.900000        4.000000    2006.000000  \n",
       "max       302.300000        7.000000    2011.000000  "
      ]
     },
     "execution_count": 5,
     "metadata": {},
     "output_type": "execute_result"
    }
   ],
   "source": [
    "#Extract Basic Song Features from the songs dataset\n",
    "\n",
    "basic_features = songs[['artist_familiarity','artist_hotttnesss','artist_id',\n",
    "                                'song_hotttnesss','song_id','danceability','duration',                                \n",
    "                                'energy','key','loudness','mode','tempo','time_signature','year']]\n",
    "\n",
    "basic_features.describe()"
   ]
  },
  {
   "cell_type": "markdown",
   "metadata": {},
   "source": [
    "**Overall Song Characteristics Observations:** \n",
    "\n",
    "* Looking at the means it seems artist familiarity is 0.55, it falls somewhat in the middle of the  possible values of 0 to 1. \n",
    "* Artist hottness and song hottness mean values skew towards the lower range of hottness. \n",
    "* In terms of song duration, the mean song is 4.10 minutes (which sounds accurate).\n",
    "* The mean loudness of the tracks is -10.16, which suggests many of the tracks are not in the extreme of loudness (since this value is far away from max loudness of 4.31)\n",
    "* The average key is 5.31 (this is around B major or D flat major (which is the same as C# major))\n",
    "* The mean beats per minute (tempo) is 123. Which means the mean song is in Allegro tempo: fast, quick, and bright.\n",
    "* The mean mode is 0.66, there is an skew towards songs in the major scale. \n",
    "* The mean time signature if 3.59 and the 75% percentile is 4. This means most songs are in 4/4 time signature.\n",
    "* The mean year of release if 1998, with aprox. 25% of songs released between 2006 and 2011.\n",
    "\n",
    "**Missing Values**\n",
    "\n",
    "* Danceability and Energy do not have values at all (i.e were not analyzed).\n",
    "* Artist familiarity has some missing values, but not a lot.\n",
    "* Song hottness and year have a significant amount of missing values."
   ]
  },
  {
   "cell_type": "code",
   "execution_count": 6,
   "metadata": {},
   "outputs": [],
   "source": [
    "# drop danceability and energy since all their values are zeroes\n",
    "\n",
    "basic_features = basic_features.drop(['danceability','energy'], axis = 1)"
   ]
  },
  {
   "cell_type": "code",
   "execution_count": 7,
   "metadata": {},
   "outputs": [
    {
     "name": "stdout",
     "output_type": "stream",
     "text": [
      "Unique Artists: 44421\n",
      "Unique Songs: 905712\n"
     ]
    }
   ],
   "source": [
    "#Get number of unique artists & songs\n",
    "\n",
    "print('Unique Artists:', basic_features['artist_id'].nunique())\n",
    "\n",
    "print('Unique Songs:', basic_features['song_id'].nunique())"
   ]
  },
  {
   "cell_type": "markdown",
   "metadata": {},
   "source": [
    "There are 44,421 unique artists and 905,712 unique songs represented in the dataset."
   ]
  },
  {
   "cell_type": "code",
   "execution_count": 8,
   "metadata": {},
   "outputs": [
    {
     "data": {
      "text/plain": [
       "([<matplotlib.axis.XTick at 0x1a0d5ce780>,\n",
       "  <matplotlib.axis.XTick at 0x105a65320>,\n",
       "  <matplotlib.axis.XTick at 0x1a0d5ddeb8>,\n",
       "  <matplotlib.axis.XTick at 0x1a0db072e8>,\n",
       "  <matplotlib.axis.XTick at 0x1a0db07940>,\n",
       "  <matplotlib.axis.XTick at 0x1a0db07f98>,\n",
       "  <matplotlib.axis.XTick at 0x1a0db0c630>,\n",
       "  <matplotlib.axis.XTick at 0x1a0c27a828>,\n",
       "  <matplotlib.axis.XTick at 0x1a0db17f98>,\n",
       "  <matplotlib.axis.XTick at 0x1a0d5b4b00>,\n",
       "  <matplotlib.axis.XTick at 0x1a0db1c9e8>,\n",
       "  <matplotlib.axis.XTick at 0x1a0db1c358>],\n",
       " <a list of 12 Text xticklabel objects>)"
      ]
     },
     "execution_count": 8,
     "metadata": {},
     "output_type": "execute_result"
    },
    {
     "data": {
      "image/png": "[encoded data removed]",
      "text/plain": [
       "<matplotlib.figure.Figure at 0x1a0c27ab70>"
      ]
     },
     "metadata": {},
     "output_type": "display_data"
    }
   ],
   "source": [
    "#Get count of songs by year\n",
    "\n",
    "yearly_songs = basic_features[['year','song_id']].groupby('year',as_index=False).count()\n",
    "\n",
    "#Graph of songs by year\n",
    "\n",
    "yearly_songs.plot('year','song_id',legend=None)\n",
    "\n",
    "plt.ylabel('Count of Songs')\n",
    "\n",
    "plt.xlabel('Year')\n",
    "\n",
    "plt.title('Count of Songs by Year of Release')\n",
    "\n",
    "plt.grid(False)\n",
    "\n",
    "x_ticks=np.arange(1900,2020,10)\n",
    "\n",
    "plt.xticks(x_ticks,rotation = 50)"
   ]
  },
  {
   "cell_type": "markdown",
   "metadata": {},
   "source": [
    "Year of release heavily skews to recent releases with a sharp peak in the 2000's. However, year data is not complete, I have year data for 456,811 songs or 50% of the song dataset. I am unsure if the missing values are random or systematic, an example of this would be older songs tending to have missing values for year."
   ]
  },
  {
   "cell_type": "code",
   "execution_count": 9,
   "metadata": {},
   "outputs": [
    {
     "data": {
      "image/png": "[encoded data removed]",
      "text/plain": [
       "<matplotlib.figure.Figure at 0x1a0c1a9cf8>"
      ]
     },
     "metadata": {},
     "output_type": "display_data"
    }
   ],
   "source": [
    "#Get count of songs by artist\n",
    "\n",
    "artist_songs = basic_features[['artist_id','song_id']].groupby('artist_id',as_index=False).count()\n",
    "\n",
    "#Songs by artist\n",
    "\n",
    "sns.distplot(artist_songs.song_id, norm_hist=True)\n",
    "\n",
    "plt.ylabel('Frequency')\n",
    "\n",
    "plt.xlabel('Count of Songs')\n",
    "\n",
    "plt.title('Artist Song Counts')\n",
    "\n",
    "plt.xticks(rotation = 50)\n",
    "\n",
    "plt.grid(False)"
   ]
  },
  {
   "cell_type": "markdown",
   "metadata": {},
   "source": [
    "Artist song counts seems to have some peaks."
   ]
  },
  {
   "cell_type": "markdown",
   "metadata": {},
   "source": [
    "## Part 2. User Play Indicator Data Exploration and Inference"
   ]
  },
  {
   "cell_type": "markdown",
   "metadata": {},
   "source": [
    "### A. Descriptive Statistics"
   ]
  },
  {
   "cell_type": "markdown",
   "metadata": {},
   "source": [
    "In recommender systems, it is best practice to treat implicit feedback as 0 or 1 (1 = consumed, 0 = not consumed), rather than using how much of the item was consumed. This is to prevent overfitting. How much it was consumed (i.e) play counts can be used as metrics of 'confidence' or 'intensity'. Below I grouped and summed the play indicator by user id. This is to understand at a basic level how many song plays interactions each individual user has."
   ]
  },
  {
   "cell_type": "code",
   "execution_count": 10,
   "metadata": {},
   "outputs": [
    {
     "data": {
      "text/html": [
       "<div>\n",
       "<style scoped>\n",
       "    .dataframe tbody tr th:only-of-type {\n",
       "        vertical-align: middle;\n",
       "    }\n",
       "\n",
       "    .dataframe tbody tr th {\n",
       "        vertical-align: top;\n",
       "    }\n",
       "\n",
       "    .dataframe thead th {\n",
       "        text-align: right;\n",
       "    }\n",
       "</style>\n",
       "<table border=\"1\" class=\"dataframe\">\n",
       "  <thead>\n",
       "    <tr style=\"text-align: right;\">\n",
       "      <th></th>\n",
       "      <th>user_id</th>\n",
       "      <th>play</th>\n",
       "      <th>play_count</th>\n",
       "    </tr>\n",
       "  </thead>\n",
       "  <tbody>\n",
       "    <tr>\n",
       "      <th>941420</th>\n",
       "      <td>ec6dfcf19485cb011e0b22637075037aae34cf26</td>\n",
       "      <td>4400</td>\n",
       "      <td>5260</td>\n",
       "    </tr>\n",
       "    <tr>\n",
       "      <th>559999</th>\n",
       "      <td>8cb51abc6bf8ea29341cb070fe1e1af5e4c3ffcc</td>\n",
       "      <td>1651</td>\n",
       "      <td>2748</td>\n",
       "    </tr>\n",
       "    <tr>\n",
       "      <th>1015155</th>\n",
       "      <td>fef771ab021c200187a419f5e55311390f850a50</td>\n",
       "      <td>1614</td>\n",
       "      <td>2957</td>\n",
       "    </tr>\n",
       "    <tr>\n",
       "      <th>358880</th>\n",
       "      <td>5a3417a1955d9136413e0d293cd36497f5e00238</td>\n",
       "      <td>1604</td>\n",
       "      <td>1732</td>\n",
       "    </tr>\n",
       "    <tr>\n",
       "      <th>768700</th>\n",
       "      <td>c1255748c06ee3f6440c51c439446886c7807095</td>\n",
       "      <td>1566</td>\n",
       "      <td>5288</td>\n",
       "    </tr>\n",
       "  </tbody>\n",
       "</table>\n",
       "</div>"
      ],
      "text/plain": [
       "                                          user_id  play  play_count\n",
       "941420   ec6dfcf19485cb011e0b22637075037aae34cf26  4400        5260\n",
       "559999   8cb51abc6bf8ea29341cb070fe1e1af5e4c3ffcc  1651        2748\n",
       "1015155  fef771ab021c200187a419f5e55311390f850a50  1614        2957\n",
       "358880   5a3417a1955d9136413e0d293cd36497f5e00238  1604        1732\n",
       "768700   c1255748c06ee3f6440c51c439446886c7807095  1566        5288"
      ]
     },
     "execution_count": 10,
     "metadata": {},
     "output_type": "execute_result"
    }
   ],
   "source": [
    "# Group the users dataset by user id. Sum the play indicator by user id. \n",
    "\n",
    "user_plays = users[['user_id','play','play_count']].groupby('user_id',as_index=False).sum()\n",
    "\n",
    "user_plays.sort_values('play',inplace=True, ascending=False)\n",
    "\n",
    "user_plays.head()"
   ]
  },
  {
   "cell_type": "markdown",
   "metadata": {},
   "source": [
    "**Calculate descriptive statistics of the user_plays dataset.**"
   ]
  },
  {
   "cell_type": "code",
   "execution_count": 11,
   "metadata": {},
   "outputs": [
    {
     "data": {
      "text/html": [
       "<div>\n",
       "<style scoped>\n",
       "    .dataframe tbody tr th:only-of-type {\n",
       "        vertical-align: middle;\n",
       "    }\n",
       "\n",
       "    .dataframe tbody tr th {\n",
       "        vertical-align: top;\n",
       "    }\n",
       "\n",
       "    .dataframe thead th {\n",
       "        text-align: right;\n",
       "    }\n",
       "</style>\n",
       "<table border=\"1\" class=\"dataframe\">\n",
       "  <thead>\n",
       "    <tr style=\"text-align: right;\">\n",
       "      <th></th>\n",
       "      <th>play</th>\n",
       "      <th>play_count</th>\n",
       "    </tr>\n",
       "  </thead>\n",
       "  <tbody>\n",
       "    <tr>\n",
       "      <th>count</th>\n",
       "      <td>1.019318e+06</td>\n",
       "      <td>1.019318e+06</td>\n",
       "    </tr>\n",
       "    <tr>\n",
       "      <th>mean</th>\n",
       "      <td>4.745682e+01</td>\n",
       "      <td>1.360520e+02</td>\n",
       "    </tr>\n",
       "    <tr>\n",
       "      <th>std</th>\n",
       "      <td>5.781573e+01</td>\n",
       "      <td>1.845255e+02</td>\n",
       "    </tr>\n",
       "    <tr>\n",
       "      <th>min</th>\n",
       "      <td>1.000000e+01</td>\n",
       "      <td>1.000000e+01</td>\n",
       "    </tr>\n",
       "    <tr>\n",
       "      <th>25%</th>\n",
       "      <td>1.600000e+01</td>\n",
       "      <td>3.400000e+01</td>\n",
       "    </tr>\n",
       "    <tr>\n",
       "      <th>50%</th>\n",
       "      <td>2.700000e+01</td>\n",
       "      <td>7.300000e+01</td>\n",
       "    </tr>\n",
       "    <tr>\n",
       "      <th>75%</th>\n",
       "      <td>5.500000e+01</td>\n",
       "      <td>1.630000e+02</td>\n",
       "    </tr>\n",
       "    <tr>\n",
       "      <th>max</th>\n",
       "      <td>4.400000e+03</td>\n",
       "      <td>1.313200e+04</td>\n",
       "    </tr>\n",
       "  </tbody>\n",
       "</table>\n",
       "</div>"
      ],
      "text/plain": [
       "               play    play_count\n",
       "count  1.019318e+06  1.019318e+06\n",
       "mean   4.745682e+01  1.360520e+02\n",
       "std    5.781573e+01  1.845255e+02\n",
       "min    1.000000e+01  1.000000e+01\n",
       "25%    1.600000e+01  3.400000e+01\n",
       "50%    2.700000e+01  7.300000e+01\n",
       "75%    5.500000e+01  1.630000e+02\n",
       "max    4.400000e+03  1.313200e+04"
      ]
     },
     "execution_count": 11,
     "metadata": {},
     "output_type": "execute_result"
    }
   ],
   "source": [
    "user_plays.describe()"
   ]
  },
  {
   "cell_type": "markdown",
   "metadata": {},
   "source": [
    "**Observations:**\n",
    "\n",
    "* There are 1.019M unique users.\n",
    "* The play indicator has a mean of 47.45 and an standard deviation of 57.82. This means that the average user has listened to 47.45 unique different songs.\n",
    "* The percentile distribution suggests a long tail somewhere. The 75% percentile is 55 songs and the max song plays is 4,400 songs."
   ]
  },
  {
   "cell_type": "markdown",
   "metadata": {},
   "source": [
    "### B. Normality Testing: Histogram, Actual ECDF, Theoretical ECDF,  Skew, Kurtosis, D’Agostino-Pearson’s Test & Anderson-Darling Test"
   ]
  },
  {
   "cell_type": "markdown",
   "metadata": {},
   "source": [
    "> Plot histograms of the user song plays indicator."
   ]
  },
  {
   "cell_type": "code",
   "execution_count": 12,
   "metadata": {},
   "outputs": [
    {
     "data": {
      "image/png": "[encoded data removed]",
      "text/plain": [
       "<matplotlib.figure.Figure at 0x1a1017a208>"
      ]
     },
     "metadata": {},
     "output_type": "display_data"
    }
   ],
   "source": [
    "sns.set()\n",
    "\n",
    "sns.distplot(user_plays.play,norm_hist=True)\n",
    "\n",
    "plt.ylabel('PDF')\n",
    "\n",
    "plt.xlabel('User Listens (48+M)')\n",
    "\n",
    "plt.title('Count of Song Listens per User')\n",
    "\n",
    "plt.xlim([0,4400])\n",
    "\n",
    "plt.xticks(rotation = 50)\n",
    "\n",
    "plt.tight_layout()"
   ]
  },
  {
   "cell_type": "code",
   "execution_count": 13,
   "metadata": {},
   "outputs": [
    {
     "data": {
      "text/plain": [
       "([<matplotlib.axis.XTick at 0x1a0db27320>,\n",
       "  <matplotlib.axis.XTick at 0x1a0c2e01d0>,\n",
       "  <matplotlib.axis.XTick at 0x1a0c50dfd0>,\n",
       "  <matplotlib.axis.XTick at 0x1a0c517240>,\n",
       "  <matplotlib.axis.XTick at 0x1a0c517940>,\n",
       "  <matplotlib.axis.XTick at 0x1a0c51b080>,\n",
       "  <matplotlib.axis.XTick at 0x1a0cdbf240>,\n",
       "  <matplotlib.axis.XTick at 0x1a0cdecd30>,\n",
       "  <matplotlib.axis.XTick at 0x1a0c5240f0>,\n",
       "  <matplotlib.axis.XTick at 0x1a0c524f98>,\n",
       "  <matplotlib.axis.XTick at 0x1a0c52e6d8>],\n",
       " <a list of 11 Text xticklabel objects>)"
      ]
     },
     "execution_count": 13,
     "metadata": {},
     "output_type": "execute_result"
    },
    {
     "data": {
      "image/png": "[encoded data removed]",
      "text/plain": [
       "<matplotlib.figure.Figure at 0x1a0d6e66a0>"
      ]
     },
     "metadata": {},
     "output_type": "display_data"
    }
   ],
   "source": [
    "#Histogram of listens when user plays <=500\n",
    "\n",
    "sns.distplot(user_plays.play)\n",
    "\n",
    "plt.ylabel('PDF')\n",
    "\n",
    "plt.xlabel('User Plays (47.3+M)')\n",
    "\n",
    "plt.title('Count of Song Listens per User \\n listens <=500')\n",
    "\n",
    "plt.xlim([0,500])\n",
    "\n",
    "x_ticks=np.arange(0,550,50)\n",
    "\n",
    "plt.tight_layout()\n",
    "\n",
    "plt.xticks(x_ticks,rotation = 50)"
   ]
  },
  {
   "cell_type": "markdown",
   "metadata": {},
   "source": [
    "The two histograms above suggests a very long tail starting somewhere below 175 user song plays. The distribution **does not look** normal."
   ]
  },
  {
   "cell_type": "markdown",
   "metadata": {},
   "source": [
    "> **The next five (5) cells create ECDF plots of actual and theoretically normal user listens data. Compare actual distribution to theoretically normal distribution.**"
   ]
  },
  {
   "cell_type": "code",
   "execution_count": 14,
   "metadata": {},
   "outputs": [],
   "source": [
    "# Define function to calculate ECDF\n",
    "\n",
    "def ecdf(data):\n",
    "    \n",
    "    \"\"\"Compute ECDF for a one-dimensional array of measurements.\n",
    "    \n",
    "    ECDF is the empirical cumulative distribution function (cdf), \n",
    "    \n",
    "    f, evaluated at the points in x, using the data in the vector y\"\"\"\n",
    "    \n",
    "    # Number of data points: n\n",
    "    n = len(data)\n",
    "\n",
    "    # x-data for the ECDF: x\n",
    "    x = np.sort(data)\n",
    "\n",
    "    # y-data for the ECDF: y\n",
    "    y = np.arange(1, n+1) / n\n",
    "\n",
    "    return x, y"
   ]
  },
  {
   "cell_type": "markdown",
   "metadata": {},
   "source": [
    "> Create theoretically normal distribution of the user play indicator."
   ]
  },
  {
   "cell_type": "code",
   "execution_count": 15,
   "metadata": {},
   "outputs": [],
   "source": [
    "# Calculate mean of  and standard deviation of user play indicator\n",
    "\n",
    "mean_user_play = np.mean(user_plays.play)\n",
    "\n",
    "std_user_play = np.std(user_plays.play)\n",
    "\n",
    "#Generate 1.019+M samples (the same as sample size) from mean and standard deviation. Set seed to 42.\n",
    "\n",
    "np.random.seed(42)\n",
    "\n",
    "samples = np.random.normal(mean_user_play, std_user_play, size=1019318)"
   ]
  },
  {
   "cell_type": "markdown",
   "metadata": {},
   "source": [
    "> Calculate ECDF of actual and theorectical user plays."
   ]
  },
  {
   "cell_type": "code",
   "execution_count": 16,
   "metadata": {},
   "outputs": [],
   "source": [
    "#Calculate actual and theoretical ECDF of user plays\n",
    "\n",
    "x, y = ecdf(user_plays.play)\n",
    "\n",
    "x_theor, y_theor = ecdf(samples)"
   ]
  },
  {
   "cell_type": "markdown",
   "metadata": {},
   "source": [
    "> Graph ECDF plot of actual user plays."
   ]
  },
  {
   "cell_type": "code",
   "execution_count": 17,
   "metadata": {},
   "outputs": [
    {
     "data": {
      "image/png": "[encoded data removed]",
      "text/plain": [
       "<matplotlib.figure.Figure at 0x1a0c51b940>"
      ]
     },
     "metadata": {},
     "output_type": "display_data"
    }
   ],
   "source": [
    "#Graph actual cumulative sample distribution\n",
    "\n",
    "plt.plot(x, y, marker='.', linestyle='none')\n",
    "\n",
    "plt.title('ECDF Plot of Actual User Song Plays')\n",
    "\n",
    "plt.xlabel('user listens')\n",
    "\n",
    "plt.ylabel('CDF')\n",
    "\n",
    "plt.show()"
   ]
  },
  {
   "cell_type": "markdown",
   "metadata": {},
   "source": [
    "> Graph ECDF plot of theoretically normal user plays."
   ]
  },
  {
   "cell_type": "code",
   "execution_count": 18,
   "metadata": {},
   "outputs": [
    {
     "data": {
      "image/png": "[encoded data removed]",
      "text/plain": [
       "<matplotlib.figure.Figure at 0x1a0c4dad30>"
      ]
     },
     "metadata": {},
     "output_type": "display_data"
    }
   ],
   "source": [
    "#Graph theoretical sample distribution\n",
    "\n",
    "plt.plot(x_theor, y_theor)\n",
    "\n",
    "plt.title('ECDF Plot of Theoretical User Song Plays')\n",
    "\n",
    "plt.xlabel('user listens')\n",
    "\n",
    "plt.ylabel('CDF')\n",
    "\n",
    "plt.show()"
   ]
  },
  {
   "cell_type": "markdown",
   "metadata": {},
   "source": [
    "**Comparison of Actual ECDF and Theoretically Normal ECDF:** There is a large difference between the shape and range of the actual distribution and the theoretically normal distribution. It is worth noting that in this case, negative values are physically imposible, an user cannot have negative listens."
   ]
  },
  {
   "cell_type": "markdown",
   "metadata": {},
   "source": [
    "Calculate Basic Distribution Statistics"
   ]
  },
  {
   "cell_type": "code",
   "execution_count": 19,
   "metadata": {},
   "outputs": [
    {
     "data": {
      "text/plain": [
       "DescribeResult(nobs=1019318, minmax=(10, 4400), mean=47.45681524313316, variance=3342.658708282296, skewness=4.82622346101333, kurtosis=68.50330155504909)"
      ]
     },
     "execution_count": 19,
     "metadata": {},
     "output_type": "execute_result"
    }
   ],
   "source": [
    "stats.describe(user_plays.play)"
   ]
  },
  {
   "cell_type": "markdown",
   "metadata": {},
   "source": [
    "The kurtosis and skewedness statistics suggest high levels of positive skewdness and kurtosis."
   ]
  },
  {
   "cell_type": "markdown",
   "metadata": {},
   "source": [
    "**D’Agostino and Pearson’s Normality Test**\n",
    "\n",
    "*From the documentation: This function tests the null hypothesis that a sample comes from a normal distribution. It is based on D’Agostino and Pearson’s, test that combines skew and kurtosis to produce an omnibus test of normality.*\n",
    "\n",
    "**Anderson-Darling Normality Test:** This test has been shown to have more statistical power for testing normality.\n",
    "\n",
    "*From the documentation: The Anderson-Darling tests the null hypothesis that a sample is drawn from a population that follows a particular distribution. For the Anderson-Darling test, the critical values depend on which distribution is being tested against. This function works for normal, exponential, logistic, or Gumbel (Extreme Value Type I) distributions.\n",
    "\n",
    "> H0: Distribution is normal.\n",
    "\n",
    "> H1: Distribution is not normal.\n",
    "\n",
    "> alpha = 0.05"
   ]
  },
  {
   "cell_type": "code",
   "execution_count": 20,
   "metadata": {},
   "outputs": [
    {
     "name": "stdout",
     "output_type": "stream",
     "text": [
      "D’Agostino and Pearson’s:  NormaltestResult(statistic=1059797.831946297, pvalue=0.0)\n",
      "Anderson-Darling:  AndersonResult(statistic=105800.29039414553, critical_values=array([0.576, 0.656, 0.787, 0.918, 1.092]), significance_level=array([15. , 10. ,  5. ,  2.5,  1. ]))\n"
     ]
    }
   ],
   "source": [
    "# D’Agostino and Pearson’s Normality Test\n",
    "\n",
    "print('D’Agostino and Pearson’s: ',stats.normaltest(user_plays.play))\n",
    "\n",
    "# Anderson-Darling Normality Test\n",
    "\n",
    "print('Anderson-Darling: ',stats.anderson(user_plays.play))"
   ]
  },
  {
   "cell_type": "markdown",
   "metadata": {},
   "source": [
    "**Normality Tests Results:** \n",
    "\n",
    "* **D’Agostino and Pearson’s Test:** The test p-value is less than the set alpha level of 0.05. In this case, the null hypothesis is rejected and accept the hypothesis that the distribution is not normal.\n",
    "\n",
    "* **Anderson-Darling Test:** The statistic is much greater than the critical values, at all levels of statistical significance. This means the null hypothesis that the distrinution is normal can be rejected and accept that is not normal."
   ]
  },
  {
   "cell_type": "markdown",
   "metadata": {},
   "source": [
    "**Normality Testing Conclusions:** \n",
    "\n",
    "* The histogram, ECDF plots, Kurtosis, Skewdness and the D’Agostino and Pearson’s Normality Test suggests that the user play data as it currently stands is **not normally distributed**.\n",
    "\n",
    "**Central Limit Theorem:** I cautiously say that this data satifies the central limit theorem.\n",
    "\n",
    "* Independence: To satisfy this condition we will need to assume that an user's play count is independent of the play count of another user. This seems to me like a reasonable assumption. Nonetheless, it is unclear if this sample is 10% of the population. The echo nest claims that this sample is a small subset of their music universe, how small is unclear. Find info here: http://blog.echonest.com/post/11992136676/taste-profiles-get-added-to-the-million-song\n",
    "\n",
    "* Randomness: The Echo Nest randomly selected a sample of users whose play counts matched to the song ID's in the dataset.\n",
    "\n",
    "* Sample Size > 30: The sample size is greater than 30."
   ]
  },
  {
   "cell_type": "markdown",
   "metadata": {},
   "source": [
    "### C. Confidence Interval Using Bootstrap"
   ]
  },
  {
   "cell_type": "markdown",
   "metadata": {},
   "source": [
    "I will use the bootstrap method to calculate confidence intervals for the mean, because the sample distribution is NOT normal. Parametric confidence interval formulas assume the sample is normal."
   ]
  },
  {
   "cell_type": "code",
   "execution_count": 21,
   "metadata": {},
   "outputs": [],
   "source": [
    "#Define bootstrap function\n",
    "\n",
    "def bs_sample(v, function, size = 10000):    \n",
    "    \n",
    "    ''' Take a 1d array, generate bootstrap samples of the same size as the data, and \n",
    "    calculate replicates of each bootstrap sample. Return an array of replicates of the same size as \n",
    "    bootstrap samples.'''\n",
    "    \n",
    "    #Generate random seed for replicability\n",
    "    np.random.seed(42) \n",
    "    \n",
    "    #Initialize replicates\n",
    "    bs_sample = np.empty(size)\n",
    "    \n",
    "    #Create replicates\n",
    "    for i in range(size):\n",
    "        bs = function(np.random.choice(v, size=len(v)))\n",
    "        bs_sample[i] = bs\n",
    "\n",
    "    return  bs_sample"
   ]
  },
  {
   "cell_type": "markdown",
   "metadata": {},
   "source": [
    "Generate Bootstrap Replicates of the Users Plays Mean"
   ]
  },
  {
   "cell_type": "code",
   "execution_count": 22,
   "metadata": {},
   "outputs": [],
   "source": [
    "n_tries = 10000\n",
    "\n",
    "user_plays_mean_replicates = bs_sample(user_plays.play,np.mean,n_tries)"
   ]
  },
  {
   "cell_type": "markdown",
   "metadata": {},
   "source": [
    "Create ECDF and Histogram Plots Bootstrapped Means"
   ]
  },
  {
   "cell_type": "code",
   "execution_count": 23,
   "metadata": {},
   "outputs": [
    {
     "data": {
      "image/png": "[encoded data removed]",
      "text/plain": [
       "<matplotlib.figure.Figure at 0x1a0c54d908>"
      ]
     },
     "metadata": {},
     "output_type": "display_data"
    }
   ],
   "source": [
    "#Calculate ECDF\n",
    "\n",
    "x1, y1 = ecdf(user_plays_mean_replicates)\n",
    "\n",
    "#Graph actual cumulative sample distribution\n",
    "\n",
    "plt.plot(x1, y1)\n",
    "\n",
    "plt.title('ECDF Plot of Mean Bootstrap Replicates \\n n=10,000')\n",
    "\n",
    "plt.xlabel('user plays')\n",
    "\n",
    "plt.ylabel('CDF')\n",
    "\n",
    "plt.show()"
   ]
  },
  {
   "cell_type": "code",
   "execution_count": 24,
   "metadata": {},
   "outputs": [
    {
     "data": {
      "image/png": "[encoded data removed]",
      "text/plain": [
       "<matplotlib.figure.Figure at 0x1a0c816da0>"
      ]
     },
     "metadata": {},
     "output_type": "display_data"
    }
   ],
   "source": [
    "#Create Histogram of Bootstrap Mean Replicates\n",
    "\n",
    "sns.distplot(user_plays_mean_replicates, norm_hist=True)\n",
    "\n",
    "plt.ylabel('PDF')\n",
    "\n",
    "plt.xlabel('mean user plays')\n",
    "\n",
    "plt.title('Mean Bootstrap Replicates of User Plays \\n n=10,000')\n",
    "\n",
    "plt.tight_layout()"
   ]
  },
  {
   "cell_type": "code",
   "execution_count": 25,
   "metadata": {},
   "outputs": [
    {
     "data": {
      "text/plain": [
       "DescribeResult(nobs=10000, minmax=(47.22700668486184, 47.658447118563586), mean=47.45698742649497, variance=0.003272903070874329, skewness=-0.003623643315682341, kurtosis=-0.05632406728254047)"
      ]
     },
     "execution_count": 25,
     "metadata": {},
     "output_type": "execute_result"
    }
   ],
   "source": [
    "stats.describe(user_plays_mean_replicates)"
   ]
  },
  {
   "cell_type": "markdown",
   "metadata": {},
   "source": [
    "* The bootstrap replicates are normally distributed. \n",
    "* The distribution contains the sample mean of 47.45."
   ]
  },
  {
   "cell_type": "markdown",
   "metadata": {},
   "source": [
    "Calculate Confidence Interval & P-value of the Mean"
   ]
  },
  {
   "cell_type": "code",
   "execution_count": 26,
   "metadata": {},
   "outputs": [
    {
     "name": "stdout",
     "output_type": "stream",
     "text": [
      "Bootstrap Mean Replicates 95% CI:  [47.34795407 47.5705959 ]\n"
     ]
    }
   ],
   "source": [
    "#Bootstrap confidence interval\n",
    "\n",
    "ci_user_plays = np.percentile(user_plays_mean_replicates,[2.5,97.5])\n",
    "\n",
    "print('Bootstrap Mean Replicates 95% CI: ',ci_user_plays)"
   ]
  },
  {
   "cell_type": "markdown",
   "metadata": {},
   "source": [
    "The bootstrap mean replicates showes a 95% confidence interval for the population mean is between 47.34 and 47.57. This confidence interval is very close together. This range contains our sample mean of 47.45."
   ]
  },
  {
   "cell_type": "markdown",
   "metadata": {},
   "source": [
    "### D. Hypothesis Testing Using Bootstrap  Mean Replicates"
   ]
  },
  {
   "cell_type": "markdown",
   "metadata": {},
   "source": [
    "The hypotheses to be tested are: \n",
    "\n",
    "> H0: Population mean is 47.45 user song plays.\n",
    "\n",
    "> Ha: Population mean is not 47.45 user song plays.\n",
    "\n",
    "> alpha = 0.05"
   ]
  },
  {
   "cell_type": "code",
   "execution_count": 27,
   "metadata": {},
   "outputs": [],
   "source": [
    "user_mean = np.mean(user_plays.play)"
   ]
  },
  {
   "cell_type": "code",
   "execution_count": 28,
   "metadata": {},
   "outputs": [
    {
     "name": "stdout",
     "output_type": "stream",
     "text": [
      "P-value of user plays mean replicates:  0.4996\n"
     ]
    }
   ],
   "source": [
    "print('P-value of user plays mean replicates: ', sum(user_plays_mean_replicates <= user_mean)/n_tries)"
   ]
  },
  {
   "cell_type": "markdown",
   "metadata": {},
   "source": [
    "We cannot reject the null hypothesis that the population mean is 47.45 user plays."
   ]
  },
  {
   "cell_type": "markdown",
   "metadata": {},
   "source": [
    "### E. Hypothesis Testing Using a T-Test"
   ]
  },
  {
   "cell_type": "markdown",
   "metadata": {},
   "source": [
    "* Since the sample seems to satisfy the central limit theorem (but not sample normality) I will use a t-test.\n",
    "* I am using a one-sample hypothesis testing approach because I do not have a second user-play sample distribution to compare to.\n",
    "\n",
    "> H0: Population mean is 47.45 user song plays.\n",
    "\n",
    "> Ha: Population mean is not 47.45 user song plays.\n",
    "\n",
    "> alpha = 0.05"
   ]
  },
  {
   "cell_type": "code",
   "execution_count": 29,
   "metadata": {},
   "outputs": [
    {
     "data": {
      "text/plain": [
       "Ttest_1sampResult(statistic=0.11901184344418661, pvalue=0.9052659962122818)"
      ]
     },
     "execution_count": 29,
     "metadata": {},
     "output_type": "execute_result"
    }
   ],
   "source": [
    "stats.ttest_1samp(user_plays.play,47.45)"
   ]
  },
  {
   "cell_type": "markdown",
   "metadata": {},
   "source": [
    "The p-value is above the alpha level of 0.05. This suggets that we cannot reject the null hypothesis that the population mean is 47.45."
   ]
  },
  {
   "cell_type": "markdown",
   "metadata": {},
   "source": [
    "**Sample Mean Hypothesis Testing & Distribution Conclusions**\n",
    "\n",
    "**1-** The distribution is not normal.\n",
    "\n",
    "**2-** According to the bootstrap replicates of the mean and the one sample t-test it is likely that the population user plays indicator mean is around 47.45 songs.\n",
    "\n",
    "**3-** There are several factors that could be driving these results and creating a peculiar user plays distribution:\n",
    "\n",
    "* The user play dataset is very large. \n",
    "* The data was in a certain timeframe and procedure and we do not have full user listening history.\n",
    "* The song data was extracted in December of 2011 which is holiday season, which could affect the user song play behaviour.\n",
    "* There are specific characteristics of the user with high user play interactions (such as business customer, several people in the same account etc.). \n",
    "* The structure of the music industry, in which a few songs/artists create hits and most working artists do not."
   ]
  },
  {
   "cell_type": "markdown",
   "metadata": {},
   "source": [
    "## Part 3. Song Listen Data Exploration and Inference"
   ]
  },
  {
   "cell_type": "markdown",
   "metadata": {},
   "source": [
    "### A. Descriptive Statistics"
   ]
  },
  {
   "cell_type": "markdown",
   "metadata": {},
   "source": [
    "Below I grouped and summed the play indicator by song id. This is to understand at a basic level how many unique user interactions each individual song has."
   ]
  },
  {
   "cell_type": "code",
   "execution_count": 30,
   "metadata": {},
   "outputs": [
    {
     "data": {
      "text/html": [
       "<div>\n",
       "<style scoped>\n",
       "    .dataframe tbody tr th:only-of-type {\n",
       "        vertical-align: middle;\n",
       "    }\n",
       "\n",
       "    .dataframe tbody tr th {\n",
       "        vertical-align: top;\n",
       "    }\n",
       "\n",
       "    .dataframe thead th {\n",
       "        text-align: right;\n",
       "    }\n",
       "</style>\n",
       "<table border=\"1\" class=\"dataframe\">\n",
       "  <thead>\n",
       "    <tr style=\"text-align: right;\">\n",
       "      <th></th>\n",
       "      <th>song_id</th>\n",
       "      <th>play</th>\n",
       "      <th>play_count</th>\n",
       "    </tr>\n",
       "  </thead>\n",
       "  <tbody>\n",
       "    <tr>\n",
       "      <th>90798</th>\n",
       "      <td>SOFRQTD12A81C233C0</td>\n",
       "      <td>110479</td>\n",
       "      <td>425463</td>\n",
       "    </tr>\n",
       "    <tr>\n",
       "      <th>12936</th>\n",
       "      <td>SOAUWYT12A81C206F1</td>\n",
       "      <td>90476</td>\n",
       "      <td>648239</td>\n",
       "    </tr>\n",
       "    <tr>\n",
       "      <th>14339</th>\n",
       "      <td>SOAXGDH12A8C13F8A1</td>\n",
       "      <td>90444</td>\n",
       "      <td>356533</td>\n",
       "    </tr>\n",
       "    <tr>\n",
       "      <th>25043</th>\n",
       "      <td>SOBONKR12A58A7A7E0</td>\n",
       "      <td>84000</td>\n",
       "      <td>726885</td>\n",
       "    </tr>\n",
       "    <tr>\n",
       "      <th>287415</th>\n",
       "      <td>SOSXLTC12AF72A7F54</td>\n",
       "      <td>80656</td>\n",
       "      <td>527893</td>\n",
       "    </tr>\n",
       "  </tbody>\n",
       "</table>\n",
       "</div>"
      ],
      "text/plain": [
       "                   song_id    play  play_count\n",
       "90798   SOFRQTD12A81C233C0  110479      425463\n",
       "12936   SOAUWYT12A81C206F1   90476      648239\n",
       "14339   SOAXGDH12A8C13F8A1   90444      356533\n",
       "25043   SOBONKR12A58A7A7E0   84000      726885\n",
       "287415  SOSXLTC12AF72A7F54   80656      527893"
      ]
     },
     "execution_count": 30,
     "metadata": {},
     "output_type": "execute_result"
    }
   ],
   "source": [
    "# Group the users dataframe by song id. Sum the play indicator by song id.\n",
    "\n",
    "song_plays = users[['song_id','play','play_count']].groupby('song_id',as_index=False).sum()\n",
    "\n",
    "song_plays.sort_values('play',inplace=True, ascending=False)\n",
    "\n",
    "song_plays.head()"
   ]
  },
  {
   "cell_type": "markdown",
   "metadata": {},
   "source": [
    "**Calculate descriptive statistics of the song_plays dataset.**"
   ]
  },
  {
   "cell_type": "code",
   "execution_count": 31,
   "metadata": {},
   "outputs": [
    {
     "data": {
      "text/html": [
       "<div>\n",
       "<style scoped>\n",
       "    .dataframe tbody tr th:only-of-type {\n",
       "        vertical-align: middle;\n",
       "    }\n",
       "\n",
       "    .dataframe tbody tr th {\n",
       "        vertical-align: top;\n",
       "    }\n",
       "\n",
       "    .dataframe thead th {\n",
       "        text-align: right;\n",
       "    }\n",
       "</style>\n",
       "<table border=\"1\" class=\"dataframe\">\n",
       "  <thead>\n",
       "    <tr style=\"text-align: right;\">\n",
       "      <th></th>\n",
       "      <th>play</th>\n",
       "      <th>play_count</th>\n",
       "    </tr>\n",
       "  </thead>\n",
       "  <tbody>\n",
       "    <tr>\n",
       "      <th>count</th>\n",
       "      <td>384546.000000</td>\n",
       "      <td>384546.000000</td>\n",
       "    </tr>\n",
       "    <tr>\n",
       "      <th>mean</th>\n",
       "      <td>125.794017</td>\n",
       "      <td>360.633690</td>\n",
       "    </tr>\n",
       "    <tr>\n",
       "      <th>std</th>\n",
       "      <td>799.025834</td>\n",
       "      <td>3256.809395</td>\n",
       "    </tr>\n",
       "    <tr>\n",
       "      <th>min</th>\n",
       "      <td>1.000000</td>\n",
       "      <td>1.000000</td>\n",
       "    </tr>\n",
       "    <tr>\n",
       "      <th>25%</th>\n",
       "      <td>4.000000</td>\n",
       "      <td>8.000000</td>\n",
       "    </tr>\n",
       "    <tr>\n",
       "      <th>50%</th>\n",
       "      <td>13.000000</td>\n",
       "      <td>32.000000</td>\n",
       "    </tr>\n",
       "    <tr>\n",
       "      <th>75%</th>\n",
       "      <td>52.000000</td>\n",
       "      <td>133.000000</td>\n",
       "    </tr>\n",
       "    <tr>\n",
       "      <th>max</th>\n",
       "      <td>110479.000000</td>\n",
       "      <td>726885.000000</td>\n",
       "    </tr>\n",
       "  </tbody>\n",
       "</table>\n",
       "</div>"
      ],
      "text/plain": [
       "                play     play_count\n",
       "count  384546.000000  384546.000000\n",
       "mean      125.794017     360.633690\n",
       "std       799.025834    3256.809395\n",
       "min         1.000000       1.000000\n",
       "25%         4.000000       8.000000\n",
       "50%        13.000000      32.000000\n",
       "75%        52.000000     133.000000\n",
       "max    110479.000000  726885.000000"
      ]
     },
     "execution_count": 31,
     "metadata": {},
     "output_type": "execute_result"
    }
   ],
   "source": [
    "song_plays.describe()"
   ]
  },
  {
   "cell_type": "markdown",
   "metadata": {},
   "source": [
    "**Observations:**\n",
    "\n",
    "* There are 384,546 unique songs that have been listened to. **This means that 42% of the song dataset has been listened to.** \n",
    "* **As shown in the previous section, at most an user as listed to 4,400 and the average user has listened to 47.45 songs. We can conclude that the song catalog and user listens are sparsely distributed (most users have listened to an small portion of the available catalog).**\n",
    "* The play indicator has a mean of 125.79 and an standard deviation of 799. This means that the average song has 125.79 for different unique listens.\n",
    "* The percentile distribution suggests a long tail somewhere. The 75% percentile is 52 songs and the max song plays is 110,479 unique user listens."
   ]
  },
  {
   "cell_type": "markdown",
   "metadata": {},
   "source": [
    "### B. Normality Testing: Histogram, Actual ECDF, Theoretical ECDF,  Skew, Kurtosis, D’Agostino-Pearson’s Test & Anderson-Darling Test"
   ]
  },
  {
   "cell_type": "markdown",
   "metadata": {},
   "source": [
    "> Plot histograms of the user song plays indicator."
   ]
  },
  {
   "cell_type": "code",
   "execution_count": 32,
   "metadata": {},
   "outputs": [
    {
     "data": {
      "image/png": "[encoded data removed]",
      "text/plain": [
       "<matplotlib.figure.Figure at 0x1a0c7da668>"
      ]
     },
     "metadata": {},
     "output_type": "display_data"
    }
   ],
   "source": [
    "sns.set()\n",
    "\n",
    "sns.distplot(song_plays.play,norm_hist=True)\n",
    "\n",
    "plt.ylabel('PDF')\n",
    "\n",
    "plt.xlabel('Song Listens')\n",
    "\n",
    "plt.title('User Listens per Song')\n",
    "\n",
    "plt.xticks(rotation = 50)\n",
    "\n",
    "plt.tight_layout()"
   ]
  },
  {
   "cell_type": "code",
   "execution_count": 33,
   "metadata": {},
   "outputs": [
    {
     "data": {
      "text/plain": [
       "([<matplotlib.axis.XTick at 0x1a0c8f0c18>,\n",
       "  <matplotlib.axis.XTick at 0x1a0c5eeda0>,\n",
       "  <matplotlib.axis.XTick at 0x1a0d6f86d8>,\n",
       "  <matplotlib.axis.XTick at 0x1a0c2c1748>,\n",
       "  <matplotlib.axis.XTick at 0x1a0c2c1e80>,\n",
       "  <matplotlib.axis.XTick at 0x1a0c2c94e0>,\n",
       "  <matplotlib.axis.XTick at 0x1a0c8c1588>,\n",
       "  <matplotlib.axis.XTick at 0x1a0c7f6a90>,\n",
       "  <matplotlib.axis.XTick at 0x1a0c2d6c18>,\n",
       "  <matplotlib.axis.XTick at 0x1a0c2e02e8>],\n",
       " <a list of 10 Text xticklabel objects>)"
      ]
     },
     "execution_count": 33,
     "metadata": {},
     "output_type": "execute_result"
    },
    {
     "data": {
      "image/png": "[encoded data removed]",
      "text/plain": [
       "<matplotlib.figure.Figure at 0x1a0c59ffd0>"
      ]
     },
     "metadata": {},
     "output_type": "display_data"
    }
   ],
   "source": [
    "#Histogram of song listens when song plays <=10000\n",
    "\n",
    "sns.distplot(song_plays.play)\n",
    "\n",
    "plt.ylabel('PDF')\n",
    "\n",
    "plt.xlabel('Song Listens')\n",
    "\n",
    "plt.title('User Listens per Song \\n listens <=10K')\n",
    "\n",
    "plt.xlim([0,10000])\n",
    "\n",
    "x_ticks=np.arange(0,10000,1000)\n",
    "\n",
    "plt.tight_layout()\n",
    "\n",
    "plt.xticks(x_ticks,rotation = 50)"
   ]
  },
  {
   "cell_type": "markdown",
   "metadata": {},
   "source": [
    "The two histograms above suggests a very long tail somewhere. The distribution **does not look** normal."
   ]
  },
  {
   "cell_type": "markdown",
   "metadata": {},
   "source": [
    ">  **The next five (5) cells create ECDF plots of actual and theoretically normal user listens data. Compare actual distribution to theoretically normal distribution.**"
   ]
  },
  {
   "cell_type": "markdown",
   "metadata": {},
   "source": [
    "> Create theoretically normal distribution of the song play indicator."
   ]
  },
  {
   "cell_type": "code",
   "execution_count": 34,
   "metadata": {},
   "outputs": [],
   "source": [
    "# Calculate mean of  and standard deviation of sonhg play indicator\n",
    "\n",
    "mean_song_play = np.mean(song_plays.play)\n",
    "\n",
    "std_song_play = np.std(song_plays.play)\n",
    "\n",
    "#Generate 384,546 samples (the same as sample size) from mean and standard deviation. Set seed to 42.\n",
    "\n",
    "np.random.seed(42)\n",
    "\n",
    "samples2 = np.random.normal(mean_song_play, std_song_play, size=384546)"
   ]
  },
  {
   "cell_type": "markdown",
   "metadata": {},
   "source": [
    "> Calculate ECDF of actual and theorectical song plays."
   ]
  },
  {
   "cell_type": "code",
   "execution_count": 35,
   "metadata": {},
   "outputs": [],
   "source": [
    "#Calculate actual and theoretical ECDF of song plays\n",
    "\n",
    "x2, y2 = ecdf(user_plays.play)\n",
    "\n",
    "x_theor2, y_theor2 = ecdf(samples2)"
   ]
  },
  {
   "cell_type": "markdown",
   "metadata": {},
   "source": [
    "> Graph ECDF plot of actual song plays."
   ]
  },
  {
   "cell_type": "code",
   "execution_count": 36,
   "metadata": {},
   "outputs": [
    {
     "data": {
      "image/png": "[encoded data removed]",
      "text/plain": [
       "<matplotlib.figure.Figure at 0x1a0c988eb8>"
      ]
     },
     "metadata": {},
     "output_type": "display_data"
    }
   ],
   "source": [
    "#Graph actual cumulative sample distribution\n",
    "\n",
    "plt.plot(x2, y2, marker='.', linestyle='none')\n",
    "\n",
    "plt.title('ECDF Plot of Actual of Song Plays')\n",
    "\n",
    "plt.xlabel('song plays')\n",
    "\n",
    "plt.ylabel('CDF')\n",
    "\n",
    "plt.show()"
   ]
  },
  {
   "cell_type": "markdown",
   "metadata": {},
   "source": [
    "> Graph ECDF plot of theoretically normal song plays."
   ]
  },
  {
   "cell_type": "code",
   "execution_count": 37,
   "metadata": {},
   "outputs": [
    {
     "data": {
      "image/png": "[encoded data removed]",
      "text/plain": [
       "<matplotlib.figure.Figure at 0x1a0cdec978>"
      ]
     },
     "metadata": {},
     "output_type": "display_data"
    }
   ],
   "source": [
    "#Graph theoretical sample distribution\n",
    "\n",
    "plt.plot(x_theor2, y_theor2)\n",
    "\n",
    "plt.title('ECDF Plot of Theoretical Song Plays')\n",
    "\n",
    "plt.xlabel('song plays')\n",
    "\n",
    "plt.ylabel('CDF')\n",
    "\n",
    "plt.show()"
   ]
  },
  {
   "cell_type": "markdown",
   "metadata": {},
   "source": [
    "**Comparison of Actual ECDF and Theoretically Normal ECDF:** There is a large difference between the shape and range of the actual distribution and the theoretically normal distribution. It is worth noting that in this case, negative values are physically imposible, an song cannot have negative listens."
   ]
  },
  {
   "cell_type": "markdown",
   "metadata": {},
   "source": [
    "Calculate Basic Distribution Statistics"
   ]
  },
  {
   "cell_type": "code",
   "execution_count": 38,
   "metadata": {
    "scrolled": true
   },
   "outputs": [
    {
     "data": {
      "text/plain": [
       "DescribeResult(nobs=384546, minmax=(1, 110479), mean=125.79401684063805, variance=638442.2838941452, skewness=46.11085781524981, kurtosis=3780.299084948111)"
      ]
     },
     "execution_count": 38,
     "metadata": {},
     "output_type": "execute_result"
    }
   ],
   "source": [
    "stats.describe(song_plays.play)"
   ]
  },
  {
   "cell_type": "markdown",
   "metadata": {},
   "source": [
    "The kurtosis and skewedness statistics suggest high levels of positive skewdness and kurtosis."
   ]
  },
  {
   "cell_type": "markdown",
   "metadata": {},
   "source": [
    "**D’Agostino and Pearson’s Normality Test**\n",
    "\n",
    "*From the documentation: This function tests the null hypothesis that a sample comes from a normal distribution. It is based on D’Agostino and Pearson’s, test that combines skew and kurtosis to produce an omnibus test of normality.*\n",
    "\n",
    "**Anderson-Darling Normality Test:** This test has been shown to have more statistical power for testing normality.\n",
    "\n",
    "*From the documentation: The Anderson-Darling tests the null hypothesis that a sample is drawn from a population that follows a particular distribution. For the Anderson-Darling test, the critical values depend on which distribution is being tested against. This function works for normal, exponential, logistic, or Gumbel (Extreme Value Type I) distributions.\n",
    "\n",
    "> H0: Distribution is normal.\n",
    "\n",
    "> H1: Distribution is not normal.\n",
    "\n",
    "> alpha = 0.05"
   ]
  },
  {
   "cell_type": "code",
   "execution_count": 39,
   "metadata": {},
   "outputs": [
    {
     "name": "stdout",
     "output_type": "stream",
     "text": [
      "D’Agostino and Pearson’s:  NormaltestResult(statistic=1176273.1846225634, pvalue=0.0)\n",
      "Anderson-Darling:  AndersonResult(statistic=110035.21528571064, critical_values=array([0.576, 0.656, 0.787, 0.918, 1.092]), significance_level=array([15. , 10. ,  5. ,  2.5,  1. ]))\n"
     ]
    }
   ],
   "source": [
    "# D’Agostino and Pearson’s Normality Test\n",
    "\n",
    "print('D’Agostino and Pearson’s: ',stats.normaltest(song_plays.play))\n",
    "\n",
    "# Anderson-Darling Normality Test\n",
    "\n",
    "print('Anderson-Darling: ',stats.anderson(song_plays.play))"
   ]
  },
  {
   "cell_type": "markdown",
   "metadata": {},
   "source": [
    "**Normality Tests Results:** \n",
    "\n",
    "* **D’Agostino and Pearson’s Test:** The test p-value is less than the set alpha level of 0.05. In this case, the null hypothesis is rejected and accept the hypothesis that the distribution is not normal.\n",
    "\n",
    "* **Anderson-Darling Test:** The statistic is much greater than the critical values, at all levels of statistical significance. This means the null hypothesis that the distrinution is normal can be rejected and accept that is not normal."
   ]
  },
  {
   "cell_type": "markdown",
   "metadata": {},
   "source": [
    "**Normality Testing Conclusions:** \n",
    "\n",
    "* The histogram, ECDF plots, Kurtosis, Skewdness and the D’Agostino and Pearson’s Normality Test suggests that the user play data as it currently stands is **not normally distributed**.\n",
    "\n",
    "**Central Limit Theorem:** I do not think this data satifies the central limit theorem.\n",
    "\n",
    "* Independence: To satisfy this condition we will need to assume that a song play count is independent of the play count of another song.  In this case, I think this may not be not a reasonable assumption to make due to popularity, artists similarity, song similarity and how the echo nest service decided to show the catalog to their users. Also, it is unclear if this sample is 10% of the population.\n",
    "\n",
    "* Randomness: The Echo Nest randomly selected a sample of users whose play counts matched to the song ID's in the dataset.\n",
    "\n",
    "* Sample Size > 30: The sample size is greater than 30."
   ]
  },
  {
   "cell_type": "markdown",
   "metadata": {},
   "source": [
    "### C. Confidence Interval of the Mean Using Bootstrap"
   ]
  },
  {
   "cell_type": "markdown",
   "metadata": {},
   "source": [
    "I will use the bootstrap method to calculate confidence intervals for the mean, because the sample distribution is NOT normal. Parametric confidence interval formulas assume the sample is normal."
   ]
  },
  {
   "cell_type": "markdown",
   "metadata": {},
   "source": [
    "Generate Bootstrap Replicates of the Song Plays Mean"
   ]
  },
  {
   "cell_type": "code",
   "execution_count": 40,
   "metadata": {},
   "outputs": [],
   "source": [
    "song_plays_mean_replicates = bs_sample(song_plays.play,np.mean,n_tries)"
   ]
  },
  {
   "cell_type": "markdown",
   "metadata": {},
   "source": [
    "Create ECDF and Histogram Plots Bootstrapped Means"
   ]
  },
  {
   "cell_type": "code",
   "execution_count": 41,
   "metadata": {},
   "outputs": [
    {
     "data": {
      "image/png": "[encoded data removed]",
      "text/plain": [
       "<matplotlib.figure.Figure at 0x1a0c58cda0>"
      ]
     },
     "metadata": {},
     "output_type": "display_data"
    }
   ],
   "source": [
    "#Calculate ECDF\n",
    "\n",
    "x3, y3 = ecdf(song_plays_mean_replicates)\n",
    "\n",
    "#Graph actual cumulative sample distribution\n",
    "\n",
    "plt.plot(x3, y3)\n",
    "\n",
    "plt.title('ECDF Plot of Mean Bootstrap Replicates \\n n=10,000')\n",
    "\n",
    "plt.xlabel('mean song plays')\n",
    "\n",
    "plt.ylabel('CDF')\n",
    "\n",
    "plt.show()"
   ]
  },
  {
   "cell_type": "code",
   "execution_count": 42,
   "metadata": {},
   "outputs": [
    {
     "data": {
      "image/png": "[encoded data removed]",
      "text/plain": [
       "<matplotlib.figure.Figure at 0x1a0c594b70>"
      ]
     },
     "metadata": {},
     "output_type": "display_data"
    }
   ],
   "source": [
    "#Create Histogram of Bootstrap Mean Replicates\n",
    "\n",
    "sns.distplot(song_plays_mean_replicates, norm_hist=True)\n",
    "\n",
    "plt.ylabel('PDF')\n",
    "\n",
    "plt.xlabel('mean song plays')\n",
    "\n",
    "plt.title('Mean Bootstrap Replicates of Song Plays \\n n=10,000')\n",
    "\n",
    "plt.tight_layout()"
   ]
  },
  {
   "cell_type": "code",
   "execution_count": 43,
   "metadata": {},
   "outputs": [
    {
     "data": {
      "text/plain": [
       "DescribeResult(nobs=10000, minmax=(120.88157723653347, 130.69948198655038), mean=125.79880313304521, variance=1.6682565038636745, skewness=0.0403010765382374, kurtosis=-0.06585267212611434)"
      ]
     },
     "execution_count": 43,
     "metadata": {},
     "output_type": "execute_result"
    }
   ],
   "source": [
    "stats.describe(song_plays_mean_replicates)"
   ]
  },
  {
   "cell_type": "markdown",
   "metadata": {},
   "source": [
    "* The bootstrap replicates are normally distributed. \n",
    "* The distribution contains the sample mean of 125.79."
   ]
  },
  {
   "cell_type": "code",
   "execution_count": 44,
   "metadata": {},
   "outputs": [
    {
     "name": "stdout",
     "output_type": "stream",
     "text": [
      "Bootstrap Mean Replicates 95% CI:  [123.31497896 128.34195519]\n"
     ]
    }
   ],
   "source": [
    "#Bootstrap confidence interval\n",
    "\n",
    "ci_song_plays = np.percentile(song_plays_mean_replicates,[2.5,97.5])\n",
    "\n",
    "print('Bootstrap Mean Replicates 95% CI: ',ci_song_plays)"
   ]
  },
  {
   "cell_type": "markdown",
   "metadata": {},
   "source": [
    "The bootstrap mean replicates showes a 95% confidence interval for the population mean is between 123.31 and 128.34. This confidence interval is very close together. This range contains our sample mean of 125.79."
   ]
  },
  {
   "cell_type": "markdown",
   "metadata": {},
   "source": [
    "### D. Hypothesis Testing Using Bootstrap  Mean Replicates"
   ]
  },
  {
   "cell_type": "markdown",
   "metadata": {},
   "source": [
    "The hypotheses to be tested are: \n",
    "\n",
    "> H0: Population mean is 125.79 song plays.\n",
    "\n",
    "> Ha: Population mean is not 125.79 song plays.\n",
    "\n",
    "> alpha = 0.05"
   ]
  },
  {
   "cell_type": "code",
   "execution_count": 45,
   "metadata": {},
   "outputs": [],
   "source": [
    "song_mean = np.mean(song_plays.play)"
   ]
  },
  {
   "cell_type": "code",
   "execution_count": 46,
   "metadata": {},
   "outputs": [
    {
     "name": "stdout",
     "output_type": "stream",
     "text": [
      "P-value of song plays mean replicates:  0.496\n"
     ]
    }
   ],
   "source": [
    "print('P-value of song plays mean replicates: ', sum(song_plays_mean_replicates <= song_mean)/n_tries)"
   ]
  },
  {
   "cell_type": "markdown",
   "metadata": {},
   "source": [
    "We cannot reject the null hypothesis that the population mean is 125.79 song plays."
   ]
  },
  {
   "cell_type": "markdown",
   "metadata": {},
   "source": [
    "### E. Hypothesis Testing Using a T-Test"
   ]
  },
  {
   "cell_type": "markdown",
   "metadata": {},
   "source": [
    "* It is suspect that this data satifies the central limit theorem. As such, this test should be taken with suspicion. I have performed it for illustration purposes.\n",
    "\n",
    "The hypotheses to be tested are: \n",
    "\n",
    "> H0: Population mean is 125.79 song plays.\n",
    "\n",
    "> Ha: Population mean is not 125.79 song plays.\n",
    "\n",
    "> alpha = 0.05"
   ]
  },
  {
   "cell_type": "code",
   "execution_count": 47,
   "metadata": {},
   "outputs": [
    {
     "data": {
      "text/plain": [
       "Ttest_1sampResult(statistic=0.0031174387539440714, pvalue=0.9975126493949225)"
      ]
     },
     "execution_count": 47,
     "metadata": {},
     "output_type": "execute_result"
    }
   ],
   "source": [
    "stats.ttest_1samp(song_plays.play,125.79)"
   ]
  },
  {
   "cell_type": "markdown",
   "metadata": {},
   "source": [
    "The p-value is above the alpha level of 0.05. This suggets that we cannot reject the null hypothesis that the population mean is 125.79. We should take this results with some suspicion since this data may not satisfy the CLT."
   ]
  },
  {
   "cell_type": "markdown",
   "metadata": {},
   "source": [
    "**Sample Mean Hypothesis Testing & Distribution Conclusions**\n",
    "\n",
    "**1-** The distribution is not normal.\n",
    "\n",
    "**2-** According to the bootstrap replicates of the mean and the t-test is highly likely that the population song plays indicator mean is around 125.79.\n",
    "\n",
    "**3-** There are several factors that could be driving these results and creating a peculiar song plays distribution:\n",
    "\n",
    "* The user play dataset is very large. \n",
    "* The data was in a certain timeframe and procedure and we do not have full user listening history.\n",
    "* The song data was extracted in December of 2011 which is holiday season, which could affect the user song play behaviour.\n",
    "* There are specific characteristics of the user with high user play interactions (such as business customer, several people in the same account etc.). \n",
    "* The structure of the music industry, in which a few songs/artists create hits and most working artists do not."
   ]
  },
  {
   "cell_type": "markdown",
   "metadata": {},
   "source": [
    "## Part 4. Artist Listen Data Exploration and Inference"
   ]
  },
  {
   "cell_type": "markdown",
   "metadata": {},
   "source": [
    "Below I grouped and summed the play indicator by artist id. This is to understand at a basic level how many song play interactions each artist has. "
   ]
  },
  {
   "cell_type": "code",
   "execution_count": 48,
   "metadata": {},
   "outputs": [
    {
     "data": {
      "text/html": [
       "<div>\n",
       "<style scoped>\n",
       "    .dataframe tbody tr th:only-of-type {\n",
       "        vertical-align: middle;\n",
       "    }\n",
       "\n",
       "    .dataframe tbody tr th {\n",
       "        vertical-align: top;\n",
       "    }\n",
       "\n",
       "    .dataframe thead th {\n",
       "        text-align: right;\n",
       "    }\n",
       "</style>\n",
       "<table border=\"1\" class=\"dataframe\">\n",
       "  <thead>\n",
       "    <tr style=\"text-align: right;\">\n",
       "      <th></th>\n",
       "      <th>artist_id</th>\n",
       "      <th>play</th>\n",
       "      <th>play_count</th>\n",
       "    </tr>\n",
       "  </thead>\n",
       "  <tbody>\n",
       "    <tr>\n",
       "      <th>11502</th>\n",
       "      <td>ARF2EHS1187B994F4E</td>\n",
       "      <td>241823</td>\n",
       "      <td>884464</td>\n",
       "    </tr>\n",
       "    <tr>\n",
       "      <th>15064</th>\n",
       "      <td>ARJ7KF01187B98D717</td>\n",
       "      <td>219796</td>\n",
       "      <td>504046</td>\n",
       "    </tr>\n",
       "    <tr>\n",
       "      <th>11734</th>\n",
       "      <td>ARFCWSZ123526A0AFD</td>\n",
       "      <td>196696</td>\n",
       "      <td>599248</td>\n",
       "    </tr>\n",
       "    <tr>\n",
       "      <th>18607</th>\n",
       "      <td>ARNCHOP121318C56B8</td>\n",
       "      <td>189426</td>\n",
       "      <td>646538</td>\n",
       "    </tr>\n",
       "    <tr>\n",
       "      <th>21837</th>\n",
       "      <td>ARR3ONV1187B9A2F59</td>\n",
       "      <td>189086</td>\n",
       "      <td>499413</td>\n",
       "    </tr>\n",
       "  </tbody>\n",
       "</table>\n",
       "</div>"
      ],
      "text/plain": [
       "                artist_id    play  play_count\n",
       "11502  ARF2EHS1187B994F4E  241823      884464\n",
       "15064  ARJ7KF01187B98D717  219796      504046\n",
       "11734  ARFCWSZ123526A0AFD  196696      599248\n",
       "18607  ARNCHOP121318C56B8  189426      646538\n",
       "21837  ARR3ONV1187B9A2F59  189086      499413"
      ]
     },
     "execution_count": 48,
     "metadata": {},
     "output_type": "execute_result"
    }
   ],
   "source": [
    "#Merge song plays and artist id\n",
    "\n",
    "artist_song_merge = songs[['song_id','artist_id']].merge(song_plays,on='song_id')\n",
    "\n",
    "#Drop song id. We do not need this in this section.\n",
    "\n",
    "artist_song_merge.drop('song_id',axis=1)\n",
    "\n",
    "# Group the resulting dataframe by artist id. Sum the play indicator by artist id.\n",
    "\n",
    "artist_plays = artist_song_merge.groupby('artist_id',as_index=False).sum().sort_values('play',ascending=False)\n",
    "\n",
    "artist_plays.head()"
   ]
  },
  {
   "cell_type": "markdown",
   "metadata": {},
   "source": [
    "**Calculate descriptive statistics of the artist_plays dataset.**"
   ]
  },
  {
   "cell_type": "code",
   "execution_count": 49,
   "metadata": {},
   "outputs": [
    {
     "data": {
      "text/html": [
       "<div>\n",
       "<style scoped>\n",
       "    .dataframe tbody tr th:only-of-type {\n",
       "        vertical-align: middle;\n",
       "    }\n",
       "\n",
       "    .dataframe tbody tr th {\n",
       "        vertical-align: top;\n",
       "    }\n",
       "\n",
       "    .dataframe thead th {\n",
       "        text-align: right;\n",
       "    }\n",
       "</style>\n",
       "<table border=\"1\" class=\"dataframe\">\n",
       "  <thead>\n",
       "    <tr style=\"text-align: right;\">\n",
       "      <th></th>\n",
       "      <th>play</th>\n",
       "      <th>play_count</th>\n",
       "    </tr>\n",
       "  </thead>\n",
       "  <tbody>\n",
       "    <tr>\n",
       "      <th>count</th>\n",
       "      <td>29559.000000</td>\n",
       "      <td>29559.000000</td>\n",
       "    </tr>\n",
       "    <tr>\n",
       "      <th>mean</th>\n",
       "      <td>1367.438411</td>\n",
       "      <td>3895.820461</td>\n",
       "    </tr>\n",
       "    <tr>\n",
       "      <th>std</th>\n",
       "      <td>6498.707551</td>\n",
       "      <td>18704.714762</td>\n",
       "    </tr>\n",
       "    <tr>\n",
       "      <th>min</th>\n",
       "      <td>1.000000</td>\n",
       "      <td>1.000000</td>\n",
       "    </tr>\n",
       "    <tr>\n",
       "      <th>25%</th>\n",
       "      <td>20.000000</td>\n",
       "      <td>50.000000</td>\n",
       "    </tr>\n",
       "    <tr>\n",
       "      <th>50%</th>\n",
       "      <td>112.000000</td>\n",
       "      <td>323.000000</td>\n",
       "    </tr>\n",
       "    <tr>\n",
       "      <th>75%</th>\n",
       "      <td>569.500000</td>\n",
       "      <td>1699.000000</td>\n",
       "    </tr>\n",
       "    <tr>\n",
       "      <th>max</th>\n",
       "      <td>241823.000000</td>\n",
       "      <td>884464.000000</td>\n",
       "    </tr>\n",
       "  </tbody>\n",
       "</table>\n",
       "</div>"
      ],
      "text/plain": [
       "                play     play_count\n",
       "count   29559.000000   29559.000000\n",
       "mean     1367.438411    3895.820461\n",
       "std      6498.707551   18704.714762\n",
       "min         1.000000       1.000000\n",
       "25%        20.000000      50.000000\n",
       "50%       112.000000     323.000000\n",
       "75%       569.500000    1699.000000\n",
       "max    241823.000000  884464.000000"
      ]
     },
     "execution_count": 49,
     "metadata": {},
     "output_type": "execute_result"
    }
   ],
   "source": [
    "artist_plays.describe()"
   ]
  },
  {
   "cell_type": "markdown",
   "metadata": {},
   "source": [
    "**Observations:**\n",
    "\n",
    "* There are 29,559 unique songs that have been listened to. **This means that 66.5% of artists in th song dataset has been listened to.** \n",
    "* The play indicator has a mean of 1,367.44 and an standard deviation of 6,498.71. This means that the average artist has 1,367.44 unique listens for different unique users.\n",
    "* The percentile distribution suggests a long tail somewhere. The 75% percentile is 569.50 songs and the max song plays is 241,823 unique user listens."
   ]
  },
  {
   "cell_type": "markdown",
   "metadata": {},
   "source": [
    "### B. Normality Testing: Histogram, Actual ECDF, Theoretical ECDF,  Skew, Kurtosis, D’Agostino-Pearson’s Test & Anderson-Darling Test"
   ]
  },
  {
   "cell_type": "markdown",
   "metadata": {},
   "source": [
    "> Plot histograms of the user song plays indicator."
   ]
  },
  {
   "cell_type": "code",
   "execution_count": 50,
   "metadata": {},
   "outputs": [
    {
     "data": {
      "image/png": "[encoded data removed]",
      "text/plain": [
       "<matplotlib.figure.Figure at 0x1a0d74d0f0>"
      ]
     },
     "metadata": {},
     "output_type": "display_data"
    }
   ],
   "source": [
    "sns.set()\n",
    "\n",
    "sns.distplot(artist_plays.play,norm_hist=True)\n",
    "\n",
    "plt.ylabel('PDF')\n",
    "\n",
    "plt.xlabel('Artist Song Plays')\n",
    "\n",
    "plt.title('Total Plays by Artist')\n",
    "\n",
    "plt.xticks(rotation = 50)\n",
    "\n",
    "plt.tight_layout()"
   ]
  },
  {
   "cell_type": "code",
   "execution_count": 51,
   "metadata": {},
   "outputs": [
    {
     "data": {
      "text/plain": [
       "([<matplotlib.axis.XTick at 0x1a0d4b8320>,\n",
       "  <matplotlib.axis.XTick at 0x1a0d4bc860>,\n",
       "  <matplotlib.axis.XTick at 0x1a109ebcc0>,\n",
       "  <matplotlib.axis.XTick at 0x1a10a65cc0>,\n",
       "  <matplotlib.axis.XTick at 0x1a10a6b400>,\n",
       "  <matplotlib.axis.XTick at 0x1a10a6bb38>,\n",
       "  <matplotlib.axis.XTick at 0x1a0ea619e8>,\n",
       "  <matplotlib.axis.XTick at 0x1a10a65278>,\n",
       "  <matplotlib.axis.XTick at 0x1a109d4748>,\n",
       "  <matplotlib.axis.XTick at 0x1a109ebe10>],\n",
       " <a list of 10 Text xticklabel objects>)"
      ]
     },
     "execution_count": 51,
     "metadata": {},
     "output_type": "execute_result"
    },
    {
     "data": {
      "image/png": "[encoded data removed]",
      "text/plain": [
       "<matplotlib.figure.Figure at 0x1a0c61b320>"
      ]
     },
     "metadata": {},
     "output_type": "display_data"
    }
   ],
   "source": [
    "#Histogram of song listens when artist plays <=10000\n",
    "\n",
    "sns.distplot(artist_plays.play)\n",
    "\n",
    "plt.ylabel('PDF')\n",
    "\n",
    "plt.xlabel('Artist Song Plays')\n",
    "\n",
    "plt.title('Total Plays by Artist')\n",
    "\n",
    "plt.xlim([0,10000])\n",
    "\n",
    "x_ticks=np.arange(0,10000,1000)\n",
    "\n",
    "plt.tight_layout()\n",
    "\n",
    "plt.xticks(x_ticks,rotation = 50)"
   ]
  },
  {
   "cell_type": "markdown",
   "metadata": {},
   "source": [
    "The two histograms above suggests a very long tail somewhere. The distribution **does not look** normal."
   ]
  },
  {
   "cell_type": "markdown",
   "metadata": {},
   "source": [
    ">  **The next five (5) cells create ECDF plots of actual and theoretically normal user listens data. Compare actual distribution to theoretically normal distribution.**"
   ]
  },
  {
   "cell_type": "markdown",
   "metadata": {},
   "source": [
    "> Create theoretically normal distribution of the song play indicator."
   ]
  },
  {
   "cell_type": "code",
   "execution_count": 52,
   "metadata": {},
   "outputs": [],
   "source": [
    "# Calculate mean of  and standard deviation of user play indicator\n",
    "\n",
    "mean_artist_play = np.mean(artist_plays.play)\n",
    "\n",
    "std_artist_play = np.std(artist_plays.play)\n",
    "\n",
    "#Generate 29,559 samples (the same as sample size) from mean and standard deviation. Set seed to 42.\n",
    "\n",
    "np.random.seed(42)\n",
    "\n",
    "samples3 = np.random.normal(mean_artist_play, std_artist_play, size=29559)"
   ]
  },
  {
   "cell_type": "markdown",
   "metadata": {},
   "source": [
    "> Calculate ECDF of actual and theorectical song plays."
   ]
  },
  {
   "cell_type": "code",
   "execution_count": 53,
   "metadata": {},
   "outputs": [],
   "source": [
    "#Calculate actual and theoretical ECDF of artist plays\n",
    "\n",
    "x4, y4 = ecdf(artist_plays.play)\n",
    "\n",
    "x_theor4, y_theor4 = ecdf(samples3)"
   ]
  },
  {
   "cell_type": "markdown",
   "metadata": {},
   "source": [
    "> Graph ECDF plot of actual song plays."
   ]
  },
  {
   "cell_type": "code",
   "execution_count": 54,
   "metadata": {},
   "outputs": [
    {
     "data": {
      "image/png": "[encoded data removed]",
      "text/plain": [
       "<matplotlib.figure.Figure at 0x1a0c604860>"
      ]
     },
     "metadata": {},
     "output_type": "display_data"
    }
   ],
   "source": [
    "#Graph actual cumulative sample distribution\n",
    "\n",
    "plt.plot(x4, y4, marker='.', linestyle='none')\n",
    "\n",
    "plt.title('ECDF Plot of Actual of Artist Plays')\n",
    "\n",
    "plt.xlabel('artist plays')\n",
    "\n",
    "plt.ylabel('CDF')\n",
    "\n",
    "plt.show()"
   ]
  },
  {
   "cell_type": "markdown",
   "metadata": {},
   "source": [
    "> Graph ECDF plot of theoretically normal artist plays."
   ]
  },
  {
   "cell_type": "code",
   "execution_count": 55,
   "metadata": {},
   "outputs": [
    {
     "data": {
      "image/png": "[encoded data removed]",
      "text/plain": [
       "<matplotlib.figure.Figure at 0x1a0c6259b0>"
      ]
     },
     "metadata": {},
     "output_type": "display_data"
    }
   ],
   "source": [
    "#Graph theoretical sample distribution\n",
    "\n",
    "plt.plot(x_theor4, y_theor4)\n",
    "\n",
    "plt.title('ECDF Plot of Theoretical Artist Plays')\n",
    "\n",
    "plt.xlabel('artist plays')\n",
    "\n",
    "plt.ylabel('CDF')\n",
    "\n",
    "plt.show()"
   ]
  },
  {
   "cell_type": "markdown",
   "metadata": {},
   "source": [
    "**Comparison of Actual ECDF and Theoretically Normal ECDF:** There is a large difference between the shape and range of the actual distribution and the theoretically normal distribution. It is worth noting that in this case, negative values are physically imposible, an song cannot have negative listens."
   ]
  },
  {
   "cell_type": "markdown",
   "metadata": {},
   "source": [
    "Calculate Basic Distribution Statistics"
   ]
  },
  {
   "cell_type": "code",
   "execution_count": 56,
   "metadata": {
    "scrolled": true
   },
   "outputs": [
    {
     "data": {
      "text/plain": [
       "DescribeResult(nobs=29559, minmax=(1, 241823), mean=1367.4384113129672, variance=42233199.83218175, skewness=15.128311526185414, kurtosis=344.3738338390043)"
      ]
     },
     "execution_count": 56,
     "metadata": {},
     "output_type": "execute_result"
    }
   ],
   "source": [
    "stats.describe(artist_plays.play)"
   ]
  },
  {
   "cell_type": "markdown",
   "metadata": {},
   "source": [
    "The kurtosis and skewedness statistics suggest high levels of positive skewdness and kurtosis."
   ]
  },
  {
   "cell_type": "markdown",
   "metadata": {},
   "source": [
    "**D’Agostino and Pearson’s Normality Test**\n",
    "\n",
    "*From the documentation: This function tests the null hypothesis that a sample comes from a normal distribution. It is based on D’Agostino and Pearson’s, test that combines skew and kurtosis to produce an omnibus test of normality.*\n",
    "\n",
    "**Anderson-Darling Normality Test:** This test has been shown to have more statistical power for testing normality.\n",
    "\n",
    "*From the documentation: The Anderson-Darling tests the null hypothesis that a sample is drawn from a population that follows a particular distribution. For the Anderson-Darling test, the critical values depend on which distribution is being tested against. This function works for normal, exponential, logistic, or Gumbel (Extreme Value Type I) distributions.\n",
    "\n",
    "> H0: Distribution is normal.\n",
    "\n",
    "> H1: Distribution is not normal.\n",
    "\n",
    "> alpha = 0.05"
   ]
  },
  {
   "cell_type": "code",
   "execution_count": 57,
   "metadata": {},
   "outputs": [
    {
     "name": "stdout",
     "output_type": "stream",
     "text": [
      "D’Agostino and Pearson’s:  NormaltestResult(statistic=56969.6350526378, pvalue=0.0)\n",
      "Anderson-Darling:  AndersonResult(statistic=8001.315298262532, critical_values=array([0.576, 0.656, 0.787, 0.918, 1.092]), significance_level=array([15. , 10. ,  5. ,  2.5,  1. ]))\n"
     ]
    }
   ],
   "source": [
    "# D’Agostino and Pearson’s Normality Test\n",
    "\n",
    "print('D’Agostino and Pearson’s: ',stats.normaltest(artist_plays.play))\n",
    "\n",
    "# Anderson-Darling Normality Test\n",
    "\n",
    "print('Anderson-Darling: ',stats.anderson(artist_plays.play))"
   ]
  },
  {
   "cell_type": "markdown",
   "metadata": {},
   "source": [
    "**Normality Tests Results:** \n",
    "\n",
    "* **D’Agostino and Pearson’s Test:** The test p-value is less than the set alpha level of 0.05. In this case, the null hypothesis is rejected and accept the hypothesis that the distribution is not normal.\n",
    "\n",
    "* **Anderson-Darling Test:** The statistic is much greater than the critical values, at all levels of statistical significance. This means the null hypothesis that the distrinution is normal can be rejected and accept that is not normal."
   ]
  },
  {
   "cell_type": "markdown",
   "metadata": {},
   "source": [
    "**Normality Testing Conclusions:** \n",
    "\n",
    "* The histogram, ECDF plots, Kurtosis, Skewdness and the D’Agostino and Pearson’s Normality Test suggests that the user play data as it currently stands is **not normally distributed**.\n",
    "\n",
    "**Central Limit Theorem:** I do not think this data satifies the central limit theorem.\n",
    "\n",
    "* Independence: To satisfy this condition we will need to assume that the artistplay count is independent of the play count of another song.  In this case, I think this may not be not a reasonable assumption to make due to popularity, artists similarity, song similarity and how the echo nest service decided to show the catalog to their users. However, it may be a reasonable assumption that this sample represents <10% of the artist population. \n",
    "\n",
    "* Randomness: The Echo Nest randomly selected a sample of users whose play counts matched to the song ID's in the dataset.\n",
    "\n",
    "* Sample Size > 30: The sample size is greater than 30."
   ]
  },
  {
   "cell_type": "markdown",
   "metadata": {},
   "source": [
    "### C. Confidence Interval of the Mean Using Bootstrap"
   ]
  },
  {
   "cell_type": "markdown",
   "metadata": {},
   "source": [
    "I will use the bootstrap method to calculate confidence intervals for the mean, because the sample distribution is NOT normal. Parametric confidence interval formulas assume the sample is normal."
   ]
  },
  {
   "cell_type": "markdown",
   "metadata": {},
   "source": [
    "Generate Bootstrap Replicates of the Song Plays Mean"
   ]
  },
  {
   "cell_type": "code",
   "execution_count": 58,
   "metadata": {},
   "outputs": [],
   "source": [
    "artist_plays_mean_replicates = bs_sample(artist_plays.play,np.mean,n_tries)"
   ]
  },
  {
   "cell_type": "markdown",
   "metadata": {},
   "source": [
    "Create ECDF and Histogram Plots Bootstrapped Means"
   ]
  },
  {
   "cell_type": "code",
   "execution_count": 59,
   "metadata": {},
   "outputs": [
    {
     "data": {
      "image/png": "[encoded data removed]",
      "text/plain": [
       "<matplotlib.figure.Figure at 0x1a0c5bd278>"
      ]
     },
     "metadata": {},
     "output_type": "display_data"
    }
   ],
   "source": [
    "#Calculate ECDF\n",
    "\n",
    "x5, y5 = ecdf(artist_plays_mean_replicates)\n",
    "\n",
    "#Graph actual cumulative sample distribution\n",
    "\n",
    "plt.plot(x5, y5)\n",
    "\n",
    "plt.title('ECDF Plot of Mean Bootstrap Replicates \\n n=10,000')\n",
    "\n",
    "plt.xlabel('mean artist plays')\n",
    "\n",
    "plt.ylabel('CDF')\n",
    "\n",
    "plt.show()"
   ]
  },
  {
   "cell_type": "code",
   "execution_count": 60,
   "metadata": {},
   "outputs": [
    {
     "data": {
      "image/png": "[encoded data removed]",
      "text/plain": [
       "<matplotlib.figure.Figure at 0x1a1150c898>"
      ]
     },
     "metadata": {},
     "output_type": "display_data"
    }
   ],
   "source": [
    "#Create Histogram of Bootstrap Mean Replicates\n",
    "\n",
    "sns.distplot(artist_plays_mean_replicates, norm_hist=True)\n",
    "\n",
    "plt.ylabel('PDF')\n",
    "\n",
    "plt.xlabel('mean artist plays')\n",
    "\n",
    "plt.title('Mean Bootstrap Replicates of Artist Plays \\n n=10,000')\n",
    "\n",
    "plt.tight_layout()"
   ]
  },
  {
   "cell_type": "code",
   "execution_count": 61,
   "metadata": {},
   "outputs": [
    {
     "data": {
      "text/plain": [
       "DescribeResult(nobs=10000, minmax=(1242.3381711153963, 1521.5049223586725), mean=1367.6702836192023, variance=1426.8069023072014, skewness=0.10321589778993323, kurtosis=-0.021271032238975973)"
      ]
     },
     "execution_count": 61,
     "metadata": {},
     "output_type": "execute_result"
    }
   ],
   "source": [
    "stats.describe(artist_plays_mean_replicates)"
   ]
  },
  {
   "cell_type": "markdown",
   "metadata": {},
   "source": [
    "* The bootstrap replicates are normally distributed. \n",
    "* The distribution contains the sample mean of 1,367.44."
   ]
  },
  {
   "cell_type": "code",
   "execution_count": 62,
   "metadata": {},
   "outputs": [
    {
     "name": "stdout",
     "output_type": "stream",
     "text": [
      "Bootstrap Mean Replicates 95% CI:  [1294.92998495 1443.77536791]\n"
     ]
    }
   ],
   "source": [
    "#Bootstrap confidence interval\n",
    "\n",
    "ci_artist_plays = np.percentile(artist_plays_mean_replicates,[2.5,97.5])\n",
    "\n",
    "print('Bootstrap Mean Replicates 95% CI: ',ci_artist_plays)"
   ]
  },
  {
   "cell_type": "markdown",
   "metadata": {},
   "source": [
    "The bootstrap mean replicates showes a 95% confidence interval for the population mean is between 1,294.93 and 1443.78. This range contains our sample mean of 1,367.44."
   ]
  },
  {
   "cell_type": "markdown",
   "metadata": {},
   "source": [
    "### D. Hypothesis Testing Using Bootstrap  Mean Replicates"
   ]
  },
  {
   "cell_type": "markdown",
   "metadata": {},
   "source": [
    "The hypotheses to be tested are: \n",
    "\n",
    "> H0: Population mean is 1,367.44 artist plays.\n",
    "\n",
    "> Ha: Population mean is not 1,367.44 artist plays.\n",
    "\n",
    "> alpha = 0.05"
   ]
  },
  {
   "cell_type": "code",
   "execution_count": 63,
   "metadata": {},
   "outputs": [],
   "source": [
    "artist_mean = np.mean(artist_plays.play)"
   ]
  },
  {
   "cell_type": "code",
   "execution_count": 64,
   "metadata": {},
   "outputs": [
    {
     "name": "stdout",
     "output_type": "stream",
     "text": [
      "P-value of song plays mean replicates:  0.5033\n"
     ]
    }
   ],
   "source": [
    "print('P-value of song plays mean replicates: ', sum(artist_plays_mean_replicates <= artist_mean)/n_tries)"
   ]
  },
  {
   "cell_type": "markdown",
   "metadata": {},
   "source": [
    "We cannot reject the null hypothesis that the population mean is 1,367.44 artist plays."
   ]
  },
  {
   "cell_type": "markdown",
   "metadata": {},
   "source": [
    "### E. Hypothesis Testing Using a T-Test"
   ]
  },
  {
   "cell_type": "markdown",
   "metadata": {},
   "source": [
    "* It is suspect that this data satifies the central limit theorem. As such, this test should be taken with suspicion. I have performed it for illustration purposes.\n",
    "\n",
    "The hypotheses to be tested are: \n",
    "\n",
    "> H0: Population mean is 1,367.44 artist plays.\n",
    "\n",
    "> Ha: Population mean is not 1,367.44 artist plays.\n",
    "\n",
    "> alpha = 0.05"
   ]
  },
  {
   "cell_type": "code",
   "execution_count": 65,
   "metadata": {},
   "outputs": [
    {
     "data": {
      "text/plain": [
       "Ttest_1sampResult(statistic=-4.2029693781379284e-05, pvalue=0.9999664654398812)"
      ]
     },
     "execution_count": 65,
     "metadata": {},
     "output_type": "execute_result"
    }
   ],
   "source": [
    "stats.ttest_1samp(artist_plays.play,1367.44)"
   ]
  },
  {
   "cell_type": "markdown",
   "metadata": {},
   "source": [
    "The p-value is above the alpha level of 0.05. This suggets that we cannot reject the null hypothesis that the population mean is 1,367.44. We should take this results with some suspicion since this data may not satisfy the CLT."
   ]
  },
  {
   "cell_type": "markdown",
   "metadata": {},
   "source": [
    "**Sample Mean Hypothesis Testing & Distribution Conclusions**\n",
    "\n",
    "**1-** The distribution is not normal.\n",
    "\n",
    "**2-** According to the bootstrap replicates of the mean and the t-test is highly likely that the population song plays indicator mean is around 125.79.The t-test should be taken with some suspicion since this distribution may not satisfy the central limit theorem.\n",
    "\n",
    "**3-** There are several factors that could be driving these results and creating a peculiar artist plays distribution:\n",
    "\n",
    "* The user play dataset is very large. \n",
    "* The data was in a certain timeframe and procedure and we do not have full user listening history.\n",
    "* The song data was extracted in December of 2011 which is holiday season, which could affect the user song play behaviour.\n",
    "* There are specific characteristics of the user with high user play interactions (such as business customer, several people in the same account etc.). \n",
    "* The structure of the music industry, in which a few songs/artists create hits and most working artists do not."
   ]
  },
  {
   "cell_type": "markdown",
   "metadata": {},
   "source": [
    "## Part 5. Relationship between song features and listens"
   ]
  },
  {
   "cell_type": "markdown",
   "metadata": {},
   "source": [
    "Merge song basic features with song listens indicator total (merge on song_id)"
   ]
  },
  {
   "cell_type": "code",
   "execution_count": 66,
   "metadata": {},
   "outputs": [
    {
     "data": {
      "text/html": [
       "<div>\n",
       "<style scoped>\n",
       "    .dataframe tbody tr th:only-of-type {\n",
       "        vertical-align: middle;\n",
       "    }\n",
       "\n",
       "    .dataframe tbody tr th {\n",
       "        vertical-align: top;\n",
       "    }\n",
       "\n",
       "    .dataframe thead th {\n",
       "        text-align: right;\n",
       "    }\n",
       "</style>\n",
       "<table border=\"1\" class=\"dataframe\">\n",
       "  <thead>\n",
       "    <tr style=\"text-align: right;\">\n",
       "      <th></th>\n",
       "      <th>artist_familiarity</th>\n",
       "      <th>artist_hotttnesss</th>\n",
       "      <th>artist_id</th>\n",
       "      <th>song_hotttnesss</th>\n",
       "      <th>song_id</th>\n",
       "      <th>duration</th>\n",
       "      <th>key</th>\n",
       "      <th>loudness</th>\n",
       "      <th>mode</th>\n",
       "      <th>tempo</th>\n",
       "      <th>time_signature</th>\n",
       "      <th>year</th>\n",
       "      <th>play</th>\n",
       "      <th>play_count</th>\n",
       "    </tr>\n",
       "  </thead>\n",
       "  <tbody>\n",
       "    <tr>\n",
       "      <th>0</th>\n",
       "      <td>0.649822</td>\n",
       "      <td>0.394032</td>\n",
       "      <td>ARYZTJS1187B98C555</td>\n",
       "      <td>0.542899</td>\n",
       "      <td>SOQMMHC12AB0180CB8</td>\n",
       "      <td>252.05506</td>\n",
       "      <td>10</td>\n",
       "      <td>-4.829</td>\n",
       "      <td>0</td>\n",
       "      <td>87.002</td>\n",
       "      <td>4</td>\n",
       "      <td>2003.0</td>\n",
       "      <td>3.0</td>\n",
       "      <td>8.0</td>\n",
       "    </tr>\n",
       "    <tr>\n",
       "      <th>1</th>\n",
       "      <td>0.439604</td>\n",
       "      <td>0.356992</td>\n",
       "      <td>ARMVN3U1187FB3A1EB</td>\n",
       "      <td>0.299877</td>\n",
       "      <td>SOVFVAK12A8C1350D9</td>\n",
       "      <td>156.55138</td>\n",
       "      <td>9</td>\n",
       "      <td>-10.555</td>\n",
       "      <td>1</td>\n",
       "      <td>150.778</td>\n",
       "      <td>1</td>\n",
       "      <td>1995.0</td>\n",
       "      <td>NaN</td>\n",
       "      <td>NaN</td>\n",
       "    </tr>\n",
       "    <tr>\n",
       "      <th>2</th>\n",
       "      <td>0.643681</td>\n",
       "      <td>0.437504</td>\n",
       "      <td>ARGEKB01187FB50750</td>\n",
       "      <td>0.617871</td>\n",
       "      <td>SOGTUKN12AB017F4F1</td>\n",
       "      <td>138.97098</td>\n",
       "      <td>7</td>\n",
       "      <td>-2.060</td>\n",
       "      <td>1</td>\n",
       "      <td>177.768</td>\n",
       "      <td>4</td>\n",
       "      <td>2006.0</td>\n",
       "      <td>NaN</td>\n",
       "      <td>NaN</td>\n",
       "    </tr>\n",
       "    <tr>\n",
       "      <th>3</th>\n",
       "      <td>0.448501</td>\n",
       "      <td>0.372349</td>\n",
       "      <td>ARNWYLR1187B9B2F9C</td>\n",
       "      <td>NaN</td>\n",
       "      <td>SOBNYVR12A8C13558C</td>\n",
       "      <td>145.05751</td>\n",
       "      <td>7</td>\n",
       "      <td>-4.654</td>\n",
       "      <td>1</td>\n",
       "      <td>87.433</td>\n",
       "      <td>4</td>\n",
       "      <td>2003.0</td>\n",
       "      <td>3.0</td>\n",
       "      <td>3.0</td>\n",
       "    </tr>\n",
       "    <tr>\n",
       "      <th>4</th>\n",
       "      <td>0.000000</td>\n",
       "      <td>0.000000</td>\n",
       "      <td>AREQDTE1269FB37231</td>\n",
       "      <td>NaN</td>\n",
       "      <td>SOHSBXH12A8C13B0DF</td>\n",
       "      <td>514.29832</td>\n",
       "      <td>5</td>\n",
       "      <td>-7.806</td>\n",
       "      <td>0</td>\n",
       "      <td>140.035</td>\n",
       "      <td>4</td>\n",
       "      <td>NaN</td>\n",
       "      <td>NaN</td>\n",
       "      <td>NaN</td>\n",
       "    </tr>\n",
       "  </tbody>\n",
       "</table>\n",
       "</div>"
      ],
      "text/plain": [
       "   artist_familiarity  artist_hotttnesss           artist_id  song_hotttnesss  \\\n",
       "0            0.649822           0.394032  ARYZTJS1187B98C555         0.542899   \n",
       "1            0.439604           0.356992  ARMVN3U1187FB3A1EB         0.299877   \n",
       "2            0.643681           0.437504  ARGEKB01187FB50750         0.617871   \n",
       "3            0.448501           0.372349  ARNWYLR1187B9B2F9C              NaN   \n",
       "4            0.000000           0.000000  AREQDTE1269FB37231              NaN   \n",
       "\n",
       "              song_id   duration  key  loudness  mode    tempo  \\\n",
       "0  SOQMMHC12AB0180CB8  252.05506   10    -4.829     0   87.002   \n",
       "1  SOVFVAK12A8C1350D9  156.55138    9   -10.555     1  150.778   \n",
       "2  SOGTUKN12AB017F4F1  138.97098    7    -2.060     1  177.768   \n",
       "3  SOBNYVR12A8C13558C  145.05751    7    -4.654     1   87.433   \n",
       "4  SOHSBXH12A8C13B0DF  514.29832    5    -7.806     0  140.035   \n",
       "\n",
       "   time_signature    year  play  play_count  \n",
       "0               4  2003.0   3.0         8.0  \n",
       "1               1  1995.0   NaN         NaN  \n",
       "2               4  2006.0   NaN         NaN  \n",
       "3               4  2003.0   3.0         3.0  \n",
       "4               4     NaN   NaN         NaN  "
      ]
     },
     "execution_count": 66,
     "metadata": {},
     "output_type": "execute_result"
    }
   ],
   "source": [
    "#Merge song basic features with song listens indicator total (merge on song_id)\n",
    "\n",
    "basic_features_listens = basic_features.merge(song_plays,on='song_id',how='left')\n",
    "\n",
    "basic_features_listens.head()"
   ]
  },
  {
   "cell_type": "markdown",
   "metadata": {},
   "source": [
    "**Plot heatmap of relationship between features**"
   ]
  },
  {
   "cell_type": "code",
   "execution_count": 67,
   "metadata": {},
   "outputs": [],
   "source": [
    "song_feat_corr = basic_features_listens.corr()"
   ]
  },
  {
   "cell_type": "code",
   "execution_count": 68,
   "metadata": {},
   "outputs": [
    {
     "data": {
      "text/plain": [
       "Text(0.5,1,'Heat Map of  Song Features Correlations')"
      ]
     },
     "execution_count": 68,
     "metadata": {},
     "output_type": "execute_result"
    },
    {
     "data": {
      "image/png": "[encoded data removed]",
      "text/plain": [
       "<matplotlib.figure.Figure at 0x1a115566d8>"
      ]
     },
     "metadata": {},
     "output_type": "display_data"
    }
   ],
   "source": [
    "plt.figure(figsize=(10, 10))\n",
    "\n",
    "sns.set(font_scale=1.2)\n",
    "\n",
    "sns.heatmap(song_feat_corr, square=True, cmap='RdYlGn')\n",
    "\n",
    "plt.title('Heat Map of  Song Features Correlations')"
   ]
  },
  {
   "cell_type": "markdown",
   "metadata": {},
   "source": [
    "+ Relationship between play and play count. Makes sense because play is an indicator derived from play count and also, due to popularity effects in which more popular songs will be played more. \n",
    "+ Morederate positive elationship between artist_familiarity, artist_hottness and song_hottness. It seesm to be related to popularity effect."
   ]
  },
  {
   "cell_type": "markdown",
   "metadata": {},
   "source": [
    "**Plot relationship between artist familiarity and plays** (only songs that have been played plotted)"
   ]
  },
  {
   "cell_type": "code",
   "execution_count": 69,
   "metadata": {},
   "outputs": [
    {
     "data": {
      "image/png": "[encoded data removed]",
      "text/plain": [
       "<matplotlib.figure.Figure at 0x1a0d77b7b8>"
      ]
     },
     "metadata": {},
     "output_type": "display_data"
    }
   ],
   "source": [
    "sns.set(style='whitegrid')\n",
    "\n",
    "plays_artistfam = sns.jointplot(x= 'artist_familiarity', y= 'play',\n",
    "                                data=basic_features_listens,dropna=True)\n",
    "\n",
    "plays_artistfam.set_axis_labels('Artist Familiarity','Plays')\n",
    "\n",
    "plays_artistfam.savefig('plays_artistfam_joint.png', dpi=400)"
   ]
  },
  {
   "cell_type": "markdown",
   "metadata": {},
   "source": [
    "**Plot relationship between artist hottness and plays** (only songs that have been played plotted)"
   ]
  },
  {
   "cell_type": "code",
   "execution_count": 70,
   "metadata": {},
   "outputs": [
    {
     "data": {
      "image/png": "[encoded data removed]",
      "text/plain": [
       "<matplotlib.figure.Figure at 0x1a0d735588>"
      ]
     },
     "metadata": {},
     "output_type": "display_data"
    }
   ],
   "source": [
    "plays_artisthott = sns.jointplot(x= 'artist_hotttnesss', y= 'play',\n",
    "                                data=basic_features_listens,dropna=True)\n",
    "\n",
    "plays_artisthott.set_axis_labels('Artist Hottness','Plays')\n",
    "\n",
    "plays_artisthott.savefig('plays_artist_hot_joint.png', dpi=400)"
   ]
  },
  {
   "cell_type": "markdown",
   "metadata": {},
   "source": [
    "**Plot relationship between song hottness and plays** (only songs that have been played plotted)"
   ]
  },
  {
   "cell_type": "code",
   "execution_count": 71,
   "metadata": {},
   "outputs": [
    {
     "data": {
      "image/png": "[encoded data removed]",
      "text/plain": [
       "<matplotlib.figure.Figure at 0x1a19dfdda0>"
      ]
     },
     "metadata": {},
     "output_type": "display_data"
    }
   ],
   "source": [
    "plays_songhott = sns.jointplot(x= 'song_hotttnesss', y= 'play',\n",
    "                                data=basic_features_listens,dropna=True)\n",
    "\n",
    "plays_songhott.set_axis_labels('Song Hottness','Plays')\n",
    "\n",
    "plays_songhott.savefig('plays_song_hot_joint.png', dpi=400)"
   ]
  },
  {
   "cell_type": "markdown",
   "metadata": {},
   "source": [
    "**Plot relationship between song duration and plays** (only songs that have been played plotted)"
   ]
  },
  {
   "cell_type": "code",
   "execution_count": 72,
   "metadata": {},
   "outputs": [
    {
     "data": {
      "image/png": "[encoded data removed]",
      "text/plain": [
       "<matplotlib.figure.Figure at 0x1a0c6a46a0>"
      ]
     },
     "metadata": {},
     "output_type": "display_data"
    }
   ],
   "source": [
    "plays_dur = sns.jointplot(x= 'duration', y= 'play',\n",
    "                         data=basic_features_listens,dropna=True)\n",
    "\n",
    "plays_dur.set_axis_labels('Song Duration','Plays')\n",
    "\n",
    "plays_dur.savefig('plays_song_dur_joint.png', dpi=400)"
   ]
  },
  {
   "cell_type": "markdown",
   "metadata": {},
   "source": [
    "**Plot relationship between song key and plays** (only songs that have been played plotted)"
   ]
  },
  {
   "cell_type": "code",
   "execution_count": 73,
   "metadata": {},
   "outputs": [
    {
     "data": {
      "image/png": "[encoded data removed]",
      "text/plain": [
       "<matplotlib.figure.Figure at 0x1a19a34278>"
      ]
     },
     "metadata": {},
     "output_type": "display_data"
    }
   ],
   "source": [
    "plays_key = sns.jointplot(x= 'key', y= 'play',\n",
    "                         data=basic_features_listens,dropna=True)\n",
    "\n",
    "plays_key.set_axis_labels('Song Key','Plays')\n",
    "\n",
    "plays_key.savefig('plays_song_key_joint.png', dpi=400)"
   ]
  },
  {
   "cell_type": "markdown",
   "metadata": {},
   "source": [
    "**Plot relationship between song loudness and plays** (only songs that have been played plotted)"
   ]
  },
  {
   "cell_type": "code",
   "execution_count": 74,
   "metadata": {},
   "outputs": [
    {
     "data": {
      "image/png": "[encoded data removed]",
      "text/plain": [
       "<matplotlib.figure.Figure at 0x1a1154a470>"
      ]
     },
     "metadata": {},
     "output_type": "display_data"
    }
   ],
   "source": [
    "plays_loud = sns.jointplot(x= 'loudness', y= 'play',\n",
    "                         data=basic_features_listens,dropna=True)\n",
    "\n",
    "plays_loud.set_axis_labels('Song Loudness','Plays')\n",
    "\n",
    "plays_loud.savefig('plays_song_loud_joint.png', dpi=400)"
   ]
  },
  {
   "cell_type": "markdown",
   "metadata": {},
   "source": [
    "**Plot relationship between song mode and plays** (only songs that have been played plotted)"
   ]
  },
  {
   "cell_type": "code",
   "execution_count": 75,
   "metadata": {},
   "outputs": [
    {
     "data": {
      "image/png": "[encoded data removed]",
      "text/plain": [
       "<matplotlib.figure.Figure at 0x1a12b32080>"
      ]
     },
     "metadata": {},
     "output_type": "display_data"
    }
   ],
   "source": [
    "plays_mode = sns.jointplot(x= 'mode', y= 'play',\n",
    "                         data=basic_features_listens,dropna=True)\n",
    "\n",
    "plays_mode.set_axis_labels('Song Mode','Plays')\n",
    "\n",
    "plays_mode.savefig('plays_song_mode_joint.png', dpi=400)"
   ]
  },
  {
   "cell_type": "markdown",
   "metadata": {},
   "source": [
    "**Plot relationship between tempo and plays** (only songs that have been played plotted)"
   ]
  },
  {
   "cell_type": "code",
   "execution_count": 76,
   "metadata": {},
   "outputs": [
    {
     "data": {
      "image/png": "[encoded data removed]",
      "text/plain": [
       "<matplotlib.figure.Figure at 0x1a12b32320>"
      ]
     },
     "metadata": {},
     "output_type": "display_data"
    }
   ],
   "source": [
    "plays_tempo = sns.jointplot(x= 'tempo', y= 'play',\n",
    "                         data=basic_features_listens,dropna=True)\n",
    "\n",
    "plays_tempo.set_axis_labels('Song Tempo','Plays')\n",
    "\n",
    "plays_tempo.savefig('plays_song_mode_joint.png', dpi=400)"
   ]
  },
  {
   "cell_type": "markdown",
   "metadata": {},
   "source": [
    "**Plot relationship between time signature and plays** (only songs that have been played plotted)"
   ]
  },
  {
   "cell_type": "code",
   "execution_count": 77,
   "metadata": {},
   "outputs": [
    {
     "data": {
      "image/png": "[encoded data removed]",
      "text/plain": [
       "<matplotlib.figure.Figure at 0x1a1f83d588>"
      ]
     },
     "metadata": {},
     "output_type": "display_data"
    }
   ],
   "source": [
    "plays_timesig = sns.jointplot(x= 'time_signature', y= 'play',\n",
    "                         data=basic_features_listens,dropna=True)\n",
    "\n",
    "plays_timesig.set_axis_labels('Song Time Signature','Plays')\n",
    "\n",
    "plays_timesig.savefig('plays_song_timesig_joint.png', dpi=400)"
   ]
  },
  {
   "cell_type": "markdown",
   "metadata": {},
   "source": [
    "**Plot relationship between year of song release and plays** (only songs that have been played plotted)"
   ]
  },
  {
   "cell_type": "code",
   "execution_count": 78,
   "metadata": {},
   "outputs": [
    {
     "data": {
      "image/png": "[encoded data removed]",
      "text/plain": [
       "<matplotlib.figure.Figure at 0x1a2187a9b0>"
      ]
     },
     "metadata": {},
     "output_type": "display_data"
    }
   ],
   "source": [
    "plays_year = sns.jointplot(x= 'year', y= 'play',\n",
    "                              data=basic_features_listens,dropna=True)\n",
    "\n",
    "plays_year.set_axis_labels('Song Release Year','Plays')\n",
    "\n",
    "plays_year.savefig('plays_song_year_joint.png', dpi=400)"
   ]
  },
  {
   "cell_type": "markdown",
   "metadata": {},
   "source": [
    "**Plot relationship between play count and play** (only songs that have been played plotted)"
   ]
  },
  {
   "cell_type": "code",
   "execution_count": 79,
   "metadata": {},
   "outputs": [
    {
     "data": {
      "image/png": "[encoded data removed]",
      "text/plain": [
       "<matplotlib.figure.Figure at 0x1a219009e8>"
      ]
     },
     "metadata": {},
     "output_type": "display_data"
    }
   ],
   "source": [
    "plays_count = sns.jointplot(x= 'play_count', y= 'play',\n",
    "                            data=basic_features_listens,dropna=True)\n",
    "\n",
    "plays_count.set_axis_labels('Play Count','Plays')\n",
    "\n",
    "plays_count.savefig('plays_song_count_joint.png', dpi=400)\n",
    "                            "
   ]
  },
  {
   "cell_type": "markdown",
   "metadata": {},
   "source": [
    "There seems to be a strong linear relationship between play count and plays. This means that there is a tendency in that the higher the play counts, the higher the number of unique user plays. This makes sense and ought to be expected given that the play indicator is derived from the play count. \n",
    "\n",
    "However, the strenght of the relationship leads me to think that song/artist popularity maybe an important factor in song/artist/user interactions (i.e. the more people hear about a song/artist the more likely they are to interact with it and have play it more)."
   ]
  },
  {
   "cell_type": "markdown",
   "metadata": {},
   "source": [
    "**Conclusions**\n",
    "\n",
    "* There does not seem to be a strong relationship between unique song plays/interactions and any of the features.\n",
    "* This could be due to the sparsity of the data. For example, most users having not listened to that much of the catalog to result in meaningful patterns.\n",
    "* The songs may be simply too heterogeneous/different.\n",
    "* They may be patterns or correlations if features are looked at in combination rather than isolated."
   ]
  },
  {
   "cell_type": "markdown",
   "metadata": {},
   "source": [
    "## Part 6. Artist Tags"
   ]
  },
  {
   "cell_type": "markdown",
   "metadata": {},
   "source": [
    "While I do not forsee using the tags data in the recommder system at this point, I think is still helpful to get a broad sense of kinds of genre and tags that are associated with the artists in the dataset."
   ]
  },
  {
   "cell_type": "markdown",
   "metadata": {},
   "source": [
    "**MusicBrainz Artist Tags Exploration: Count how many artists are associated with a tag.**"
   ]
  },
  {
   "cell_type": "code",
   "execution_count": 80,
   "metadata": {},
   "outputs": [
    {
     "name": "stdout",
     "output_type": "stream",
     "text": [
      "          artist_id\n",
      "count   2321.000000\n",
      "mean     343.879793\n",
      "std     2032.004393\n",
      "min        1.000000\n",
      "25%       25.000000\n",
      "50%       43.000000\n",
      "75%      104.000000\n",
      "max    38597.000000\n",
      "Unique tags and artist values: mbtag         2321\n",
      "artist_id    43946\n",
      "dtype: int64\n"
     ]
    }
   ],
   "source": [
    "mbtag_counts = artist_tags[['mbtag','artist_id']].groupby('mbtag',as_index=False).count()\n",
    "\n",
    "print(mbtag_counts.describe())\n",
    "\n",
    "print('Unique tags and artist values:',\n",
    "      artist_tags[['mbtag','artist_id']].nunique())"
   ]
  },
  {
   "cell_type": "markdown",
   "metadata": {},
   "source": [
    "There is a total of 2,321 unique tags. The average tag has ~344 unique artists associated with it. There seems to be skewedness, 75% of the tags have 104 artists while the maximum artists associated with a tag is ~38.5K.\n",
    "\n",
    "As discussed previously there are 44,421 unique artists in the song dataset. So this means that 98% of artists in the MSD dataset has one or more MusicBrainz tag."
   ]
  },
  {
   "cell_type": "markdown",
   "metadata": {},
   "source": [
    "**Create Horizontal Bar plot of the most popular artist MusicBrainz tags**"
   ]
  },
  {
   "cell_type": "code",
   "execution_count": 81,
   "metadata": {},
   "outputs": [
    {
     "data": {
      "image/png": "[encoded data removed]",
      "text/plain": [
       "<matplotlib.figure.Figure at 0x1a23156be0>"
      ]
     },
     "metadata": {},
     "output_type": "display_data"
    }
   ],
   "source": [
    "#Extract top 20 tags.\n",
    "\n",
    "mbtag_counts_top = mbtag_counts.sort_values('artist_id',ascending=False).head(20)\n",
    "\n",
    "#Create bar graph of top 20 artist tags\n",
    "\n",
    "sns.set(style=\"whitegrid\")\n",
    "\n",
    "sns.set_color_codes(\"pastel\")\n",
    "\n",
    "bar_tags = sns.barplot(y='mbtag',x='artist_id', data=mbtag_counts_top, color='b')\n",
    "\n",
    "plt.grid(False)\n",
    "\n",
    "plt.title('Most Common MusicBrainz Artist Tags') #add title\n",
    "\n",
    "plt.ylabel(' ') #blank y-axis label\n",
    "\n",
    "plt.xlabel('Frequency of Tag') #add x-axis label\n",
    "\n",
    "plt.show() #show resulting graph\n",
    "\n",
    "bar_tags_figure = bar_tags.get_figure()\n",
    "\n",
    "bar_tags_figure.savefig('Artist Tags_Top20.png', dpi=400)"
   ]
  },
  {
   "cell_type": "markdown",
   "metadata": {},
   "source": [
    "It seems classic pop, rock, british, uk, american indie, english and folk are the most popular artists tags in the MusicBrainz data."
   ]
  },
  {
   "cell_type": "markdown",
   "metadata": {},
   "source": [
    "**EchoNest Artist Terms Exploration: Count how many artists are associated with a tag.**"
   ]
  },
  {
   "cell_type": "code",
   "execution_count": 82,
   "metadata": {},
   "outputs": [
    {
     "name": "stdout",
     "output_type": "stream",
     "text": [
      "          artist_id\n",
      "count   7643.000000\n",
      "mean     212.104933\n",
      "std     1310.005104\n",
      "min        1.000000\n",
      "25%        2.000000\n",
      "50%        7.000000\n",
      "75%       32.000000\n",
      "max    40843.000000\n",
      "Unique tags and artist values: terms         7643\n",
      "artist_id    43946\n",
      "dtype: int64\n"
     ]
    }
   ],
   "source": [
    "term_counts = artist_tags[['terms','artist_id']].groupby('terms',as_index=False).count()\n",
    "\n",
    "print(term_counts.describe())\n",
    "\n",
    "print('Unique tags and artist values:',\n",
    "      artist_tags[['terms','artist_id']].nunique())"
   ]
  },
  {
   "cell_type": "markdown",
   "metadata": {},
   "source": [
    "There is a total of 7,643 unique tags. The average tag has ~212 unique artists associated with it. There seems to be some skewedness, 75% of the tags have 32 unique artists while the maximum artists associated with a tag is ~40.8K.\n",
    "\n",
    "As discussed previously, there are 44,421 unique artists in the song dataset. unique artists in the dataset. So this means that 98% of artists in the MSD dataset has one or more EchoNest tag.\n",
    "\n",
    "The Echo Nest has almost 3x more unique tags than the Music Brainz array."
   ]
  },
  {
   "cell_type": "markdown",
   "metadata": {},
   "source": [
    "**Create Horizontal Bar plot of the most popular artist Echo Nest terms**"
   ]
  },
  {
   "cell_type": "code",
   "execution_count": 83,
   "metadata": {},
   "outputs": [
    {
     "data": {
      "image/png": "[encoded data removed]",
      "text/plain": [
       "<matplotlib.figure.Figure at 0x1a24ed2ac8>"
      ]
     },
     "metadata": {},
     "output_type": "display_data"
    }
   ],
   "source": [
    "#Extract top 20 tags.\n",
    "\n",
    "term_counts_top = term_counts.sort_values('artist_id',ascending=False).head(20)\n",
    "\n",
    "\n",
    "#Create bar graph of top 20 artist terms\n",
    "\n",
    "sns.set(style=\"whitegrid\")\n",
    "\n",
    "sns.set_color_codes(\"pastel\")\n",
    "\n",
    "bar_terms = sns.barplot(y='terms',x='artist_id', data=term_counts_top, color='g')\n",
    "\n",
    "plt.title('Most Common EchoNest Artist Terms') #add title\n",
    "\n",
    "plt.grid(False)\n",
    "\n",
    "plt.ylabel(' ') #blank y-axis label\n",
    "\n",
    "plt.xlabel('Frequency of Terms') #add x-axis label\n",
    "\n",
    "plt.show() #show resulting graph\n",
    "\n",
    "bar_terms_figure = bar_terms.get_figure()\n",
    "\n",
    "bar_terms_figure.savefig('Artist Terms_Top20.png', dpi=400)"
   ]
  },
  {
   "cell_type": "markdown",
   "metadata": {},
   "source": [
    "It seems that rock, electronic, pop, hip hop, alternative and jazz the most popular artists terms in the Echo Nest data. Rock intersects with the top tags of the MusicBrainz."
   ]
  },
  {
   "cell_type": "markdown",
   "metadata": {},
   "source": [
    "# End of Notebook"
   ]
  }
 ],
 "metadata": {
  "kernelspec": {
   "display_name": "Python 3",
   "language": "python",
   "name": "python3"
  },
  "language_info": {
   "codemirror_mode": {
    "name": "ipython",
    "version": 3
   },
   "file_extension": ".py",
   "mimetype": "text/x-python",
   "name": "python",
   "nbconvert_exporter": "python",
   "pygments_lexer": "ipython3",
   "version": "3.6.4"
  }
 },
 "nbformat": 4,
 "nbformat_minor": 2
}
