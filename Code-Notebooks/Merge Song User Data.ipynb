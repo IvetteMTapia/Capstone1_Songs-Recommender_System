{
 "cells": [
  {
   "cell_type": "markdown",
   "metadata": {},
   "source": [
    "# Import Libraries"
   ]
  },
  {
   "cell_type": "code",
   "execution_count": 38,
   "metadata": {
    "collapsed": true
   },
   "outputs": [],
   "source": [
    "import pandas as pd\n",
    "import numpy as np\n",
    "from collections import Counter"
   ]
  },
  {
   "cell_type": "markdown",
   "metadata": {},
   "source": [
    "# Import Data"
   ]
  },
  {
   "cell_type": "markdown",
   "metadata": {},
   "source": [
    "Upload User Data "
   ]
  },
  {
   "cell_type": "code",
   "execution_count": 7,
   "metadata": {
    "collapsed": false
   },
   "outputs": [
    {
     "name": "stdout",
     "output_type": "stream",
     "text": [
      "<class 'pandas.core.frame.DataFrame'>\n",
      "Int64Index: 48373586 entries, 0 to 48373585\n",
      "Data columns (total 4 columns):\n",
      "user_id       object\n",
      "song_id       object\n",
      "play_count    int64\n",
      "play          int64\n",
      "dtypes: int64(2), object(2)\n",
      "memory usage: 1.8+ GB\n",
      "None\n"
     ]
    },
    {
     "data": {
      "text/html": [
       "<div>\n",
       "<table border=\"1\" class=\"dataframe\">\n",
       "  <thead>\n",
       "    <tr style=\"text-align: right;\">\n",
       "      <th></th>\n",
       "      <th>user_id</th>\n",
       "      <th>song_id</th>\n",
       "      <th>play_count</th>\n",
       "      <th>play</th>\n",
       "    </tr>\n",
       "    <tr>\n",
       "      <th>index</th>\n",
       "      <th></th>\n",
       "      <th></th>\n",
       "      <th></th>\n",
       "      <th></th>\n",
       "    </tr>\n",
       "  </thead>\n",
       "  <tbody>\n",
       "    <tr>\n",
       "      <th>0</th>\n",
       "      <td>b80344d063b5ccb3212f76538f3d9e43d87dca9e</td>\n",
       "      <td>SOAKIMP12A8C130995</td>\n",
       "      <td>1</td>\n",
       "      <td>1</td>\n",
       "    </tr>\n",
       "    <tr>\n",
       "      <th>1</th>\n",
       "      <td>b80344d063b5ccb3212f76538f3d9e43d87dca9e</td>\n",
       "      <td>SOAPDEY12A81C210A9</td>\n",
       "      <td>1</td>\n",
       "      <td>1</td>\n",
       "    </tr>\n",
       "    <tr>\n",
       "      <th>2</th>\n",
       "      <td>b80344d063b5ccb3212f76538f3d9e43d87dca9e</td>\n",
       "      <td>SOBBMDR12A8C13253B</td>\n",
       "      <td>2</td>\n",
       "      <td>1</td>\n",
       "    </tr>\n",
       "    <tr>\n",
       "      <th>3</th>\n",
       "      <td>b80344d063b5ccb3212f76538f3d9e43d87dca9e</td>\n",
       "      <td>SOBFNSP12AF72A0E22</td>\n",
       "      <td>1</td>\n",
       "      <td>1</td>\n",
       "    </tr>\n",
       "    <tr>\n",
       "      <th>4</th>\n",
       "      <td>b80344d063b5ccb3212f76538f3d9e43d87dca9e</td>\n",
       "      <td>SOBFOVM12A58A7D494</td>\n",
       "      <td>1</td>\n",
       "      <td>1</td>\n",
       "    </tr>\n",
       "  </tbody>\n",
       "</table>\n",
       "</div>"
      ],
      "text/plain": [
       "                                        user_id             song_id  \\\n",
       "index                                                                 \n",
       "0      b80344d063b5ccb3212f76538f3d9e43d87dca9e  SOAKIMP12A8C130995   \n",
       "1      b80344d063b5ccb3212f76538f3d9e43d87dca9e  SOAPDEY12A81C210A9   \n",
       "2      b80344d063b5ccb3212f76538f3d9e43d87dca9e  SOBBMDR12A8C13253B   \n",
       "3      b80344d063b5ccb3212f76538f3d9e43d87dca9e  SOBFNSP12AF72A0E22   \n",
       "4      b80344d063b5ccb3212f76538f3d9e43d87dca9e  SOBFOVM12A58A7D494   \n",
       "\n",
       "       play_count  play  \n",
       "index                    \n",
       "0               1     1  \n",
       "1               1     1  \n",
       "2               2     1  \n",
       "3               1     1  \n",
       "4               1     1  "
      ]
     },
     "execution_count": 7,
     "metadata": {},
     "output_type": "execute_result"
    }
   ],
   "source": [
    "users_path = ('/Users/ivettetapia 1/Symbolic Link Seagate Drive/Springboard/Capstone 1_Mus_Recomend/Data/msd_user_data.csv')\n",
    "\n",
    "users = pd.read_csv(users_path, na_values = 'NaN', index_col = 0)\n",
    "\n",
    "users.index.names = ['index']\n",
    "\n",
    "print(users.info())\n",
    "\n",
    "users.head()"
   ]
  },
  {
   "cell_type": "markdown",
   "metadata": {},
   "source": [
    "Upload Metadata Data"
   ]
  },
  {
   "cell_type": "code",
   "execution_count": 8,
   "metadata": {
    "collapsed": false
   },
   "outputs": [
    {
     "name": "stdout",
     "output_type": "stream",
     "text": [
      "<class 'pandas.core.frame.DataFrame'>\n",
      "Int64Index: 905712 entries, 0 to 981021\n",
      "Data columns (total 51 columns):\n",
      "artist_7digitalid                 905712 non-null int64\n",
      "artist_familiarity                905531 non-null float64\n",
      "artist_hotttnesss                 905700 non-null float64\n",
      "artist_id                         905712 non-null object\n",
      "artist_latitude                   325985 non-null float64\n",
      "artist_location                   460185 non-null object\n",
      "artist_longitude                  325985 non-null float64\n",
      "artist_mbid                       847639 non-null object\n",
      "artist_name                       905712 non-null object\n",
      "artist_playmeid                   905712 non-null int64\n",
      "idx_artist_terms                  905712 non-null int64\n",
      "idx_similar_artists               905712 non-null int64\n",
      "release                           905712 non-null object\n",
      "release_7digitalid                905712 non-null int64\n",
      "song_hotttnesss                   551532 non-null float64\n",
      "song_id                           905712 non-null object\n",
      "title                             905708 non-null object\n",
      "track_7digitalid                  905712 non-null int64\n",
      "analysis_sample_rate              905712 non-null int64\n",
      "audio_md5                         905712 non-null object\n",
      "danceability                      905712 non-null float64\n",
      "duration                          905712 non-null float64\n",
      "end_of_fade_in                    905712 non-null float64\n",
      "energy                            905712 non-null float64\n",
      "idx_bars_confidence               905712 non-null int64\n",
      "idx_bars_start                    905712 non-null int64\n",
      "idx_beats_confidence              905712 non-null int64\n",
      "idx_beats_start                   905712 non-null int64\n",
      "idx_sections_confidence           905712 non-null int64\n",
      "idx_sections_start                905712 non-null int64\n",
      "idx_segments_confidence           905712 non-null int64\n",
      "idx_segments_loudness_max         905712 non-null int64\n",
      "idx_segments_loudness_max_time    905712 non-null int64\n",
      "idx_segments_loudness_start       905712 non-null int64\n",
      "idx_segments_pitches              905712 non-null int64\n",
      "idx_segments_start                905712 non-null int64\n",
      "idx_segments_timbre               905712 non-null int64\n",
      "idx_tatums_confidence             905712 non-null int64\n",
      "idx_tatums_start                  905712 non-null int64\n",
      "key                               905712 non-null int64\n",
      "key_confidence                    905712 non-null float64\n",
      "loudness                          905712 non-null float64\n",
      "mode                              905712 non-null int64\n",
      "mode_confidence                   905712 non-null float64\n",
      "start_of_fade_out                 905712 non-null float64\n",
      "tempo                             905712 non-null float64\n",
      "time_signature                    905712 non-null int64\n",
      "time_signature_confidence         905712 non-null float64\n",
      "track_id                          905712 non-null object\n",
      "idx_artist_mbtags                 905712 non-null int64\n",
      "year                              456811 non-null float64\n",
      "dtypes: float64(16), int64(26), object(9)\n",
      "memory usage: 359.3+ MB\n",
      "None\n"
     ]
    },
    {
     "data": {
      "text/html": [
       "<div>\n",
       "<table border=\"1\" class=\"dataframe\">\n",
       "  <thead>\n",
       "    <tr style=\"text-align: right;\">\n",
       "      <th></th>\n",
       "      <th>artist_7digitalid</th>\n",
       "      <th>artist_familiarity</th>\n",
       "      <th>artist_hotttnesss</th>\n",
       "      <th>artist_id</th>\n",
       "      <th>artist_latitude</th>\n",
       "      <th>artist_location</th>\n",
       "      <th>artist_longitude</th>\n",
       "      <th>artist_mbid</th>\n",
       "      <th>artist_name</th>\n",
       "      <th>artist_playmeid</th>\n",
       "      <th>...</th>\n",
       "      <th>loudness</th>\n",
       "      <th>mode</th>\n",
       "      <th>mode_confidence</th>\n",
       "      <th>start_of_fade_out</th>\n",
       "      <th>tempo</th>\n",
       "      <th>time_signature</th>\n",
       "      <th>time_signature_confidence</th>\n",
       "      <th>track_id</th>\n",
       "      <th>idx_artist_mbtags</th>\n",
       "      <th>year</th>\n",
       "    </tr>\n",
       "    <tr>\n",
       "      <th>index</th>\n",
       "      <th></th>\n",
       "      <th></th>\n",
       "      <th></th>\n",
       "      <th></th>\n",
       "      <th></th>\n",
       "      <th></th>\n",
       "      <th></th>\n",
       "      <th></th>\n",
       "      <th></th>\n",
       "      <th></th>\n",
       "      <th></th>\n",
       "      <th></th>\n",
       "      <th></th>\n",
       "      <th></th>\n",
       "      <th></th>\n",
       "      <th></th>\n",
       "      <th></th>\n",
       "      <th></th>\n",
       "      <th></th>\n",
       "      <th></th>\n",
       "      <th></th>\n",
       "    </tr>\n",
       "  </thead>\n",
       "  <tbody>\n",
       "    <tr>\n",
       "      <th>0</th>\n",
       "      <td>4069</td>\n",
       "      <td>0.649822</td>\n",
       "      <td>0.394032</td>\n",
       "      <td>ARYZTJS1187B98C555</td>\n",
       "      <td>NaN</td>\n",
       "      <td>NaN</td>\n",
       "      <td>NaN</td>\n",
       "      <td>357ff05d-848a-44cf-b608-cb34b5701ae5</td>\n",
       "      <td>Faster Pussy cat</td>\n",
       "      <td>44895</td>\n",
       "      <td>...</td>\n",
       "      <td>-4.829</td>\n",
       "      <td>0</td>\n",
       "      <td>0.688</td>\n",
       "      <td>236.635</td>\n",
       "      <td>87.002</td>\n",
       "      <td>4</td>\n",
       "      <td>0.940</td>\n",
       "      <td>TRMMMYQ128F932D901</td>\n",
       "      <td>0</td>\n",
       "      <td>2003.0</td>\n",
       "    </tr>\n",
       "    <tr>\n",
       "      <th>1</th>\n",
       "      <td>113480</td>\n",
       "      <td>0.439604</td>\n",
       "      <td>0.356992</td>\n",
       "      <td>ARMVN3U1187FB3A1EB</td>\n",
       "      <td>NaN</td>\n",
       "      <td>NaN</td>\n",
       "      <td>NaN</td>\n",
       "      <td>8d7ef530-a6fd-4f8f-b2e2-74aec765e0f9</td>\n",
       "      <td>Karkkiautomaatti</td>\n",
       "      <td>-1</td>\n",
       "      <td>...</td>\n",
       "      <td>-10.555</td>\n",
       "      <td>1</td>\n",
       "      <td>0.355</td>\n",
       "      <td>148.660</td>\n",
       "      <td>150.778</td>\n",
       "      <td>1</td>\n",
       "      <td>0.000</td>\n",
       "      <td>TRMMMKD128F425225D</td>\n",
       "      <td>0</td>\n",
       "      <td>1995.0</td>\n",
       "    </tr>\n",
       "    <tr>\n",
       "      <th>2</th>\n",
       "      <td>63531</td>\n",
       "      <td>0.643681</td>\n",
       "      <td>0.437504</td>\n",
       "      <td>ARGEKB01187FB50750</td>\n",
       "      <td>55.8578</td>\n",
       "      <td>Glasgow, Scotland</td>\n",
       "      <td>-4.24251</td>\n",
       "      <td>3d403d44-36ce-465c-ad43-ae877e65adc4</td>\n",
       "      <td>Hudson Mohawke</td>\n",
       "      <td>-1</td>\n",
       "      <td>...</td>\n",
       "      <td>-2.060</td>\n",
       "      <td>1</td>\n",
       "      <td>0.566</td>\n",
       "      <td>138.971</td>\n",
       "      <td>177.768</td>\n",
       "      <td>4</td>\n",
       "      <td>0.446</td>\n",
       "      <td>TRMMMRX128F93187D9</td>\n",
       "      <td>0</td>\n",
       "      <td>2006.0</td>\n",
       "    </tr>\n",
       "    <tr>\n",
       "      <th>3</th>\n",
       "      <td>65051</td>\n",
       "      <td>0.448501</td>\n",
       "      <td>0.372349</td>\n",
       "      <td>ARNWYLR1187B9B2F9C</td>\n",
       "      <td>NaN</td>\n",
       "      <td>NaN</td>\n",
       "      <td>NaN</td>\n",
       "      <td>12be7648-7094-495f-90e6-df4189d68615</td>\n",
       "      <td>Yerba Brava</td>\n",
       "      <td>34000</td>\n",
       "      <td>...</td>\n",
       "      <td>-4.654</td>\n",
       "      <td>1</td>\n",
       "      <td>0.451</td>\n",
       "      <td>138.687</td>\n",
       "      <td>87.433</td>\n",
       "      <td>4</td>\n",
       "      <td>0.000</td>\n",
       "      <td>TRMMMCH128F425532C</td>\n",
       "      <td>0</td>\n",
       "      <td>2003.0</td>\n",
       "    </tr>\n",
       "    <tr>\n",
       "      <th>4</th>\n",
       "      <td>158279</td>\n",
       "      <td>0.000000</td>\n",
       "      <td>0.000000</td>\n",
       "      <td>AREQDTE1269FB37231</td>\n",
       "      <td>NaN</td>\n",
       "      <td>NaN</td>\n",
       "      <td>NaN</td>\n",
       "      <td>NaN</td>\n",
       "      <td>Der Mystic</td>\n",
       "      <td>-1</td>\n",
       "      <td>...</td>\n",
       "      <td>-7.806</td>\n",
       "      <td>0</td>\n",
       "      <td>0.290</td>\n",
       "      <td>506.717</td>\n",
       "      <td>140.035</td>\n",
       "      <td>4</td>\n",
       "      <td>0.315</td>\n",
       "      <td>TRMMMWA128F426B589</td>\n",
       "      <td>0</td>\n",
       "      <td>NaN</td>\n",
       "    </tr>\n",
       "  </tbody>\n",
       "</table>\n",
       "<p>5 rows × 51 columns</p>\n",
       "</div>"
      ],
      "text/plain": [
       "       artist_7digitalid  artist_familiarity  artist_hotttnesss  \\\n",
       "index                                                             \n",
       "0                   4069            0.649822           0.394032   \n",
       "1                 113480            0.439604           0.356992   \n",
       "2                  63531            0.643681           0.437504   \n",
       "3                  65051            0.448501           0.372349   \n",
       "4                 158279            0.000000           0.000000   \n",
       "\n",
       "                artist_id  artist_latitude    artist_location  \\\n",
       "index                                                           \n",
       "0      ARYZTJS1187B98C555              NaN                NaN   \n",
       "1      ARMVN3U1187FB3A1EB              NaN                NaN   \n",
       "2      ARGEKB01187FB50750          55.8578  Glasgow, Scotland   \n",
       "3      ARNWYLR1187B9B2F9C              NaN                NaN   \n",
       "4      AREQDTE1269FB37231              NaN                NaN   \n",
       "\n",
       "       artist_longitude                           artist_mbid  \\\n",
       "index                                                           \n",
       "0                   NaN  357ff05d-848a-44cf-b608-cb34b5701ae5   \n",
       "1                   NaN  8d7ef530-a6fd-4f8f-b2e2-74aec765e0f9   \n",
       "2              -4.24251  3d403d44-36ce-465c-ad43-ae877e65adc4   \n",
       "3                   NaN  12be7648-7094-495f-90e6-df4189d68615   \n",
       "4                   NaN                                   NaN   \n",
       "\n",
       "            artist_name  artist_playmeid   ...    loudness  mode  \\\n",
       "index                                      ...                     \n",
       "0      Faster Pussy cat            44895   ...      -4.829     0   \n",
       "1      Karkkiautomaatti               -1   ...     -10.555     1   \n",
       "2        Hudson Mohawke               -1   ...      -2.060     1   \n",
       "3           Yerba Brava            34000   ...      -4.654     1   \n",
       "4            Der Mystic               -1   ...      -7.806     0   \n",
       "\n",
       "      mode_confidence  start_of_fade_out    tempo time_signature  \\\n",
       "index                                                              \n",
       "0               0.688            236.635   87.002              4   \n",
       "1               0.355            148.660  150.778              1   \n",
       "2               0.566            138.971  177.768              4   \n",
       "3               0.451            138.687   87.433              4   \n",
       "4               0.290            506.717  140.035              4   \n",
       "\n",
       "      time_signature_confidence            track_id  idx_artist_mbtags    year  \n",
       "index                                                                           \n",
       "0                         0.940  TRMMMYQ128F932D901                  0  2003.0  \n",
       "1                         0.000  TRMMMKD128F425225D                  0  1995.0  \n",
       "2                         0.446  TRMMMRX128F93187D9                  0  2006.0  \n",
       "3                         0.000  TRMMMCH128F425532C                  0  2003.0  \n",
       "4                         0.315  TRMMMWA128F426B589                  0     NaN  \n",
       "\n",
       "[5 rows x 51 columns]"
      ]
     },
     "execution_count": 8,
     "metadata": {},
     "output_type": "execute_result"
    }
   ],
   "source": [
    "songs_path = ('/Users/ivettetapia 1/Symbolic Link Seagate Drive/Springboard/Capstone 1_Mus_Recomend/Data/msd_song_metadata.csv')\n",
    "\n",
    "songs = pd.read_csv(songs_path, na_values = 'NaN', index_col = 0)\n",
    "\n",
    "songs.index.names = ['index']\n",
    "\n",
    "print(songs.info())\n",
    "\n",
    "songs.head()"
   ]
  },
  {
   "cell_type": "markdown",
   "metadata": {},
   "source": [
    "Upload Artist Tags"
   ]
  },
  {
   "cell_type": "code",
   "execution_count": 9,
   "metadata": {
    "collapsed": true
   },
   "outputs": [],
   "source": [
    "# Upload Artist Tags \n",
    "\n",
    "tags_path = ('/Users/ivettetapia 1/Symbolic Link Seagate Drive/Springboard/Capstone 1_Mus_Recomend/Data/msd_tags.csv')\n",
    "\n",
    "tags_data = pd.read_csv(tags_path, index_col = 0, na_values = 'NaN',\n",
    "                        dtype = {0:'int', 1:'str',2:'str',3:'str'})\n",
    "\n",
    "tags_data.index.names = ['index']"
   ]
  },
  {
   "cell_type": "markdown",
   "metadata": {},
   "source": [
    "# Filter User Data"
   ]
  },
  {
   "cell_type": "markdown",
   "metadata": {},
   "source": [
    "+ Remove users with less than five different song listens.\n",
    "+ Remove users with more than 1,750 song listens."
   ]
  },
  {
   "cell_type": "markdown",
   "metadata": {},
   "source": [
    "**Remove and save users with less than five different song interactions**"
   ]
  },
  {
   "cell_type": "code",
   "execution_count": 73,
   "metadata": {
    "collapsed": false
   },
   "outputs": [],
   "source": [
    "threshold_count = 5\n",
    "\n",
    "c = Counter(users.user_id)\n",
    "\n",
    "relevant_items = [k for k, count in c.iteritems() if count > threshold_count]"
   ]
  },
  {
   "cell_type": "code",
   "execution_count": 74,
   "metadata": {
    "collapsed": false
   },
   "outputs": [
    {
     "data": {
      "text/plain": [
       "('a6c32fb03a210c135bd944b9b35849fd63a7765e', 10)"
      ]
     },
     "execution_count": 74,
     "metadata": {},
     "output_type": "execute_result"
    }
   ],
   "source": [
    "# Least Interactions\n",
    "\n",
    "Counter(c).most_common()[-1]\n",
    "\n",
    "# The least interactions is 10. So at threshold 5, no users are removed."
   ]
  },
  {
   "cell_type": "code",
   "execution_count": 97,
   "metadata": {
    "collapsed": false
   },
   "outputs": [
    {
     "name": "stdout",
     "output_type": "stream",
     "text": [
      "<class 'pandas.core.frame.DataFrame'>\n",
      "Int64Index: 48373586 entries, 0 to 48373585\n",
      "Data columns (total 4 columns):\n",
      "user_id       object\n",
      "song_id       object\n",
      "play_count    int64\n",
      "play          int64\n",
      "dtypes: int64(2), object(2)\n",
      "memory usage: 1.8+ GB\n"
     ]
    }
   ],
   "source": [
    "users_filtered = users.loc[users.user_id.isin(relevant_items), :]\n",
    "\n",
    "users_filtered.info()"
   ]
  },
  {
   "cell_type": "markdown",
   "metadata": {},
   "source": [
    "**Remove users with more than 1,750 song listens**"
   ]
  },
  {
   "cell_type": "code",
   "execution_count": 36,
   "metadata": {
    "collapsed": false
   },
   "outputs": [
    {
     "name": "stdout",
     "output_type": "stream",
     "text": [
      "('Average Song Duration:', 4.115233282423107)\n",
      "('Max User Listening Per Day Estimate:', 349.91940946592166)\n",
      "('Max User Un-interrupted Listening in Ten Days Estimate:', 3499.1940946592167)\n"
     ]
    }
   ],
   "source": [
    "#Average song duration in minutes\n",
    "\n",
    "print('Average Song Duration:', np.mean(songs.duration)/60)\n",
    "\n",
    "# Listens an user can do in 24 hrs without interruptions. \n",
    "\n",
    "min_day = 60*24 # minutes in a day\n",
    "\n",
    "days = 10 #days of user listening represented in the dataset\n",
    "\n",
    "print('Max User Listening Per Day Estimate:', min_day/(np.mean(songs.duration)/60))\n",
    "\n",
    "# Listens an user can do over ten days WITHOUT INTERRUPTION\n",
    "\n",
    "days = 10 #days of user listening represented in the dataset\n",
    "\n",
    "print('Max User Un-interrupted Listening in Ten Days Estimate:', days*(min_day/(np.mean(songs.duration)/60)))\n"
   ]
  },
  {
   "cell_type": "markdown",
   "metadata": {},
   "source": [
    "In my opinion, users with more than 12hrs of un-interrupted listening over 10 days should be investigated further.\n",
    "\n",
    "\n",
    "These will be users with more than 1,750 listens. It is highly unlikely a 'typical' user will behave this way, also it is physically unlikely. I will eliminate these users from the dataset."
   ]
  },
  {
   "cell_type": "code",
   "execution_count": 96,
   "metadata": {
    "collapsed": false
   },
   "outputs": [
    {
     "name": "stdout",
     "output_type": "stream",
     "text": [
      "<class 'pandas.core.frame.DataFrame'>\n",
      "Index: 895 entries, 0025bfe6248070545d23721083acd3f60451da4f to ffe5ad43c24d81878621185e164043a6e49b2fe4\n",
      "Data columns (total 2 columns):\n",
      "play_count    895 non-null int64\n",
      "play          895 non-null int64\n",
      "dtypes: int64(2)\n",
      "memory usage: 21.0+ KB\n"
     ]
    }
   ],
   "source": [
    "users_grouped = users.groupby('user_id').sum()\n",
    "\n",
    "users_grouped = users_grouped[users_grouped['play_count'] > 1749]\n",
    "\n",
    "users_grouped.info()"
   ]
  },
  {
   "cell_type": "code",
   "execution_count": 98,
   "metadata": {
    "collapsed": false
   },
   "outputs": [
    {
     "ename": "KeyError",
     "evalue": "'user_id'",
     "output_type": "error",
     "traceback": [
      "\u001b[0;31m---------------------------------------------------------------------------\u001b[0m",
      "\u001b[0;31mKeyError\u001b[0m                                  Traceback (most recent call last)",
      "\u001b[0;32m<ipython-input-98-ea44018e0e5b>\u001b[0m in \u001b[0;36m<module>\u001b[0;34m()\u001b[0m\n\u001b[0;32m----> 1\u001b[0;31m \u001b[0musers_filtered\u001b[0m\u001b[0;34m[\u001b[0m\u001b[0musers_filtered\u001b[0m\u001b[0;34m[\u001b[0m\u001b[0;34m'user_id'\u001b[0m\u001b[0;34m]\u001b[0m \u001b[0;34m!=\u001b[0m \u001b[0musers_grouped\u001b[0m\u001b[0;34m[\u001b[0m\u001b[0;34m'user_id'\u001b[0m\u001b[0;34m]\u001b[0m\u001b[0;34m]\u001b[0m\u001b[0;34m\u001b[0m\u001b[0m\n\u001b[0m",
      "\u001b[0;32m/Applications/anaconda/envs/gl-env/lib/python2.7/site-packages/pandas/core/frame.pyc\u001b[0m in \u001b[0;36m__getitem__\u001b[0;34m(self, key)\u001b[0m\n\u001b[1;32m   1990\u001b[0m             \u001b[0;32mreturn\u001b[0m \u001b[0mself\u001b[0m\u001b[0;34m.\u001b[0m\u001b[0m_getitem_multilevel\u001b[0m\u001b[0;34m(\u001b[0m\u001b[0mkey\u001b[0m\u001b[0;34m)\u001b[0m\u001b[0;34m\u001b[0m\u001b[0m\n\u001b[1;32m   1991\u001b[0m         \u001b[0;32melse\u001b[0m\u001b[0;34m:\u001b[0m\u001b[0;34m\u001b[0m\u001b[0m\n\u001b[0;32m-> 1992\u001b[0;31m             \u001b[0;32mreturn\u001b[0m \u001b[0mself\u001b[0m\u001b[0;34m.\u001b[0m\u001b[0m_getitem_column\u001b[0m\u001b[0;34m(\u001b[0m\u001b[0mkey\u001b[0m\u001b[0;34m)\u001b[0m\u001b[0;34m\u001b[0m\u001b[0m\n\u001b[0m\u001b[1;32m   1993\u001b[0m \u001b[0;34m\u001b[0m\u001b[0m\n\u001b[1;32m   1994\u001b[0m     \u001b[0;32mdef\u001b[0m \u001b[0m_getitem_column\u001b[0m\u001b[0;34m(\u001b[0m\u001b[0mself\u001b[0m\u001b[0;34m,\u001b[0m \u001b[0mkey\u001b[0m\u001b[0;34m)\u001b[0m\u001b[0;34m:\u001b[0m\u001b[0;34m\u001b[0m\u001b[0m\n",
      "\u001b[0;32m/Applications/anaconda/envs/gl-env/lib/python2.7/site-packages/pandas/core/frame.pyc\u001b[0m in \u001b[0;36m_getitem_column\u001b[0;34m(self, key)\u001b[0m\n\u001b[1;32m   1997\u001b[0m         \u001b[0;31m# get column\u001b[0m\u001b[0;34m\u001b[0m\u001b[0;34m\u001b[0m\u001b[0m\n\u001b[1;32m   1998\u001b[0m         \u001b[0;32mif\u001b[0m \u001b[0mself\u001b[0m\u001b[0;34m.\u001b[0m\u001b[0mcolumns\u001b[0m\u001b[0;34m.\u001b[0m\u001b[0mis_unique\u001b[0m\u001b[0;34m:\u001b[0m\u001b[0;34m\u001b[0m\u001b[0m\n\u001b[0;32m-> 1999\u001b[0;31m             \u001b[0;32mreturn\u001b[0m \u001b[0mself\u001b[0m\u001b[0;34m.\u001b[0m\u001b[0m_get_item_cache\u001b[0m\u001b[0;34m(\u001b[0m\u001b[0mkey\u001b[0m\u001b[0;34m)\u001b[0m\u001b[0;34m\u001b[0m\u001b[0m\n\u001b[0m\u001b[1;32m   2000\u001b[0m \u001b[0;34m\u001b[0m\u001b[0m\n\u001b[1;32m   2001\u001b[0m         \u001b[0;31m# duplicate columns & possible reduce dimensionality\u001b[0m\u001b[0;34m\u001b[0m\u001b[0;34m\u001b[0m\u001b[0m\n",
      "\u001b[0;32m/Applications/anaconda/envs/gl-env/lib/python2.7/site-packages/pandas/core/generic.pyc\u001b[0m in \u001b[0;36m_get_item_cache\u001b[0;34m(self, item)\u001b[0m\n\u001b[1;32m   1343\u001b[0m         \u001b[0mres\u001b[0m \u001b[0;34m=\u001b[0m \u001b[0mcache\u001b[0m\u001b[0;34m.\u001b[0m\u001b[0mget\u001b[0m\u001b[0;34m(\u001b[0m\u001b[0mitem\u001b[0m\u001b[0;34m)\u001b[0m\u001b[0;34m\u001b[0m\u001b[0m\n\u001b[1;32m   1344\u001b[0m         \u001b[0;32mif\u001b[0m \u001b[0mres\u001b[0m \u001b[0;32mis\u001b[0m \u001b[0mNone\u001b[0m\u001b[0;34m:\u001b[0m\u001b[0;34m\u001b[0m\u001b[0m\n\u001b[0;32m-> 1345\u001b[0;31m             \u001b[0mvalues\u001b[0m \u001b[0;34m=\u001b[0m \u001b[0mself\u001b[0m\u001b[0;34m.\u001b[0m\u001b[0m_data\u001b[0m\u001b[0;34m.\u001b[0m\u001b[0mget\u001b[0m\u001b[0;34m(\u001b[0m\u001b[0mitem\u001b[0m\u001b[0;34m)\u001b[0m\u001b[0;34m\u001b[0m\u001b[0m\n\u001b[0m\u001b[1;32m   1346\u001b[0m             \u001b[0mres\u001b[0m \u001b[0;34m=\u001b[0m \u001b[0mself\u001b[0m\u001b[0;34m.\u001b[0m\u001b[0m_box_item_values\u001b[0m\u001b[0;34m(\u001b[0m\u001b[0mitem\u001b[0m\u001b[0;34m,\u001b[0m \u001b[0mvalues\u001b[0m\u001b[0;34m)\u001b[0m\u001b[0;34m\u001b[0m\u001b[0m\n\u001b[1;32m   1347\u001b[0m             \u001b[0mcache\u001b[0m\u001b[0;34m[\u001b[0m\u001b[0mitem\u001b[0m\u001b[0;34m]\u001b[0m \u001b[0;34m=\u001b[0m \u001b[0mres\u001b[0m\u001b[0;34m\u001b[0m\u001b[0m\n",
      "\u001b[0;32m/Applications/anaconda/envs/gl-env/lib/python2.7/site-packages/pandas/core/internals.pyc\u001b[0m in \u001b[0;36mget\u001b[0;34m(self, item, fastpath)\u001b[0m\n\u001b[1;32m   3223\u001b[0m \u001b[0;34m\u001b[0m\u001b[0m\n\u001b[1;32m   3224\u001b[0m             \u001b[0;32mif\u001b[0m \u001b[0;32mnot\u001b[0m \u001b[0misnull\u001b[0m\u001b[0;34m(\u001b[0m\u001b[0mitem\u001b[0m\u001b[0;34m)\u001b[0m\u001b[0;34m:\u001b[0m\u001b[0;34m\u001b[0m\u001b[0m\n\u001b[0;32m-> 3225\u001b[0;31m                 \u001b[0mloc\u001b[0m \u001b[0;34m=\u001b[0m \u001b[0mself\u001b[0m\u001b[0;34m.\u001b[0m\u001b[0mitems\u001b[0m\u001b[0;34m.\u001b[0m\u001b[0mget_loc\u001b[0m\u001b[0;34m(\u001b[0m\u001b[0mitem\u001b[0m\u001b[0;34m)\u001b[0m\u001b[0;34m\u001b[0m\u001b[0m\n\u001b[0m\u001b[1;32m   3226\u001b[0m             \u001b[0;32melse\u001b[0m\u001b[0;34m:\u001b[0m\u001b[0;34m\u001b[0m\u001b[0m\n\u001b[1;32m   3227\u001b[0m                 \u001b[0mindexer\u001b[0m \u001b[0;34m=\u001b[0m \u001b[0mnp\u001b[0m\u001b[0;34m.\u001b[0m\u001b[0marange\u001b[0m\u001b[0;34m(\u001b[0m\u001b[0mlen\u001b[0m\u001b[0;34m(\u001b[0m\u001b[0mself\u001b[0m\u001b[0;34m.\u001b[0m\u001b[0mitems\u001b[0m\u001b[0;34m)\u001b[0m\u001b[0;34m)\u001b[0m\u001b[0;34m[\u001b[0m\u001b[0misnull\u001b[0m\u001b[0;34m(\u001b[0m\u001b[0mself\u001b[0m\u001b[0;34m.\u001b[0m\u001b[0mitems\u001b[0m\u001b[0;34m)\u001b[0m\u001b[0;34m]\u001b[0m\u001b[0;34m\u001b[0m\u001b[0m\n",
      "\u001b[0;32m/Applications/anaconda/envs/gl-env/lib/python2.7/site-packages/pandas/indexes/base.pyc\u001b[0m in \u001b[0;36mget_loc\u001b[0;34m(self, key, method, tolerance)\u001b[0m\n\u001b[1;32m   1876\u001b[0m                 \u001b[0;32mreturn\u001b[0m \u001b[0mself\u001b[0m\u001b[0;34m.\u001b[0m\u001b[0m_engine\u001b[0m\u001b[0;34m.\u001b[0m\u001b[0mget_loc\u001b[0m\u001b[0;34m(\u001b[0m\u001b[0mkey\u001b[0m\u001b[0;34m)\u001b[0m\u001b[0;34m\u001b[0m\u001b[0m\n\u001b[1;32m   1877\u001b[0m             \u001b[0;32mexcept\u001b[0m \u001b[0mKeyError\u001b[0m\u001b[0;34m:\u001b[0m\u001b[0;34m\u001b[0m\u001b[0m\n\u001b[0;32m-> 1878\u001b[0;31m                 \u001b[0;32mreturn\u001b[0m \u001b[0mself\u001b[0m\u001b[0;34m.\u001b[0m\u001b[0m_engine\u001b[0m\u001b[0;34m.\u001b[0m\u001b[0mget_loc\u001b[0m\u001b[0;34m(\u001b[0m\u001b[0mself\u001b[0m\u001b[0;34m.\u001b[0m\u001b[0m_maybe_cast_indexer\u001b[0m\u001b[0;34m(\u001b[0m\u001b[0mkey\u001b[0m\u001b[0;34m)\u001b[0m\u001b[0;34m)\u001b[0m\u001b[0;34m\u001b[0m\u001b[0m\n\u001b[0m\u001b[1;32m   1879\u001b[0m \u001b[0;34m\u001b[0m\u001b[0m\n\u001b[1;32m   1880\u001b[0m         \u001b[0mindexer\u001b[0m \u001b[0;34m=\u001b[0m \u001b[0mself\u001b[0m\u001b[0;34m.\u001b[0m\u001b[0mget_indexer\u001b[0m\u001b[0;34m(\u001b[0m\u001b[0;34m[\u001b[0m\u001b[0mkey\u001b[0m\u001b[0;34m]\u001b[0m\u001b[0;34m,\u001b[0m \u001b[0mmethod\u001b[0m\u001b[0;34m=\u001b[0m\u001b[0mmethod\u001b[0m\u001b[0;34m,\u001b[0m \u001b[0mtolerance\u001b[0m\u001b[0;34m=\u001b[0m\u001b[0mtolerance\u001b[0m\u001b[0;34m)\u001b[0m\u001b[0;34m\u001b[0m\u001b[0m\n",
      "\u001b[0;32mpandas/index.pyx\u001b[0m in \u001b[0;36mpandas.index.IndexEngine.get_loc (pandas/index.c:4027)\u001b[0;34m()\u001b[0m\n",
      "\u001b[0;32mpandas/index.pyx\u001b[0m in \u001b[0;36mpandas.index.IndexEngine.get_loc (pandas/index.c:3891)\u001b[0;34m()\u001b[0m\n",
      "\u001b[0;32mpandas/hashtable.pyx\u001b[0m in \u001b[0;36mpandas.hashtable.PyObjectHashTable.get_item (pandas/hashtable.c:12408)\u001b[0;34m()\u001b[0m\n",
      "\u001b[0;32mpandas/hashtable.pyx\u001b[0m in \u001b[0;36mpandas.hashtable.PyObjectHashTable.get_item (pandas/hashtable.c:12359)\u001b[0;34m()\u001b[0m\n",
      "\u001b[0;31mKeyError\u001b[0m: 'user_id'"
     ]
    }
   ],
   "source": [
    "users_filtered[users_filtered['user_id'] != users_grouped['user_id']]"
   ]
  },
  {
   "cell_type": "code",
   "execution_count": null,
   "metadata": {
    "collapsed": true
   },
   "outputs": [],
   "source": []
  },
  {
   "cell_type": "code",
   "execution_count": null,
   "metadata": {
    "collapsed": true
   },
   "outputs": [],
   "source": []
  },
  {
   "cell_type": "markdown",
   "metadata": {},
   "source": [
    "# Create User-Song Matrix"
   ]
  },
  {
   "cell_type": "markdown",
   "metadata": {},
   "source": [
    "Merge song and user data to create 'relationships' between users and items."
   ]
  },
  {
   "cell_type": "code",
   "execution_count": 4,
   "metadata": {
    "collapsed": false
   },
   "outputs": [
    {
     "name": "stdout",
     "output_type": "stream",
     "text": [
      "CPU times: user 8 µs, sys: 13 µs, total: 21 µs\n",
      "Wall time: 42.9 µs\n"
     ]
    }
   ],
   "source": [
    "%time\n",
    "\n",
    "#Merge user matrix with song matrix. Use keys from left df to match.\n",
    "\n",
    "user_song_matrix = songs.merge(users, on='song_id', how = 'outer')\n",
    "\n",
    "#Based in exploratory analysis, some songs will have no interactions at all."
   ]
  },
  {
   "cell_type": "markdown",
   "metadata": {},
   "source": [
    "Replace missing values with zeroes in the play count and play."
   ]
  },
  {
   "cell_type": "code",
   "execution_count": 5,
   "metadata": {
    "collapsed": false
   },
   "outputs": [
    {
     "data": {
      "text/html": [
       "<div>\n",
       "<table border=\"1\" class=\"dataframe\">\n",
       "  <thead>\n",
       "    <tr style=\"text-align: right;\">\n",
       "      <th></th>\n",
       "      <th>artist_7digitalid</th>\n",
       "      <th>artist_familiarity</th>\n",
       "      <th>artist_hotttnesss</th>\n",
       "      <th>artist_id</th>\n",
       "      <th>artist_latitude</th>\n",
       "      <th>artist_location</th>\n",
       "      <th>artist_longitude</th>\n",
       "      <th>artist_mbid</th>\n",
       "      <th>artist_name</th>\n",
       "      <th>artist_playmeid</th>\n",
       "      <th>...</th>\n",
       "      <th>start_of_fade_out</th>\n",
       "      <th>tempo</th>\n",
       "      <th>time_signature</th>\n",
       "      <th>time_signature_confidence</th>\n",
       "      <th>track_id</th>\n",
       "      <th>idx_artist_mbtags</th>\n",
       "      <th>year</th>\n",
       "      <th>user_id</th>\n",
       "      <th>play_count</th>\n",
       "      <th>play</th>\n",
       "    </tr>\n",
       "  </thead>\n",
       "  <tbody>\n",
       "    <tr>\n",
       "      <th>0</th>\n",
       "      <td>4069.0</td>\n",
       "      <td>0.649822</td>\n",
       "      <td>0.394032</td>\n",
       "      <td>ARYZTJS1187B98C555</td>\n",
       "      <td>NaN</td>\n",
       "      <td>NaN</td>\n",
       "      <td>NaN</td>\n",
       "      <td>357ff05d-848a-44cf-b608-cb34b5701ae5</td>\n",
       "      <td>Faster Pussy cat</td>\n",
       "      <td>44895.0</td>\n",
       "      <td>...</td>\n",
       "      <td>236.635</td>\n",
       "      <td>87.002</td>\n",
       "      <td>4.0</td>\n",
       "      <td>0.940</td>\n",
       "      <td>TRMMMYQ128F932D901</td>\n",
       "      <td>0.0</td>\n",
       "      <td>2003.0</td>\n",
       "      <td>3a05343210b5e4b6308193bcd00242d326bd9b36</td>\n",
       "      <td>1.0</td>\n",
       "      <td>1.0</td>\n",
       "    </tr>\n",
       "    <tr>\n",
       "      <th>1</th>\n",
       "      <td>4069.0</td>\n",
       "      <td>0.649822</td>\n",
       "      <td>0.394032</td>\n",
       "      <td>ARYZTJS1187B98C555</td>\n",
       "      <td>NaN</td>\n",
       "      <td>NaN</td>\n",
       "      <td>NaN</td>\n",
       "      <td>357ff05d-848a-44cf-b608-cb34b5701ae5</td>\n",
       "      <td>Faster Pussy cat</td>\n",
       "      <td>44895.0</td>\n",
       "      <td>...</td>\n",
       "      <td>236.635</td>\n",
       "      <td>87.002</td>\n",
       "      <td>4.0</td>\n",
       "      <td>0.940</td>\n",
       "      <td>TRMMMYQ128F932D901</td>\n",
       "      <td>0.0</td>\n",
       "      <td>2003.0</td>\n",
       "      <td>93f24a7eb6742300414e7b8d4fefddf3f90c3db7</td>\n",
       "      <td>6.0</td>\n",
       "      <td>1.0</td>\n",
       "    </tr>\n",
       "    <tr>\n",
       "      <th>2</th>\n",
       "      <td>4069.0</td>\n",
       "      <td>0.649822</td>\n",
       "      <td>0.394032</td>\n",
       "      <td>ARYZTJS1187B98C555</td>\n",
       "      <td>NaN</td>\n",
       "      <td>NaN</td>\n",
       "      <td>NaN</td>\n",
       "      <td>357ff05d-848a-44cf-b608-cb34b5701ae5</td>\n",
       "      <td>Faster Pussy cat</td>\n",
       "      <td>44895.0</td>\n",
       "      <td>...</td>\n",
       "      <td>236.635</td>\n",
       "      <td>87.002</td>\n",
       "      <td>4.0</td>\n",
       "      <td>0.940</td>\n",
       "      <td>TRMMMYQ128F932D901</td>\n",
       "      <td>0.0</td>\n",
       "      <td>2003.0</td>\n",
       "      <td>53f8a04762e391eb0efb812b7352e4d598a48b2c</td>\n",
       "      <td>1.0</td>\n",
       "      <td>1.0</td>\n",
       "    </tr>\n",
       "    <tr>\n",
       "      <th>3</th>\n",
       "      <td>113480.0</td>\n",
       "      <td>0.439604</td>\n",
       "      <td>0.356992</td>\n",
       "      <td>ARMVN3U1187FB3A1EB</td>\n",
       "      <td>NaN</td>\n",
       "      <td>NaN</td>\n",
       "      <td>NaN</td>\n",
       "      <td>8d7ef530-a6fd-4f8f-b2e2-74aec765e0f9</td>\n",
       "      <td>Karkkiautomaatti</td>\n",
       "      <td>-1.0</td>\n",
       "      <td>...</td>\n",
       "      <td>148.660</td>\n",
       "      <td>150.778</td>\n",
       "      <td>1.0</td>\n",
       "      <td>0.000</td>\n",
       "      <td>TRMMMKD128F425225D</td>\n",
       "      <td>0.0</td>\n",
       "      <td>1995.0</td>\n",
       "      <td>NaN</td>\n",
       "      <td>0.0</td>\n",
       "      <td>0.0</td>\n",
       "    </tr>\n",
       "    <tr>\n",
       "      <th>4</th>\n",
       "      <td>63531.0</td>\n",
       "      <td>0.643681</td>\n",
       "      <td>0.437504</td>\n",
       "      <td>ARGEKB01187FB50750</td>\n",
       "      <td>55.8578</td>\n",
       "      <td>Glasgow, Scotland</td>\n",
       "      <td>-4.24251</td>\n",
       "      <td>3d403d44-36ce-465c-ad43-ae877e65adc4</td>\n",
       "      <td>Hudson Mohawke</td>\n",
       "      <td>-1.0</td>\n",
       "      <td>...</td>\n",
       "      <td>138.971</td>\n",
       "      <td>177.768</td>\n",
       "      <td>4.0</td>\n",
       "      <td>0.446</td>\n",
       "      <td>TRMMMRX128F93187D9</td>\n",
       "      <td>0.0</td>\n",
       "      <td>2006.0</td>\n",
       "      <td>NaN</td>\n",
       "      <td>0.0</td>\n",
       "      <td>0.0</td>\n",
       "    </tr>\n",
       "  </tbody>\n",
       "</table>\n",
       "<p>5 rows × 54 columns</p>\n",
       "</div>"
      ],
      "text/plain": [
       "   artist_7digitalid  artist_familiarity  artist_hotttnesss  \\\n",
       "0             4069.0            0.649822           0.394032   \n",
       "1             4069.0            0.649822           0.394032   \n",
       "2             4069.0            0.649822           0.394032   \n",
       "3           113480.0            0.439604           0.356992   \n",
       "4            63531.0            0.643681           0.437504   \n",
       "\n",
       "            artist_id  artist_latitude    artist_location  artist_longitude  \\\n",
       "0  ARYZTJS1187B98C555              NaN                NaN               NaN   \n",
       "1  ARYZTJS1187B98C555              NaN                NaN               NaN   \n",
       "2  ARYZTJS1187B98C555              NaN                NaN               NaN   \n",
       "3  ARMVN3U1187FB3A1EB              NaN                NaN               NaN   \n",
       "4  ARGEKB01187FB50750          55.8578  Glasgow, Scotland          -4.24251   \n",
       "\n",
       "                            artist_mbid       artist_name  artist_playmeid  \\\n",
       "0  357ff05d-848a-44cf-b608-cb34b5701ae5  Faster Pussy cat          44895.0   \n",
       "1  357ff05d-848a-44cf-b608-cb34b5701ae5  Faster Pussy cat          44895.0   \n",
       "2  357ff05d-848a-44cf-b608-cb34b5701ae5  Faster Pussy cat          44895.0   \n",
       "3  8d7ef530-a6fd-4f8f-b2e2-74aec765e0f9  Karkkiautomaatti             -1.0   \n",
       "4  3d403d44-36ce-465c-ad43-ae877e65adc4    Hudson Mohawke             -1.0   \n",
       "\n",
       "  ...   start_of_fade_out    tempo time_signature  time_signature_confidence  \\\n",
       "0 ...             236.635   87.002            4.0                      0.940   \n",
       "1 ...             236.635   87.002            4.0                      0.940   \n",
       "2 ...             236.635   87.002            4.0                      0.940   \n",
       "3 ...             148.660  150.778            1.0                      0.000   \n",
       "4 ...             138.971  177.768            4.0                      0.446   \n",
       "\n",
       "             track_id idx_artist_mbtags    year  \\\n",
       "0  TRMMMYQ128F932D901               0.0  2003.0   \n",
       "1  TRMMMYQ128F932D901               0.0  2003.0   \n",
       "2  TRMMMYQ128F932D901               0.0  2003.0   \n",
       "3  TRMMMKD128F425225D               0.0  1995.0   \n",
       "4  TRMMMRX128F93187D9               0.0  2006.0   \n",
       "\n",
       "                                    user_id  play_count play  \n",
       "0  3a05343210b5e4b6308193bcd00242d326bd9b36         1.0  1.0  \n",
       "1  93f24a7eb6742300414e7b8d4fefddf3f90c3db7         6.0  1.0  \n",
       "2  53f8a04762e391eb0efb812b7352e4d598a48b2c         1.0  1.0  \n",
       "3                                       NaN         0.0  0.0  \n",
       "4                                       NaN         0.0  0.0  \n",
       "\n",
       "[5 rows x 54 columns]"
      ]
     },
     "execution_count": 5,
     "metadata": {},
     "output_type": "execute_result"
    }
   ],
   "source": [
    "#Replace missing values with zeroes in the play indicator and play counts.\n",
    "\n",
    "user_song_matrix[['play','play_count']] = user_song_matrix[['play','play_count']].fillna(0)\n",
    "\n",
    "#Reset index\n",
    "\n",
    "user_song_matrix.reset_index()\n",
    "\n",
    "user_song_matrix.head()"
   ]
  },
  {
   "cell_type": "markdown",
   "metadata": {},
   "source": [
    "# Drop Unneded Columns"
   ]
  },
  {
   "cell_type": "code",
   "execution_count": 6,
   "metadata": {
    "collapsed": false
   },
   "outputs": [
    {
     "name": "stdout",
     "output_type": "stream",
     "text": [
      "<class 'pandas.core.frame.DataFrame'>\n",
      "Int64Index: 48919188 entries, 0 to 48919187\n",
      "Data columns (total 54 columns):\n",
      "artist_7digitalid                 float64\n",
      "artist_familiarity                float64\n",
      "artist_hotttnesss                 float64\n",
      "artist_id                         object\n",
      "artist_latitude                   float64\n",
      "artist_location                   object\n",
      "artist_longitude                  float64\n",
      "artist_mbid                       object\n",
      "artist_name                       object\n",
      "artist_playmeid                   float64\n",
      "idx_artist_terms                  float64\n",
      "idx_similar_artists               float64\n",
      "release                           object\n",
      "release_7digitalid                float64\n",
      "song_hotttnesss                   float64\n",
      "song_id                           object\n",
      "title                             object\n",
      "track_7digitalid                  float64\n",
      "analysis_sample_rate              float64\n",
      "audio_md5                         object\n",
      "danceability                      float64\n",
      "duration                          float64\n",
      "end_of_fade_in                    float64\n",
      "energy                            float64\n",
      "idx_bars_confidence               float64\n",
      "idx_bars_start                    float64\n",
      "idx_beats_confidence              float64\n",
      "idx_beats_start                   float64\n",
      "idx_sections_confidence           float64\n",
      "idx_sections_start                float64\n",
      "idx_segments_confidence           float64\n",
      "idx_segments_loudness_max         float64\n",
      "idx_segments_loudness_max_time    float64\n",
      "idx_segments_loudness_start       float64\n",
      "idx_segments_pitches              float64\n",
      "idx_segments_start                float64\n",
      "idx_segments_timbre               float64\n",
      "idx_tatums_confidence             float64\n",
      "idx_tatums_start                  float64\n",
      "key                               float64\n",
      "key_confidence                    float64\n",
      "loudness                          float64\n",
      "mode                              float64\n",
      "mode_confidence                   float64\n",
      "start_of_fade_out                 float64\n",
      "tempo                             float64\n",
      "time_signature                    float64\n",
      "time_signature_confidence         float64\n",
      "track_id                          object\n",
      "idx_artist_mbtags                 float64\n",
      "year                              float64\n",
      "user_id                           object\n",
      "play_count                        float64\n",
      "play                              float64\n",
      "dtypes: float64(44), object(10)\n",
      "memory usage: 20.0+ GB\n"
     ]
    }
   ],
   "source": [
    "user_song_matrix.info()"
   ]
  },
  {
   "cell_type": "code",
   "execution_count": 7,
   "metadata": {
    "collapsed": true
   },
   "outputs": [],
   "source": [
    "user_song_matrix.drop(labels = ['artist_7digitalid','artist_latitude','artist_location','artist_longitude',\n",
    "                                'artist_mbid','artist_playmeid','idx_artist_terms','idx_similar_artists',\n",
    "                                'release_7digitalid','track_7digitalid','analysis_sample_rate',\n",
    "                                'audio_md5','danceability','energy','end_of_fade_in','idx_bars_confidence',\n",
    "                                'idx_bars_start','idx_beats_confidence','idx_sections_start',\n",
    "                                'idx_segments_confidence','idx_segments_loudness_max',\n",
    "                                'idx_segments_loudness_max_time','idx_segments_loudness_start',\n",
    "                                'idx_segments_pitches','idx_segments_start','idx_segments_timbre',\n",
    "                                'idx_tatums_confidence','idx_tatums_start','key_confidence','mode_confidence',\n",
    "                                'start_of_fade_out','time_signature_confidence','track_id','idx_artist_mbtags',\n",
    "                                'idx_beats_start','idx_sections_confidence'], axis = 1,inplace = True)"
   ]
  },
  {
   "cell_type": "code",
   "execution_count": 8,
   "metadata": {
    "collapsed": false,
    "scrolled": true
   },
   "outputs": [
    {
     "name": "stdout",
     "output_type": "stream",
     "text": [
      "<class 'pandas.core.frame.DataFrame'>\n",
      "Int64Index: 48919188 entries, 0 to 48919187\n",
      "Data columns (total 18 columns):\n",
      "artist_familiarity    float64\n",
      "artist_hotttnesss     float64\n",
      "artist_id             object\n",
      "artist_name           object\n",
      "release               object\n",
      "song_hotttnesss       float64\n",
      "song_id               object\n",
      "title                 object\n",
      "duration              float64\n",
      "key                   float64\n",
      "loudness              float64\n",
      "mode                  float64\n",
      "tempo                 float64\n",
      "time_signature        float64\n",
      "year                  float64\n",
      "user_id               object\n",
      "play_count            float64\n",
      "play                  float64\n",
      "dtypes: float64(12), object(6)\n",
      "memory usage: 6.9+ GB\n"
     ]
    }
   ],
   "source": [
    "user_song_matrix.info()"
   ]
  },
  {
   "cell_type": "markdown",
   "metadata": {},
   "source": [
    "# Randomly shuffle data"
   ]
  },
  {
   "cell_type": "markdown",
   "metadata": {},
   "source": [
    "The data comes ordered by song and users. Shuffle this order."
   ]
  },
  {
   "cell_type": "code",
   "execution_count": 9,
   "metadata": {
    "collapsed": true
   },
   "outputs": [],
   "source": [
    "user_song_matrix = user_song_matrix.sample(frac=1).reset_index(drop=True)"
   ]
  },
  {
   "cell_type": "markdown",
   "metadata": {},
   "source": [
    "# Output User - Song Matrix to CSV"
   ]
  },
  {
   "cell_type": "code",
   "execution_count": 10,
   "metadata": {
    "collapsed": false
   },
   "outputs": [
    {
     "name": "stdout",
     "output_type": "stream",
     "text": [
      "CPU times: user 9 µs, sys: 14 µs, total: 23 µs\n",
      "Wall time: 48.9 µs\n"
     ]
    }
   ],
   "source": [
    "#Song-User Data to CSV\n",
    "\n",
    "%time\n",
    "\n",
    "user_song_matrix.to_csv('msd_song_user_matrix.csv', chunksize = 500000, mode = 'a')"
   ]
  },
  {
   "cell_type": "markdown",
   "metadata": {},
   "source": [
    "# End of Notebook"
   ]
  }
 ],
 "metadata": {
  "kernelspec": {
   "display_name": "Python 2",
   "language": "python",
   "name": "python2"
  },
  "language_info": {
   "codemirror_mode": {
    "name": "ipython",
    "version": 2
   },
   "file_extension": ".py",
   "mimetype": "text/x-python",
   "name": "python",
   "nbconvert_exporter": "python",
   "pygments_lexer": "ipython2",
   "version": "2.7.11"
  }
 },
 "nbformat": 4,
 "nbformat_minor": 2
}
