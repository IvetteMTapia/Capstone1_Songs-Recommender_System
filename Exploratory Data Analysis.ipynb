{
 "cells": [
  {
   "cell_type": "markdown",
   "metadata": {},
   "source": [
    "# Import Libraries"
   ]
  },
  {
   "cell_type": "code",
   "execution_count": 1,
   "metadata": {},
   "outputs": [],
   "source": [
    "import pandas as pd\n",
    "import seaborn as sns\n",
    "import matplotlib.pyplot as plt\n",
    "import numpy as np\n",
    "from scipy import stats"
   ]
  },
  {
   "cell_type": "markdown",
   "metadata": {},
   "source": [
    "# Upload Data CSV Files"
   ]
  },
  {
   "cell_type": "code",
   "execution_count": 2,
   "metadata": {},
   "outputs": [
    {
     "name": "stderr",
     "output_type": "stream",
     "text": [
      "/anaconda3/lib/python3.6/site-packages/numpy/lib/arraysetops.py:466: FutureWarning: elementwise comparison failed; returning scalar instead, but in the future will perform elementwise comparison\n",
      "  mask |= (ar1 == a)\n"
     ]
    }
   ],
   "source": [
    "# Upload User Data\n",
    "\n",
    "user_path = ('/Users/ivettetapia 1/Symbolic Link Seagate Drive/Springboard/Capstone 1_Mus_Recomend/Data/msd_user_data.csv')\n",
    "\n",
    "user_data = pd.read_csv(user_path, na_values = 'NaN', index_col = 0)\n",
    "\n",
    "user_data.index.names = ['index']"
   ]
  },
  {
   "cell_type": "code",
   "execution_count": 3,
   "metadata": {},
   "outputs": [
    {
     "data": {
      "text/html": [
       "<div>\n",
       "<style scoped>\n",
       "    .dataframe tbody tr th:only-of-type {\n",
       "        vertical-align: middle;\n",
       "    }\n",
       "\n",
       "    .dataframe tbody tr th {\n",
       "        vertical-align: top;\n",
       "    }\n",
       "\n",
       "    .dataframe thead th {\n",
       "        text-align: right;\n",
       "    }\n",
       "</style>\n",
       "<table border=\"1\" class=\"dataframe\">\n",
       "  <thead>\n",
       "    <tr style=\"text-align: right;\">\n",
       "      <th></th>\n",
       "      <th>user_id</th>\n",
       "      <th>song_id</th>\n",
       "      <th>play_count</th>\n",
       "      <th>play</th>\n",
       "    </tr>\n",
       "    <tr>\n",
       "      <th>index</th>\n",
       "      <th></th>\n",
       "      <th></th>\n",
       "      <th></th>\n",
       "      <th></th>\n",
       "    </tr>\n",
       "  </thead>\n",
       "  <tbody>\n",
       "    <tr>\n",
       "      <th>0</th>\n",
       "      <td>b80344d063b5ccb3212f76538f3d9e43d87dca9e</td>\n",
       "      <td>SOAKIMP12A8C130995</td>\n",
       "      <td>1</td>\n",
       "      <td>1</td>\n",
       "    </tr>\n",
       "    <tr>\n",
       "      <th>1</th>\n",
       "      <td>b80344d063b5ccb3212f76538f3d9e43d87dca9e</td>\n",
       "      <td>SOAPDEY12A81C210A9</td>\n",
       "      <td>1</td>\n",
       "      <td>1</td>\n",
       "    </tr>\n",
       "    <tr>\n",
       "      <th>2</th>\n",
       "      <td>b80344d063b5ccb3212f76538f3d9e43d87dca9e</td>\n",
       "      <td>SOBBMDR12A8C13253B</td>\n",
       "      <td>2</td>\n",
       "      <td>1</td>\n",
       "    </tr>\n",
       "    <tr>\n",
       "      <th>3</th>\n",
       "      <td>b80344d063b5ccb3212f76538f3d9e43d87dca9e</td>\n",
       "      <td>SOBFNSP12AF72A0E22</td>\n",
       "      <td>1</td>\n",
       "      <td>1</td>\n",
       "    </tr>\n",
       "    <tr>\n",
       "      <th>4</th>\n",
       "      <td>b80344d063b5ccb3212f76538f3d9e43d87dca9e</td>\n",
       "      <td>SOBFOVM12A58A7D494</td>\n",
       "      <td>1</td>\n",
       "      <td>1</td>\n",
       "    </tr>\n",
       "  </tbody>\n",
       "</table>\n",
       "</div>"
      ],
      "text/plain": [
       "                                        user_id             song_id  \\\n",
       "index                                                                 \n",
       "0      b80344d063b5ccb3212f76538f3d9e43d87dca9e  SOAKIMP12A8C130995   \n",
       "1      b80344d063b5ccb3212f76538f3d9e43d87dca9e  SOAPDEY12A81C210A9   \n",
       "2      b80344d063b5ccb3212f76538f3d9e43d87dca9e  SOBBMDR12A8C13253B   \n",
       "3      b80344d063b5ccb3212f76538f3d9e43d87dca9e  SOBFNSP12AF72A0E22   \n",
       "4      b80344d063b5ccb3212f76538f3d9e43d87dca9e  SOBFOVM12A58A7D494   \n",
       "\n",
       "       play_count  play  \n",
       "index                    \n",
       "0               1     1  \n",
       "1               1     1  \n",
       "2               2     1  \n",
       "3               1     1  \n",
       "4               1     1  "
      ]
     },
     "execution_count": 3,
     "metadata": {},
     "output_type": "execute_result"
    }
   ],
   "source": [
    "user_data.head()"
   ]
  },
  {
   "cell_type": "code",
   "execution_count": 4,
   "metadata": {},
   "outputs": [
    {
     "name": "stdout",
     "output_type": "stream",
     "text": [
      "<class 'pandas.core.frame.DataFrame'>\n",
      "Int64Index: 48373586 entries, 0 to 48373585\n",
      "Data columns (total 4 columns):\n",
      "user_id       object\n",
      "song_id       object\n",
      "play_count    int64\n",
      "play          int64\n",
      "dtypes: int64(2), object(2)\n",
      "memory usage: 1.8+ GB\n"
     ]
    }
   ],
   "source": [
    "user_data.info()"
   ]
  },
  {
   "cell_type": "code",
   "execution_count": 5,
   "metadata": {},
   "outputs": [],
   "source": [
    "# Upload Song Metadata\n",
    "\n",
    "metadata_path = ('/Users/ivettetapia 1/Symbolic Link Seagate Drive/Springboard/Capstone 1_Mus_Recomend/Data/msd_song_metadata.csv')\n",
    "\n",
    "metadata_data = pd.read_csv(metadata_path, na_values = 'NaN', index_col = 0)\n",
    "\n",
    "metadata_data.index.names = ['index']"
   ]
  },
  {
   "cell_type": "code",
   "execution_count": 6,
   "metadata": {},
   "outputs": [
    {
     "data": {
      "text/html": [
       "<div>\n",
       "<style scoped>\n",
       "    .dataframe tbody tr th:only-of-type {\n",
       "        vertical-align: middle;\n",
       "    }\n",
       "\n",
       "    .dataframe tbody tr th {\n",
       "        vertical-align: top;\n",
       "    }\n",
       "\n",
       "    .dataframe thead th {\n",
       "        text-align: right;\n",
       "    }\n",
       "</style>\n",
       "<table border=\"1\" class=\"dataframe\">\n",
       "  <thead>\n",
       "    <tr style=\"text-align: right;\">\n",
       "      <th></th>\n",
       "      <th>artist_7digitalid</th>\n",
       "      <th>artist_familiarity</th>\n",
       "      <th>artist_hotttnesss</th>\n",
       "      <th>artist_id</th>\n",
       "      <th>artist_latitude</th>\n",
       "      <th>artist_location</th>\n",
       "      <th>artist_longitude</th>\n",
       "      <th>artist_mbid</th>\n",
       "      <th>artist_name</th>\n",
       "      <th>artist_playmeid</th>\n",
       "      <th>...</th>\n",
       "      <th>loudness</th>\n",
       "      <th>mode</th>\n",
       "      <th>mode_confidence</th>\n",
       "      <th>start_of_fade_out</th>\n",
       "      <th>tempo</th>\n",
       "      <th>time_signature</th>\n",
       "      <th>time_signature_confidence</th>\n",
       "      <th>track_id</th>\n",
       "      <th>idx_artist_mbtags</th>\n",
       "      <th>year</th>\n",
       "    </tr>\n",
       "    <tr>\n",
       "      <th>index</th>\n",
       "      <th></th>\n",
       "      <th></th>\n",
       "      <th></th>\n",
       "      <th></th>\n",
       "      <th></th>\n",
       "      <th></th>\n",
       "      <th></th>\n",
       "      <th></th>\n",
       "      <th></th>\n",
       "      <th></th>\n",
       "      <th></th>\n",
       "      <th></th>\n",
       "      <th></th>\n",
       "      <th></th>\n",
       "      <th></th>\n",
       "      <th></th>\n",
       "      <th></th>\n",
       "      <th></th>\n",
       "      <th></th>\n",
       "      <th></th>\n",
       "      <th></th>\n",
       "    </tr>\n",
       "  </thead>\n",
       "  <tbody>\n",
       "    <tr>\n",
       "      <th>0</th>\n",
       "      <td>4069</td>\n",
       "      <td>0.649822</td>\n",
       "      <td>0.394032</td>\n",
       "      <td>ARYZTJS1187B98C555</td>\n",
       "      <td>NaN</td>\n",
       "      <td>NaN</td>\n",
       "      <td>NaN</td>\n",
       "      <td>357ff05d-848a-44cf-b608-cb34b5701ae5</td>\n",
       "      <td>Faster Pussy cat</td>\n",
       "      <td>44895</td>\n",
       "      <td>...</td>\n",
       "      <td>-4.829</td>\n",
       "      <td>0</td>\n",
       "      <td>0.688</td>\n",
       "      <td>236.635</td>\n",
       "      <td>87.002</td>\n",
       "      <td>4</td>\n",
       "      <td>0.940</td>\n",
       "      <td>TRMMMYQ128F932D901</td>\n",
       "      <td>0</td>\n",
       "      <td>2003.0</td>\n",
       "    </tr>\n",
       "    <tr>\n",
       "      <th>1</th>\n",
       "      <td>113480</td>\n",
       "      <td>0.439604</td>\n",
       "      <td>0.356992</td>\n",
       "      <td>ARMVN3U1187FB3A1EB</td>\n",
       "      <td>NaN</td>\n",
       "      <td>NaN</td>\n",
       "      <td>NaN</td>\n",
       "      <td>8d7ef530-a6fd-4f8f-b2e2-74aec765e0f9</td>\n",
       "      <td>Karkkiautomaatti</td>\n",
       "      <td>-1</td>\n",
       "      <td>...</td>\n",
       "      <td>-10.555</td>\n",
       "      <td>1</td>\n",
       "      <td>0.355</td>\n",
       "      <td>148.660</td>\n",
       "      <td>150.778</td>\n",
       "      <td>1</td>\n",
       "      <td>0.000</td>\n",
       "      <td>TRMMMKD128F425225D</td>\n",
       "      <td>0</td>\n",
       "      <td>1995.0</td>\n",
       "    </tr>\n",
       "    <tr>\n",
       "      <th>2</th>\n",
       "      <td>63531</td>\n",
       "      <td>0.643681</td>\n",
       "      <td>0.437504</td>\n",
       "      <td>ARGEKB01187FB50750</td>\n",
       "      <td>55.8578</td>\n",
       "      <td>Glasgow, Scotland</td>\n",
       "      <td>-4.24251</td>\n",
       "      <td>3d403d44-36ce-465c-ad43-ae877e65adc4</td>\n",
       "      <td>Hudson Mohawke</td>\n",
       "      <td>-1</td>\n",
       "      <td>...</td>\n",
       "      <td>-2.060</td>\n",
       "      <td>1</td>\n",
       "      <td>0.566</td>\n",
       "      <td>138.971</td>\n",
       "      <td>177.768</td>\n",
       "      <td>4</td>\n",
       "      <td>0.446</td>\n",
       "      <td>TRMMMRX128F93187D9</td>\n",
       "      <td>0</td>\n",
       "      <td>2006.0</td>\n",
       "    </tr>\n",
       "    <tr>\n",
       "      <th>3</th>\n",
       "      <td>65051</td>\n",
       "      <td>0.448501</td>\n",
       "      <td>0.372349</td>\n",
       "      <td>ARNWYLR1187B9B2F9C</td>\n",
       "      <td>NaN</td>\n",
       "      <td>NaN</td>\n",
       "      <td>NaN</td>\n",
       "      <td>12be7648-7094-495f-90e6-df4189d68615</td>\n",
       "      <td>Yerba Brava</td>\n",
       "      <td>34000</td>\n",
       "      <td>...</td>\n",
       "      <td>-4.654</td>\n",
       "      <td>1</td>\n",
       "      <td>0.451</td>\n",
       "      <td>138.687</td>\n",
       "      <td>87.433</td>\n",
       "      <td>4</td>\n",
       "      <td>0.000</td>\n",
       "      <td>TRMMMCH128F425532C</td>\n",
       "      <td>0</td>\n",
       "      <td>2003.0</td>\n",
       "    </tr>\n",
       "    <tr>\n",
       "      <th>4</th>\n",
       "      <td>158279</td>\n",
       "      <td>0.000000</td>\n",
       "      <td>0.000000</td>\n",
       "      <td>AREQDTE1269FB37231</td>\n",
       "      <td>NaN</td>\n",
       "      <td>NaN</td>\n",
       "      <td>NaN</td>\n",
       "      <td>NaN</td>\n",
       "      <td>Der Mystic</td>\n",
       "      <td>-1</td>\n",
       "      <td>...</td>\n",
       "      <td>-7.806</td>\n",
       "      <td>0</td>\n",
       "      <td>0.290</td>\n",
       "      <td>506.717</td>\n",
       "      <td>140.035</td>\n",
       "      <td>4</td>\n",
       "      <td>0.315</td>\n",
       "      <td>TRMMMWA128F426B589</td>\n",
       "      <td>0</td>\n",
       "      <td>NaN</td>\n",
       "    </tr>\n",
       "  </tbody>\n",
       "</table>\n",
       "<p>5 rows × 51 columns</p>\n",
       "</div>"
      ],
      "text/plain": [
       "       artist_7digitalid  artist_familiarity  artist_hotttnesss  \\\n",
       "index                                                             \n",
       "0                   4069            0.649822           0.394032   \n",
       "1                 113480            0.439604           0.356992   \n",
       "2                  63531            0.643681           0.437504   \n",
       "3                  65051            0.448501           0.372349   \n",
       "4                 158279            0.000000           0.000000   \n",
       "\n",
       "                artist_id  artist_latitude    artist_location  \\\n",
       "index                                                           \n",
       "0      ARYZTJS1187B98C555              NaN                NaN   \n",
       "1      ARMVN3U1187FB3A1EB              NaN                NaN   \n",
       "2      ARGEKB01187FB50750          55.8578  Glasgow, Scotland   \n",
       "3      ARNWYLR1187B9B2F9C              NaN                NaN   \n",
       "4      AREQDTE1269FB37231              NaN                NaN   \n",
       "\n",
       "       artist_longitude                           artist_mbid  \\\n",
       "index                                                           \n",
       "0                   NaN  357ff05d-848a-44cf-b608-cb34b5701ae5   \n",
       "1                   NaN  8d7ef530-a6fd-4f8f-b2e2-74aec765e0f9   \n",
       "2              -4.24251  3d403d44-36ce-465c-ad43-ae877e65adc4   \n",
       "3                   NaN  12be7648-7094-495f-90e6-df4189d68615   \n",
       "4                   NaN                                   NaN   \n",
       "\n",
       "            artist_name  artist_playmeid   ...    loudness  mode  \\\n",
       "index                                      ...                     \n",
       "0      Faster Pussy cat            44895   ...      -4.829     0   \n",
       "1      Karkkiautomaatti               -1   ...     -10.555     1   \n",
       "2        Hudson Mohawke               -1   ...      -2.060     1   \n",
       "3           Yerba Brava            34000   ...      -4.654     1   \n",
       "4            Der Mystic               -1   ...      -7.806     0   \n",
       "\n",
       "      mode_confidence  start_of_fade_out    tempo time_signature  \\\n",
       "index                                                              \n",
       "0               0.688            236.635   87.002              4   \n",
       "1               0.355            148.660  150.778              1   \n",
       "2               0.566            138.971  177.768              4   \n",
       "3               0.451            138.687   87.433              4   \n",
       "4               0.290            506.717  140.035              4   \n",
       "\n",
       "      time_signature_confidence            track_id  idx_artist_mbtags    year  \n",
       "index                                                                           \n",
       "0                         0.940  TRMMMYQ128F932D901                  0  2003.0  \n",
       "1                         0.000  TRMMMKD128F425225D                  0  1995.0  \n",
       "2                         0.446  TRMMMRX128F93187D9                  0  2006.0  \n",
       "3                         0.000  TRMMMCH128F425532C                  0  2003.0  \n",
       "4                         0.315  TRMMMWA128F426B589                  0     NaN  \n",
       "\n",
       "[5 rows x 51 columns]"
      ]
     },
     "execution_count": 6,
     "metadata": {},
     "output_type": "execute_result"
    }
   ],
   "source": [
    "metadata_data.head()"
   ]
  },
  {
   "cell_type": "code",
   "execution_count": 7,
   "metadata": {},
   "outputs": [
    {
     "name": "stdout",
     "output_type": "stream",
     "text": [
      "<class 'pandas.core.frame.DataFrame'>\n",
      "Int64Index: 905712 entries, 0 to 981021\n",
      "Data columns (total 51 columns):\n",
      "artist_7digitalid                 905712 non-null int64\n",
      "artist_familiarity                905531 non-null float64\n",
      "artist_hotttnesss                 905700 non-null float64\n",
      "artist_id                         905712 non-null object\n",
      "artist_latitude                   325985 non-null float64\n",
      "artist_location                   460185 non-null object\n",
      "artist_longitude                  325985 non-null float64\n",
      "artist_mbid                       847639 non-null object\n",
      "artist_name                       905712 non-null object\n",
      "artist_playmeid                   905712 non-null int64\n",
      "idx_artist_terms                  905712 non-null int64\n",
      "idx_similar_artists               905712 non-null int64\n",
      "release                           905707 non-null object\n",
      "release_7digitalid                905712 non-null int64\n",
      "song_hotttnesss                   551532 non-null float64\n",
      "song_id                           905712 non-null object\n",
      "title                             905708 non-null object\n",
      "track_7digitalid                  905712 non-null int64\n",
      "analysis_sample_rate              905712 non-null int64\n",
      "audio_md5                         905712 non-null object\n",
      "danceability                      905712 non-null float64\n",
      "duration                          905712 non-null float64\n",
      "end_of_fade_in                    905712 non-null float64\n",
      "energy                            905712 non-null float64\n",
      "idx_bars_confidence               905712 non-null int64\n",
      "idx_bars_start                    905712 non-null int64\n",
      "idx_beats_confidence              905712 non-null int64\n",
      "idx_beats_start                   905712 non-null int64\n",
      "idx_sections_confidence           905712 non-null int64\n",
      "idx_sections_start                905712 non-null int64\n",
      "idx_segments_confidence           905712 non-null int64\n",
      "idx_segments_loudness_max         905712 non-null int64\n",
      "idx_segments_loudness_max_time    905712 non-null int64\n",
      "idx_segments_loudness_start       905712 non-null int64\n",
      "idx_segments_pitches              905712 non-null int64\n",
      "idx_segments_start                905712 non-null int64\n",
      "idx_segments_timbre               905712 non-null int64\n",
      "idx_tatums_confidence             905712 non-null int64\n",
      "idx_tatums_start                  905712 non-null int64\n",
      "key                               905712 non-null int64\n",
      "key_confidence                    905712 non-null float64\n",
      "loudness                          905712 non-null float64\n",
      "mode                              905712 non-null int64\n",
      "mode_confidence                   905712 non-null float64\n",
      "start_of_fade_out                 905712 non-null float64\n",
      "tempo                             905712 non-null float64\n",
      "time_signature                    905712 non-null int64\n",
      "time_signature_confidence         905712 non-null float64\n",
      "track_id                          905712 non-null object\n",
      "idx_artist_mbtags                 905712 non-null int64\n",
      "year                              456811 non-null float64\n",
      "dtypes: float64(16), int64(26), object(9)\n",
      "memory usage: 359.3+ MB\n"
     ]
    }
   ],
   "source": [
    "metadata_data.info()"
   ]
  },
  {
   "cell_type": "code",
   "execution_count": 8,
   "metadata": {},
   "outputs": [
    {
     "name": "stderr",
     "output_type": "stream",
     "text": [
      "/anaconda3/lib/python3.6/site-packages/numpy/lib/arraysetops.py:466: FutureWarning: elementwise comparison failed; returning scalar instead, but in the future will perform elementwise comparison\n",
      "  mask |= (ar1 == a)\n"
     ]
    }
   ],
   "source": [
    "# Upload Artist Tags \n",
    "\n",
    "tags_path = ('/Users/ivettetapia 1/Symbolic Link Seagate Drive/Springboard/Capstone 1_Mus_Recomend/Data/msd_tags.csv')\n",
    "\n",
    "tags_data = pd.read_csv(tags_path, index_col = 0, na_values = 'NaN',\n",
    "                        dtype = {0:'int', 1:'str',2:'str',3:'str'})\n",
    "\n",
    "tags_data.index.names = ['index']"
   ]
  },
  {
   "cell_type": "code",
   "execution_count": 9,
   "metadata": {},
   "outputs": [
    {
     "data": {
      "text/html": [
       "<div>\n",
       "<style scoped>\n",
       "    .dataframe tbody tr th:only-of-type {\n",
       "        vertical-align: middle;\n",
       "    }\n",
       "\n",
       "    .dataframe tbody tr th {\n",
       "        vertical-align: top;\n",
       "    }\n",
       "\n",
       "    .dataframe thead th {\n",
       "        text-align: right;\n",
       "    }\n",
       "</style>\n",
       "<table border=\"1\" class=\"dataframe\">\n",
       "  <thead>\n",
       "    <tr style=\"text-align: right;\">\n",
       "      <th></th>\n",
       "      <th>artist_id</th>\n",
       "      <th>mbtag</th>\n",
       "      <th>terms</th>\n",
       "    </tr>\n",
       "    <tr>\n",
       "      <th>index</th>\n",
       "      <th></th>\n",
       "      <th></th>\n",
       "      <th></th>\n",
       "    </tr>\n",
       "  </thead>\n",
       "  <tbody>\n",
       "    <tr>\n",
       "      <th>0</th>\n",
       "      <td>AR002UA1187B9A637D</td>\n",
       "      <td>uk</td>\n",
       "      <td>garage rock</td>\n",
       "    </tr>\n",
       "    <tr>\n",
       "      <th>1</th>\n",
       "      <td>AR002UA1187B9A637D</td>\n",
       "      <td>uk</td>\n",
       "      <td>country rock</td>\n",
       "    </tr>\n",
       "    <tr>\n",
       "      <th>2</th>\n",
       "      <td>AR002UA1187B9A637D</td>\n",
       "      <td>uk</td>\n",
       "      <td>free jazz</td>\n",
       "    </tr>\n",
       "    <tr>\n",
       "      <th>3</th>\n",
       "      <td>AR002UA1187B9A637D</td>\n",
       "      <td>uk</td>\n",
       "      <td>oi</td>\n",
       "    </tr>\n",
       "    <tr>\n",
       "      <th>4</th>\n",
       "      <td>AR002UA1187B9A637D</td>\n",
       "      <td>uk</td>\n",
       "      <td>space rock</td>\n",
       "    </tr>\n",
       "  </tbody>\n",
       "</table>\n",
       "</div>"
      ],
      "text/plain": [
       "                artist_id mbtag         terms\n",
       "index                                        \n",
       "0      AR002UA1187B9A637D    uk   garage rock\n",
       "1      AR002UA1187B9A637D    uk  country rock\n",
       "2      AR002UA1187B9A637D    uk     free jazz\n",
       "3      AR002UA1187B9A637D    uk            oi\n",
       "4      AR002UA1187B9A637D    uk    space rock"
      ]
     },
     "execution_count": 9,
     "metadata": {},
     "output_type": "execute_result"
    }
   ],
   "source": [
    "tags_data.head()"
   ]
  },
  {
   "cell_type": "code",
   "execution_count": 10,
   "metadata": {},
   "outputs": [
    {
     "name": "stdout",
     "output_type": "stream",
     "text": [
      "<class 'pandas.core.frame.DataFrame'>\n",
      "Int64Index: 1621124 entries, 0 to 1621123\n",
      "Data columns (total 3 columns):\n",
      "artist_id    1621124 non-null object\n",
      "mbtag        798145 non-null object\n",
      "terms        1621118 non-null object\n",
      "dtypes: object(3)\n",
      "memory usage: 49.5+ MB\n"
     ]
    }
   ],
   "source": [
    "tags_data.info()"
   ]
  },
  {
   "cell_type": "markdown",
   "metadata": {},
   "source": [
    "# Explore User Listens"
   ]
  },
  {
   "cell_type": "code",
   "execution_count": 11,
   "metadata": {},
   "outputs": [
    {
     "data": {
      "text/html": [
       "<div>\n",
       "<style scoped>\n",
       "    .dataframe tbody tr th:only-of-type {\n",
       "        vertical-align: middle;\n",
       "    }\n",
       "\n",
       "    .dataframe tbody tr th {\n",
       "        vertical-align: top;\n",
       "    }\n",
       "\n",
       "    .dataframe thead th {\n",
       "        text-align: right;\n",
       "    }\n",
       "</style>\n",
       "<table border=\"1\" class=\"dataframe\">\n",
       "  <thead>\n",
       "    <tr style=\"text-align: right;\">\n",
       "      <th></th>\n",
       "      <th>user_id</th>\n",
       "      <th>play</th>\n",
       "    </tr>\n",
       "  </thead>\n",
       "  <tbody>\n",
       "    <tr>\n",
       "      <th>941420</th>\n",
       "      <td>ec6dfcf19485cb011e0b22637075037aae34cf26</td>\n",
       "      <td>4400</td>\n",
       "    </tr>\n",
       "    <tr>\n",
       "      <th>559999</th>\n",
       "      <td>8cb51abc6bf8ea29341cb070fe1e1af5e4c3ffcc</td>\n",
       "      <td>1651</td>\n",
       "    </tr>\n",
       "    <tr>\n",
       "      <th>1015155</th>\n",
       "      <td>fef771ab021c200187a419f5e55311390f850a50</td>\n",
       "      <td>1614</td>\n",
       "    </tr>\n",
       "    <tr>\n",
       "      <th>358880</th>\n",
       "      <td>5a3417a1955d9136413e0d293cd36497f5e00238</td>\n",
       "      <td>1604</td>\n",
       "    </tr>\n",
       "    <tr>\n",
       "      <th>768700</th>\n",
       "      <td>c1255748c06ee3f6440c51c439446886c7807095</td>\n",
       "      <td>1566</td>\n",
       "    </tr>\n",
       "  </tbody>\n",
       "</table>\n",
       "</div>"
      ],
      "text/plain": [
       "                                          user_id  play\n",
       "941420   ec6dfcf19485cb011e0b22637075037aae34cf26  4400\n",
       "559999   8cb51abc6bf8ea29341cb070fe1e1af5e4c3ffcc  1651\n",
       "1015155  fef771ab021c200187a419f5e55311390f850a50  1614\n",
       "358880   5a3417a1955d9136413e0d293cd36497f5e00238  1604\n",
       "768700   c1255748c06ee3f6440c51c439446886c7807095  1566"
      ]
     },
     "execution_count": 11,
     "metadata": {},
     "output_type": "execute_result"
    }
   ],
   "source": [
    "#Sum song plays by user id.\n",
    "\n",
    "user_listens = user_data[['user_id','play']].groupby('user_id',as_index=False).sum()\n",
    "\n",
    "user_listens.sort_values('play',inplace=True, ascending=False)\n",
    "\n",
    "user_listens.head()"
   ]
  },
  {
   "cell_type": "code",
   "execution_count": 12,
   "metadata": {},
   "outputs": [
    {
     "name": "stdout",
     "output_type": "stream",
     "text": [
      "user_id    1019318\n",
      "play       1019318\n",
      "dtype: int64\n"
     ]
    },
    {
     "data": {
      "text/html": [
       "<div>\n",
       "<style scoped>\n",
       "    .dataframe tbody tr th:only-of-type {\n",
       "        vertical-align: middle;\n",
       "    }\n",
       "\n",
       "    .dataframe tbody tr th {\n",
       "        vertical-align: top;\n",
       "    }\n",
       "\n",
       "    .dataframe thead th {\n",
       "        text-align: right;\n",
       "    }\n",
       "</style>\n",
       "<table border=\"1\" class=\"dataframe\">\n",
       "  <thead>\n",
       "    <tr style=\"text-align: right;\">\n",
       "      <th></th>\n",
       "      <th>play</th>\n",
       "    </tr>\n",
       "  </thead>\n",
       "  <tbody>\n",
       "    <tr>\n",
       "      <th>count</th>\n",
       "      <td>1.019318e+06</td>\n",
       "    </tr>\n",
       "    <tr>\n",
       "      <th>mean</th>\n",
       "      <td>4.745682e+01</td>\n",
       "    </tr>\n",
       "    <tr>\n",
       "      <th>std</th>\n",
       "      <td>5.781573e+01</td>\n",
       "    </tr>\n",
       "    <tr>\n",
       "      <th>min</th>\n",
       "      <td>1.000000e+01</td>\n",
       "    </tr>\n",
       "    <tr>\n",
       "      <th>25%</th>\n",
       "      <td>1.600000e+01</td>\n",
       "    </tr>\n",
       "    <tr>\n",
       "      <th>50%</th>\n",
       "      <td>2.700000e+01</td>\n",
       "    </tr>\n",
       "    <tr>\n",
       "      <th>75%</th>\n",
       "      <td>5.500000e+01</td>\n",
       "    </tr>\n",
       "    <tr>\n",
       "      <th>max</th>\n",
       "      <td>4.400000e+03</td>\n",
       "    </tr>\n",
       "  </tbody>\n",
       "</table>\n",
       "</div>"
      ],
      "text/plain": [
       "               play\n",
       "count  1.019318e+06\n",
       "mean   4.745682e+01\n",
       "std    5.781573e+01\n",
       "min    1.000000e+01\n",
       "25%    1.600000e+01\n",
       "50%    2.700000e+01\n",
       "75%    5.500000e+01\n",
       "max    4.400000e+03"
      ]
     },
     "execution_count": 12,
     "metadata": {},
     "output_type": "execute_result"
    }
   ],
   "source": [
    "print(user_listens.count())\n",
    "\n",
    "#1,019,318 users\n",
    "\n",
    "user_listens.describe()"
   ]
  },
  {
   "cell_type": "code",
   "execution_count": 13,
   "metadata": {},
   "outputs": [
    {
     "data": {
      "image/png": "[encoded data removed]",
      "text/plain": [
       "<matplotlib.figure.Figure at 0x1a704312b0>"
      ]
     },
     "metadata": {},
     "output_type": "display_data"
    }
   ],
   "source": [
    "#Histogram of all user listens.\n",
    "\n",
    "sns.set()\n",
    "\n",
    "hist_all_list = sns.distplot(user_listens.play,norm_hist=True,color ='y')\n",
    "\n",
    "plt.ylabel('Frequency')\n",
    "\n",
    "plt.xlabel('User Listens (48+M)')\n",
    "\n",
    "plt.title('Total Listens by User \\n (1.019M Users)')\n",
    "\n",
    "plt.xlim([0,4400])\n",
    "\n",
    "plt.xticks(rotation = 50)\n",
    "\n",
    "plt.tight_layout()\n",
    "\n",
    "hist_all_list_figure = hist_all_list.get_figure()\n",
    "\n",
    "hist_all_list_figure.savefig('Total Listens by User_hist_all.png', dpi=400)\n",
    "\n",
    "#There is a very long tail starting @ around 500"
   ]
  },
  {
   "cell_type": "code",
   "execution_count": 14,
   "metadata": {},
   "outputs": [
    {
     "data": {
      "text/plain": [
       "(array([   0.,  500., 1000., 1500., 2000., 2500., 3000., 3500., 4000.,\n",
       "        4500.]), <a list of 10 Text xticklabel objects>)"
      ]
     },
     "execution_count": 14,
     "metadata": {},
     "output_type": "execute_result"
    },
    {
     "data": {
      "image/png": "[encoded data removed]",
      "text/plain": [
       "<matplotlib.figure.Figure at 0x11019aa90>"
      ]
     },
     "metadata": {},
     "output_type": "display_data"
    }
   ],
   "source": [
    "# Cumulative histogram of all user listens.\n",
    "\n",
    "plt.hist(user_listens.play, normed=True, bins = 500, cumulative=True,color ='y')\n",
    "\n",
    "plt.ylabel('Frequency')\n",
    "\n",
    "plt.xlabel('User Listens (48+M)')\n",
    "\n",
    "plt.title('Total Listens by User \\n (1.019M Users)')\n",
    "\n",
    "plt.xlim([0,4400])\n",
    "\n",
    "plt.xticks(rotation = 50)"
   ]
  },
  {
   "cell_type": "code",
   "execution_count": 15,
   "metadata": {},
   "outputs": [
    {
     "name": "stdout",
     "output_type": "stream",
     "text": [
      "1017792\n"
     ]
    },
    {
     "data": {
      "text/plain": [
       "47383648"
      ]
     },
     "execution_count": 15,
     "metadata": {},
     "output_type": "execute_result"
    }
   ],
   "source": [
    "#No. Users below 500 listens\n",
    "\n",
    "print((user_listens['play'] <=500).sum())\n",
    "\n",
    "#No. Listens below 500 \n",
    "\n",
    "filtered = user_listens[user_listens.play <= 500]\n",
    "\n",
    "filtered['play'].sum()\n",
    "\n",
    "#Majority of users have less than a 100 listens.\n"
   ]
  },
  {
   "cell_type": "code",
   "execution_count": 16,
   "metadata": {},
   "outputs": [
    {
     "data": {
      "text/plain": [
       "0.1080320371071638"
      ]
     },
     "execution_count": 16,
     "metadata": {},
     "output_type": "execute_result"
    }
   ],
   "source": [
    "1-(909199/1019318)"
   ]
  },
  {
   "cell_type": "code",
   "execution_count": 17,
   "metadata": {},
   "outputs": [
    {
     "data": {
      "image/png": "[encoded data removed]",
      "text/plain": [
       "<matplotlib.figure.Figure at 0x110a77cc0>"
      ]
     },
     "metadata": {},
     "output_type": "display_data"
    }
   ],
   "source": [
    "#Histogram of listens when listen <=500\n",
    "\n",
    "hist_500_list = sns.distplot(user_listens.play, bins = 100, norm_hist=True,color ='y')\n",
    "\n",
    "plt.ylabel('Frequency')\n",
    "\n",
    "plt.xlabel('User Listens (47.3+M)')\n",
    "\n",
    "plt.title('Total Listens by User \\n (1.017M Users)')\n",
    "\n",
    "plt.xlim([0,500])\n",
    "\n",
    "x_ticks=np.arange(0,550,50)\n",
    "\n",
    "plt.xticks(x_ticks,rotation = 50)\n",
    "\n",
    "plt.tight_layout()\n",
    "\n",
    "hist_500_list_figure = hist_500_list.get_figure()\n",
    "\n",
    "hist_500_list_figure.savefig('Total Listens by User_hist_500.png', dpi=400)\n",
    "\n",
    "#There is a very long tail starting @ around 500"
   ]
  },
  {
   "cell_type": "code",
   "execution_count": 18,
   "metadata": {},
   "outputs": [
    {
     "data": {
      "text/plain": [
       "([<matplotlib.axis.XTick at 0x1129416d8>,\n",
       "  <matplotlib.axis.XTick at 0x112941080>,\n",
       "  <matplotlib.axis.XTick at 0x112967470>,\n",
       "  <matplotlib.axis.XTick at 0x1a17077588>,\n",
       "  <matplotlib.axis.XTick at 0x1a17077cc0>,\n",
       "  <matplotlib.axis.XTick at 0x1a1707d470>,\n",
       "  <matplotlib.axis.XTick at 0x1a1707dbe0>,\n",
       "  <matplotlib.axis.XTick at 0x1a17083390>,\n",
       "  <matplotlib.axis.XTick at 0x1a17083b00>,\n",
       "  <matplotlib.axis.XTick at 0x1a170882b0>,\n",
       "  <matplotlib.axis.XTick at 0x1a17088a20>],\n",
       " <a list of 11 Text xticklabel objects>)"
      ]
     },
     "execution_count": 18,
     "metadata": {},
     "output_type": "execute_result"
    },
    {
     "data": {
      "image/png": "[encoded data removed]",
      "text/plain": [
       "<matplotlib.figure.Figure at 0x1101ce470>"
      ]
     },
     "metadata": {},
     "output_type": "display_data"
    }
   ],
   "source": [
    "#Cumulative histogram of listens when listen <=500\n",
    "\n",
    "plt.hist(user_listens.play, normed=True, bins = 500, cumulative=True,color='y')\n",
    "\n",
    "plt.ylabel('Frequency')\n",
    "\n",
    "plt.xlabel('User Listens (47.3+M)')\n",
    "\n",
    "plt.title('Total Listens by User \\n (1.017M Users)')\n",
    "\n",
    "plt.xlim([0,500])\n",
    "\n",
    "x_ticks=np.arange(0,550,50)\n",
    "\n",
    "plt.xticks(x_ticks,rotation = 50)"
   ]
  },
  {
   "cell_type": "markdown",
   "metadata": {},
   "source": [
    "# Song Listen Distribution"
   ]
  },
  {
   "cell_type": "code",
   "execution_count": 19,
   "metadata": {},
   "outputs": [
    {
     "data": {
      "text/html": [
       "<div>\n",
       "<style scoped>\n",
       "    .dataframe tbody tr th:only-of-type {\n",
       "        vertical-align: middle;\n",
       "    }\n",
       "\n",
       "    .dataframe tbody tr th {\n",
       "        vertical-align: top;\n",
       "    }\n",
       "\n",
       "    .dataframe thead th {\n",
       "        text-align: right;\n",
       "    }\n",
       "</style>\n",
       "<table border=\"1\" class=\"dataframe\">\n",
       "  <thead>\n",
       "    <tr style=\"text-align: right;\">\n",
       "      <th></th>\n",
       "      <th>song_id</th>\n",
       "      <th>play</th>\n",
       "    </tr>\n",
       "  </thead>\n",
       "  <tbody>\n",
       "    <tr>\n",
       "      <th>90798</th>\n",
       "      <td>SOFRQTD12A81C233C0</td>\n",
       "      <td>110479</td>\n",
       "    </tr>\n",
       "    <tr>\n",
       "      <th>12936</th>\n",
       "      <td>SOAUWYT12A81C206F1</td>\n",
       "      <td>90476</td>\n",
       "    </tr>\n",
       "    <tr>\n",
       "      <th>14339</th>\n",
       "      <td>SOAXGDH12A8C13F8A1</td>\n",
       "      <td>90444</td>\n",
       "    </tr>\n",
       "    <tr>\n",
       "      <th>25043</th>\n",
       "      <td>SOBONKR12A58A7A7E0</td>\n",
       "      <td>84000</td>\n",
       "    </tr>\n",
       "    <tr>\n",
       "      <th>287415</th>\n",
       "      <td>SOSXLTC12AF72A7F54</td>\n",
       "      <td>80656</td>\n",
       "    </tr>\n",
       "  </tbody>\n",
       "</table>\n",
       "</div>"
      ],
      "text/plain": [
       "                   song_id    play\n",
       "90798   SOFRQTD12A81C233C0  110479\n",
       "12936   SOAUWYT12A81C206F1   90476\n",
       "14339   SOAXGDH12A8C13F8A1   90444\n",
       "25043   SOBONKR12A58A7A7E0   84000\n",
       "287415  SOSXLTC12AF72A7F54   80656"
      ]
     },
     "execution_count": 19,
     "metadata": {},
     "output_type": "execute_result"
    }
   ],
   "source": [
    "#Sum plays by song id.\n",
    "\n",
    "song_listens = user_data[['song_id','play']].groupby('song_id',as_index=False).sum()\n",
    "\n",
    "song_listens.sort_values('play',inplace=True, ascending=False)\n",
    "\n",
    "song_listens.head()"
   ]
  },
  {
   "cell_type": "code",
   "execution_count": 20,
   "metadata": {},
   "outputs": [
    {
     "name": "stdout",
     "output_type": "stream",
     "text": [
      "                play\n",
      "count  384546.000000\n",
      "mean      125.794017\n",
      "std       799.025834\n",
      "min         1.000000\n",
      "25%         4.000000\n",
      "50%        13.000000\n",
      "75%        52.000000\n",
      "max    110479.000000\n"
     ]
    },
    {
     "data": {
      "text/plain": [
       "0.42457867401558114"
      ]
     },
     "execution_count": 20,
     "metadata": {},
     "output_type": "execute_result"
    }
   ],
   "source": [
    "print(song_listens.describe())\n",
    "\n",
    "#384,546 songs listened (~ 40% of the catalog)\n",
    "\n",
    "1-((905712-384546)/905712)"
   ]
  },
  {
   "cell_type": "code",
   "execution_count": 21,
   "metadata": {},
   "outputs": [
    {
     "data": {
      "image/png": "[encoded data removed]",
      "text/plain": [
       "<matplotlib.figure.Figure at 0x1a170a1ef0>"
      ]
     },
     "metadata": {},
     "output_type": "display_data"
    }
   ],
   "source": [
    "#Histogram of Song Listen Distribution.\n",
    "\n",
    "hist_all_song = sns.distplot(song_listens.play, norm_hist=True,color='y')\n",
    "\n",
    "plt.ylabel('Frequency')\n",
    "\n",
    "plt.xlabel('Song Listens (48+M)')\n",
    "\n",
    "plt.title('Total Listens by Song \\n (384K Songs)')\n",
    "\n",
    "plt.xticks(rotation = 50)\n",
    "\n",
    "plt.tight_layout()\n",
    "\n",
    "hist_all_song_figure = hist_all_song.get_figure()\n",
    "\n",
    "hist_all_song_figure.savefig('Total Listens by Song_hist_all.png', dpi=400)"
   ]
  },
  {
   "cell_type": "code",
   "execution_count": 22,
   "metadata": {},
   "outputs": [
    {
     "data": {
      "text/plain": [
       "(array([-1000.,     0.,  1000.,  2000.,  3000.,  4000.,  5000.]),\n",
       " <a list of 7 Text xticklabel objects>)"
      ]
     },
     "execution_count": 22,
     "metadata": {},
     "output_type": "execute_result"
    },
    {
     "data": {
      "image/png": "[encoded data removed]",
      "text/plain": [
       "<matplotlib.figure.Figure at 0x1129ed128>"
      ]
     },
     "metadata": {},
     "output_type": "display_data"
    }
   ],
   "source": [
    "# Cumulative histogram of all user listens.\n",
    "\n",
    "plt.hist(user_listens.play, normed=True, bins = 500, cumulative=True)\n",
    "\n",
    "plt.ylabel('Frequency')\n",
    "\n",
    "plt.xlabel('Song Listens (48+M)')\n",
    "\n",
    "plt.title('Total Listens by Songs \\n (384K Songs)')\n",
    "\n",
    "plt.xticks(rotation = 50)"
   ]
  },
  {
   "cell_type": "code",
   "execution_count": 23,
   "metadata": {},
   "outputs": [
    {
     "data": {
      "image/png": "[encoded data removed]",
      "text/plain": [
       "<matplotlib.figure.Figure at 0x11480f1d0>"
      ]
     },
     "metadata": {},
     "output_type": "display_data"
    }
   ],
   "source": [
    "#Histogram of listens when listen <=500\n",
    "\n",
    "hist_500_song = sns.distplot(user_listens.play, bins = 100, norm_hist=True,color ='y')\n",
    "\n",
    "plt.ylabel('Frequency')\n",
    "\n",
    "plt.xlabel('Song Listens (45.5+M)')\n",
    "\n",
    "plt.title('Total Listens by Song \\n (365K Songs)')\n",
    "\n",
    "plt.xlim([0,500])\n",
    "\n",
    "x_ticks=np.arange(0,550,50)\n",
    "\n",
    "plt.xticks(x_ticks,rotation = 50)\n",
    "\n",
    "plt.tight_layout()\n",
    "\n",
    "hist_500_song_figure = hist_500_song.get_figure()\n",
    "\n",
    "hist_500_song_figure.savefig('Total Listens by Song_hist_500.png', dpi=400)\n",
    "\n",
    "#There is a very long tail starting @ around 500"
   ]
  },
  {
   "cell_type": "code",
   "execution_count": 24,
   "metadata": {},
   "outputs": [
    {
     "name": "stdout",
     "output_type": "stream",
     "text": [
      "365794\n",
      "16287390\n",
      "Songs with above listens:18752\n",
      "Songs with above listens as pct of listens:0.9512360029749367\n",
      "Total Song Listens as pct of listens:0.16930354235904155\n"
     ]
    }
   ],
   "source": [
    "#No. Songs below 100 listens\n",
    "\n",
    "print((song_listens['play'] <=500).sum())\n",
    "\n",
    "#No. Listens below 100 \n",
    "\n",
    "filtered2 = song_listens[song_listens.play <= 500]\n",
    "\n",
    "print(filtered2['play'].sum())\n",
    "\n",
    "print('Songs with above listens:'+ str(384546-365794))\n",
    "\n",
    "print('Songs with above listens as pct of listens:'+ str(365794/384546))\n",
    "\n",
    "print('Total Song Listens as pct of listens:' + str(1-0.8306964576409585))\n"
   ]
  },
  {
   "cell_type": "markdown",
   "metadata": {},
   "source": [
    "# Artist Listens"
   ]
  },
  {
   "cell_type": "code",
   "execution_count": 25,
   "metadata": {},
   "outputs": [
    {
     "data": {
      "text/html": [
       "<div>\n",
       "<style scoped>\n",
       "    .dataframe tbody tr th:only-of-type {\n",
       "        vertical-align: middle;\n",
       "    }\n",
       "\n",
       "    .dataframe tbody tr th {\n",
       "        vertical-align: top;\n",
       "    }\n",
       "\n",
       "    .dataframe thead th {\n",
       "        text-align: right;\n",
       "    }\n",
       "</style>\n",
       "<table border=\"1\" class=\"dataframe\">\n",
       "  <thead>\n",
       "    <tr style=\"text-align: right;\">\n",
       "      <th></th>\n",
       "      <th>artist_id</th>\n",
       "      <th>play</th>\n",
       "    </tr>\n",
       "  </thead>\n",
       "  <tbody>\n",
       "    <tr>\n",
       "      <th>11502</th>\n",
       "      <td>ARF2EHS1187B994F4E</td>\n",
       "      <td>241823</td>\n",
       "    </tr>\n",
       "    <tr>\n",
       "      <th>15064</th>\n",
       "      <td>ARJ7KF01187B98D717</td>\n",
       "      <td>219796</td>\n",
       "    </tr>\n",
       "    <tr>\n",
       "      <th>11734</th>\n",
       "      <td>ARFCWSZ123526A0AFD</td>\n",
       "      <td>196696</td>\n",
       "    </tr>\n",
       "    <tr>\n",
       "      <th>18607</th>\n",
       "      <td>ARNCHOP121318C56B8</td>\n",
       "      <td>189426</td>\n",
       "    </tr>\n",
       "    <tr>\n",
       "      <th>21837</th>\n",
       "      <td>ARR3ONV1187B9A2F59</td>\n",
       "      <td>189086</td>\n",
       "    </tr>\n",
       "  </tbody>\n",
       "</table>\n",
       "</div>"
      ],
      "text/plain": [
       "                artist_id    play\n",
       "11502  ARF2EHS1187B994F4E  241823\n",
       "15064  ARJ7KF01187B98D717  219796\n",
       "11734  ARFCWSZ123526A0AFD  196696\n",
       "18607  ARNCHOP121318C56B8  189426\n",
       "21837  ARR3ONV1187B9A2F59  189086"
      ]
     },
     "execution_count": 25,
     "metadata": {},
     "output_type": "execute_result"
    }
   ],
   "source": [
    "#Merge song listens and artist id\n",
    "\n",
    "artist_song_merge = metadata_data[['song_id','artist_id']].merge(song_listens,on='song_id')\n",
    "\n",
    "artist_song_merge.drop('song_id',axis=1)\n",
    "\n",
    "artist_song = artist_song_merge.groupby('artist_id',as_index=False).sum().sort_values('play',ascending=False)\n",
    "\n",
    "artist_song.head()"
   ]
  },
  {
   "cell_type": "code",
   "execution_count": 26,
   "metadata": {},
   "outputs": [
    {
     "data": {
      "text/html": [
       "<div>\n",
       "<style scoped>\n",
       "    .dataframe tbody tr th:only-of-type {\n",
       "        vertical-align: middle;\n",
       "    }\n",
       "\n",
       "    .dataframe tbody tr th {\n",
       "        vertical-align: top;\n",
       "    }\n",
       "\n",
       "    .dataframe thead th {\n",
       "        text-align: right;\n",
       "    }\n",
       "</style>\n",
       "<table border=\"1\" class=\"dataframe\">\n",
       "  <thead>\n",
       "    <tr style=\"text-align: right;\">\n",
       "      <th></th>\n",
       "      <th>play</th>\n",
       "    </tr>\n",
       "  </thead>\n",
       "  <tbody>\n",
       "    <tr>\n",
       "      <th>count</th>\n",
       "      <td>29559.000000</td>\n",
       "    </tr>\n",
       "    <tr>\n",
       "      <th>mean</th>\n",
       "      <td>1367.438411</td>\n",
       "    </tr>\n",
       "    <tr>\n",
       "      <th>std</th>\n",
       "      <td>6498.707551</td>\n",
       "    </tr>\n",
       "    <tr>\n",
       "      <th>min</th>\n",
       "      <td>1.000000</td>\n",
       "    </tr>\n",
       "    <tr>\n",
       "      <th>25%</th>\n",
       "      <td>20.000000</td>\n",
       "    </tr>\n",
       "    <tr>\n",
       "      <th>50%</th>\n",
       "      <td>112.000000</td>\n",
       "    </tr>\n",
       "    <tr>\n",
       "      <th>75%</th>\n",
       "      <td>569.500000</td>\n",
       "    </tr>\n",
       "    <tr>\n",
       "      <th>max</th>\n",
       "      <td>241823.000000</td>\n",
       "    </tr>\n",
       "  </tbody>\n",
       "</table>\n",
       "</div>"
      ],
      "text/plain": [
       "                play\n",
       "count   29559.000000\n",
       "mean     1367.438411\n",
       "std      6498.707551\n",
       "min         1.000000\n",
       "25%        20.000000\n",
       "50%       112.000000\n",
       "75%       569.500000\n",
       "max    241823.000000"
      ]
     },
     "execution_count": 26,
     "metadata": {},
     "output_type": "execute_result"
    }
   ],
   "source": [
    "artist_song.describe()"
   ]
  },
  {
   "cell_type": "code",
   "execution_count": 27,
   "metadata": {},
   "outputs": [
    {
     "data": {
      "image/png": "[encoded data removed]",
      "text/plain": [
       "<matplotlib.figure.Figure at 0x1a17842d30>"
      ]
     },
     "metadata": {},
     "output_type": "display_data"
    }
   ],
   "source": [
    "#Histogram of all listens by artist\n",
    "\n",
    "sns.set()\n",
    "\n",
    "hist_all_artist = sns.distplot(artist_song.play, norm_hist=True,color = 'y')\n",
    "\n",
    "plt.ylabel('Frequency')\n",
    "\n",
    "plt.xlabel('Listens by Artists(48+M)')\n",
    "\n",
    "plt.title('Total Listens by Artist \\n (29,559 Artists)')\n",
    "\n",
    "plt.xticks(rotation = 50)\n",
    "\n",
    "plt.tight_layout()\n",
    "\n",
    "hist_all_artist_figure = hist_all_artist.get_figure()\n",
    "\n",
    "hist_all_artist_figure.savefig('Total Listens by Artist_all.png', dpi=400)"
   ]
  },
  {
   "cell_type": "code",
   "execution_count": 28,
   "metadata": {},
   "outputs": [
    {
     "name": "stdout",
     "output_type": "stream",
     "text": [
      "24279\n",
      "23189586\n",
      "Artists with above 1000 listens:5280\n",
      "Artists with above 1000 listens as pct of listens:0.17862579924895972\n",
      "Total Song Listens <=1000 as pct of listens:0.483116375\n"
     ]
    }
   ],
   "source": [
    "#No. Artists below 100 listens\n",
    "\n",
    "print((artist_song['play'] <=1000).sum())\n",
    "\n",
    "#No. Listens below 100 \n",
    "\n",
    "filtered3 = song_listens[song_listens.play <= 1000]\n",
    "\n",
    "print(filtered3['play'].sum())\n",
    "\n",
    "print('Artists with above 1000 listens:'+ str(29559-24279))\n",
    "\n",
    "print('Artists with above 1000 listens as pct of listens:'+ str(5280/29559))\n",
    "\n",
    "print('Total Song Listens <=1000 as pct of listens:' + str(23189586/48000000))\n",
    "\n",
    "\n",
    "#Large amounts of listens driven by a small percentage of songs."
   ]
  },
  {
   "cell_type": "code",
   "execution_count": 29,
   "metadata": {},
   "outputs": [
    {
     "data": {
      "image/png": "[encoded data removed]",
      "text/plain": [
       "<matplotlib.figure.Figure at 0x1a1786c908>"
      ]
     },
     "metadata": {},
     "output_type": "display_data"
    }
   ],
   "source": [
    "#Histogram of listens by artist when listen <=1000\n",
    "\n",
    "hist_500_artist = sns.distplot(artist_song.play, bins = 1000,norm_hist=True,color = 'y')\n",
    "\n",
    "plt.ylabel('Frequency')\n",
    "\n",
    "plt.xlabel('Listens by Artists (2.3M)')\n",
    "\n",
    "plt.title('Total Listens by Artist \\n (24,279 Artists)')\n",
    "\n",
    "plt.xlim([0,1000])\n",
    "\n",
    "x_ticks=np.arange(0,1100,100)\n",
    "\n",
    "plt.xticks(x_ticks,rotation = 50)\n",
    "\n",
    "plt.tight_layout()\n",
    "\n",
    "hist_500_artist_figure = hist_500_artist.get_figure()\n",
    "\n",
    "hist_500_artist_figure.savefig('Total Listens by Artist_500.png', dpi=400)"
   ]
  },
  {
   "cell_type": "markdown",
   "metadata": {},
   "source": [
    "# Explore Song Catalog"
   ]
  },
  {
   "cell_type": "code",
   "execution_count": 30,
   "metadata": {},
   "outputs": [
    {
     "data": {
      "text/html": [
       "<div>\n",
       "<style scoped>\n",
       "    .dataframe tbody tr th:only-of-type {\n",
       "        vertical-align: middle;\n",
       "    }\n",
       "\n",
       "    .dataframe tbody tr th {\n",
       "        vertical-align: top;\n",
       "    }\n",
       "\n",
       "    .dataframe thead th {\n",
       "        text-align: right;\n",
       "    }\n",
       "</style>\n",
       "<table border=\"1\" class=\"dataframe\">\n",
       "  <thead>\n",
       "    <tr style=\"text-align: right;\">\n",
       "      <th></th>\n",
       "      <th>artist_familiarity</th>\n",
       "      <th>artist_hotttnesss</th>\n",
       "      <th>song_hotttnesss</th>\n",
       "      <th>danceability</th>\n",
       "      <th>duration</th>\n",
       "      <th>energy</th>\n",
       "      <th>key</th>\n",
       "      <th>loudness</th>\n",
       "      <th>mode</th>\n",
       "      <th>tempo</th>\n",
       "      <th>time_signature</th>\n",
       "      <th>year</th>\n",
       "    </tr>\n",
       "  </thead>\n",
       "  <tbody>\n",
       "    <tr>\n",
       "      <th>count</th>\n",
       "      <td>905531.000000</td>\n",
       "      <td>905700.000000</td>\n",
       "      <td>551532.000000</td>\n",
       "      <td>905712.0</td>\n",
       "      <td>905712.000000</td>\n",
       "      <td>905712.0</td>\n",
       "      <td>905712.000000</td>\n",
       "      <td>905712.000000</td>\n",
       "      <td>905712.000000</td>\n",
       "      <td>905712.000000</td>\n",
       "      <td>905712.000000</td>\n",
       "      <td>456811.000000</td>\n",
       "    </tr>\n",
       "    <tr>\n",
       "      <th>mean</th>\n",
       "      <td>0.552926</td>\n",
       "      <td>0.375825</td>\n",
       "      <td>0.350871</td>\n",
       "      <td>0.0</td>\n",
       "      <td>246.913997</td>\n",
       "      <td>0.0</td>\n",
       "      <td>5.310544</td>\n",
       "      <td>-10.163313</td>\n",
       "      <td>0.668136</td>\n",
       "      <td>123.840877</td>\n",
       "      <td>3.591662</td>\n",
       "      <td>1998.948718</td>\n",
       "    </tr>\n",
       "    <tr>\n",
       "      <th>std</th>\n",
       "      <td>0.136430</td>\n",
       "      <td>0.124020</td>\n",
       "      <td>0.232737</td>\n",
       "      <td>0.0</td>\n",
       "      <td>124.880635</td>\n",
       "      <td>0.0</td>\n",
       "      <td>3.594880</td>\n",
       "      <td>5.242631</td>\n",
       "      <td>0.470883</td>\n",
       "      <td>35.282309</td>\n",
       "      <td>1.227227</td>\n",
       "      <td>10.292170</td>\n",
       "    </tr>\n",
       "    <tr>\n",
       "      <th>min</th>\n",
       "      <td>0.000000</td>\n",
       "      <td>0.000000</td>\n",
       "      <td>0.000000</td>\n",
       "      <td>0.0</td>\n",
       "      <td>0.313020</td>\n",
       "      <td>0.0</td>\n",
       "      <td>0.000000</td>\n",
       "      <td>-58.178000</td>\n",
       "      <td>0.000000</td>\n",
       "      <td>0.000000</td>\n",
       "      <td>0.000000</td>\n",
       "      <td>1922.000000</td>\n",
       "    </tr>\n",
       "    <tr>\n",
       "      <th>25%</th>\n",
       "      <td>0.475977</td>\n",
       "      <td>0.334415</td>\n",
       "      <td>0.215080</td>\n",
       "      <td>0.0</td>\n",
       "      <td>179.930980</td>\n",
       "      <td>0.0</td>\n",
       "      <td>2.000000</td>\n",
       "      <td>-12.736000</td>\n",
       "      <td>0.000000</td>\n",
       "      <td>97.725000</td>\n",
       "      <td>3.000000</td>\n",
       "      <td>1995.000000</td>\n",
       "    </tr>\n",
       "    <tr>\n",
       "      <th>50%</th>\n",
       "      <td>0.555851</td>\n",
       "      <td>0.384529</td>\n",
       "      <td>0.375984</td>\n",
       "      <td>0.0</td>\n",
       "      <td>227.787300</td>\n",
       "      <td>0.0</td>\n",
       "      <td>5.000000</td>\n",
       "      <td>-8.994000</td>\n",
       "      <td>1.000000</td>\n",
       "      <td>121.689000</td>\n",
       "      <td>4.000000</td>\n",
       "      <td>2002.000000</td>\n",
       "    </tr>\n",
       "    <tr>\n",
       "      <th>75%</th>\n",
       "      <td>0.636053</td>\n",
       "      <td>0.440371</td>\n",
       "      <td>0.525961</td>\n",
       "      <td>0.0</td>\n",
       "      <td>286.406080</td>\n",
       "      <td>0.0</td>\n",
       "      <td>9.000000</td>\n",
       "      <td>-6.386000</td>\n",
       "      <td>1.000000</td>\n",
       "      <td>144.900000</td>\n",
       "      <td>4.000000</td>\n",
       "      <td>2006.000000</td>\n",
       "    </tr>\n",
       "    <tr>\n",
       "      <th>max</th>\n",
       "      <td>1.000000</td>\n",
       "      <td>1.082503</td>\n",
       "      <td>1.000000</td>\n",
       "      <td>0.0</td>\n",
       "      <td>3034.905670</td>\n",
       "      <td>0.0</td>\n",
       "      <td>11.000000</td>\n",
       "      <td>4.318000</td>\n",
       "      <td>1.000000</td>\n",
       "      <td>302.300000</td>\n",
       "      <td>7.000000</td>\n",
       "      <td>2011.000000</td>\n",
       "    </tr>\n",
       "  </tbody>\n",
       "</table>\n",
       "</div>"
      ],
      "text/plain": [
       "       artist_familiarity  artist_hotttnesss  song_hotttnesss  danceability  \\\n",
       "count       905531.000000      905700.000000    551532.000000      905712.0   \n",
       "mean             0.552926           0.375825         0.350871           0.0   \n",
       "std              0.136430           0.124020         0.232737           0.0   \n",
       "min              0.000000           0.000000         0.000000           0.0   \n",
       "25%              0.475977           0.334415         0.215080           0.0   \n",
       "50%              0.555851           0.384529         0.375984           0.0   \n",
       "75%              0.636053           0.440371         0.525961           0.0   \n",
       "max              1.000000           1.082503         1.000000           0.0   \n",
       "\n",
       "            duration    energy            key       loudness           mode  \\\n",
       "count  905712.000000  905712.0  905712.000000  905712.000000  905712.000000   \n",
       "mean      246.913997       0.0       5.310544     -10.163313       0.668136   \n",
       "std       124.880635       0.0       3.594880       5.242631       0.470883   \n",
       "min         0.313020       0.0       0.000000     -58.178000       0.000000   \n",
       "25%       179.930980       0.0       2.000000     -12.736000       0.000000   \n",
       "50%       227.787300       0.0       5.000000      -8.994000       1.000000   \n",
       "75%       286.406080       0.0       9.000000      -6.386000       1.000000   \n",
       "max      3034.905670       0.0      11.000000       4.318000       1.000000   \n",
       "\n",
       "               tempo  time_signature           year  \n",
       "count  905712.000000   905712.000000  456811.000000  \n",
       "mean      123.840877        3.591662    1998.948718  \n",
       "std        35.282309        1.227227      10.292170  \n",
       "min         0.000000        0.000000    1922.000000  \n",
       "25%        97.725000        3.000000    1995.000000  \n",
       "50%       121.689000        4.000000    2002.000000  \n",
       "75%       144.900000        4.000000    2006.000000  \n",
       "max       302.300000        7.000000    2011.000000  "
      ]
     },
     "execution_count": 30,
     "metadata": {},
     "output_type": "execute_result"
    }
   ],
   "source": [
    "#Extract Basic Song Features from song metadata.\n",
    "\n",
    "basic_features = metadata_data[['artist_familiarity','artist_hotttnesss','artist_id',\n",
    "                                'song_hotttnesss','song_id','danceability','duration',                                \n",
    "                                'energy','key','loudness','mode','tempo','time_signature','year']]\n",
    "\n",
    "basic_features.describe()"
   ]
  },
  {
   "cell_type": "code",
   "execution_count": 31,
   "metadata": {},
   "outputs": [
    {
     "data": {
      "text/html": [
       "<div>\n",
       "<style scoped>\n",
       "    .dataframe tbody tr th:only-of-type {\n",
       "        vertical-align: middle;\n",
       "    }\n",
       "\n",
       "    .dataframe tbody tr th {\n",
       "        vertical-align: top;\n",
       "    }\n",
       "\n",
       "    .dataframe thead th {\n",
       "        text-align: right;\n",
       "    }\n",
       "</style>\n",
       "<table border=\"1\" class=\"dataframe\">\n",
       "  <thead>\n",
       "    <tr style=\"text-align: right;\">\n",
       "      <th></th>\n",
       "      <th>artist_familiarity</th>\n",
       "      <th>artist_hotttnesss</th>\n",
       "      <th>artist_id</th>\n",
       "      <th>song_hotttnesss</th>\n",
       "      <th>song_id</th>\n",
       "      <th>danceability</th>\n",
       "      <th>duration</th>\n",
       "      <th>energy</th>\n",
       "      <th>key</th>\n",
       "      <th>loudness</th>\n",
       "      <th>mode</th>\n",
       "      <th>tempo</th>\n",
       "      <th>time_signature</th>\n",
       "      <th>year</th>\n",
       "      <th>play</th>\n",
       "    </tr>\n",
       "  </thead>\n",
       "  <tbody>\n",
       "    <tr>\n",
       "      <th>0</th>\n",
       "      <td>0.649822</td>\n",
       "      <td>0.394032</td>\n",
       "      <td>ARYZTJS1187B98C555</td>\n",
       "      <td>0.542899</td>\n",
       "      <td>SOQMMHC12AB0180CB8</td>\n",
       "      <td>0.0</td>\n",
       "      <td>252.05506</td>\n",
       "      <td>0.0</td>\n",
       "      <td>10</td>\n",
       "      <td>-4.829</td>\n",
       "      <td>0</td>\n",
       "      <td>87.002</td>\n",
       "      <td>4</td>\n",
       "      <td>2003.0</td>\n",
       "      <td>3.0</td>\n",
       "    </tr>\n",
       "    <tr>\n",
       "      <th>1</th>\n",
       "      <td>0.439604</td>\n",
       "      <td>0.356992</td>\n",
       "      <td>ARMVN3U1187FB3A1EB</td>\n",
       "      <td>0.299877</td>\n",
       "      <td>SOVFVAK12A8C1350D9</td>\n",
       "      <td>0.0</td>\n",
       "      <td>156.55138</td>\n",
       "      <td>0.0</td>\n",
       "      <td>9</td>\n",
       "      <td>-10.555</td>\n",
       "      <td>1</td>\n",
       "      <td>150.778</td>\n",
       "      <td>1</td>\n",
       "      <td>1995.0</td>\n",
       "      <td>NaN</td>\n",
       "    </tr>\n",
       "    <tr>\n",
       "      <th>2</th>\n",
       "      <td>0.643681</td>\n",
       "      <td>0.437504</td>\n",
       "      <td>ARGEKB01187FB50750</td>\n",
       "      <td>0.617871</td>\n",
       "      <td>SOGTUKN12AB017F4F1</td>\n",
       "      <td>0.0</td>\n",
       "      <td>138.97098</td>\n",
       "      <td>0.0</td>\n",
       "      <td>7</td>\n",
       "      <td>-2.060</td>\n",
       "      <td>1</td>\n",
       "      <td>177.768</td>\n",
       "      <td>4</td>\n",
       "      <td>2006.0</td>\n",
       "      <td>NaN</td>\n",
       "    </tr>\n",
       "    <tr>\n",
       "      <th>3</th>\n",
       "      <td>0.448501</td>\n",
       "      <td>0.372349</td>\n",
       "      <td>ARNWYLR1187B9B2F9C</td>\n",
       "      <td>NaN</td>\n",
       "      <td>SOBNYVR12A8C13558C</td>\n",
       "      <td>0.0</td>\n",
       "      <td>145.05751</td>\n",
       "      <td>0.0</td>\n",
       "      <td>7</td>\n",
       "      <td>-4.654</td>\n",
       "      <td>1</td>\n",
       "      <td>87.433</td>\n",
       "      <td>4</td>\n",
       "      <td>2003.0</td>\n",
       "      <td>3.0</td>\n",
       "    </tr>\n",
       "    <tr>\n",
       "      <th>4</th>\n",
       "      <td>0.000000</td>\n",
       "      <td>0.000000</td>\n",
       "      <td>AREQDTE1269FB37231</td>\n",
       "      <td>NaN</td>\n",
       "      <td>SOHSBXH12A8C13B0DF</td>\n",
       "      <td>0.0</td>\n",
       "      <td>514.29832</td>\n",
       "      <td>0.0</td>\n",
       "      <td>5</td>\n",
       "      <td>-7.806</td>\n",
       "      <td>0</td>\n",
       "      <td>140.035</td>\n",
       "      <td>4</td>\n",
       "      <td>NaN</td>\n",
       "      <td>NaN</td>\n",
       "    </tr>\n",
       "  </tbody>\n",
       "</table>\n",
       "</div>"
      ],
      "text/plain": [
       "   artist_familiarity  artist_hotttnesss           artist_id  song_hotttnesss  \\\n",
       "0            0.649822           0.394032  ARYZTJS1187B98C555         0.542899   \n",
       "1            0.439604           0.356992  ARMVN3U1187FB3A1EB         0.299877   \n",
       "2            0.643681           0.437504  ARGEKB01187FB50750         0.617871   \n",
       "3            0.448501           0.372349  ARNWYLR1187B9B2F9C              NaN   \n",
       "4            0.000000           0.000000  AREQDTE1269FB37231              NaN   \n",
       "\n",
       "              song_id  danceability   duration  energy  key  loudness  mode  \\\n",
       "0  SOQMMHC12AB0180CB8           0.0  252.05506     0.0   10    -4.829     0   \n",
       "1  SOVFVAK12A8C1350D9           0.0  156.55138     0.0    9   -10.555     1   \n",
       "2  SOGTUKN12AB017F4F1           0.0  138.97098     0.0    7    -2.060     1   \n",
       "3  SOBNYVR12A8C13558C           0.0  145.05751     0.0    7    -4.654     1   \n",
       "4  SOHSBXH12A8C13B0DF           0.0  514.29832     0.0    5    -7.806     0   \n",
       "\n",
       "     tempo  time_signature    year  play  \n",
       "0   87.002               4  2003.0   3.0  \n",
       "1  150.778               1  1995.0   NaN  \n",
       "2  177.768               4  2006.0   NaN  \n",
       "3   87.433               4  2003.0   3.0  \n",
       "4  140.035               4     NaN   NaN  "
      ]
     },
     "execution_count": 31,
     "metadata": {},
     "output_type": "execute_result"
    }
   ],
   "source": [
    "#Merge metadata with song listens\n",
    "\n",
    "basic_features_song_listens = basic_features.merge(song_listens,on='song_id',how='left')\n",
    "\n",
    "basic_features_song_listens.head()"
   ]
  },
  {
   "cell_type": "code",
   "execution_count": 32,
   "metadata": {},
   "outputs": [
    {
     "data": {
      "text/html": [
       "<div>\n",
       "<style scoped>\n",
       "    .dataframe tbody tr th:only-of-type {\n",
       "        vertical-align: middle;\n",
       "    }\n",
       "\n",
       "    .dataframe tbody tr th {\n",
       "        vertical-align: top;\n",
       "    }\n",
       "\n",
       "    .dataframe thead th {\n",
       "        text-align: right;\n",
       "    }\n",
       "</style>\n",
       "<table border=\"1\" class=\"dataframe\">\n",
       "  <thead>\n",
       "    <tr style=\"text-align: right;\">\n",
       "      <th></th>\n",
       "      <th>artist_familiarity</th>\n",
       "      <th>artist_hotttnesss</th>\n",
       "      <th>song_hotttnesss</th>\n",
       "      <th>danceability</th>\n",
       "      <th>duration</th>\n",
       "      <th>energy</th>\n",
       "      <th>key</th>\n",
       "      <th>loudness</th>\n",
       "      <th>mode</th>\n",
       "      <th>tempo</th>\n",
       "      <th>time_signature</th>\n",
       "      <th>year</th>\n",
       "      <th>play</th>\n",
       "    </tr>\n",
       "  </thead>\n",
       "  <tbody>\n",
       "    <tr>\n",
       "      <th>count</th>\n",
       "      <td>905531.000000</td>\n",
       "      <td>905700.000000</td>\n",
       "      <td>551532.000000</td>\n",
       "      <td>905712.0</td>\n",
       "      <td>905712.000000</td>\n",
       "      <td>905712.0</td>\n",
       "      <td>905712.000000</td>\n",
       "      <td>905712.000000</td>\n",
       "      <td>905712.000000</td>\n",
       "      <td>905712.000000</td>\n",
       "      <td>905712.000000</td>\n",
       "      <td>456811.000000</td>\n",
       "      <td>360110.000000</td>\n",
       "    </tr>\n",
       "    <tr>\n",
       "      <th>mean</th>\n",
       "      <td>0.552926</td>\n",
       "      <td>0.375825</td>\n",
       "      <td>0.350871</td>\n",
       "      <td>0.0</td>\n",
       "      <td>246.913997</td>\n",
       "      <td>0.0</td>\n",
       "      <td>5.310544</td>\n",
       "      <td>-10.163313</td>\n",
       "      <td>0.668136</td>\n",
       "      <td>123.840877</td>\n",
       "      <td>3.591662</td>\n",
       "      <td>1998.948718</td>\n",
       "      <td>112.243792</td>\n",
       "    </tr>\n",
       "    <tr>\n",
       "      <th>std</th>\n",
       "      <td>0.136430</td>\n",
       "      <td>0.124020</td>\n",
       "      <td>0.232737</td>\n",
       "      <td>0.0</td>\n",
       "      <td>124.880635</td>\n",
       "      <td>0.0</td>\n",
       "      <td>3.594880</td>\n",
       "      <td>5.242631</td>\n",
       "      <td>0.470883</td>\n",
       "      <td>35.282309</td>\n",
       "      <td>1.227227</td>\n",
       "      <td>10.292170</td>\n",
       "      <td>688.153583</td>\n",
       "    </tr>\n",
       "    <tr>\n",
       "      <th>min</th>\n",
       "      <td>0.000000</td>\n",
       "      <td>0.000000</td>\n",
       "      <td>0.000000</td>\n",
       "      <td>0.0</td>\n",
       "      <td>0.313020</td>\n",
       "      <td>0.0</td>\n",
       "      <td>0.000000</td>\n",
       "      <td>-58.178000</td>\n",
       "      <td>0.000000</td>\n",
       "      <td>0.000000</td>\n",
       "      <td>0.000000</td>\n",
       "      <td>1922.000000</td>\n",
       "      <td>1.000000</td>\n",
       "    </tr>\n",
       "    <tr>\n",
       "      <th>25%</th>\n",
       "      <td>0.475977</td>\n",
       "      <td>0.334415</td>\n",
       "      <td>0.215080</td>\n",
       "      <td>0.0</td>\n",
       "      <td>179.930980</td>\n",
       "      <td>0.0</td>\n",
       "      <td>2.000000</td>\n",
       "      <td>-12.736000</td>\n",
       "      <td>0.000000</td>\n",
       "      <td>97.725000</td>\n",
       "      <td>3.000000</td>\n",
       "      <td>1995.000000</td>\n",
       "      <td>4.000000</td>\n",
       "    </tr>\n",
       "    <tr>\n",
       "      <th>50%</th>\n",
       "      <td>0.555851</td>\n",
       "      <td>0.384529</td>\n",
       "      <td>0.375984</td>\n",
       "      <td>0.0</td>\n",
       "      <td>227.787300</td>\n",
       "      <td>0.0</td>\n",
       "      <td>5.000000</td>\n",
       "      <td>-8.994000</td>\n",
       "      <td>1.000000</td>\n",
       "      <td>121.689000</td>\n",
       "      <td>4.000000</td>\n",
       "      <td>2002.000000</td>\n",
       "      <td>13.000000</td>\n",
       "    </tr>\n",
       "    <tr>\n",
       "      <th>75%</th>\n",
       "      <td>0.636053</td>\n",
       "      <td>0.440371</td>\n",
       "      <td>0.525961</td>\n",
       "      <td>0.0</td>\n",
       "      <td>286.406080</td>\n",
       "      <td>0.0</td>\n",
       "      <td>9.000000</td>\n",
       "      <td>-6.386000</td>\n",
       "      <td>1.000000</td>\n",
       "      <td>144.900000</td>\n",
       "      <td>4.000000</td>\n",
       "      <td>2006.000000</td>\n",
       "      <td>48.000000</td>\n",
       "    </tr>\n",
       "    <tr>\n",
       "      <th>max</th>\n",
       "      <td>1.000000</td>\n",
       "      <td>1.082503</td>\n",
       "      <td>1.000000</td>\n",
       "      <td>0.0</td>\n",
       "      <td>3034.905670</td>\n",
       "      <td>0.0</td>\n",
       "      <td>11.000000</td>\n",
       "      <td>4.318000</td>\n",
       "      <td>1.000000</td>\n",
       "      <td>302.300000</td>\n",
       "      <td>7.000000</td>\n",
       "      <td>2011.000000</td>\n",
       "      <td>90444.000000</td>\n",
       "    </tr>\n",
       "  </tbody>\n",
       "</table>\n",
       "</div>"
      ],
      "text/plain": [
       "       artist_familiarity  artist_hotttnesss  song_hotttnesss  danceability  \\\n",
       "count       905531.000000      905700.000000    551532.000000      905712.0   \n",
       "mean             0.552926           0.375825         0.350871           0.0   \n",
       "std              0.136430           0.124020         0.232737           0.0   \n",
       "min              0.000000           0.000000         0.000000           0.0   \n",
       "25%              0.475977           0.334415         0.215080           0.0   \n",
       "50%              0.555851           0.384529         0.375984           0.0   \n",
       "75%              0.636053           0.440371         0.525961           0.0   \n",
       "max              1.000000           1.082503         1.000000           0.0   \n",
       "\n",
       "            duration    energy            key       loudness           mode  \\\n",
       "count  905712.000000  905712.0  905712.000000  905712.000000  905712.000000   \n",
       "mean      246.913997       0.0       5.310544     -10.163313       0.668136   \n",
       "std       124.880635       0.0       3.594880       5.242631       0.470883   \n",
       "min         0.313020       0.0       0.000000     -58.178000       0.000000   \n",
       "25%       179.930980       0.0       2.000000     -12.736000       0.000000   \n",
       "50%       227.787300       0.0       5.000000      -8.994000       1.000000   \n",
       "75%       286.406080       0.0       9.000000      -6.386000       1.000000   \n",
       "max      3034.905670       0.0      11.000000       4.318000       1.000000   \n",
       "\n",
       "               tempo  time_signature           year           play  \n",
       "count  905712.000000   905712.000000  456811.000000  360110.000000  \n",
       "mean      123.840877        3.591662    1998.948718     112.243792  \n",
       "std        35.282309        1.227227      10.292170     688.153583  \n",
       "min         0.000000        0.000000    1922.000000       1.000000  \n",
       "25%        97.725000        3.000000    1995.000000       4.000000  \n",
       "50%       121.689000        4.000000    2002.000000      13.000000  \n",
       "75%       144.900000        4.000000    2006.000000      48.000000  \n",
       "max       302.300000        7.000000    2011.000000   90444.000000  "
      ]
     },
     "execution_count": 32,
     "metadata": {},
     "output_type": "execute_result"
    }
   ],
   "source": [
    "#energy and danceability are zeroes\n",
    "\n",
    "basic_features_song_listens.describe()"
   ]
  },
  {
   "cell_type": "code",
   "execution_count": 33,
   "metadata": {},
   "outputs": [
    {
     "data": {
      "text/html": [
       "<div>\n",
       "<style scoped>\n",
       "    .dataframe tbody tr th:only-of-type {\n",
       "        vertical-align: middle;\n",
       "    }\n",
       "\n",
       "    .dataframe tbody tr th {\n",
       "        vertical-align: top;\n",
       "    }\n",
       "\n",
       "    .dataframe thead th {\n",
       "        text-align: right;\n",
       "    }\n",
       "</style>\n",
       "<table border=\"1\" class=\"dataframe\">\n",
       "  <thead>\n",
       "    <tr style=\"text-align: right;\">\n",
       "      <th></th>\n",
       "      <th>year</th>\n",
       "      <th>song_id</th>\n",
       "    </tr>\n",
       "  </thead>\n",
       "  <tbody>\n",
       "    <tr>\n",
       "      <th>count</th>\n",
       "      <td>89.000000</td>\n",
       "      <td>89.000000</td>\n",
       "    </tr>\n",
       "    <tr>\n",
       "      <th>mean</th>\n",
       "      <td>1966.988764</td>\n",
       "      <td>5132.707865</td>\n",
       "    </tr>\n",
       "    <tr>\n",
       "      <th>std</th>\n",
       "      <td>25.855584</td>\n",
       "      <td>8908.699464</td>\n",
       "    </tr>\n",
       "    <tr>\n",
       "      <th>min</th>\n",
       "      <td>1922.000000</td>\n",
       "      <td>1.000000</td>\n",
       "    </tr>\n",
       "    <tr>\n",
       "      <th>25%</th>\n",
       "      <td>1945.000000</td>\n",
       "      <td>26.000000</td>\n",
       "    </tr>\n",
       "    <tr>\n",
       "      <th>50%</th>\n",
       "      <td>1967.000000</td>\n",
       "      <td>981.000000</td>\n",
       "    </tr>\n",
       "    <tr>\n",
       "      <th>75%</th>\n",
       "      <td>1989.000000</td>\n",
       "      <td>4764.000000</td>\n",
       "    </tr>\n",
       "    <tr>\n",
       "      <th>max</th>\n",
       "      <td>2011.000000</td>\n",
       "      <td>35686.000000</td>\n",
       "    </tr>\n",
       "  </tbody>\n",
       "</table>\n",
       "</div>"
      ],
      "text/plain": [
       "              year       song_id\n",
       "count    89.000000     89.000000\n",
       "mean   1966.988764   5132.707865\n",
       "std      25.855584   8908.699464\n",
       "min    1922.000000      1.000000\n",
       "25%    1945.000000     26.000000\n",
       "50%    1967.000000    981.000000\n",
       "75%    1989.000000   4764.000000\n",
       "max    2011.000000  35686.000000"
      ]
     },
     "execution_count": 33,
     "metadata": {},
     "output_type": "execute_result"
    }
   ],
   "source": [
    "#Get count of songs by year\n",
    "\n",
    "yearly_songs = basic_features[['year','song_id']].groupby('year',as_index=False).count()\n",
    "\n",
    "yearly_songs.describe()"
   ]
  },
  {
   "cell_type": "code",
   "execution_count": 34,
   "metadata": {},
   "outputs": [
    {
     "data": {
      "image/png": "[encoded data removed]",
      "text/plain": [
       "<matplotlib.figure.Figure at 0x1a1ad942e8>"
      ]
     },
     "metadata": {},
     "output_type": "display_data"
    }
   ],
   "source": [
    "#Graph of songs by year\n",
    "\n",
    "songs_by_year = yearly_songs.plot('year','song_id',legend=None)\n",
    "\n",
    "plt.ylabel('Count of Songs')\n",
    "\n",
    "plt.xlabel('Year')\n",
    "\n",
    "plt.title('Songs by Year')\n",
    "\n",
    "plt.grid(False)\n",
    "\n",
    "x_ticks=np.arange(1900,2020,10)\n",
    "\n",
    "plt.xticks(x_ticks,rotation = 50)\n",
    "\n",
    "songs_by_year_figure = songs_by_year.get_figure()\n",
    "\n",
    "songs_by_year_figure.savefig('Songs by Year_line.png', dpi=400)\n"
   ]
  },
  {
   "cell_type": "code",
   "execution_count": 35,
   "metadata": {},
   "outputs": [
    {
     "data": {
      "text/html": [
       "<div>\n",
       "<style scoped>\n",
       "    .dataframe tbody tr th:only-of-type {\n",
       "        vertical-align: middle;\n",
       "    }\n",
       "\n",
       "    .dataframe tbody tr th {\n",
       "        vertical-align: top;\n",
       "    }\n",
       "\n",
       "    .dataframe thead th {\n",
       "        text-align: right;\n",
       "    }\n",
       "</style>\n",
       "<table border=\"1\" class=\"dataframe\">\n",
       "  <thead>\n",
       "    <tr style=\"text-align: right;\">\n",
       "      <th></th>\n",
       "      <th>song_id</th>\n",
       "    </tr>\n",
       "  </thead>\n",
       "  <tbody>\n",
       "    <tr>\n",
       "      <th>count</th>\n",
       "      <td>44421.000000</td>\n",
       "    </tr>\n",
       "    <tr>\n",
       "      <th>mean</th>\n",
       "      <td>20.389275</td>\n",
       "    </tr>\n",
       "    <tr>\n",
       "      <th>std</th>\n",
       "      <td>21.171404</td>\n",
       "    </tr>\n",
       "    <tr>\n",
       "      <th>min</th>\n",
       "      <td>1.000000</td>\n",
       "    </tr>\n",
       "    <tr>\n",
       "      <th>25%</th>\n",
       "      <td>4.000000</td>\n",
       "    </tr>\n",
       "    <tr>\n",
       "      <th>50%</th>\n",
       "      <td>13.000000</td>\n",
       "    </tr>\n",
       "    <tr>\n",
       "      <th>75%</th>\n",
       "      <td>30.000000</td>\n",
       "    </tr>\n",
       "    <tr>\n",
       "      <th>max</th>\n",
       "      <td>187.000000</td>\n",
       "    </tr>\n",
       "  </tbody>\n",
       "</table>\n",
       "</div>"
      ],
      "text/plain": [
       "            song_id\n",
       "count  44421.000000\n",
       "mean      20.389275\n",
       "std       21.171404\n",
       "min        1.000000\n",
       "25%        4.000000\n",
       "50%       13.000000\n",
       "75%       30.000000\n",
       "max      187.000000"
      ]
     },
     "execution_count": 35,
     "metadata": {},
     "output_type": "execute_result"
    }
   ],
   "source": [
    "#Get count of songs by artist\n",
    "\n",
    "artist_songs = basic_features[['artist_id','song_id']].groupby('artist_id',as_index=False).count()\n",
    "\n",
    "artist_songs.describe()"
   ]
  },
  {
   "cell_type": "code",
   "execution_count": 36,
   "metadata": {},
   "outputs": [
    {
     "data": {
      "image/png": "[encoded data removed]",
      "text/plain": [
       "<matplotlib.figure.Figure at 0x1a1ad90860>"
      ]
     },
     "metadata": {},
     "output_type": "display_data"
    }
   ],
   "source": [
    "#Songs by artist\n",
    "\n",
    "songs_by_artist_hist = sns.distplot(artist_songs.song_id, norm_hist=True)\n",
    "\n",
    "plt.ylabel('Frequency')\n",
    "\n",
    "plt.xlabel('Count of Songs')\n",
    "\n",
    "plt.title('Artist Song Counts')\n",
    "\n",
    "plt.xticks(rotation = 50)\n",
    "\n",
    "plt.grid(False)\n",
    "\n",
    "songs_by_artist_figure = songs_by_artist_hist.get_figure()\n",
    "\n",
    "songs_by_artist_figure.savefig('Songs by Artist_hist.png', dpi=400)"
   ]
  },
  {
   "cell_type": "markdown",
   "metadata": {},
   "source": [
    "# Relationship between basic song features and listens"
   ]
  },
  {
   "cell_type": "code",
   "execution_count": 37,
   "metadata": {
    "scrolled": false
   },
   "outputs": [
    {
     "name": "stdout",
     "output_type": "stream",
     "text": [
      "<class 'pandas.core.frame.DataFrame'>\n",
      "Int64Index: 905712 entries, 0 to 905711\n",
      "Data columns (total 15 columns):\n",
      "artist_familiarity    905531 non-null float64\n",
      "artist_hotttnesss     905700 non-null float64\n",
      "artist_id             905712 non-null object\n",
      "song_hotttnesss       551532 non-null float64\n",
      "song_id               905712 non-null object\n",
      "danceability          905712 non-null float64\n",
      "duration              905712 non-null float64\n",
      "energy                905712 non-null float64\n",
      "key                   905712 non-null int64\n",
      "loudness              905712 non-null float64\n",
      "mode                  905712 non-null int64\n",
      "tempo                 905712 non-null float64\n",
      "time_signature        905712 non-null int64\n",
      "year                  456811 non-null float64\n",
      "play                  360110 non-null float64\n",
      "dtypes: float64(10), int64(3), object(2)\n",
      "memory usage: 110.6+ MB\n"
     ]
    }
   ],
   "source": [
    "basic_features_song_listens.info()"
   ]
  },
  {
   "cell_type": "code",
   "execution_count": 38,
   "metadata": {},
   "outputs": [
    {
     "data": {
      "image/png": "[encoded data removed]",
      "text/plain": [
       "<matplotlib.figure.Figure at 0x1a1ad845c0>"
      ]
     },
     "metadata": {},
     "output_type": "display_data"
    }
   ],
   "source": [
    "#artist_familiarity, listens\n",
    "\n",
    "listen_artistfam = sns.jointplot(x= 'artist_familiarity', y= 'play',data=basic_features_song_listens)\n",
    "\n",
    "plt.grid(False)\n",
    "\n",
    "listen_artistfam.set_axis_labels('Artist Familiarity','Listens')\n",
    "\n",
    "listen_artistfam.savefig('listen_artistfam_joint.png', dpi=400)"
   ]
  },
  {
   "cell_type": "code",
   "execution_count": 39,
   "metadata": {},
   "outputs": [
    {
     "data": {
      "image/png": "[encoded data removed]",
      "text/plain": [
       "<matplotlib.figure.Figure at 0x1a1e68bba8>"
      ]
     },
     "metadata": {},
     "output_type": "display_data"
    }
   ],
   "source": [
    "#artist_hotness, listens\n",
    "\n",
    "listen_artisthot = sns.jointplot(y= 'play', x= 'artist_hotttnesss', data=basic_features_song_listens)\n",
    "\n",
    "listen_artisthot.set_axis_labels('Artist Hotness','Listens')\n",
    "\n",
    "listen_artisthot.savefig('listen_artisthot_joint.png', dpi=400)"
   ]
  },
  {
   "cell_type": "code",
   "execution_count": 40,
   "metadata": {},
   "outputs": [
    {
     "data": {
      "image/png": "[encoded data removed]",
      "text/plain": [
       "<matplotlib.figure.Figure at 0x1a26a1f208>"
      ]
     },
     "metadata": {},
     "output_type": "display_data"
    }
   ],
   "source": [
    "#song_hotness, listens\n",
    "\n",
    "listen_song_hot = sns.jointplot(y= 'play', x= 'song_hotttnesss', data=basic_features_song_listens)\n",
    "\n",
    "listen_song_hot.set_axis_labels('Song Hotness','Listens')\n",
    "\n",
    "listen_song_hot.savefig('listen_songhot_joint.png', dpi=400)"
   ]
  },
  {
   "cell_type": "code",
   "execution_count": 41,
   "metadata": {},
   "outputs": [
    {
     "data": {
      "image/png": "[encoded data removed]",
      "text/plain": [
       "<matplotlib.figure.Figure at 0x1a263b6cc0>"
      ]
     },
     "metadata": {},
     "output_type": "display_data"
    }
   ],
   "source": [
    "#duration, listens\n",
    "\n",
    "listen_dur = sns.jointplot(y= 'play', x= 'duration', data=basic_features_song_listens)\n",
    "\n",
    "listen_dur.set_axis_labels('Duration','Listens')\n",
    "\n",
    "listen_dur.savefig('listen_duration_joint.png', dpi=400)"
   ]
  },
  {
   "cell_type": "code",
   "execution_count": 42,
   "metadata": {},
   "outputs": [
    {
     "data": {
      "image/png": "[encoded data removed]",
      "text/plain": [
       "<matplotlib.figure.Figure at 0x1a26c245c0>"
      ]
     },
     "metadata": {},
     "output_type": "display_data"
    }
   ],
   "source": [
    "#key, listens\n",
    "\n",
    "listen_key = sns.jointplot(x= 'key', y= 'play', data=basic_features_song_listens)\n",
    "\n",
    "\n",
    "listen_key.set_axis_labels('Key','Listens')\n",
    "\n",
    "listen_key.savefig('listen_key_joint.png', dpi=400)"
   ]
  },
  {
   "cell_type": "code",
   "execution_count": 43,
   "metadata": {},
   "outputs": [
    {
     "data": {
      "image/png": "[encoded data removed]",
      "text/plain": [
       "<matplotlib.figure.Figure at 0x1a29d956d8>"
      ]
     },
     "metadata": {},
     "output_type": "display_data"
    }
   ],
   "source": [
    "#loudness, listens\n",
    "\n",
    "listen_loud = sns.jointplot(y= 'play', x= 'loudness', data=basic_features_song_listens)\n",
    "\n",
    "listen_loud.set_axis_labels('Loudness','Listens')\n",
    "\n",
    "listen_loud.savefig('listen_loud_joint.png', dpi=400)"
   ]
  },
  {
   "cell_type": "code",
   "execution_count": 44,
   "metadata": {},
   "outputs": [
    {
     "data": {
      "image/png": "[encoded data removed]",
      "text/plain": [
       "<matplotlib.figure.Figure at 0x1a1ad89240>"
      ]
     },
     "metadata": {},
     "output_type": "display_data"
    }
   ],
   "source": [
    "#mode, listens\n",
    "\n",
    "listen_mode = sns.jointplot(y= 'play', x= 'mode', data=basic_features_song_listens)\n",
    "\n",
    "listen_mode.set_axis_labels('Mode','Listens')\n",
    "\n",
    "listen_mode.savefig('listen_mode_joint.png', dpi=400)"
   ]
  },
  {
   "cell_type": "code",
   "execution_count": 45,
   "metadata": {},
   "outputs": [
    {
     "data": {
      "image/png": "[encoded data removed]",
      "text/plain": [
       "<matplotlib.figure.Figure at 0x1a2b4a2c50>"
      ]
     },
     "metadata": {},
     "output_type": "display_data"
    }
   ],
   "source": [
    "#tempo, listens\n",
    "\n",
    "listen_tempo = sns.jointplot(x= 'play', y= 'tempo', data=basic_features_song_listens)\n",
    "\n",
    "listen_tempo.set_axis_labels('Tempo','Listens')\n",
    "\n",
    "listen_tempo.savefig('listen_tempo_joint.png', dpi=400)"
   ]
  },
  {
   "cell_type": "code",
   "execution_count": 46,
   "metadata": {},
   "outputs": [
    {
     "data": {
      "image/png": "[encoded data removed]",
      "text/plain": [
       "<matplotlib.figure.Figure at 0x1a1fefccf8>"
      ]
     },
     "metadata": {},
     "output_type": "display_data"
    }
   ],
   "source": [
    "#time signature, listens\n",
    "\n",
    "listen_timesig = sns.jointplot(y= 'play', x= 'time_signature', data=basic_features_song_listens)\n",
    "\n",
    "listen_timesig.set_axis_labels('Time Signature','Listens')\n",
    "\n",
    "listen_timesig.savefig('listen_timesig_joint.png', dpi=400)"
   ]
  },
  {
   "cell_type": "code",
   "execution_count": 47,
   "metadata": {},
   "outputs": [
    {
     "data": {
      "image/png": "[encoded data removed]",
      "text/plain": [
       "<matplotlib.figure.Figure at 0x1a2b48e748>"
      ]
     },
     "metadata": {},
     "output_type": "display_data"
    }
   ],
   "source": [
    "#year, listens\n",
    "\n",
    "listen_year = sns.jointplot(y= 'play', x= 'year', data=basic_features_song_listens)\n",
    "\n",
    "listen_year.set_axis_labels('Time Year','Listens')\n",
    "\n",
    "listen_year.savefig('listen_year_joint.png', dpi=400)"
   ]
  },
  {
   "cell_type": "markdown",
   "metadata": {},
   "source": [
    "# Explore Artist Tags & Terms"
   ]
  },
  {
   "cell_type": "code",
   "execution_count": 48,
   "metadata": {},
   "outputs": [
    {
     "data": {
      "text/html": [
       "<div>\n",
       "<style scoped>\n",
       "    .dataframe tbody tr th:only-of-type {\n",
       "        vertical-align: middle;\n",
       "    }\n",
       "\n",
       "    .dataframe tbody tr th {\n",
       "        vertical-align: top;\n",
       "    }\n",
       "\n",
       "    .dataframe thead th {\n",
       "        text-align: right;\n",
       "    }\n",
       "</style>\n",
       "<table border=\"1\" class=\"dataframe\">\n",
       "  <thead>\n",
       "    <tr style=\"text-align: right;\">\n",
       "      <th></th>\n",
       "      <th>mbtag</th>\n",
       "      <th>artist_id</th>\n",
       "    </tr>\n",
       "  </thead>\n",
       "  <tbody>\n",
       "    <tr>\n",
       "      <th>460</th>\n",
       "      <td>classic pop and rock</td>\n",
       "      <td>38597</td>\n",
       "    </tr>\n",
       "    <tr>\n",
       "      <th>350</th>\n",
       "      <td>british</td>\n",
       "      <td>35126</td>\n",
       "    </tr>\n",
       "    <tr>\n",
       "      <th>2185</th>\n",
       "      <td>uk</td>\n",
       "      <td>34399</td>\n",
       "    </tr>\n",
       "    <tr>\n",
       "      <th>109</th>\n",
       "      <td>american</td>\n",
       "      <td>33806</td>\n",
       "    </tr>\n",
       "    <tr>\n",
       "      <th>1807</th>\n",
       "      <td>rock and indie</td>\n",
       "      <td>30127</td>\n",
       "    </tr>\n",
       "    <tr>\n",
       "      <th>1805</th>\n",
       "      <td>rock</td>\n",
       "      <td>26207</td>\n",
       "    </tr>\n",
       "    <tr>\n",
       "      <th>743</th>\n",
       "      <td>english</td>\n",
       "      <td>24311</td>\n",
       "    </tr>\n",
       "    <tr>\n",
       "      <th>824</th>\n",
       "      <td>folk</td>\n",
       "      <td>18510</td>\n",
       "    </tr>\n",
       "    <tr>\n",
       "      <th>1722</th>\n",
       "      <td>punk</td>\n",
       "      <td>18377</td>\n",
       "    </tr>\n",
       "    <tr>\n",
       "      <th>727</th>\n",
       "      <td>electronic</td>\n",
       "      <td>15170</td>\n",
       "    </tr>\n",
       "    <tr>\n",
       "      <th>897</th>\n",
       "      <td>german</td>\n",
       "      <td>14111</td>\n",
       "    </tr>\n",
       "    <tr>\n",
       "      <th>1624</th>\n",
       "      <td>pop</td>\n",
       "      <td>12190</td>\n",
       "    </tr>\n",
       "    <tr>\n",
       "      <th>2213</th>\n",
       "      <td>usa</td>\n",
       "      <td>10501</td>\n",
       "    </tr>\n",
       "    <tr>\n",
       "      <th>561</th>\n",
       "      <td>dance and electronica</td>\n",
       "      <td>9822</td>\n",
       "    </tr>\n",
       "    <tr>\n",
       "      <th>1015</th>\n",
       "      <td>hip hop rnb and dance hall</td>\n",
       "      <td>9616</td>\n",
       "    </tr>\n",
       "  </tbody>\n",
       "</table>\n",
       "</div>"
      ],
      "text/plain": [
       "                           mbtag  artist_id\n",
       "460         classic pop and rock      38597\n",
       "350                      british      35126\n",
       "2185                          uk      34399\n",
       "109                     american      33806\n",
       "1807              rock and indie      30127\n",
       "1805                        rock      26207\n",
       "743                      english      24311\n",
       "824                         folk      18510\n",
       "1722                        punk      18377\n",
       "727                   electronic      15170\n",
       "897                       german      14111\n",
       "1624                         pop      12190\n",
       "2213                         usa      10501\n",
       "561        dance and electronica       9822\n",
       "1015  hip hop rnb and dance hall       9616"
      ]
     },
     "execution_count": 48,
     "metadata": {},
     "output_type": "execute_result"
    }
   ],
   "source": [
    "#Count Tags\n",
    "\n",
    "tag_counts = tags_data[['mbtag','artist_id']].groupby('mbtag',as_index=False).count()\n",
    "\n",
    "tag_counts_top = tag_counts.sort_values('artist_id',ascending=False).head(15)\n",
    "\n",
    "tag_counts_top"
   ]
  },
  {
   "cell_type": "code",
   "execution_count": 49,
   "metadata": {},
   "outputs": [
    {
     "data": {
      "text/html": [
       "<div>\n",
       "<style scoped>\n",
       "    .dataframe tbody tr th:only-of-type {\n",
       "        vertical-align: middle;\n",
       "    }\n",
       "\n",
       "    .dataframe tbody tr th {\n",
       "        vertical-align: top;\n",
       "    }\n",
       "\n",
       "    .dataframe thead th {\n",
       "        text-align: right;\n",
       "    }\n",
       "</style>\n",
       "<table border=\"1\" class=\"dataframe\">\n",
       "  <thead>\n",
       "    <tr style=\"text-align: right;\">\n",
       "      <th></th>\n",
       "      <th>artist_id</th>\n",
       "    </tr>\n",
       "  </thead>\n",
       "  <tbody>\n",
       "    <tr>\n",
       "      <th>count</th>\n",
       "      <td>2321.000000</td>\n",
       "    </tr>\n",
       "    <tr>\n",
       "      <th>mean</th>\n",
       "      <td>343.879793</td>\n",
       "    </tr>\n",
       "    <tr>\n",
       "      <th>std</th>\n",
       "      <td>2032.004393</td>\n",
       "    </tr>\n",
       "    <tr>\n",
       "      <th>min</th>\n",
       "      <td>1.000000</td>\n",
       "    </tr>\n",
       "    <tr>\n",
       "      <th>25%</th>\n",
       "      <td>25.000000</td>\n",
       "    </tr>\n",
       "    <tr>\n",
       "      <th>50%</th>\n",
       "      <td>43.000000</td>\n",
       "    </tr>\n",
       "    <tr>\n",
       "      <th>75%</th>\n",
       "      <td>104.000000</td>\n",
       "    </tr>\n",
       "    <tr>\n",
       "      <th>max</th>\n",
       "      <td>38597.000000</td>\n",
       "    </tr>\n",
       "  </tbody>\n",
       "</table>\n",
       "</div>"
      ],
      "text/plain": [
       "          artist_id\n",
       "count   2321.000000\n",
       "mean     343.879793\n",
       "std     2032.004393\n",
       "min        1.000000\n",
       "25%       25.000000\n",
       "50%       43.000000\n",
       "75%      104.000000\n",
       "max    38597.000000"
      ]
     },
     "execution_count": 49,
     "metadata": {},
     "output_type": "execute_result"
    }
   ],
   "source": [
    "tag_counts.describe() # 2,321 tags"
   ]
  },
  {
   "cell_type": "code",
   "execution_count": 50,
   "metadata": {},
   "outputs": [
    {
     "data": {
      "image/png": "[encoded data removed]",
      "text/plain": [
       "<matplotlib.figure.Figure at 0x1a2a17df98>"
      ]
     },
     "metadata": {},
     "output_type": "display_data"
    }
   ],
   "source": [
    "#Create bar graph of top 15 artist tags\n",
    "\n",
    "sns.set(style=\"whitegrid\")\n",
    "\n",
    "sns.set_color_codes(\"pastel\")\n",
    "\n",
    "bar_tags = sns.barplot(y='mbtag',x='artist_id', data=tag_counts_top, color='b')\n",
    "\n",
    "plt.grid(False)\n",
    "\n",
    "plt.title('Most Common Artist Tags') #add title\n",
    "\n",
    "plt.ylabel(' ') #blank y-axis label\n",
    "\n",
    "plt.xlabel('Frequency of Tag') #add x-axis label\n",
    "\n",
    "plt.show() #show resulting graph\n",
    "\n",
    "bar_tags_figure = bar_tags.get_figure()\n",
    "\n",
    "bar_tags_figure.savefig('Artist Tags_Top15.png', dpi=400)"
   ]
  },
  {
   "cell_type": "code",
   "execution_count": 51,
   "metadata": {},
   "outputs": [
    {
     "data": {
      "image/png": "[encoded data removed]",
      "text/plain": [
       "<matplotlib.figure.Figure at 0x1a29967be0>"
      ]
     },
     "metadata": {},
     "output_type": "display_data"
    }
   ],
   "source": [
    "#Histogram of Artist Tags\n",
    "\n",
    "hist_tags = sns.distplot(tag_counts.artist_id, bins = 20, norm_hist=True)\n",
    "\n",
    "plt.ylabel('Frequency')\n",
    "\n",
    "plt.xlabel('Tag Counts')\n",
    "\n",
    "plt.title('Artist Tags \\n (2,321 unique tags)')\n",
    "\n",
    "plt.xticks(rotation = 50)\n",
    "\n",
    "plt.tight_layout()\n",
    "\n",
    "hist_tags_figure = hist_tags.get_figure()\n",
    "\n",
    "hist_tags_figure.savefig('Artist Tags_hist.png', dpi=400)"
   ]
  },
  {
   "cell_type": "code",
   "execution_count": 52,
   "metadata": {},
   "outputs": [
    {
     "data": {
      "text/html": [
       "<div>\n",
       "<style scoped>\n",
       "    .dataframe tbody tr th:only-of-type {\n",
       "        vertical-align: middle;\n",
       "    }\n",
       "\n",
       "    .dataframe tbody tr th {\n",
       "        vertical-align: top;\n",
       "    }\n",
       "\n",
       "    .dataframe thead th {\n",
       "        text-align: right;\n",
       "    }\n",
       "</style>\n",
       "<table border=\"1\" class=\"dataframe\">\n",
       "  <thead>\n",
       "    <tr style=\"text-align: right;\">\n",
       "      <th></th>\n",
       "      <th>terms</th>\n",
       "      <th>artist_id</th>\n",
       "    </tr>\n",
       "  </thead>\n",
       "  <tbody>\n",
       "    <tr>\n",
       "      <th>6002</th>\n",
       "      <td>rock</td>\n",
       "      <td>40843</td>\n",
       "    </tr>\n",
       "    <tr>\n",
       "      <th>2219</th>\n",
       "      <td>electronic</td>\n",
       "      <td>34129</td>\n",
       "    </tr>\n",
       "    <tr>\n",
       "      <th>5433</th>\n",
       "      <td>pop</td>\n",
       "      <td>30486</td>\n",
       "    </tr>\n",
       "    <tr>\n",
       "      <th>293</th>\n",
       "      <td>alternative rock</td>\n",
       "      <td>22965</td>\n",
       "    </tr>\n",
       "    <tr>\n",
       "      <th>3408</th>\n",
       "      <td>hip hop</td>\n",
       "      <td>19404</td>\n",
       "    </tr>\n",
       "    <tr>\n",
       "      <th>269</th>\n",
       "      <td>alternative</td>\n",
       "      <td>18714</td>\n",
       "    </tr>\n",
       "    <tr>\n",
       "      <th>3863</th>\n",
       "      <td>jazz</td>\n",
       "      <td>17783</td>\n",
       "    </tr>\n",
       "    <tr>\n",
       "      <th>7329</th>\n",
       "      <td>united states</td>\n",
       "      <td>17774</td>\n",
       "    </tr>\n",
       "    <tr>\n",
       "      <th>3566</th>\n",
       "      <td>indie</td>\n",
       "      <td>17390</td>\n",
       "    </tr>\n",
       "    <tr>\n",
       "      <th>2176</th>\n",
       "      <td>electro</td>\n",
       "      <td>16070</td>\n",
       "    </tr>\n",
       "    <tr>\n",
       "      <th>5748</th>\n",
       "      <td>punk</td>\n",
       "      <td>15857</td>\n",
       "    </tr>\n",
       "    <tr>\n",
       "      <th>2400</th>\n",
       "      <td>experimental</td>\n",
       "      <td>15813</td>\n",
       "    </tr>\n",
       "    <tr>\n",
       "      <th>3600</th>\n",
       "      <td>indie rock</td>\n",
       "      <td>15638</td>\n",
       "    </tr>\n",
       "    <tr>\n",
       "      <th>3463</th>\n",
       "      <td>house</td>\n",
       "      <td>15630</td>\n",
       "    </tr>\n",
       "    <tr>\n",
       "      <th>5467</th>\n",
       "      <td>pop rock</td>\n",
       "      <td>15057</td>\n",
       "    </tr>\n",
       "  </tbody>\n",
       "</table>\n",
       "</div>"
      ],
      "text/plain": [
       "                 terms  artist_id\n",
       "6002              rock      40843\n",
       "2219        electronic      34129\n",
       "5433               pop      30486\n",
       "293   alternative rock      22965\n",
       "3408           hip hop      19404\n",
       "269        alternative      18714\n",
       "3863              jazz      17783\n",
       "7329     united states      17774\n",
       "3566             indie      17390\n",
       "2176           electro      16070\n",
       "5748              punk      15857\n",
       "2400      experimental      15813\n",
       "3600        indie rock      15638\n",
       "3463             house      15630\n",
       "5467          pop rock      15057"
      ]
     },
     "execution_count": 52,
     "metadata": {},
     "output_type": "execute_result"
    }
   ],
   "source": [
    "#Count Terms\n",
    "\n",
    "term_counts = tags_data[['terms','artist_id']].groupby('terms',as_index=False).count()\n",
    "\n",
    "term_counts_top = term_counts.sort_values('artist_id',ascending=False).head(15)\n",
    "\n",
    "term_counts_top"
   ]
  },
  {
   "cell_type": "code",
   "execution_count": 53,
   "metadata": {},
   "outputs": [
    {
     "data": {
      "text/html": [
       "<div>\n",
       "<style scoped>\n",
       "    .dataframe tbody tr th:only-of-type {\n",
       "        vertical-align: middle;\n",
       "    }\n",
       "\n",
       "    .dataframe tbody tr th {\n",
       "        vertical-align: top;\n",
       "    }\n",
       "\n",
       "    .dataframe thead th {\n",
       "        text-align: right;\n",
       "    }\n",
       "</style>\n",
       "<table border=\"1\" class=\"dataframe\">\n",
       "  <thead>\n",
       "    <tr style=\"text-align: right;\">\n",
       "      <th></th>\n",
       "      <th>artist_id</th>\n",
       "    </tr>\n",
       "  </thead>\n",
       "  <tbody>\n",
       "    <tr>\n",
       "      <th>count</th>\n",
       "      <td>7643.000000</td>\n",
       "    </tr>\n",
       "    <tr>\n",
       "      <th>mean</th>\n",
       "      <td>212.104933</td>\n",
       "    </tr>\n",
       "    <tr>\n",
       "      <th>std</th>\n",
       "      <td>1310.005104</td>\n",
       "    </tr>\n",
       "    <tr>\n",
       "      <th>min</th>\n",
       "      <td>1.000000</td>\n",
       "    </tr>\n",
       "    <tr>\n",
       "      <th>25%</th>\n",
       "      <td>2.000000</td>\n",
       "    </tr>\n",
       "    <tr>\n",
       "      <th>50%</th>\n",
       "      <td>7.000000</td>\n",
       "    </tr>\n",
       "    <tr>\n",
       "      <th>75%</th>\n",
       "      <td>32.000000</td>\n",
       "    </tr>\n",
       "    <tr>\n",
       "      <th>max</th>\n",
       "      <td>40843.000000</td>\n",
       "    </tr>\n",
       "  </tbody>\n",
       "</table>\n",
       "</div>"
      ],
      "text/plain": [
       "          artist_id\n",
       "count   7643.000000\n",
       "mean     212.104933\n",
       "std     1310.005104\n",
       "min        1.000000\n",
       "25%        2.000000\n",
       "50%        7.000000\n",
       "75%       32.000000\n",
       "max    40843.000000"
      ]
     },
     "execution_count": 53,
     "metadata": {},
     "output_type": "execute_result"
    }
   ],
   "source": [
    "term_counts.describe() #7,643 terms"
   ]
  },
  {
   "cell_type": "code",
   "execution_count": 54,
   "metadata": {},
   "outputs": [
    {
     "data": {
      "image/png": "[encoded data removed]",
      "text/plain": [
       "<matplotlib.figure.Figure at 0x1a29927b00>"
      ]
     },
     "metadata": {},
     "output_type": "display_data"
    }
   ],
   "source": [
    "#Create bar graph of top 15 artist terms\n",
    "\n",
    "sns.set(style=\"whitegrid\")\n",
    "\n",
    "sns.set_color_codes(\"pastel\")\n",
    "\n",
    "bar_terms = sns.barplot(y='terms',x='artist_id', data=term_counts_top, color='b')\n",
    "\n",
    "plt.title('Most Common Artist Terms') #add title\n",
    "\n",
    "plt.grid(False)\n",
    "\n",
    "plt.ylabel(' ') #blank y-axis label\n",
    "\n",
    "plt.xlabel('Frequency of Terms') #add x-axis label\n",
    "\n",
    "plt.show() #show resulting graph\n",
    "\n",
    "bar_terms_figure = bar_terms.get_figure()\n",
    "\n",
    "bar_terms_figure.savefig('Artist Terms_Top15.png', dpi=400)"
   ]
  },
  {
   "cell_type": "code",
   "execution_count": 55,
   "metadata": {},
   "outputs": [
    {
     "data": {
      "image/png": "[encoded data removed]",
      "text/plain": [
       "<matplotlib.figure.Figure at 0x1a2f0d8208>"
      ]
     },
     "metadata": {},
     "output_type": "display_data"
    }
   ],
   "source": [
    "#Histogram of Artist Terms\n",
    "\n",
    "hist_terms = sns.distplot(term_counts.artist_id, bins = 20, norm_hist=True)\n",
    "\n",
    "plt.ylabel('Frequency')\n",
    "\n",
    "plt.xlabel('Term Counts')\n",
    "\n",
    "plt.title('Artist Terms \\n (7,643 unique terms)')\n",
    "\n",
    "plt.xticks(rotation = 50)\n",
    "\n",
    "plt.tight_layout()\n",
    "\n",
    "hist_terms_figure = hist_terms.get_figure()\n",
    "\n",
    "hist_terms_figure.savefig('Artist Terms_hist.png', dpi=400)"
   ]
  },
  {
   "cell_type": "markdown",
   "metadata": {},
   "source": [
    "# End of Notebook"
   ]
  }
 ],
 "metadata": {
  "kernelspec": {
   "display_name": "Python 3",
   "language": "python",
   "name": "python3"
  },
  "language_info": {
   "codemirror_mode": {
    "name": "ipython",
    "version": 3
   },
   "file_extension": ".py",
   "mimetype": "text/x-python",
   "name": "python",
   "nbconvert_exporter": "python",
   "pygments_lexer": "ipython3",
   "version": "3.6.4"
  }
 },
 "nbformat": 4,
 "nbformat_minor": 2
}
