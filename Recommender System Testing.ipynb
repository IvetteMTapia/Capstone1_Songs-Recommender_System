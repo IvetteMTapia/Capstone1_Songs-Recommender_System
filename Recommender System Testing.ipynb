{
 "cells": [
  {
   "cell_type": "markdown",
   "metadata": {},
   "source": [
    "# Recommender System Small Scale Testing"
   ]
  },
  {
   "cell_type": "markdown",
   "metadata": {},
   "source": [
    "## Import Libraries"
   ]
  },
  {
   "cell_type": "code",
   "execution_count": 1,
   "metadata": {
    "collapsed": false
   },
   "outputs": [],
   "source": [
    "import pandas as pd\n",
    "import matplotlib.pyplot as plt\n",
    "import seaborn as sns\n",
    "import numpy as np\n",
    "from scipy import stats\n",
    "import graphlab as gl\n",
    "import random"
   ]
  },
  {
   "cell_type": "markdown",
   "metadata": {},
   "source": [
    "## Upload Song-User Matrix"
   ]
  },
  {
   "cell_type": "markdown",
   "metadata": {},
   "source": [
    "Since the complete song-user matrix is extremely large, I will randomly sample from the locally stored csv file for training and testing; rather than uploading the entire file."
   ]
  },
  {
   "cell_type": "code",
   "execution_count": 2,
   "metadata": {
    "collapsed": true
   },
   "outputs": [],
   "source": [
    "#Set random seed\n",
    "\n",
    "random.seed(21)\n",
    "\n",
    "#Find cleaned user song matrix\n",
    "\n",
    "file = ('/Users/ivettetapia 1/Symbolic Link Seagate Drive/Springboard/Capstone 1_Mus_Recomend/Data/msd_song_user_matrix.csv')\n",
    "\n",
    "#Count number of records\n",
    "\n",
    "n = sum(1 for line in open(file)) #number of records in file (excludes header)\n",
    "\n",
    "s = 20000 # sample size to draw\n",
    "\n",
    "# Create random skip pattern for pandas\n",
    "\n",
    "skip = sorted(random.sample(xrange(1,n+1),n-s))"
   ]
  },
  {
   "cell_type": "code",
   "execution_count": 3,
   "metadata": {
    "collapsed": false
   },
   "outputs": [
    {
     "data": {
      "text/html": [
       "<div>\n",
       "<table border=\"1\" class=\"dataframe\">\n",
       "  <thead>\n",
       "    <tr style=\"text-align: right;\">\n",
       "      <th></th>\n",
       "      <th>artist_familiarity</th>\n",
       "      <th>artist_hotttnesss</th>\n",
       "      <th>artist_id</th>\n",
       "      <th>artist_name</th>\n",
       "      <th>release</th>\n",
       "      <th>song_hotttnesss</th>\n",
       "      <th>song_id</th>\n",
       "      <th>title</th>\n",
       "      <th>duration</th>\n",
       "      <th>key</th>\n",
       "      <th>loudness</th>\n",
       "      <th>mode</th>\n",
       "      <th>tempo</th>\n",
       "      <th>time_signature</th>\n",
       "      <th>year</th>\n",
       "      <th>user_id</th>\n",
       "      <th>play_count</th>\n",
       "      <th>play</th>\n",
       "    </tr>\n",
       "  </thead>\n",
       "  <tbody>\n",
       "    <tr>\n",
       "      <th>10736</th>\n",
       "      <td>0.682101</td>\n",
       "      <td>0.424108</td>\n",
       "      <td>ARPATQ21187B9ACAFC</td>\n",
       "      <td>Happy Mondays</td>\n",
       "      <td>\"Pills 'n' Thrills And Bellyaches\"</td>\n",
       "      <td>0.587427</td>\n",
       "      <td>SOXHHAO12A8C139833</td>\n",
       "      <td>Holiday</td>\n",
       "      <td>208.74404</td>\n",
       "      <td>9.0</td>\n",
       "      <td>-13.301</td>\n",
       "      <td>0.0</td>\n",
       "      <td>117.819</td>\n",
       "      <td>4.0</td>\n",
       "      <td>1990.0</td>\n",
       "      <td>71744020075ed5d4a1570b7edc092a4fb940712f</td>\n",
       "      <td>1.0</td>\n",
       "      <td>1.0</td>\n",
       "    </tr>\n",
       "    <tr>\n",
       "      <th>18924</th>\n",
       "      <td>0.791802</td>\n",
       "      <td>0.637302</td>\n",
       "      <td>ARKZ13R1187FB54FEE</td>\n",
       "      <td>Josh Turner</td>\n",
       "      <td>Haywire</td>\n",
       "      <td>0.520689</td>\n",
       "      <td>SOMRPIR12AB018623A</td>\n",
       "      <td>\"I'll Be There\"</td>\n",
       "      <td>217.52118</td>\n",
       "      <td>2.0</td>\n",
       "      <td>-11.703</td>\n",
       "      <td>1.0</td>\n",
       "      <td>146.762</td>\n",
       "      <td>7.0</td>\n",
       "      <td>NaN</td>\n",
       "      <td>4d2b4a0faa753dedb539ed97edb6b7278b1ce688</td>\n",
       "      <td>1.0</td>\n",
       "      <td>1.0</td>\n",
       "    </tr>\n",
       "    <tr>\n",
       "      <th>31681</th>\n",
       "      <td>0.623082</td>\n",
       "      <td>0.459220</td>\n",
       "      <td>ARNFXPT1187FB39D5B</td>\n",
       "      <td>Base Ball Bear</td>\n",
       "      <td>Yuugata Generation</td>\n",
       "      <td>0.533910</td>\n",
       "      <td>SOQCGHN12AB0181246</td>\n",
       "      <td>Sayonara-Nostalgia</td>\n",
       "      <td>255.60771</td>\n",
       "      <td>11.0</td>\n",
       "      <td>-5.047</td>\n",
       "      <td>1.0</td>\n",
       "      <td>132.738</td>\n",
       "      <td>4.0</td>\n",
       "      <td>2005.0</td>\n",
       "      <td>c1a14e42202a72c12e76d3fca41a57f603e32cd2</td>\n",
       "      <td>19.0</td>\n",
       "      <td>1.0</td>\n",
       "    </tr>\n",
       "    <tr>\n",
       "      <th>33085</th>\n",
       "      <td>0.895297</td>\n",
       "      <td>0.585868</td>\n",
       "      <td>ARIRCA31187FB58E84</td>\n",
       "      <td>The Maine</td>\n",
       "      <td>The Way We Talk</td>\n",
       "      <td>0.675984</td>\n",
       "      <td>SOPBLAH12A8AE48F91</td>\n",
       "      <td>We Change_ We Wait</td>\n",
       "      <td>203.80689</td>\n",
       "      <td>0.0</td>\n",
       "      <td>-5.188</td>\n",
       "      <td>1.0</td>\n",
       "      <td>151.993</td>\n",
       "      <td>4.0</td>\n",
       "      <td>2007.0</td>\n",
       "      <td>5f3708108a564cd6489e215a07c8cb2316ef7e13</td>\n",
       "      <td>1.0</td>\n",
       "      <td>1.0</td>\n",
       "    </tr>\n",
       "    <tr>\n",
       "      <th>40041</th>\n",
       "      <td>0.711564</td>\n",
       "      <td>0.574357</td>\n",
       "      <td>AR3DXTG1187FB38776</td>\n",
       "      <td>Kate Bush</td>\n",
       "      <td>The Kick Inside</td>\n",
       "      <td>0.762013</td>\n",
       "      <td>SOTVOMT12A6310E094</td>\n",
       "      <td>The Kick Inside</td>\n",
       "      <td>214.83057</td>\n",
       "      <td>1.0</td>\n",
       "      <td>-20.068</td>\n",
       "      <td>1.0</td>\n",
       "      <td>139.114</td>\n",
       "      <td>4.0</td>\n",
       "      <td>1978.0</td>\n",
       "      <td>bcca23a9c9d3dd91a847dfe50df779691dac3136</td>\n",
       "      <td>3.0</td>\n",
       "      <td>1.0</td>\n",
       "    </tr>\n",
       "  </tbody>\n",
       "</table>\n",
       "</div>"
      ],
      "text/plain": [
       "       artist_familiarity  artist_hotttnesss           artist_id  \\\n",
       "10736            0.682101           0.424108  ARPATQ21187B9ACAFC   \n",
       "18924            0.791802           0.637302  ARKZ13R1187FB54FEE   \n",
       "31681            0.623082           0.459220  ARNFXPT1187FB39D5B   \n",
       "33085            0.895297           0.585868  ARIRCA31187FB58E84   \n",
       "40041            0.711564           0.574357  AR3DXTG1187FB38776   \n",
       "\n",
       "          artist_name                             release  song_hotttnesss  \\\n",
       "10736   Happy Mondays  \"Pills 'n' Thrills And Bellyaches\"         0.587427   \n",
       "18924     Josh Turner                             Haywire         0.520689   \n",
       "31681  Base Ball Bear                  Yuugata Generation         0.533910   \n",
       "33085       The Maine                     The Way We Talk         0.675984   \n",
       "40041       Kate Bush                     The Kick Inside         0.762013   \n",
       "\n",
       "                  song_id               title   duration   key  loudness  \\\n",
       "10736  SOXHHAO12A8C139833             Holiday  208.74404   9.0   -13.301   \n",
       "18924  SOMRPIR12AB018623A     \"I'll Be There\"  217.52118   2.0   -11.703   \n",
       "31681  SOQCGHN12AB0181246  Sayonara-Nostalgia  255.60771  11.0    -5.047   \n",
       "33085  SOPBLAH12A8AE48F91  We Change_ We Wait  203.80689   0.0    -5.188   \n",
       "40041  SOTVOMT12A6310E094     The Kick Inside  214.83057   1.0   -20.068   \n",
       "\n",
       "       mode    tempo  time_signature    year  \\\n",
       "10736   0.0  117.819             4.0  1990.0   \n",
       "18924   1.0  146.762             7.0     NaN   \n",
       "31681   1.0  132.738             4.0  2005.0   \n",
       "33085   1.0  151.993             4.0  2007.0   \n",
       "40041   1.0  139.114             4.0  1978.0   \n",
       "\n",
       "                                        user_id  play_count  play  \n",
       "10736  71744020075ed5d4a1570b7edc092a4fb940712f         1.0   1.0  \n",
       "18924  4d2b4a0faa753dedb539ed97edb6b7278b1ce688         1.0   1.0  \n",
       "31681  c1a14e42202a72c12e76d3fca41a57f603e32cd2        19.0   1.0  \n",
       "33085  5f3708108a564cd6489e215a07c8cb2316ef7e13         1.0   1.0  \n",
       "40041  bcca23a9c9d3dd91a847dfe50df779691dac3136         3.0   1.0  "
      ]
     },
     "execution_count": 3,
     "metadata": {},
     "output_type": "execute_result"
    }
   ],
   "source": [
    "#Use random sample to upload selected data to a DF\n",
    "\n",
    "user_song_matrix = pd.read_csv(file, na_values = 'NaN', index_col = 0, skiprows=skip)\n",
    "\n",
    "user_song_matrix.head()"
   ]
  },
  {
   "cell_type": "code",
   "execution_count": 4,
   "metadata": {
    "collapsed": false,
    "scrolled": true
   },
   "outputs": [
    {
     "name": "stdout",
     "output_type": "stream",
     "text": [
      "<class 'pandas.core.frame.DataFrame'>\n",
      "Int64Index: 20000 entries, 10736 to 48902416\n",
      "Data columns (total 18 columns):\n",
      "artist_familiarity    16725 non-null float64\n",
      "artist_hotttnesss     16726 non-null float64\n",
      "artist_id             16726 non-null object\n",
      "artist_name           16726 non-null object\n",
      "release               16726 non-null object\n",
      "song_hotttnesss       14513 non-null float64\n",
      "song_id               20000 non-null object\n",
      "title                 16726 non-null object\n",
      "duration              16726 non-null float64\n",
      "key                   16726 non-null float64\n",
      "loudness              16726 non-null float64\n",
      "mode                  16726 non-null float64\n",
      "tempo                 16726 non-null float64\n",
      "time_signature        16726 non-null float64\n",
      "year                  13251 non-null float64\n",
      "user_id               19764 non-null object\n",
      "play_count            20000 non-null float64\n",
      "play                  20000 non-null float64\n",
      "dtypes: float64(12), object(6)\n",
      "memory usage: 2.9+ MB\n"
     ]
    }
   ],
   "source": [
    "user_song_matrix.info()"
   ]
  },
  {
   "cell_type": "markdown",
   "metadata": {},
   "source": [
    "Convert objects to string and floats to int. This is to facilitate conversion to GraphLab's SFrame format. An SF will not accept a pandas column whose type is an object."
   ]
  },
  {
   "cell_type": "code",
   "execution_count": 5,
   "metadata": {
    "collapsed": false
   },
   "outputs": [],
   "source": [
    "#Convert object to string\n",
    "\n",
    "user_song_matrix[['artist_id','artist_name','release','song_id','title','user_id']] = user_song_matrix[['artist_id','artist_name','release','song_id','title','user_id']].astype('|S250')"
   ]
  },
  {
   "cell_type": "code",
   "execution_count": 6,
   "metadata": {
    "collapsed": true
   },
   "outputs": [],
   "source": [
    "#Convert float to int\n",
    "\n",
    "user_song_matrix[['play','play_count']] = user_song_matrix[['play','play_count']].astype('int')"
   ]
  },
  {
   "cell_type": "markdown",
   "metadata": {},
   "source": [
    "## Convert Pandas DataFrame to SFrame"
   ]
  },
  {
   "cell_type": "markdown",
   "metadata": {},
   "source": [
    "Convert DF to GraphLab dataframe format to use libraries recommendation algorithms."
   ]
  },
  {
   "cell_type": "code",
   "execution_count": 7,
   "metadata": {
    "collapsed": false
   },
   "outputs": [
    {
     "name": "stdout",
     "output_type": "stream",
     "text": [
      "This non-commercial license of GraphLab Create for academic use is assigned to ivette1989@gmail.com and will expire on August 19, 2019.\n"
     ]
    },
    {
     "name": "stderr",
     "output_type": "stream",
     "text": [
      "[INFO] graphlab.cython.cy_server: GraphLab Create v2.1 started. Logging: /tmp/graphlab_server_1534909808.log\n"
     ]
    },
    {
     "data": {
      "text/html": [
       "<div style=\"max-height:1000px;max-width:1500px;overflow:auto;\"><table frame=\"box\" rules=\"cols\">\n",
       "    <tr>\n",
       "        <th style=\"padding-left: 1em; padding-right: 1em; text-align: center\">artist_familiarity</th>\n",
       "        <th style=\"padding-left: 1em; padding-right: 1em; text-align: center\">artist_hotttnesss</th>\n",
       "        <th style=\"padding-left: 1em; padding-right: 1em; text-align: center\">artist_id</th>\n",
       "        <th style=\"padding-left: 1em; padding-right: 1em; text-align: center\">artist_name</th>\n",
       "        <th style=\"padding-left: 1em; padding-right: 1em; text-align: center\">release</th>\n",
       "    </tr>\n",
       "    <tr>\n",
       "        <td style=\"padding-left: 1em; padding-right: 1em; text-align: center; vertical-align: top\">0.682101281711</td>\n",
       "        <td style=\"padding-left: 1em; padding-right: 1em; text-align: center; vertical-align: top\">0.424108277416</td>\n",
       "        <td style=\"padding-left: 1em; padding-right: 1em; text-align: center; vertical-align: top\">ARPATQ21187B9ACAFC</td>\n",
       "        <td style=\"padding-left: 1em; padding-right: 1em; text-align: center; vertical-align: top\">Happy Mondays</td>\n",
       "        <td style=\"padding-left: 1em; padding-right: 1em; text-align: center; vertical-align: top\">\"Pills 'n' Thrills And<br>Bellyaches\" ...</td>\n",
       "    </tr>\n",
       "    <tr>\n",
       "        <td style=\"padding-left: 1em; padding-right: 1em; text-align: center; vertical-align: top\">0.791801555556</td>\n",
       "        <td style=\"padding-left: 1em; padding-right: 1em; text-align: center; vertical-align: top\">0.637302342502</td>\n",
       "        <td style=\"padding-left: 1em; padding-right: 1em; text-align: center; vertical-align: top\">ARKZ13R1187FB54FEE</td>\n",
       "        <td style=\"padding-left: 1em; padding-right: 1em; text-align: center; vertical-align: top\">Josh Turner</td>\n",
       "        <td style=\"padding-left: 1em; padding-right: 1em; text-align: center; vertical-align: top\">Haywire</td>\n",
       "    </tr>\n",
       "    <tr>\n",
       "        <td style=\"padding-left: 1em; padding-right: 1em; text-align: center; vertical-align: top\">0.623081832214</td>\n",
       "        <td style=\"padding-left: 1em; padding-right: 1em; text-align: center; vertical-align: top\">0.459220147125</td>\n",
       "        <td style=\"padding-left: 1em; padding-right: 1em; text-align: center; vertical-align: top\">ARNFXPT1187FB39D5B</td>\n",
       "        <td style=\"padding-left: 1em; padding-right: 1em; text-align: center; vertical-align: top\">Base Ball Bear</td>\n",
       "        <td style=\"padding-left: 1em; padding-right: 1em; text-align: center; vertical-align: top\">Yuugata Generation</td>\n",
       "    </tr>\n",
       "    <tr>\n",
       "        <td style=\"padding-left: 1em; padding-right: 1em; text-align: center; vertical-align: top\">0.895297124651</td>\n",
       "        <td style=\"padding-left: 1em; padding-right: 1em; text-align: center; vertical-align: top\">0.585867596138</td>\n",
       "        <td style=\"padding-left: 1em; padding-right: 1em; text-align: center; vertical-align: top\">ARIRCA31187FB58E84</td>\n",
       "        <td style=\"padding-left: 1em; padding-right: 1em; text-align: center; vertical-align: top\">The Maine</td>\n",
       "        <td style=\"padding-left: 1em; padding-right: 1em; text-align: center; vertical-align: top\">The Way We Talk</td>\n",
       "    </tr>\n",
       "    <tr>\n",
       "        <td style=\"padding-left: 1em; padding-right: 1em; text-align: center; vertical-align: top\">0.711563637071</td>\n",
       "        <td style=\"padding-left: 1em; padding-right: 1em; text-align: center; vertical-align: top\">0.574357145987</td>\n",
       "        <td style=\"padding-left: 1em; padding-right: 1em; text-align: center; vertical-align: top\">AR3DXTG1187FB38776</td>\n",
       "        <td style=\"padding-left: 1em; padding-right: 1em; text-align: center; vertical-align: top\">Kate Bush</td>\n",
       "        <td style=\"padding-left: 1em; padding-right: 1em; text-align: center; vertical-align: top\">The Kick Inside</td>\n",
       "    </tr>\n",
       "    <tr>\n",
       "        <td style=\"padding-left: 1em; padding-right: 1em; text-align: center; vertical-align: top\">0.847451713218</td>\n",
       "        <td style=\"padding-left: 1em; padding-right: 1em; text-align: center; vertical-align: top\">0.779968004597</td>\n",
       "        <td style=\"padding-left: 1em; padding-right: 1em; text-align: center; vertical-align: top\">ARPAAHK1187B9ABB00</td>\n",
       "        <td style=\"padding-left: 1em; padding-right: 1em; text-align: center; vertical-align: top\">Nickelback</td>\n",
       "        <td style=\"padding-left: 1em; padding-right: 1em; text-align: center; vertical-align: top\">Dark Horse</td>\n",
       "    </tr>\n",
       "    <tr>\n",
       "        <td style=\"padding-left: 1em; padding-right: 1em; text-align: center; vertical-align: top\">nan</td>\n",
       "        <td style=\"padding-left: 1em; padding-right: 1em; text-align: center; vertical-align: top\">nan</td>\n",
       "        <td style=\"padding-left: 1em; padding-right: 1em; text-align: center; vertical-align: top\">nan</td>\n",
       "        <td style=\"padding-left: 1em; padding-right: 1em; text-align: center; vertical-align: top\">nan</td>\n",
       "        <td style=\"padding-left: 1em; padding-right: 1em; text-align: center; vertical-align: top\">nan</td>\n",
       "    </tr>\n",
       "    <tr>\n",
       "        <td style=\"padding-left: 1em; padding-right: 1em; text-align: center; vertical-align: top\">0.635704111761</td>\n",
       "        <td style=\"padding-left: 1em; padding-right: 1em; text-align: center; vertical-align: top\">0.436317650242</td>\n",
       "        <td style=\"padding-left: 1em; padding-right: 1em; text-align: center; vertical-align: top\">ARNCXKC1187FB38C42</td>\n",
       "        <td style=\"padding-left: 1em; padding-right: 1em; text-align: center; vertical-align: top\">Sheena Easton</td>\n",
       "        <td style=\"padding-left: 1em; padding-right: 1em; text-align: center; vertical-align: top\">The World Of Sheena<br>Easton - The Singles ...</td>\n",
       "    </tr>\n",
       "    <tr>\n",
       "        <td style=\"padding-left: 1em; padding-right: 1em; text-align: center; vertical-align: top\">0.852136186667</td>\n",
       "        <td style=\"padding-left: 1em; padding-right: 1em; text-align: center; vertical-align: top\">0.780334119573</td>\n",
       "        <td style=\"padding-left: 1em; padding-right: 1em; text-align: center; vertical-align: top\">ART5MUE1187B98C961</td>\n",
       "        <td style=\"padding-left: 1em; padding-right: 1em; text-align: center; vertical-align: top\">Metallica</td>\n",
       "        <td style=\"padding-left: 1em; padding-right: 1em; text-align: center; vertical-align: top\">Reload</td>\n",
       "    </tr>\n",
       "    <tr>\n",
       "        <td style=\"padding-left: 1em; padding-right: 1em; text-align: center; vertical-align: top\">0.862749947386</td>\n",
       "        <td style=\"padding-left: 1em; padding-right: 1em; text-align: center; vertical-align: top\">0.540101990129</td>\n",
       "        <td style=\"padding-left: 1em; padding-right: 1em; text-align: center; vertical-align: top\">AR8K3HD1187B9B9CA9</td>\n",
       "        <td style=\"padding-left: 1em; padding-right: 1em; text-align: center; vertical-align: top\">Goldfrapp</td>\n",
       "        <td style=\"padding-left: 1em; padding-right: 1em; text-align: center; vertical-align: top\">Felt Mountain</td>\n",
       "    </tr>\n",
       "</table>\n",
       "<table frame=\"box\" rules=\"cols\">\n",
       "    <tr>\n",
       "        <th style=\"padding-left: 1em; padding-right: 1em; text-align: center\">song_hotttnesss</th>\n",
       "        <th style=\"padding-left: 1em; padding-right: 1em; text-align: center\">song_id</th>\n",
       "        <th style=\"padding-left: 1em; padding-right: 1em; text-align: center\">title</th>\n",
       "        <th style=\"padding-left: 1em; padding-right: 1em; text-align: center\">duration</th>\n",
       "        <th style=\"padding-left: 1em; padding-right: 1em; text-align: center\">key</th>\n",
       "        <th style=\"padding-left: 1em; padding-right: 1em; text-align: center\">loudness</th>\n",
       "        <th style=\"padding-left: 1em; padding-right: 1em; text-align: center\">mode</th>\n",
       "        <th style=\"padding-left: 1em; padding-right: 1em; text-align: center\">tempo</th>\n",
       "        <th style=\"padding-left: 1em; padding-right: 1em; text-align: center\">time_signature</th>\n",
       "    </tr>\n",
       "    <tr>\n",
       "        <td style=\"padding-left: 1em; padding-right: 1em; text-align: center; vertical-align: top\">0.587426506702</td>\n",
       "        <td style=\"padding-left: 1em; padding-right: 1em; text-align: center; vertical-align: top\">SOXHHAO12A8C139833</td>\n",
       "        <td style=\"padding-left: 1em; padding-right: 1em; text-align: center; vertical-align: top\">Holiday</td>\n",
       "        <td style=\"padding-left: 1em; padding-right: 1em; text-align: center; vertical-align: top\">208.74404</td>\n",
       "        <td style=\"padding-left: 1em; padding-right: 1em; text-align: center; vertical-align: top\">9.0</td>\n",
       "        <td style=\"padding-left: 1em; padding-right: 1em; text-align: center; vertical-align: top\">-13.301</td>\n",
       "        <td style=\"padding-left: 1em; padding-right: 1em; text-align: center; vertical-align: top\">0.0</td>\n",
       "        <td style=\"padding-left: 1em; padding-right: 1em; text-align: center; vertical-align: top\">117.819</td>\n",
       "        <td style=\"padding-left: 1em; padding-right: 1em; text-align: center; vertical-align: top\">4.0</td>\n",
       "    </tr>\n",
       "    <tr>\n",
       "        <td style=\"padding-left: 1em; padding-right: 1em; text-align: center; vertical-align: top\">0.520689406891</td>\n",
       "        <td style=\"padding-left: 1em; padding-right: 1em; text-align: center; vertical-align: top\">SOMRPIR12AB018623A</td>\n",
       "        <td style=\"padding-left: 1em; padding-right: 1em; text-align: center; vertical-align: top\">\"I'll Be There\"</td>\n",
       "        <td style=\"padding-left: 1em; padding-right: 1em; text-align: center; vertical-align: top\">217.52118</td>\n",
       "        <td style=\"padding-left: 1em; padding-right: 1em; text-align: center; vertical-align: top\">2.0</td>\n",
       "        <td style=\"padding-left: 1em; padding-right: 1em; text-align: center; vertical-align: top\">-11.703</td>\n",
       "        <td style=\"padding-left: 1em; padding-right: 1em; text-align: center; vertical-align: top\">1.0</td>\n",
       "        <td style=\"padding-left: 1em; padding-right: 1em; text-align: center; vertical-align: top\">146.762</td>\n",
       "        <td style=\"padding-left: 1em; padding-right: 1em; text-align: center; vertical-align: top\">7.0</td>\n",
       "    </tr>\n",
       "    <tr>\n",
       "        <td style=\"padding-left: 1em; padding-right: 1em; text-align: center; vertical-align: top\">0.533910372551</td>\n",
       "        <td style=\"padding-left: 1em; padding-right: 1em; text-align: center; vertical-align: top\">SOQCGHN12AB0181246</td>\n",
       "        <td style=\"padding-left: 1em; padding-right: 1em; text-align: center; vertical-align: top\">Sayonara-Nostalgia</td>\n",
       "        <td style=\"padding-left: 1em; padding-right: 1em; text-align: center; vertical-align: top\">255.60771</td>\n",
       "        <td style=\"padding-left: 1em; padding-right: 1em; text-align: center; vertical-align: top\">11.0</td>\n",
       "        <td style=\"padding-left: 1em; padding-right: 1em; text-align: center; vertical-align: top\">-5.047</td>\n",
       "        <td style=\"padding-left: 1em; padding-right: 1em; text-align: center; vertical-align: top\">1.0</td>\n",
       "        <td style=\"padding-left: 1em; padding-right: 1em; text-align: center; vertical-align: top\">132.738</td>\n",
       "        <td style=\"padding-left: 1em; padding-right: 1em; text-align: center; vertical-align: top\">4.0</td>\n",
       "    </tr>\n",
       "    <tr>\n",
       "        <td style=\"padding-left: 1em; padding-right: 1em; text-align: center; vertical-align: top\">0.675983820075</td>\n",
       "        <td style=\"padding-left: 1em; padding-right: 1em; text-align: center; vertical-align: top\">SOPBLAH12A8AE48F91</td>\n",
       "        <td style=\"padding-left: 1em; padding-right: 1em; text-align: center; vertical-align: top\">We Change_ We Wait</td>\n",
       "        <td style=\"padding-left: 1em; padding-right: 1em; text-align: center; vertical-align: top\">203.80689</td>\n",
       "        <td style=\"padding-left: 1em; padding-right: 1em; text-align: center; vertical-align: top\">0.0</td>\n",
       "        <td style=\"padding-left: 1em; padding-right: 1em; text-align: center; vertical-align: top\">-5.188</td>\n",
       "        <td style=\"padding-left: 1em; padding-right: 1em; text-align: center; vertical-align: top\">1.0</td>\n",
       "        <td style=\"padding-left: 1em; padding-right: 1em; text-align: center; vertical-align: top\">151.993</td>\n",
       "        <td style=\"padding-left: 1em; padding-right: 1em; text-align: center; vertical-align: top\">4.0</td>\n",
       "    </tr>\n",
       "    <tr>\n",
       "        <td style=\"padding-left: 1em; padding-right: 1em; text-align: center; vertical-align: top\">0.762012895716</td>\n",
       "        <td style=\"padding-left: 1em; padding-right: 1em; text-align: center; vertical-align: top\">SOTVOMT12A6310E094</td>\n",
       "        <td style=\"padding-left: 1em; padding-right: 1em; text-align: center; vertical-align: top\">The Kick Inside</td>\n",
       "        <td style=\"padding-left: 1em; padding-right: 1em; text-align: center; vertical-align: top\">214.83057</td>\n",
       "        <td style=\"padding-left: 1em; padding-right: 1em; text-align: center; vertical-align: top\">1.0</td>\n",
       "        <td style=\"padding-left: 1em; padding-right: 1em; text-align: center; vertical-align: top\">-20.068</td>\n",
       "        <td style=\"padding-left: 1em; padding-right: 1em; text-align: center; vertical-align: top\">1.0</td>\n",
       "        <td style=\"padding-left: 1em; padding-right: 1em; text-align: center; vertical-align: top\">139.114</td>\n",
       "        <td style=\"padding-left: 1em; padding-right: 1em; text-align: center; vertical-align: top\">4.0</td>\n",
       "    </tr>\n",
       "    <tr>\n",
       "        <td style=\"padding-left: 1em; padding-right: 1em; text-align: center; vertical-align: top\">0.983955868419</td>\n",
       "        <td style=\"padding-left: 1em; padding-right: 1em; text-align: center; vertical-align: top\">SOMMUKQ12AB01801A5</td>\n",
       "        <td style=\"padding-left: 1em; padding-right: 1em; text-align: center; vertical-align: top\">Burn It To The Ground<br>(Album Version) ...</td>\n",
       "        <td style=\"padding-left: 1em; padding-right: 1em; text-align: center; vertical-align: top\">208.71791</td>\n",
       "        <td style=\"padding-left: 1em; padding-right: 1em; text-align: center; vertical-align: top\">4.0</td>\n",
       "        <td style=\"padding-left: 1em; padding-right: 1em; text-align: center; vertical-align: top\">-3.363</td>\n",
       "        <td style=\"padding-left: 1em; padding-right: 1em; text-align: center; vertical-align: top\">0.0</td>\n",
       "        <td style=\"padding-left: 1em; padding-right: 1em; text-align: center; vertical-align: top\">131.975</td>\n",
       "        <td style=\"padding-left: 1em; padding-right: 1em; text-align: center; vertical-align: top\">4.0</td>\n",
       "    </tr>\n",
       "    <tr>\n",
       "        <td style=\"padding-left: 1em; padding-right: 1em; text-align: center; vertical-align: top\">nan</td>\n",
       "        <td style=\"padding-left: 1em; padding-right: 1em; text-align: center; vertical-align: top\">SODJKMC12A8C137EC0</td>\n",
       "        <td style=\"padding-left: 1em; padding-right: 1em; text-align: center; vertical-align: top\">nan</td>\n",
       "        <td style=\"padding-left: 1em; padding-right: 1em; text-align: center; vertical-align: top\">nan</td>\n",
       "        <td style=\"padding-left: 1em; padding-right: 1em; text-align: center; vertical-align: top\">nan</td>\n",
       "        <td style=\"padding-left: 1em; padding-right: 1em; text-align: center; vertical-align: top\">nan</td>\n",
       "        <td style=\"padding-left: 1em; padding-right: 1em; text-align: center; vertical-align: top\">nan</td>\n",
       "        <td style=\"padding-left: 1em; padding-right: 1em; text-align: center; vertical-align: top\">nan</td>\n",
       "        <td style=\"padding-left: 1em; padding-right: 1em; text-align: center; vertical-align: top\">nan</td>\n",
       "    </tr>\n",
       "    <tr>\n",
       "        <td style=\"padding-left: 1em; padding-right: 1em; text-align: center; vertical-align: top\">0.665544601963</td>\n",
       "        <td style=\"padding-left: 1em; padding-right: 1em; text-align: center; vertical-align: top\">SOLRMPL12A58A7C37E</td>\n",
       "        <td style=\"padding-left: 1em; padding-right: 1em; text-align: center; vertical-align: top\">Telefone (Long Distance<br>Love Affair) (1993 ...</td>\n",
       "        <td style=\"padding-left: 1em; padding-right: 1em; text-align: center; vertical-align: top\">223.29424</td>\n",
       "        <td style=\"padding-left: 1em; padding-right: 1em; text-align: center; vertical-align: top\">11.0</td>\n",
       "        <td style=\"padding-left: 1em; padding-right: 1em; text-align: center; vertical-align: top\">-7.404</td>\n",
       "        <td style=\"padding-left: 1em; padding-right: 1em; text-align: center; vertical-align: top\">0.0</td>\n",
       "        <td style=\"padding-left: 1em; padding-right: 1em; text-align: center; vertical-align: top\">138.142</td>\n",
       "        <td style=\"padding-left: 1em; padding-right: 1em; text-align: center; vertical-align: top\">4.0</td>\n",
       "    </tr>\n",
       "    <tr>\n",
       "        <td style=\"padding-left: 1em; padding-right: 1em; text-align: center; vertical-align: top\">0.810076157411</td>\n",
       "        <td style=\"padding-left: 1em; padding-right: 1em; text-align: center; vertical-align: top\">SOSHZYN12A6D4F5925</td>\n",
       "        <td style=\"padding-left: 1em; padding-right: 1em; text-align: center; vertical-align: top\">The Unforgiven II</td>\n",
       "        <td style=\"padding-left: 1em; padding-right: 1em; text-align: center; vertical-align: top\">396.40771</td>\n",
       "        <td style=\"padding-left: 1em; padding-right: 1em; text-align: center; vertical-align: top\">8.0</td>\n",
       "        <td style=\"padding-left: 1em; padding-right: 1em; text-align: center; vertical-align: top\">-4.682</td>\n",
       "        <td style=\"padding-left: 1em; padding-right: 1em; text-align: center; vertical-align: top\">0.0</td>\n",
       "        <td style=\"padding-left: 1em; padding-right: 1em; text-align: center; vertical-align: top\">132.633</td>\n",
       "        <td style=\"padding-left: 1em; padding-right: 1em; text-align: center; vertical-align: top\">4.0</td>\n",
       "    </tr>\n",
       "    <tr>\n",
       "        <td style=\"padding-left: 1em; padding-right: 1em; text-align: center; vertical-align: top\">0.71608531252</td>\n",
       "        <td style=\"padding-left: 1em; padding-right: 1em; text-align: center; vertical-align: top\">SOBILME12A6701EEAB</td>\n",
       "        <td style=\"padding-left: 1em; padding-right: 1em; text-align: center; vertical-align: top\">Lovely Head</td>\n",
       "        <td style=\"padding-left: 1em; padding-right: 1em; text-align: center; vertical-align: top\">228.0224</td>\n",
       "        <td style=\"padding-left: 1em; padding-right: 1em; text-align: center; vertical-align: top\">5.0</td>\n",
       "        <td style=\"padding-left: 1em; padding-right: 1em; text-align: center; vertical-align: top\">-11.283</td>\n",
       "        <td style=\"padding-left: 1em; padding-right: 1em; text-align: center; vertical-align: top\">0.0</td>\n",
       "        <td style=\"padding-left: 1em; padding-right: 1em; text-align: center; vertical-align: top\">218.126</td>\n",
       "        <td style=\"padding-left: 1em; padding-right: 1em; text-align: center; vertical-align: top\">3.0</td>\n",
       "    </tr>\n",
       "</table>\n",
       "<table frame=\"box\" rules=\"cols\">\n",
       "    <tr>\n",
       "        <th style=\"padding-left: 1em; padding-right: 1em; text-align: center\">year</th>\n",
       "        <th style=\"padding-left: 1em; padding-right: 1em; text-align: center\">user_id</th>\n",
       "        <th style=\"padding-left: 1em; padding-right: 1em; text-align: center\">play_count</th>\n",
       "        <th style=\"padding-left: 1em; padding-right: 1em; text-align: center\">play</th>\n",
       "    </tr>\n",
       "    <tr>\n",
       "        <td style=\"padding-left: 1em; padding-right: 1em; text-align: center; vertical-align: top\">1990.0</td>\n",
       "        <td style=\"padding-left: 1em; padding-right: 1em; text-align: center; vertical-align: top\">71744020075ed5d4a1570b7ed<br>c092a4fb940712f ...</td>\n",
       "        <td style=\"padding-left: 1em; padding-right: 1em; text-align: center; vertical-align: top\">1</td>\n",
       "        <td style=\"padding-left: 1em; padding-right: 1em; text-align: center; vertical-align: top\">1</td>\n",
       "    </tr>\n",
       "    <tr>\n",
       "        <td style=\"padding-left: 1em; padding-right: 1em; text-align: center; vertical-align: top\">nan</td>\n",
       "        <td style=\"padding-left: 1em; padding-right: 1em; text-align: center; vertical-align: top\">4d2b4a0faa753dedb539ed97e<br>db6b7278b1ce688 ...</td>\n",
       "        <td style=\"padding-left: 1em; padding-right: 1em; text-align: center; vertical-align: top\">1</td>\n",
       "        <td style=\"padding-left: 1em; padding-right: 1em; text-align: center; vertical-align: top\">1</td>\n",
       "    </tr>\n",
       "    <tr>\n",
       "        <td style=\"padding-left: 1em; padding-right: 1em; text-align: center; vertical-align: top\">2005.0</td>\n",
       "        <td style=\"padding-left: 1em; padding-right: 1em; text-align: center; vertical-align: top\">c1a14e42202a72c12e76d3fca<br>41a57f603e32cd2 ...</td>\n",
       "        <td style=\"padding-left: 1em; padding-right: 1em; text-align: center; vertical-align: top\">19</td>\n",
       "        <td style=\"padding-left: 1em; padding-right: 1em; text-align: center; vertical-align: top\">1</td>\n",
       "    </tr>\n",
       "    <tr>\n",
       "        <td style=\"padding-left: 1em; padding-right: 1em; text-align: center; vertical-align: top\">2007.0</td>\n",
       "        <td style=\"padding-left: 1em; padding-right: 1em; text-align: center; vertical-align: top\">5f3708108a564cd6489e215a0<br>7c8cb2316ef7e13 ...</td>\n",
       "        <td style=\"padding-left: 1em; padding-right: 1em; text-align: center; vertical-align: top\">1</td>\n",
       "        <td style=\"padding-left: 1em; padding-right: 1em; text-align: center; vertical-align: top\">1</td>\n",
       "    </tr>\n",
       "    <tr>\n",
       "        <td style=\"padding-left: 1em; padding-right: 1em; text-align: center; vertical-align: top\">1978.0</td>\n",
       "        <td style=\"padding-left: 1em; padding-right: 1em; text-align: center; vertical-align: top\">bcca23a9c9d3dd91a847dfe50<br>df779691dac3136 ...</td>\n",
       "        <td style=\"padding-left: 1em; padding-right: 1em; text-align: center; vertical-align: top\">3</td>\n",
       "        <td style=\"padding-left: 1em; padding-right: 1em; text-align: center; vertical-align: top\">1</td>\n",
       "    </tr>\n",
       "    <tr>\n",
       "        <td style=\"padding-left: 1em; padding-right: 1em; text-align: center; vertical-align: top\">2008.0</td>\n",
       "        <td style=\"padding-left: 1em; padding-right: 1em; text-align: center; vertical-align: top\">8b6d6eae947e52056c713ac1e<br>727fa3d3573b389 ...</td>\n",
       "        <td style=\"padding-left: 1em; padding-right: 1em; text-align: center; vertical-align: top\">1</td>\n",
       "        <td style=\"padding-left: 1em; padding-right: 1em; text-align: center; vertical-align: top\">1</td>\n",
       "    </tr>\n",
       "    <tr>\n",
       "        <td style=\"padding-left: 1em; padding-right: 1em; text-align: center; vertical-align: top\">nan</td>\n",
       "        <td style=\"padding-left: 1em; padding-right: 1em; text-align: center; vertical-align: top\">b82d692dde839cfe9fd6d309b<br>b8c46d50089cc16 ...</td>\n",
       "        <td style=\"padding-left: 1em; padding-right: 1em; text-align: center; vertical-align: top\">6</td>\n",
       "        <td style=\"padding-left: 1em; padding-right: 1em; text-align: center; vertical-align: top\">1</td>\n",
       "    </tr>\n",
       "    <tr>\n",
       "        <td style=\"padding-left: 1em; padding-right: 1em; text-align: center; vertical-align: top\">nan</td>\n",
       "        <td style=\"padding-left: 1em; padding-right: 1em; text-align: center; vertical-align: top\">8244d5f5223fa7ecd56c46b92<br>0c4aa315241ed0e ...</td>\n",
       "        <td style=\"padding-left: 1em; padding-right: 1em; text-align: center; vertical-align: top\">1</td>\n",
       "        <td style=\"padding-left: 1em; padding-right: 1em; text-align: center; vertical-align: top\">1</td>\n",
       "    </tr>\n",
       "    <tr>\n",
       "        <td style=\"padding-left: 1em; padding-right: 1em; text-align: center; vertical-align: top\">1997.0</td>\n",
       "        <td style=\"padding-left: 1em; padding-right: 1em; text-align: center; vertical-align: top\">e2d1f40772a7d936b0bb3a17e<br>d34e48d18ab0d19 ...</td>\n",
       "        <td style=\"padding-left: 1em; padding-right: 1em; text-align: center; vertical-align: top\">1</td>\n",
       "        <td style=\"padding-left: 1em; padding-right: 1em; text-align: center; vertical-align: top\">1</td>\n",
       "    </tr>\n",
       "    <tr>\n",
       "        <td style=\"padding-left: 1em; padding-right: 1em; text-align: center; vertical-align: top\">2000.0</td>\n",
       "        <td style=\"padding-left: 1em; padding-right: 1em; text-align: center; vertical-align: top\">a2dd4ea3a45baecac975cc24f<br>b07f85c687e7b48 ...</td>\n",
       "        <td style=\"padding-left: 1em; padding-right: 1em; text-align: center; vertical-align: top\">1</td>\n",
       "        <td style=\"padding-left: 1em; padding-right: 1em; text-align: center; vertical-align: top\">1</td>\n",
       "    </tr>\n",
       "</table>\n",
       "[20000 rows x 18 columns]<br/>Note: Only the head of the SFrame is printed.<br/>You can use print_rows(num_rows=m, num_columns=n) to print more rows and columns.\n",
       "</div>"
      ],
      "text/plain": [
       "Columns:\n",
       "\tartist_familiarity\tfloat\n",
       "\tartist_hotttnesss\tfloat\n",
       "\tartist_id\tstr\n",
       "\tartist_name\tstr\n",
       "\trelease\tstr\n",
       "\tsong_hotttnesss\tfloat\n",
       "\tsong_id\tstr\n",
       "\ttitle\tstr\n",
       "\tduration\tfloat\n",
       "\tkey\tfloat\n",
       "\tloudness\tfloat\n",
       "\tmode\tfloat\n",
       "\ttempo\tfloat\n",
       "\ttime_signature\tfloat\n",
       "\tyear\tfloat\n",
       "\tuser_id\tstr\n",
       "\tplay_count\tint\n",
       "\tplay\tint\n",
       "\n",
       "Rows: 20000\n",
       "\n",
       "Data:\n",
       "+--------------------+-------------------+--------------------+----------------+\n",
       "| artist_familiarity | artist_hotttnesss |     artist_id      |  artist_name   |\n",
       "+--------------------+-------------------+--------------------+----------------+\n",
       "|   0.682101281711   |   0.424108277416  | ARPATQ21187B9ACAFC | Happy Mondays  |\n",
       "|   0.791801555556   |   0.637302342502  | ARKZ13R1187FB54FEE |  Josh Turner   |\n",
       "|   0.623081832214   |   0.459220147125  | ARNFXPT1187FB39D5B | Base Ball Bear |\n",
       "|   0.895297124651   |   0.585867596138  | ARIRCA31187FB58E84 |   The Maine    |\n",
       "|   0.711563637071   |   0.574357145987  | AR3DXTG1187FB38776 |   Kate Bush    |\n",
       "|   0.847451713218   |   0.779968004597  | ARPAAHK1187B9ABB00 |   Nickelback   |\n",
       "|        nan         |        nan        |        nan         |      nan       |\n",
       "|   0.635704111761   |   0.436317650242  | ARNCXKC1187FB38C42 | Sheena Easton  |\n",
       "|   0.852136186667   |   0.780334119573  | ART5MUE1187B98C961 |   Metallica    |\n",
       "|   0.862749947386   |   0.540101990129  | AR8K3HD1187B9B9CA9 |   Goldfrapp    |\n",
       "+--------------------+-------------------+--------------------+----------------+\n",
       "+-------------------------------+-----------------+--------------------+\n",
       "|            release            | song_hotttnesss |      song_id       |\n",
       "+-------------------------------+-----------------+--------------------+\n",
       "| \"Pills 'n' Thrills And Bel... |  0.587426506702 | SOXHHAO12A8C139833 |\n",
       "|            Haywire            |  0.520689406891 | SOMRPIR12AB018623A |\n",
       "|       Yuugata Generation      |  0.533910372551 | SOQCGHN12AB0181246 |\n",
       "|        The Way We Talk        |  0.675983820075 | SOPBLAH12A8AE48F91 |\n",
       "|        The Kick Inside        |  0.762012895716 | SOTVOMT12A6310E094 |\n",
       "|           Dark Horse          |  0.983955868419 | SOMMUKQ12AB01801A5 |\n",
       "|              nan              |       nan       | SODJKMC12A8C137EC0 |\n",
       "| The World Of Sheena Easton... |  0.665544601963 | SOLRMPL12A58A7C37E |\n",
       "|             Reload            |  0.810076157411 | SOSHZYN12A6D4F5925 |\n",
       "|         Felt Mountain         |  0.71608531252  | SOBILME12A6701EEAB |\n",
       "+-------------------------------+-----------------+--------------------+\n",
       "+-------------------------------+-----------+------+----------+------+---------+\n",
       "|             title             |  duration | key  | loudness | mode |  tempo  |\n",
       "+-------------------------------+-----------+------+----------+------+---------+\n",
       "|            Holiday            | 208.74404 | 9.0  | -13.301  | 0.0  | 117.819 |\n",
       "|        \"I'll Be There\"        | 217.52118 | 2.0  | -11.703  | 1.0  | 146.762 |\n",
       "|       Sayonara-Nostalgia      | 255.60771 | 11.0 |  -5.047  | 1.0  | 132.738 |\n",
       "|       We Change_ We Wait      | 203.80689 | 0.0  |  -5.188  | 1.0  | 151.993 |\n",
       "|        The Kick Inside        | 214.83057 | 1.0  | -20.068  | 1.0  | 139.114 |\n",
       "| Burn It To The Ground (Alb... | 208.71791 | 4.0  |  -3.363  | 0.0  | 131.975 |\n",
       "|              nan              |    nan    | nan  |   nan    | nan  |   nan   |\n",
       "| Telefone (Long Distance Lo... | 223.29424 | 11.0 |  -7.404  | 0.0  | 138.142 |\n",
       "|       The Unforgiven II       | 396.40771 | 8.0  |  -4.682  | 0.0  | 132.633 |\n",
       "|          Lovely Head          |  228.0224 | 5.0  | -11.283  | 0.0  | 218.126 |\n",
       "+-------------------------------+-----------+------+----------+------+---------+\n",
       "+----------------+--------+-------------------------------+------------+------+\n",
       "| time_signature |  year  |            user_id            | play_count | play |\n",
       "+----------------+--------+-------------------------------+------------+------+\n",
       "|      4.0       | 1990.0 | 71744020075ed5d4a1570b7edc... |     1      |  1   |\n",
       "|      7.0       |  nan   | 4d2b4a0faa753dedb539ed97ed... |     1      |  1   |\n",
       "|      4.0       | 2005.0 | c1a14e42202a72c12e76d3fca4... |     19     |  1   |\n",
       "|      4.0       | 2007.0 | 5f3708108a564cd6489e215a07... |     1      |  1   |\n",
       "|      4.0       | 1978.0 | bcca23a9c9d3dd91a847dfe50d... |     3      |  1   |\n",
       "|      4.0       | 2008.0 | 8b6d6eae947e52056c713ac1e7... |     1      |  1   |\n",
       "|      nan       |  nan   | b82d692dde839cfe9fd6d309bb... |     6      |  1   |\n",
       "|      4.0       |  nan   | 8244d5f5223fa7ecd56c46b920... |     1      |  1   |\n",
       "|      4.0       | 1997.0 | e2d1f40772a7d936b0bb3a17ed... |     1      |  1   |\n",
       "|      3.0       | 2000.0 | a2dd4ea3a45baecac975cc24fb... |     1      |  1   |\n",
       "+----------------+--------+-------------------------------+------------+------+\n",
       "[20000 rows x 18 columns]\n",
       "Note: Only the head of the SFrame is printed.\n",
       "You can use print_rows(num_rows=m, num_columns=n) to print more rows and columns."
      ]
     },
     "execution_count": 7,
     "metadata": {},
     "output_type": "execute_result"
    }
   ],
   "source": [
    "sample_sf = gl.SFrame(data=user_song_matrix)\n",
    "\n",
    "sample_sf"
   ]
  },
  {
   "cell_type": "markdown",
   "metadata": {},
   "source": [
    "## Create random 70%/30% train - test split"
   ]
  },
  {
   "cell_type": "code",
   "execution_count": 8,
   "metadata": {
    "collapsed": false
   },
   "outputs": [
    {
     "name": "stdout",
     "output_type": "stream",
     "text": [
      "(14041, 5959)\n"
     ]
    }
   ],
   "source": [
    "train, test = sample_sf.random_split(.7, seed=5)\n",
    "\n",
    "print(len(train), len(test))"
   ]
  },
  {
   "cell_type": "markdown",
   "metadata": {},
   "source": [
    "## Create Baseline: Song Popularity Based Recommender"
   ]
  },
  {
   "cell_type": "markdown",
   "metadata": {},
   "source": [
    "This model is used as a frame of reference for the subsequent approaches. This recomender does  not have any personalization at all. It recommends the most popular items to users."
   ]
  },
  {
   "cell_type": "markdown",
   "metadata": {},
   "source": [
    "Model Documentation: https://turi.com/products/create/docs/generated/graphlab.recommender.popularity_recommender.create.html#graphlab.recommender.popularity_recommender.create"
   ]
  },
  {
   "cell_type": "markdown",
   "metadata": {},
   "source": [
    "*Create Song Popularity Recomender*"
   ]
  },
  {
   "cell_type": "code",
   "execution_count": 9,
   "metadata": {
    "collapsed": false
   },
   "outputs": [
    {
     "data": {
      "text/html": [
       "<pre>Recsys training: model = popularity</pre>"
      ],
      "text/plain": [
       "Recsys training: model = popularity"
      ]
     },
     "metadata": {},
     "output_type": "display_data"
    },
    {
     "data": {
      "text/html": [
       "<pre>Warning: Ignoring columns artist_familiarity, artist_hotttnesss, artist_id, artist_name, release, song_hotttnesss, title, duration, key, loudness, mode, tempo, time_signature, year, play_count, play;</pre>"
      ],
      "text/plain": [
       "Warning: Ignoring columns artist_familiarity, artist_hotttnesss, artist_id, artist_name, release, song_hotttnesss, title, duration, key, loudness, mode, tempo, time_signature, year, play_count, play;"
      ]
     },
     "metadata": {},
     "output_type": "display_data"
    },
    {
     "data": {
      "text/html": [
       "<pre>    To use one of these as a target column, set target = <column_name></pre>"
      ],
      "text/plain": [
       "    To use one of these as a target column, set target = <column_name>"
      ]
     },
     "metadata": {},
     "output_type": "display_data"
    },
    {
     "data": {
      "text/html": [
       "<pre>    and use a method that allows the use of a target.</pre>"
      ],
      "text/plain": [
       "    and use a method that allows the use of a target."
      ]
     },
     "metadata": {},
     "output_type": "display_data"
    },
    {
     "data": {
      "text/html": [
       "<pre>Preparing data set.</pre>"
      ],
      "text/plain": [
       "Preparing data set."
      ]
     },
     "metadata": {},
     "output_type": "display_data"
    },
    {
     "data": {
      "text/html": [
       "<pre>    Data has 14041 observations with 13631 users and 10569 items.</pre>"
      ],
      "text/plain": [
       "    Data has 14041 observations with 13631 users and 10569 items."
      ]
     },
     "metadata": {},
     "output_type": "display_data"
    },
    {
     "data": {
      "text/html": [
       "<pre>    Data prepared in: 0.091787s</pre>"
      ],
      "text/plain": [
       "    Data prepared in: 0.091787s"
      ]
     },
     "metadata": {},
     "output_type": "display_data"
    },
    {
     "data": {
      "text/html": [
       "<pre>14041 observations to process; with 10569 unique items.</pre>"
      ],
      "text/plain": [
       "14041 observations to process; with 10569 unique items."
      ]
     },
     "metadata": {},
     "output_type": "display_data"
    }
   ],
   "source": [
    "song_popularity =  gl.popularity_recommender.create(train, \n",
    "                                                    item_id = 'song_id',\n",
    "                                                    user_id='user_id')"
   ]
  },
  {
   "cell_type": "markdown",
   "metadata": {},
   "source": [
    "**Evaluate Song Popularity Recomender Precision and Recall on Test Data**"
   ]
  },
  {
   "cell_type": "code",
   "execution_count": 10,
   "metadata": {
    "collapsed": false
   },
   "outputs": [
    {
     "data": {
      "text/html": [
       "<pre>recommendations finished on 1000/5870 queries. users per second: 17516.5</pre>"
      ],
      "text/plain": [
       "recommendations finished on 1000/5870 queries. users per second: 17516.5"
      ]
     },
     "metadata": {},
     "output_type": "display_data"
    },
    {
     "data": {
      "text/html": [
       "<pre>recommendations finished on 2000/5870 queries. users per second: 15990.2</pre>"
      ],
      "text/plain": [
       "recommendations finished on 2000/5870 queries. users per second: 15990.2"
      ]
     },
     "metadata": {},
     "output_type": "display_data"
    },
    {
     "data": {
      "text/html": [
       "<pre>recommendations finished on 3000/5870 queries. users per second: 15600.9</pre>"
      ],
      "text/plain": [
       "recommendations finished on 3000/5870 queries. users per second: 15600.9"
      ]
     },
     "metadata": {},
     "output_type": "display_data"
    },
    {
     "data": {
      "text/html": [
       "<pre>recommendations finished on 4000/5870 queries. users per second: 16944.8</pre>"
      ],
      "text/plain": [
       "recommendations finished on 4000/5870 queries. users per second: 16944.8"
      ]
     },
     "metadata": {},
     "output_type": "display_data"
    },
    {
     "data": {
      "text/html": [
       "<pre>recommendations finished on 5000/5870 queries. users per second: 18217.3</pre>"
      ],
      "text/plain": [
       "recommendations finished on 5000/5870 queries. users per second: 18217.3"
      ]
     },
     "metadata": {},
     "output_type": "display_data"
    },
    {
     "data": {
      "text/plain": [
       "{'precision_recall_by_user': Columns:\n",
       " \tuser_id\tstr\n",
       " \tcutoff\tint\n",
       " \tprecision\tfloat\n",
       " \trecall\tfloat\n",
       " \tcount\tint\n",
       " \n",
       " Rows: 105660\n",
       " \n",
       " Data:\n",
       " +-------------------------------+--------+-----------+--------+-------+\n",
       " |            user_id            | cutoff | precision | recall | count |\n",
       " +-------------------------------+--------+-----------+--------+-------+\n",
       " | 0002e94348b2543c6e6ccf408b... |   1    |    0.0    |  0.0   |   1   |\n",
       " | 0002e94348b2543c6e6ccf408b... |   2    |    0.0    |  0.0   |   1   |\n",
       " | 0002e94348b2543c6e6ccf408b... |   3    |    0.0    |  0.0   |   1   |\n",
       " | 0002e94348b2543c6e6ccf408b... |   4    |    0.0    |  0.0   |   1   |\n",
       " | 0002e94348b2543c6e6ccf408b... |   5    |    0.0    |  0.0   |   1   |\n",
       " | 0002e94348b2543c6e6ccf408b... |   6    |    0.0    |  0.0   |   1   |\n",
       " | 0002e94348b2543c6e6ccf408b... |   7    |    0.0    |  0.0   |   1   |\n",
       " | 0002e94348b2543c6e6ccf408b... |   8    |    0.0    |  0.0   |   1   |\n",
       " | 0002e94348b2543c6e6ccf408b... |   9    |    0.0    |  0.0   |   1   |\n",
       " | 0002e94348b2543c6e6ccf408b... |   10   |    0.0    |  0.0   |   1   |\n",
       " +-------------------------------+--------+-----------+--------+-------+\n",
       " [105660 rows x 5 columns]\n",
       " Note: Only the head of the SFrame is printed.\n",
       " You can use print_rows(num_rows=m, num_columns=n) to print more rows and columns.,\n",
       " 'precision_recall_overall': Columns:\n",
       " \tcutoff\tint\n",
       " \tprecision\tfloat\n",
       " \trecall\tfloat\n",
       " \n",
       " Rows: 18\n",
       " \n",
       " Data:\n",
       " +--------+------------------+------------------+\n",
       " | cutoff |    precision     |      recall      |\n",
       " +--------+------------------+------------------+\n",
       " |   1    | 0.00289608177172 | 0.00289608177172 |\n",
       " |   2    | 0.00281090289608 | 0.00562180579216 |\n",
       " |   3    | 0.00238500851789 | 0.00715502555366 |\n",
       " |   4    | 0.00204429301533 | 0.00817717206133 |\n",
       " |   5    | 0.00190800681431 | 0.00954003407155 |\n",
       " |   6    | 0.00173197047132 | 0.0103918228279  |\n",
       " |   7    | 0.00158189340472 |  0.011073253833  |\n",
       " |   8    | 0.00166098807496 | 0.0132879045997  |\n",
       " |   9    | 0.00160893431762 | 0.0144804088586  |\n",
       " |   10   | 0.00151618398637 | 0.0151618398637  |\n",
       " +--------+------------------+------------------+\n",
       " [18 rows x 3 columns]\n",
       " Note: Only the head of the SFrame is printed.\n",
       " You can use print_rows(num_rows=m, num_columns=n) to print more rows and columns.}"
      ]
     },
     "execution_count": 10,
     "metadata": {},
     "output_type": "execute_result"
    }
   ],
   "source": [
    "eval_song_pop = song_popularity.evaluate_precision_recall(test)\n",
    "\n",
    "eval_song_pop"
   ]
  },
  {
   "cell_type": "markdown",
   "metadata": {},
   "source": [
    "See top 5 recommended songs."
   ]
  },
  {
   "cell_type": "code",
   "execution_count": 11,
   "metadata": {
    "collapsed": false
   },
   "outputs": [
    {
     "data": {
      "text/html": [
       "<pre>recommendations finished on 1000/13631 queries. users per second: 29304</pre>"
      ],
      "text/plain": [
       "recommendations finished on 1000/13631 queries. users per second: 29304"
      ]
     },
     "metadata": {},
     "output_type": "display_data"
    },
    {
     "data": {
      "text/html": [
       "<pre>recommendations finished on 2000/13631 queries. users per second: 29069.3</pre>"
      ],
      "text/plain": [
       "recommendations finished on 2000/13631 queries. users per second: 29069.3"
      ]
     },
     "metadata": {},
     "output_type": "display_data"
    },
    {
     "data": {
      "text/html": [
       "<pre>recommendations finished on 3000/13631 queries. users per second: 29438.9</pre>"
      ],
      "text/plain": [
       "recommendations finished on 3000/13631 queries. users per second: 29438.9"
      ]
     },
     "metadata": {},
     "output_type": "display_data"
    },
    {
     "data": {
      "text/html": [
       "<pre>recommendations finished on 4000/13631 queries. users per second: 29733.4</pre>"
      ],
      "text/plain": [
       "recommendations finished on 4000/13631 queries. users per second: 29733.4"
      ]
     },
     "metadata": {},
     "output_type": "display_data"
    },
    {
     "data": {
      "text/html": [
       "<pre>recommendations finished on 5000/13631 queries. users per second: 29753.9</pre>"
      ],
      "text/plain": [
       "recommendations finished on 5000/13631 queries. users per second: 29753.9"
      ]
     },
     "metadata": {},
     "output_type": "display_data"
    },
    {
     "data": {
      "text/html": [
       "<pre>recommendations finished on 6000/13631 queries. users per second: 29718.6</pre>"
      ],
      "text/plain": [
       "recommendations finished on 6000/13631 queries. users per second: 29718.6"
      ]
     },
     "metadata": {},
     "output_type": "display_data"
    },
    {
     "data": {
      "text/html": [
       "<pre>recommendations finished on 7000/13631 queries. users per second: 29510.1</pre>"
      ],
      "text/plain": [
       "recommendations finished on 7000/13631 queries. users per second: 29510.1"
      ]
     },
     "metadata": {},
     "output_type": "display_data"
    },
    {
     "data": {
      "text/html": [
       "<pre>recommendations finished on 8000/13631 queries. users per second: 28815.3</pre>"
      ],
      "text/plain": [
       "recommendations finished on 8000/13631 queries. users per second: 28815.3"
      ]
     },
     "metadata": {},
     "output_type": "display_data"
    },
    {
     "data": {
      "text/html": [
       "<pre>recommendations finished on 9000/13631 queries. users per second: 28189.9</pre>"
      ],
      "text/plain": [
       "recommendations finished on 9000/13631 queries. users per second: 28189.9"
      ]
     },
     "metadata": {},
     "output_type": "display_data"
    },
    {
     "data": {
      "text/html": [
       "<pre>recommendations finished on 10000/13631 queries. users per second: 28349.7</pre>"
      ],
      "text/plain": [
       "recommendations finished on 10000/13631 queries. users per second: 28349.7"
      ]
     },
     "metadata": {},
     "output_type": "display_data"
    },
    {
     "data": {
      "text/html": [
       "<pre>recommendations finished on 11000/13631 queries. users per second: 28106.6</pre>"
      ],
      "text/plain": [
       "recommendations finished on 11000/13631 queries. users per second: 28106.6"
      ]
     },
     "metadata": {},
     "output_type": "display_data"
    },
    {
     "data": {
      "text/html": [
       "<pre>recommendations finished on 12000/13631 queries. users per second: 28178.3</pre>"
      ],
      "text/plain": [
       "recommendations finished on 12000/13631 queries. users per second: 28178.3"
      ]
     },
     "metadata": {},
     "output_type": "display_data"
    },
    {
     "data": {
      "text/html": [
       "<pre>recommendations finished on 13000/13631 queries. users per second: 27979.4</pre>"
      ],
      "text/plain": [
       "recommendations finished on 13000/13631 queries. users per second: 27979.4"
      ]
     },
     "metadata": {},
     "output_type": "display_data"
    },
    {
     "data": {
      "text/html": [
       "<div style=\"max-height:1000px;max-width:1500px;overflow:auto;\"><table frame=\"box\" rules=\"cols\">\n",
       "    <tr>\n",
       "        <th style=\"padding-left: 1em; padding-right: 1em; text-align: center\">user_id</th>\n",
       "        <th style=\"padding-left: 1em; padding-right: 1em; text-align: center\">song_id</th>\n",
       "        <th style=\"padding-left: 1em; padding-right: 1em; text-align: center\">score</th>\n",
       "        <th style=\"padding-left: 1em; padding-right: 1em; text-align: center\">rank</th>\n",
       "    </tr>\n",
       "    <tr>\n",
       "        <td style=\"padding-left: 1em; padding-right: 1em; text-align: center; vertical-align: top\">5f3708108a564cd6489e215a0<br>7c8cb2316ef7e13 ...</td>\n",
       "        <td style=\"padding-left: 1em; padding-right: 1em; text-align: center; vertical-align: top\">SOFRQTD12A81C233C0</td>\n",
       "        <td style=\"padding-left: 1em; padding-right: 1em; text-align: center; vertical-align: top\">29.0</td>\n",
       "        <td style=\"padding-left: 1em; padding-right: 1em; text-align: center; vertical-align: top\">1</td>\n",
       "    </tr>\n",
       "    <tr>\n",
       "        <td style=\"padding-left: 1em; padding-right: 1em; text-align: center; vertical-align: top\">5f3708108a564cd6489e215a0<br>7c8cb2316ef7e13 ...</td>\n",
       "        <td style=\"padding-left: 1em; padding-right: 1em; text-align: center; vertical-align: top\">SOAUWYT12A81C206F1</td>\n",
       "        <td style=\"padding-left: 1em; padding-right: 1em; text-align: center; vertical-align: top\">28.0</td>\n",
       "        <td style=\"padding-left: 1em; padding-right: 1em; text-align: center; vertical-align: top\">2</td>\n",
       "    </tr>\n",
       "    <tr>\n",
       "        <td style=\"padding-left: 1em; padding-right: 1em; text-align: center; vertical-align: top\">5f3708108a564cd6489e215a0<br>7c8cb2316ef7e13 ...</td>\n",
       "        <td style=\"padding-left: 1em; padding-right: 1em; text-align: center; vertical-align: top\">SOAXGDH12A8C13F8A1</td>\n",
       "        <td style=\"padding-left: 1em; padding-right: 1em; text-align: center; vertical-align: top\">27.0</td>\n",
       "        <td style=\"padding-left: 1em; padding-right: 1em; text-align: center; vertical-align: top\">3</td>\n",
       "    </tr>\n",
       "    <tr>\n",
       "        <td style=\"padding-left: 1em; padding-right: 1em; text-align: center; vertical-align: top\">5f3708108a564cd6489e215a0<br>7c8cb2316ef7e13 ...</td>\n",
       "        <td style=\"padding-left: 1em; padding-right: 1em; text-align: center; vertical-align: top\">SOSXLTC12AF72A7F54</td>\n",
       "        <td style=\"padding-left: 1em; padding-right: 1em; text-align: center; vertical-align: top\">26.0</td>\n",
       "        <td style=\"padding-left: 1em; padding-right: 1em; text-align: center; vertical-align: top\">4</td>\n",
       "    </tr>\n",
       "    <tr>\n",
       "        <td style=\"padding-left: 1em; padding-right: 1em; text-align: center; vertical-align: top\">5f3708108a564cd6489e215a0<br>7c8cb2316ef7e13 ...</td>\n",
       "        <td style=\"padding-left: 1em; padding-right: 1em; text-align: center; vertical-align: top\">SOEGIYH12A6D4FC0E3</td>\n",
       "        <td style=\"padding-left: 1em; padding-right: 1em; text-align: center; vertical-align: top\">22.0</td>\n",
       "        <td style=\"padding-left: 1em; padding-right: 1em; text-align: center; vertical-align: top\">5</td>\n",
       "    </tr>\n",
       "    <tr>\n",
       "        <td style=\"padding-left: 1em; padding-right: 1em; text-align: center; vertical-align: top\">8b6d6eae947e52056c713ac1e<br>727fa3d3573b389 ...</td>\n",
       "        <td style=\"padding-left: 1em; padding-right: 1em; text-align: center; vertical-align: top\">SOFRQTD12A81C233C0</td>\n",
       "        <td style=\"padding-left: 1em; padding-right: 1em; text-align: center; vertical-align: top\">29.0</td>\n",
       "        <td style=\"padding-left: 1em; padding-right: 1em; text-align: center; vertical-align: top\">1</td>\n",
       "    </tr>\n",
       "    <tr>\n",
       "        <td style=\"padding-left: 1em; padding-right: 1em; text-align: center; vertical-align: top\">8b6d6eae947e52056c713ac1e<br>727fa3d3573b389 ...</td>\n",
       "        <td style=\"padding-left: 1em; padding-right: 1em; text-align: center; vertical-align: top\">SOAUWYT12A81C206F1</td>\n",
       "        <td style=\"padding-left: 1em; padding-right: 1em; text-align: center; vertical-align: top\">28.0</td>\n",
       "        <td style=\"padding-left: 1em; padding-right: 1em; text-align: center; vertical-align: top\">2</td>\n",
       "    </tr>\n",
       "    <tr>\n",
       "        <td style=\"padding-left: 1em; padding-right: 1em; text-align: center; vertical-align: top\">8b6d6eae947e52056c713ac1e<br>727fa3d3573b389 ...</td>\n",
       "        <td style=\"padding-left: 1em; padding-right: 1em; text-align: center; vertical-align: top\">SOAXGDH12A8C13F8A1</td>\n",
       "        <td style=\"padding-left: 1em; padding-right: 1em; text-align: center; vertical-align: top\">27.0</td>\n",
       "        <td style=\"padding-left: 1em; padding-right: 1em; text-align: center; vertical-align: top\">3</td>\n",
       "    </tr>\n",
       "    <tr>\n",
       "        <td style=\"padding-left: 1em; padding-right: 1em; text-align: center; vertical-align: top\">8b6d6eae947e52056c713ac1e<br>727fa3d3573b389 ...</td>\n",
       "        <td style=\"padding-left: 1em; padding-right: 1em; text-align: center; vertical-align: top\">SOSXLTC12AF72A7F54</td>\n",
       "        <td style=\"padding-left: 1em; padding-right: 1em; text-align: center; vertical-align: top\">26.0</td>\n",
       "        <td style=\"padding-left: 1em; padding-right: 1em; text-align: center; vertical-align: top\">4</td>\n",
       "    </tr>\n",
       "    <tr>\n",
       "        <td style=\"padding-left: 1em; padding-right: 1em; text-align: center; vertical-align: top\">8b6d6eae947e52056c713ac1e<br>727fa3d3573b389 ...</td>\n",
       "        <td style=\"padding-left: 1em; padding-right: 1em; text-align: center; vertical-align: top\">SOEGIYH12A6D4FC0E3</td>\n",
       "        <td style=\"padding-left: 1em; padding-right: 1em; text-align: center; vertical-align: top\">22.0</td>\n",
       "        <td style=\"padding-left: 1em; padding-right: 1em; text-align: center; vertical-align: top\">5</td>\n",
       "    </tr>\n",
       "</table>\n",
       "[68155 rows x 4 columns]<br/>Note: Only the head of the SFrame is printed.<br/>You can use print_rows(num_rows=m, num_columns=n) to print more rows and columns.\n",
       "</div>"
      ],
      "text/plain": [
       "Columns:\n",
       "\tuser_id\tstr\n",
       "\tsong_id\tstr\n",
       "\tscore\tfloat\n",
       "\trank\tint\n",
       "\n",
       "Rows: 68155\n",
       "\n",
       "Data:\n",
       "+-------------------------------+--------------------+-------+------+\n",
       "|            user_id            |      song_id       | score | rank |\n",
       "+-------------------------------+--------------------+-------+------+\n",
       "| 5f3708108a564cd6489e215a07... | SOFRQTD12A81C233C0 |  29.0 |  1   |\n",
       "| 5f3708108a564cd6489e215a07... | SOAUWYT12A81C206F1 |  28.0 |  2   |\n",
       "| 5f3708108a564cd6489e215a07... | SOAXGDH12A8C13F8A1 |  27.0 |  3   |\n",
       "| 5f3708108a564cd6489e215a07... | SOSXLTC12AF72A7F54 |  26.0 |  4   |\n",
       "| 5f3708108a564cd6489e215a07... | SOEGIYH12A6D4FC0E3 |  22.0 |  5   |\n",
       "| 8b6d6eae947e52056c713ac1e7... | SOFRQTD12A81C233C0 |  29.0 |  1   |\n",
       "| 8b6d6eae947e52056c713ac1e7... | SOAUWYT12A81C206F1 |  28.0 |  2   |\n",
       "| 8b6d6eae947e52056c713ac1e7... | SOAXGDH12A8C13F8A1 |  27.0 |  3   |\n",
       "| 8b6d6eae947e52056c713ac1e7... | SOSXLTC12AF72A7F54 |  26.0 |  4   |\n",
       "| 8b6d6eae947e52056c713ac1e7... | SOEGIYH12A6D4FC0E3 |  22.0 |  5   |\n",
       "+-------------------------------+--------------------+-------+------+\n",
       "[68155 rows x 4 columns]\n",
       "Note: Only the head of the SFrame is printed.\n",
       "You can use print_rows(num_rows=m, num_columns=n) to print more rows and columns."
      ]
     },
     "execution_count": 11,
     "metadata": {},
     "output_type": "execute_result"
    }
   ],
   "source": [
    "song_popularity.recommend(k=5)"
   ]
  },
  {
   "cell_type": "markdown",
   "metadata": {},
   "source": [
    "## Create Baseline: Artist Popularity Based Recommender"
   ]
  },
  {
   "cell_type": "code",
   "execution_count": 12,
   "metadata": {
    "collapsed": false
   },
   "outputs": [
    {
     "name": "stdout",
     "output_type": "stream",
     "text": [
      "(11671, 5055)\n"
     ]
    }
   ],
   "source": [
    "user_song_matrix_art = user_song_matrix[user_song_matrix['artist_id'] != 'nan']\n",
    "\n",
    "sample2_sf = gl.SFrame(data=user_song_matrix_art)\n",
    "\n",
    "train_art, test_art = sample2_sf.random_split(.7, seed=5)\n",
    "\n",
    "print(len(train_art), len(test_art))"
   ]
  },
  {
   "cell_type": "markdown",
   "metadata": {},
   "source": [
    "This model is used as a frame of reference for the subsequent approaches. This recomender does  not have any personalization at all. It recomends the most popular artists to users."
   ]
  },
  {
   "cell_type": "markdown",
   "metadata": {},
   "source": [
    "Model Documentation: https://turi.com/products/create/docs/generated/graphlab.recommender.popularity_recommender.create.html#graphlab.recommender.popularity_recommender.create"
   ]
  },
  {
   "cell_type": "markdown",
   "metadata": {},
   "source": [
    "*Create Artist Popularity Recomender*"
   ]
  },
  {
   "cell_type": "code",
   "execution_count": 13,
   "metadata": {
    "collapsed": false
   },
   "outputs": [
    {
     "data": {
      "text/html": [
       "<pre>Recsys training: model = popularity</pre>"
      ],
      "text/plain": [
       "Recsys training: model = popularity"
      ]
     },
     "metadata": {},
     "output_type": "display_data"
    },
    {
     "data": {
      "text/html": [
       "<pre>Warning: Ignoring columns artist_familiarity, artist_hotttnesss, artist_name, release, song_hotttnesss, song_id, title, duration, key, loudness, mode, tempo, time_signature, year, play_count, play;</pre>"
      ],
      "text/plain": [
       "Warning: Ignoring columns artist_familiarity, artist_hotttnesss, artist_name, release, song_hotttnesss, song_id, title, duration, key, loudness, mode, tempo, time_signature, year, play_count, play;"
      ]
     },
     "metadata": {},
     "output_type": "display_data"
    },
    {
     "data": {
      "text/html": [
       "<pre>    To use one of these as a target column, set target = <column_name></pre>"
      ],
      "text/plain": [
       "    To use one of these as a target column, set target = <column_name>"
      ]
     },
     "metadata": {},
     "output_type": "display_data"
    },
    {
     "data": {
      "text/html": [
       "<pre>    and use a method that allows the use of a target.</pre>"
      ],
      "text/plain": [
       "    and use a method that allows the use of a target."
      ]
     },
     "metadata": {},
     "output_type": "display_data"
    },
    {
     "data": {
      "text/html": [
       "<pre>Preparing data set.</pre>"
      ],
      "text/plain": [
       "Preparing data set."
      ]
     },
     "metadata": {},
     "output_type": "display_data"
    },
    {
     "data": {
      "text/html": [
       "<pre>    Data has 11671 observations with 11327 users and 4354 items.</pre>"
      ],
      "text/plain": [
       "    Data has 11671 observations with 11327 users and 4354 items."
      ]
     },
     "metadata": {},
     "output_type": "display_data"
    },
    {
     "data": {
      "text/html": [
       "<pre>    Data prepared in: 0.070849s</pre>"
      ],
      "text/plain": [
       "    Data prepared in: 0.070849s"
      ]
     },
     "metadata": {},
     "output_type": "display_data"
    },
    {
     "data": {
      "text/html": [
       "<pre>11671 observations to process; with 4354 unique items.</pre>"
      ],
      "text/plain": [
       "11671 observations to process; with 4354 unique items."
      ]
     },
     "metadata": {},
     "output_type": "display_data"
    }
   ],
   "source": [
    "artist_popularity = gl.popularity_recommender.create(train_art,\n",
    "                                                     user_id = 'user_id',\n",
    "                                                     item_id = 'artist_id')"
   ]
  },
  {
   "cell_type": "markdown",
   "metadata": {},
   "source": [
    "**Evaluate Artist Popularity Recomender Precision and Recall**"
   ]
  },
  {
   "cell_type": "code",
   "execution_count": 14,
   "metadata": {
    "collapsed": false
   },
   "outputs": [
    {
     "data": {
      "text/html": [
       "<pre>recommendations finished on 1000/4956 queries. users per second: 38019.9</pre>"
      ],
      "text/plain": [
       "recommendations finished on 1000/4956 queries. users per second: 38019.9"
      ]
     },
     "metadata": {},
     "output_type": "display_data"
    },
    {
     "data": {
      "text/html": [
       "<pre>recommendations finished on 2000/4956 queries. users per second: 35811.5</pre>"
      ],
      "text/plain": [
       "recommendations finished on 2000/4956 queries. users per second: 35811.5"
      ]
     },
     "metadata": {},
     "output_type": "display_data"
    },
    {
     "data": {
      "text/html": [
       "<pre>recommendations finished on 3000/4956 queries. users per second: 37261.1</pre>"
      ],
      "text/plain": [
       "recommendations finished on 3000/4956 queries. users per second: 37261.1"
      ]
     },
     "metadata": {},
     "output_type": "display_data"
    },
    {
     "data": {
      "text/html": [
       "<pre>recommendations finished on 4000/4956 queries. users per second: 36157.9</pre>"
      ],
      "text/plain": [
       "recommendations finished on 4000/4956 queries. users per second: 36157.9"
      ]
     },
     "metadata": {},
     "output_type": "display_data"
    },
    {
     "data": {
      "text/plain": [
       "{'precision_recall_by_user': Columns:\n",
       " \tuser_id\tstr\n",
       " \tcutoff\tint\n",
       " \tprecision\tfloat\n",
       " \trecall\tfloat\n",
       " \tcount\tint\n",
       " \n",
       " Rows: 89208\n",
       " \n",
       " Data:\n",
       " +-------------------------------+--------+-----------+--------+-------+\n",
       " |            user_id            | cutoff | precision | recall | count |\n",
       " +-------------------------------+--------+-----------+--------+-------+\n",
       " | 00154598d7b6c732217db98ca6... |   1    |    0.0    |  0.0   |   1   |\n",
       " | 00154598d7b6c732217db98ca6... |   2    |    0.0    |  0.0   |   1   |\n",
       " | 00154598d7b6c732217db98ca6... |   3    |    0.0    |  0.0   |   1   |\n",
       " | 00154598d7b6c732217db98ca6... |   4    |    0.0    |  0.0   |   1   |\n",
       " | 00154598d7b6c732217db98ca6... |   5    |    0.0    |  0.0   |   1   |\n",
       " | 00154598d7b6c732217db98ca6... |   6    |    0.0    |  0.0   |   1   |\n",
       " | 00154598d7b6c732217db98ca6... |   7    |    0.0    |  0.0   |   1   |\n",
       " | 00154598d7b6c732217db98ca6... |   8    |    0.0    |  0.0   |   1   |\n",
       " | 00154598d7b6c732217db98ca6... |   9    |    0.0    |  0.0   |   1   |\n",
       " | 00154598d7b6c732217db98ca6... |   10   |    0.0    |  0.0   |   1   |\n",
       " +-------------------------------+--------+-----------+--------+-------+\n",
       " [89208 rows x 5 columns]\n",
       " Note: Only the head of the SFrame is printed.\n",
       " You can use print_rows(num_rows=m, num_columns=n) to print more rows and columns.,\n",
       " 'precision_recall_overall': Columns:\n",
       " \tcutoff\tint\n",
       " \tprecision\tfloat\n",
       " \trecall\tfloat\n",
       " \n",
       " Rows: 18\n",
       " \n",
       " Data:\n",
       " +--------+------------------+------------------+\n",
       " | cutoff |    precision     |      recall      |\n",
       " +--------+------------------+------------------+\n",
       " |   1    | 0.00645682001614 | 0.00645682001614 |\n",
       " |   2    | 0.00605326876513 | 0.0120056497175  |\n",
       " |   3    | 0.00578423459779 | 0.0171509281679  |\n",
       " |   4    | 0.00554882970137 |  0.02199354318   |\n",
       " |   5    | 0.00564971751412 | 0.0279459241324  |\n",
       " |   6    | 0.00517890772128 | 0.0306698950767  |\n",
       " |   7    | 0.00504439063761 | 0.0349071832123  |\n",
       " |   8    | 0.00519572235674 | 0.0411622276029  |\n",
       " |   9    | 0.00499955160972 |  0.044390637611  |\n",
       " |   10   | 0.00466101694915 |  0.046004842615  |\n",
       " +--------+------------------+------------------+\n",
       " [18 rows x 3 columns]\n",
       " Note: Only the head of the SFrame is printed.\n",
       " You can use print_rows(num_rows=m, num_columns=n) to print more rows and columns.}"
      ]
     },
     "execution_count": 14,
     "metadata": {},
     "output_type": "execute_result"
    }
   ],
   "source": [
    "eval_artist_pop = artist_popularity.evaluate_precision_recall(test_art)\n",
    "\n",
    "eval_artist_pop"
   ]
  },
  {
   "cell_type": "markdown",
   "metadata": {},
   "source": [
    "*Find top 5 artist recomendations*"
   ]
  },
  {
   "cell_type": "code",
   "execution_count": 15,
   "metadata": {
    "collapsed": false
   },
   "outputs": [
    {
     "data": {
      "text/html": [
       "<pre>recommendations finished on 1000/11327 queries. users per second: 62597.8</pre>"
      ],
      "text/plain": [
       "recommendations finished on 1000/11327 queries. users per second: 62597.8"
      ]
     },
     "metadata": {},
     "output_type": "display_data"
    },
    {
     "data": {
      "text/html": [
       "<pre>recommendations finished on 2000/11327 queries. users per second: 64401.9</pre>"
      ],
      "text/plain": [
       "recommendations finished on 2000/11327 queries. users per second: 64401.9"
      ]
     },
     "metadata": {},
     "output_type": "display_data"
    },
    {
     "data": {
      "text/html": [
       "<pre>recommendations finished on 3000/11327 queries. users per second: 62634.4</pre>"
      ],
      "text/plain": [
       "recommendations finished on 3000/11327 queries. users per second: 62634.4"
      ]
     },
     "metadata": {},
     "output_type": "display_data"
    },
    {
     "data": {
      "text/html": [
       "<pre>recommendations finished on 4000/11327 queries. users per second: 62759.9</pre>"
      ],
      "text/plain": [
       "recommendations finished on 4000/11327 queries. users per second: 62759.9"
      ]
     },
     "metadata": {},
     "output_type": "display_data"
    },
    {
     "data": {
      "text/html": [
       "<pre>recommendations finished on 5000/11327 queries. users per second: 62662.9</pre>"
      ],
      "text/plain": [
       "recommendations finished on 5000/11327 queries. users per second: 62662.9"
      ]
     },
     "metadata": {},
     "output_type": "display_data"
    },
    {
     "data": {
      "text/html": [
       "<pre>recommendations finished on 6000/11327 queries. users per second: 63537.1</pre>"
      ],
      "text/plain": [
       "recommendations finished on 6000/11327 queries. users per second: 63537.1"
      ]
     },
     "metadata": {},
     "output_type": "display_data"
    },
    {
     "data": {
      "text/html": [
       "<pre>recommendations finished on 7000/11327 queries. users per second: 62564.8</pre>"
      ],
      "text/plain": [
       "recommendations finished on 7000/11327 queries. users per second: 62564.8"
      ]
     },
     "metadata": {},
     "output_type": "display_data"
    },
    {
     "data": {
      "text/html": [
       "<pre>recommendations finished on 8000/11327 queries. users per second: 62039.6</pre>"
      ],
      "text/plain": [
       "recommendations finished on 8000/11327 queries. users per second: 62039.6"
      ]
     },
     "metadata": {},
     "output_type": "display_data"
    },
    {
     "data": {
      "text/html": [
       "<pre>recommendations finished on 9000/11327 queries. users per second: 60954.5</pre>"
      ],
      "text/plain": [
       "recommendations finished on 9000/11327 queries. users per second: 60954.5"
      ]
     },
     "metadata": {},
     "output_type": "display_data"
    },
    {
     "data": {
      "text/html": [
       "<pre>recommendations finished on 10000/11327 queries. users per second: 60911</pre>"
      ],
      "text/plain": [
       "recommendations finished on 10000/11327 queries. users per second: 60911"
      ]
     },
     "metadata": {},
     "output_type": "display_data"
    },
    {
     "data": {
      "text/html": [
       "<pre>recommendations finished on 11000/11327 queries. users per second: 60226.1</pre>"
      ],
      "text/plain": [
       "recommendations finished on 11000/11327 queries. users per second: 60226.1"
      ]
     },
     "metadata": {},
     "output_type": "display_data"
    },
    {
     "data": {
      "text/html": [
       "<div style=\"max-height:1000px;max-width:1500px;overflow:auto;\"><table frame=\"box\" rules=\"cols\">\n",
       "    <tr>\n",
       "        <th style=\"padding-left: 1em; padding-right: 1em; text-align: center\">user_id</th>\n",
       "        <th style=\"padding-left: 1em; padding-right: 1em; text-align: center\">artist_id</th>\n",
       "        <th style=\"padding-left: 1em; padding-right: 1em; text-align: center\">score</th>\n",
       "        <th style=\"padding-left: 1em; padding-right: 1em; text-align: center\">rank</th>\n",
       "    </tr>\n",
       "    <tr>\n",
       "        <td style=\"padding-left: 1em; padding-right: 1em; text-align: center; vertical-align: top\">5f3708108a564cd6489e215a0<br>7c8cb2316ef7e13 ...</td>\n",
       "        <td style=\"padding-left: 1em; padding-right: 1em; text-align: center; vertical-align: top\">ARF2EHS1187B994F4E</td>\n",
       "        <td style=\"padding-left: 1em; padding-right: 1em; text-align: center; vertical-align: top\">71.0</td>\n",
       "        <td style=\"padding-left: 1em; padding-right: 1em; text-align: center; vertical-align: top\">1</td>\n",
       "    </tr>\n",
       "    <tr>\n",
       "        <td style=\"padding-left: 1em; padding-right: 1em; text-align: center; vertical-align: top\">5f3708108a564cd6489e215a0<br>7c8cb2316ef7e13 ...</td>\n",
       "        <td style=\"padding-left: 1em; padding-right: 1em; text-align: center; vertical-align: top\">ARJ7KF01187B98D717</td>\n",
       "        <td style=\"padding-left: 1em; padding-right: 1em; text-align: center; vertical-align: top\">66.0</td>\n",
       "        <td style=\"padding-left: 1em; padding-right: 1em; text-align: center; vertical-align: top\">2</td>\n",
       "    </tr>\n",
       "    <tr>\n",
       "        <td style=\"padding-left: 1em; padding-right: 1em; text-align: center; vertical-align: top\">5f3708108a564cd6489e215a0<br>7c8cb2316ef7e13 ...</td>\n",
       "        <td style=\"padding-left: 1em; padding-right: 1em; text-align: center; vertical-align: top\">ARNCHOP121318C56B8</td>\n",
       "        <td style=\"padding-left: 1em; padding-right: 1em; text-align: center; vertical-align: top\">53.0</td>\n",
       "        <td style=\"padding-left: 1em; padding-right: 1em; text-align: center; vertical-align: top\">3</td>\n",
       "    </tr>\n",
       "    <tr>\n",
       "        <td style=\"padding-left: 1em; padding-right: 1em; text-align: center; vertical-align: top\">5f3708108a564cd6489e215a0<br>7c8cb2316ef7e13 ...</td>\n",
       "        <td style=\"padding-left: 1em; padding-right: 1em; text-align: center; vertical-align: top\">ARF8HTQ1187B9AE693</td>\n",
       "        <td style=\"padding-left: 1em; padding-right: 1em; text-align: center; vertical-align: top\">51.0</td>\n",
       "        <td style=\"padding-left: 1em; padding-right: 1em; text-align: center; vertical-align: top\">4</td>\n",
       "    </tr>\n",
       "    <tr>\n",
       "        <td style=\"padding-left: 1em; padding-right: 1em; text-align: center; vertical-align: top\">5f3708108a564cd6489e215a0<br>7c8cb2316ef7e13 ...</td>\n",
       "        <td style=\"padding-left: 1em; padding-right: 1em; text-align: center; vertical-align: top\">ARR3ONV1187B9A2F59</td>\n",
       "        <td style=\"padding-left: 1em; padding-right: 1em; text-align: center; vertical-align: top\">49.0</td>\n",
       "        <td style=\"padding-left: 1em; padding-right: 1em; text-align: center; vertical-align: top\">5</td>\n",
       "    </tr>\n",
       "    <tr>\n",
       "        <td style=\"padding-left: 1em; padding-right: 1em; text-align: center; vertical-align: top\">8b6d6eae947e52056c713ac1e<br>727fa3d3573b389 ...</td>\n",
       "        <td style=\"padding-left: 1em; padding-right: 1em; text-align: center; vertical-align: top\">ARF2EHS1187B994F4E</td>\n",
       "        <td style=\"padding-left: 1em; padding-right: 1em; text-align: center; vertical-align: top\">71.0</td>\n",
       "        <td style=\"padding-left: 1em; padding-right: 1em; text-align: center; vertical-align: top\">1</td>\n",
       "    </tr>\n",
       "    <tr>\n",
       "        <td style=\"padding-left: 1em; padding-right: 1em; text-align: center; vertical-align: top\">8b6d6eae947e52056c713ac1e<br>727fa3d3573b389 ...</td>\n",
       "        <td style=\"padding-left: 1em; padding-right: 1em; text-align: center; vertical-align: top\">ARJ7KF01187B98D717</td>\n",
       "        <td style=\"padding-left: 1em; padding-right: 1em; text-align: center; vertical-align: top\">66.0</td>\n",
       "        <td style=\"padding-left: 1em; padding-right: 1em; text-align: center; vertical-align: top\">2</td>\n",
       "    </tr>\n",
       "    <tr>\n",
       "        <td style=\"padding-left: 1em; padding-right: 1em; text-align: center; vertical-align: top\">8b6d6eae947e52056c713ac1e<br>727fa3d3573b389 ...</td>\n",
       "        <td style=\"padding-left: 1em; padding-right: 1em; text-align: center; vertical-align: top\">ARNCHOP121318C56B8</td>\n",
       "        <td style=\"padding-left: 1em; padding-right: 1em; text-align: center; vertical-align: top\">53.0</td>\n",
       "        <td style=\"padding-left: 1em; padding-right: 1em; text-align: center; vertical-align: top\">3</td>\n",
       "    </tr>\n",
       "    <tr>\n",
       "        <td style=\"padding-left: 1em; padding-right: 1em; text-align: center; vertical-align: top\">8b6d6eae947e52056c713ac1e<br>727fa3d3573b389 ...</td>\n",
       "        <td style=\"padding-left: 1em; padding-right: 1em; text-align: center; vertical-align: top\">ARF8HTQ1187B9AE693</td>\n",
       "        <td style=\"padding-left: 1em; padding-right: 1em; text-align: center; vertical-align: top\">51.0</td>\n",
       "        <td style=\"padding-left: 1em; padding-right: 1em; text-align: center; vertical-align: top\">4</td>\n",
       "    </tr>\n",
       "    <tr>\n",
       "        <td style=\"padding-left: 1em; padding-right: 1em; text-align: center; vertical-align: top\">8b6d6eae947e52056c713ac1e<br>727fa3d3573b389 ...</td>\n",
       "        <td style=\"padding-left: 1em; padding-right: 1em; text-align: center; vertical-align: top\">ARR3ONV1187B9A2F59</td>\n",
       "        <td style=\"padding-left: 1em; padding-right: 1em; text-align: center; vertical-align: top\">49.0</td>\n",
       "        <td style=\"padding-left: 1em; padding-right: 1em; text-align: center; vertical-align: top\">5</td>\n",
       "    </tr>\n",
       "</table>\n",
       "[56635 rows x 4 columns]<br/>Note: Only the head of the SFrame is printed.<br/>You can use print_rows(num_rows=m, num_columns=n) to print more rows and columns.\n",
       "</div>"
      ],
      "text/plain": [
       "Columns:\n",
       "\tuser_id\tstr\n",
       "\tartist_id\tstr\n",
       "\tscore\tfloat\n",
       "\trank\tint\n",
       "\n",
       "Rows: 56635\n",
       "\n",
       "Data:\n",
       "+-------------------------------+--------------------+-------+------+\n",
       "|            user_id            |     artist_id      | score | rank |\n",
       "+-------------------------------+--------------------+-------+------+\n",
       "| 5f3708108a564cd6489e215a07... | ARF2EHS1187B994F4E |  71.0 |  1   |\n",
       "| 5f3708108a564cd6489e215a07... | ARJ7KF01187B98D717 |  66.0 |  2   |\n",
       "| 5f3708108a564cd6489e215a07... | ARNCHOP121318C56B8 |  53.0 |  3   |\n",
       "| 5f3708108a564cd6489e215a07... | ARF8HTQ1187B9AE693 |  51.0 |  4   |\n",
       "| 5f3708108a564cd6489e215a07... | ARR3ONV1187B9A2F59 |  49.0 |  5   |\n",
       "| 8b6d6eae947e52056c713ac1e7... | ARF2EHS1187B994F4E |  71.0 |  1   |\n",
       "| 8b6d6eae947e52056c713ac1e7... | ARJ7KF01187B98D717 |  66.0 |  2   |\n",
       "| 8b6d6eae947e52056c713ac1e7... | ARNCHOP121318C56B8 |  53.0 |  3   |\n",
       "| 8b6d6eae947e52056c713ac1e7... | ARF8HTQ1187B9AE693 |  51.0 |  4   |\n",
       "| 8b6d6eae947e52056c713ac1e7... | ARR3ONV1187B9A2F59 |  49.0 |  5   |\n",
       "+-------------------------------+--------------------+-------+------+\n",
       "[56635 rows x 4 columns]\n",
       "Note: Only the head of the SFrame is printed.\n",
       "You can use print_rows(num_rows=m, num_columns=n) to print more rows and columns."
      ]
     },
     "execution_count": 15,
     "metadata": {},
     "output_type": "execute_result"
    }
   ],
   "source": [
    "artist_popularity.recommend(k=5)"
   ]
  },
  {
   "cell_type": "markdown",
   "metadata": {},
   "source": [
    "## Content - Based Recommender"
   ]
  },
  {
   "cell_type": "markdown",
   "metadata": {},
   "source": [
    "Model Documentation:\n",
    "\n",
    "https://turi.com/products/create/docs/generated/graphlab.recommender.item_content_recommender.create.html#graphlab.recommender.item_content_recommender.create"
   ]
  },
  {
   "cell_type": "code",
   "execution_count": 16,
   "metadata": {
    "collapsed": false
   },
   "outputs": [],
   "source": [
    "train_item_data = train[['artist_familiarity','artist_hotttnesss','artist_id','artist_name',\n",
    "                         'release','song_hotttnesss','song_id','title','duration','key',\n",
    "                         'loudness','mode','tempo','time_signature','year']]\n",
    "\n",
    "obs_data = train[['user_id','song_id','play']]"
   ]
  },
  {
   "cell_type": "code",
   "execution_count": 17,
   "metadata": {
    "collapsed": false
   },
   "outputs": [
    {
     "name": "stdout",
     "output_type": "stream",
     "text": [
      "WARNING: The ItemContentRecommender model is still in beta.\n",
      "WARNING: This feature transformer is still in beta, and some interpretation rules may change in the future.\n",
      "('Applying transform:\\n', Class             : AutoVectorizer\n",
      "\n",
      "Model Fields\n",
      "------------\n",
      "Features          : ['artist_familiarity', 'artist_hotttnesss', 'artist_id', 'artist_name', 'release', 'song_hotttnesss', 'title', 'duration', 'key', 'loudness', 'mode', 'tempo', 'time_signature', 'year']\n",
      "Excluded Features : ['song_id']\n",
      "\n",
      "Column              Type   Interpretation  Transforms  Output Type\n",
      "------------------  -----  --------------  ----------  -----------\n",
      "artist_familiarity  float  numerical       None        float      \n",
      "artist_hotttnesss   float  numerical       None        float      \n",
      "artist_id           str    categorical     None        str        \n",
      "artist_name         str    categorical     None        str        \n",
      "release             str    categorical     None        str        \n",
      "song_hotttnesss     float  numerical       None        float      \n",
      "title               str    categorical     None        str        \n",
      "duration            float  numerical       None        float      \n",
      "key                 float  numerical       None        float      \n",
      "loudness            float  numerical       None        float      \n",
      "mode                float  numerical       None        float      \n",
      "tempo               float  numerical       None        float      \n",
      "time_signature      float  numerical       None        float      \n",
      "year                float  numerical       None        float      \n",
      "\n",
      ")\n"
     ]
    },
    {
     "data": {
      "text/html": [
       "<pre>Recsys training: model = item_content_recommender</pre>"
      ],
      "text/plain": [
       "Recsys training: model = item_content_recommender"
      ]
     },
     "metadata": {},
     "output_type": "display_data"
    },
    {
     "name": "stdout",
     "output_type": "stream",
     "text": [
      "Defaulting to brute force instead of ball tree because there are multiple distance components.\n"
     ]
    },
    {
     "data": {
      "text/html": [
       "<pre>Starting brute force nearest neighbors model training.</pre>"
      ],
      "text/plain": [
       "Starting brute force nearest neighbors model training."
      ]
     },
     "metadata": {},
     "output_type": "display_data"
    },
    {
     "data": {
      "text/html": [
       "<pre>Starting pairwise querying.</pre>"
      ],
      "text/plain": [
       "Starting pairwise querying."
      ]
     },
     "metadata": {},
     "output_type": "display_data"
    },
    {
     "data": {
      "text/html": [
       "<pre>+--------------+---------+-------------+--------------+</pre>"
      ],
      "text/plain": [
       "+--------------+---------+-------------+--------------+"
      ]
     },
     "metadata": {},
     "output_type": "display_data"
    },
    {
     "data": {
      "text/html": [
       "<pre>| Query points | # Pairs | % Complete. | Elapsed Time |</pre>"
      ],
      "text/plain": [
       "| Query points | # Pairs | % Complete. | Elapsed Time |"
      ]
     },
     "metadata": {},
     "output_type": "display_data"
    },
    {
     "data": {
      "text/html": [
       "<pre>+--------------+---------+-------------+--------------+</pre>"
      ],
      "text/plain": [
       "+--------------+---------+-------------+--------------+"
      ]
     },
     "metadata": {},
     "output_type": "display_data"
    },
    {
     "data": {
      "text/html": [
       "<pre>| 1            | 14041   | 0.007122    | 54.449ms     |</pre>"
      ],
      "text/plain": [
       "| 1            | 14041   | 0.007122    | 54.449ms     |"
      ]
     },
     "metadata": {},
     "output_type": "display_data"
    },
    {
     "data": {
      "text/html": [
       "<pre>| 228          | 3201348 | 1.62382     | 1.05s        |</pre>"
      ],
      "text/plain": [
       "| 228          | 3201348 | 1.62382     | 1.05s        |"
      ]
     },
     "metadata": {},
     "output_type": "display_data"
    },
    {
     "data": {
      "text/html": [
       "<pre>| 460          | 6458860 | 3.27612     | 2.06s        |</pre>"
      ],
      "text/plain": [
       "| 460          | 6458860 | 3.27612     | 2.06s        |"
      ]
     },
     "metadata": {},
     "output_type": "display_data"
    },
    {
     "data": {
      "text/html": [
       "<pre>| 714          | 1e+07   | 5.08511     | 3.06s        |</pre>"
      ],
      "text/plain": [
       "| 714          | 1e+07   | 5.08511     | 3.06s        |"
      ]
     },
     "metadata": {},
     "output_type": "display_data"
    },
    {
     "data": {
      "text/html": [
       "<pre>| 973          | 1.4e+07 | 6.92971     | 4.07s        |</pre>"
      ],
      "text/plain": [
       "| 973          | 1.4e+07 | 6.92971     | 4.07s        |"
      ]
     },
     "metadata": {},
     "output_type": "display_data"
    },
    {
     "data": {
      "text/html": [
       "<pre>| 1229         | 1.7e+07 | 8.75294     | 5.07s        |</pre>"
      ],
      "text/plain": [
       "| 1229         | 1.7e+07 | 8.75294     | 5.07s        |"
      ]
     },
     "metadata": {},
     "output_type": "display_data"
    },
    {
     "data": {
      "text/html": [
       "<pre>| 1497         | 2.1e+07 | 10.6616     | 6.08s        |</pre>"
      ],
      "text/plain": [
       "| 1497         | 2.1e+07 | 10.6616     | 6.08s        |"
      ]
     },
     "metadata": {},
     "output_type": "display_data"
    },
    {
     "data": {
      "text/html": [
       "<pre>| 1766         | 2.5e+07 | 12.5775     | 7.08s        |</pre>"
      ],
      "text/plain": [
       "| 1766         | 2.5e+07 | 12.5775     | 7.08s        |"
      ]
     },
     "metadata": {},
     "output_type": "display_data"
    },
    {
     "data": {
      "text/html": [
       "<pre>| 1988         | 2.8e+07 | 14.1585     | 8.09s        |</pre>"
      ],
      "text/plain": [
       "| 1988         | 2.8e+07 | 14.1585     | 8.09s        |"
      ]
     },
     "metadata": {},
     "output_type": "display_data"
    },
    {
     "data": {
      "text/html": [
       "<pre>| 2206         | 3.1e+07 | 15.7111     | 9.09s        |</pre>"
      ],
      "text/plain": [
       "| 2206         | 3.1e+07 | 15.7111     | 9.09s        |"
      ]
     },
     "metadata": {},
     "output_type": "display_data"
    },
    {
     "data": {
      "text/html": [
       "<pre>| 2474         | 3.5e+07 | 17.6198     | 10.10s       |</pre>"
      ],
      "text/plain": [
       "| 2474         | 3.5e+07 | 17.6198     | 10.10s       |"
      ]
     },
     "metadata": {},
     "output_type": "display_data"
    },
    {
     "data": {
      "text/html": [
       "<pre>| 2680         | 3.8e+07 | 19.087      | 11.10s       |</pre>"
      ],
      "text/plain": [
       "| 2680         | 3.8e+07 | 19.087      | 11.10s       |"
      ]
     },
     "metadata": {},
     "output_type": "display_data"
    },
    {
     "data": {
      "text/html": [
       "<pre>| 2865         | 4e+07   | 20.4045     | 12.11s       |</pre>"
      ],
      "text/plain": [
       "| 2865         | 4e+07   | 20.4045     | 12.11s       |"
      ]
     },
     "metadata": {},
     "output_type": "display_data"
    },
    {
     "data": {
      "text/html": [
       "<pre>| 3072         | 4.3e+07 | 21.8788     | 13.11s       |</pre>"
      ],
      "text/plain": [
       "| 3072         | 4.3e+07 | 21.8788     | 13.11s       |"
      ]
     },
     "metadata": {},
     "output_type": "display_data"
    },
    {
     "data": {
      "text/html": [
       "<pre>| 3252         | 4.6e+07 | 23.1607     | 14.12s       |</pre>"
      ],
      "text/plain": [
       "| 3252         | 4.6e+07 | 23.1607     | 14.12s       |"
      ]
     },
     "metadata": {},
     "output_type": "display_data"
    },
    {
     "data": {
      "text/html": [
       "<pre>| 3435         | 4.8e+07 | 24.4641     | 15.12s       |</pre>"
      ],
      "text/plain": [
       "| 3435         | 4.8e+07 | 24.4641     | 15.12s       |"
      ]
     },
     "metadata": {},
     "output_type": "display_data"
    },
    {
     "data": {
      "text/html": [
       "<pre>| 3694         | 5.2e+07 | 26.3087     | 16.12s       |</pre>"
      ],
      "text/plain": [
       "| 3694         | 5.2e+07 | 26.3087     | 16.12s       |"
      ]
     },
     "metadata": {},
     "output_type": "display_data"
    },
    {
     "data": {
      "text/html": [
       "<pre>| 3893         | 5.5e+07 | 27.7259     | 17.13s       |</pre>"
      ],
      "text/plain": [
       "| 3893         | 5.5e+07 | 27.7259     | 17.13s       |"
      ]
     },
     "metadata": {},
     "output_type": "display_data"
    },
    {
     "data": {
      "text/html": [
       "<pre>| 4102         | 5.8e+07 | 29.2144     | 18.13s       |</pre>"
      ],
      "text/plain": [
       "| 4102         | 5.8e+07 | 29.2144     | 18.13s       |"
      ]
     },
     "metadata": {},
     "output_type": "display_data"
    },
    {
     "data": {
      "text/html": [
       "<pre>| 4304         | 6e+07   | 30.6531     | 19.14s       |</pre>"
      ],
      "text/plain": [
       "| 4304         | 6e+07   | 30.6531     | 19.14s       |"
      ]
     },
     "metadata": {},
     "output_type": "display_data"
    },
    {
     "data": {
      "text/html": [
       "<pre>| 4531         | 6.4e+07 | 32.2698     | 20.14s       |</pre>"
      ],
      "text/plain": [
       "| 4531         | 6.4e+07 | 32.2698     | 20.14s       |"
      ]
     },
     "metadata": {},
     "output_type": "display_data"
    },
    {
     "data": {
      "text/html": [
       "<pre>| 4750         | 6.7e+07 | 33.8295     | 21.14s       |</pre>"
      ],
      "text/plain": [
       "| 4750         | 6.7e+07 | 33.8295     | 21.14s       |"
      ]
     },
     "metadata": {},
     "output_type": "display_data"
    },
    {
     "data": {
      "text/html": [
       "<pre>| 4993         | 7e+07   | 35.5601     | 22.16s       |</pre>"
      ],
      "text/plain": [
       "| 4993         | 7e+07   | 35.5601     | 22.16s       |"
      ]
     },
     "metadata": {},
     "output_type": "display_data"
    },
    {
     "data": {
      "text/html": [
       "<pre>| 5250         | 7.4e+07 | 37.3905     | 23.16s       |</pre>"
      ],
      "text/plain": [
       "| 5250         | 7.4e+07 | 37.3905     | 23.16s       |"
      ]
     },
     "metadata": {},
     "output_type": "display_data"
    },
    {
     "data": {
      "text/html": [
       "<pre>| 5506         | 7.7e+07 | 39.2137     | 24.16s       |</pre>"
      ],
      "text/plain": [
       "| 5506         | 7.7e+07 | 39.2137     | 24.16s       |"
      ]
     },
     "metadata": {},
     "output_type": "display_data"
    },
    {
     "data": {
      "text/html": [
       "<pre>| 5724         | 8e+07   | 40.7663     | 25.17s       |</pre>"
      ],
      "text/plain": [
       "| 5724         | 8e+07   | 40.7663     | 25.17s       |"
      ]
     },
     "metadata": {},
     "output_type": "display_data"
    },
    {
     "data": {
      "text/html": [
       "<pre>| 5915         | 8.3e+07 | 42.1266     | 26.17s       |</pre>"
      ],
      "text/plain": [
       "| 5915         | 8.3e+07 | 42.1266     | 26.17s       |"
      ]
     },
     "metadata": {},
     "output_type": "display_data"
    },
    {
     "data": {
      "text/html": [
       "<pre>| 5997         | 8.4e+07 | 42.7106     | 27.17s       |</pre>"
      ],
      "text/plain": [
       "| 5997         | 8.4e+07 | 42.7106     | 27.17s       |"
      ]
     },
     "metadata": {},
     "output_type": "display_data"
    },
    {
     "data": {
      "text/html": [
       "<pre>| 6176         | 8.7e+07 | 43.9855     | 28.17s       |</pre>"
      ],
      "text/plain": [
       "| 6176         | 8.7e+07 | 43.9855     | 28.17s       |"
      ]
     },
     "metadata": {},
     "output_type": "display_data"
    },
    {
     "data": {
      "text/html": [
       "<pre>| 6330         | 8.9e+07 | 45.0823     | 29.18s       |</pre>"
      ],
      "text/plain": [
       "| 6330         | 8.9e+07 | 45.0823     | 29.18s       |"
      ]
     },
     "metadata": {},
     "output_type": "display_data"
    },
    {
     "data": {
      "text/html": [
       "<pre>| 6530         | 9.2e+07 | 46.5067     | 30.19s       |</pre>"
      ],
      "text/plain": [
       "| 6530         | 9.2e+07 | 46.5067     | 30.19s       |"
      ]
     },
     "metadata": {},
     "output_type": "display_data"
    },
    {
     "data": {
      "text/html": [
       "<pre>| 6737         | 9.5e+07 | 47.9809     | 31.20s       |</pre>"
      ],
      "text/plain": [
       "| 6737         | 9.5e+07 | 47.9809     | 31.20s       |"
      ]
     },
     "metadata": {},
     "output_type": "display_data"
    },
    {
     "data": {
      "text/html": [
       "<pre>| 6865         | 9.6e+07 | 48.8925     | 32.20s       |</pre>"
      ],
      "text/plain": [
       "| 6865         | 9.6e+07 | 48.8925     | 32.20s       |"
      ]
     },
     "metadata": {},
     "output_type": "display_data"
    },
    {
     "data": {
      "text/html": [
       "<pre>| 7105         | 1e+08   | 50.6018     | 33.20s       |</pre>"
      ],
      "text/plain": [
       "| 7105         | 1e+08   | 50.6018     | 33.20s       |"
      ]
     },
     "metadata": {},
     "output_type": "display_data"
    },
    {
     "data": {
      "text/html": [
       "<pre>| 7362         | 1e+08   | 52.4322     | 34.20s       |</pre>"
      ],
      "text/plain": [
       "| 7362         | 1e+08   | 52.4322     | 34.20s       |"
      ]
     },
     "metadata": {},
     "output_type": "display_data"
    },
    {
     "data": {
      "text/html": [
       "<pre>| 7627         | 1.1e+08 | 54.3195     | 35.20s       |</pre>"
      ],
      "text/plain": [
       "| 7627         | 1.1e+08 | 54.3195     | 35.20s       |"
      ]
     },
     "metadata": {},
     "output_type": "display_data"
    },
    {
     "data": {
      "text/html": [
       "<pre>| 7896         | 1.1e+08 | 56.2353     | 36.21s       |</pre>"
      ],
      "text/plain": [
       "| 7896         | 1.1e+08 | 56.2353     | 36.21s       |"
      ]
     },
     "metadata": {},
     "output_type": "display_data"
    },
    {
     "data": {
      "text/html": [
       "<pre>| 8157         | 1.1e+08 | 58.0942     | 37.21s       |</pre>"
      ],
      "text/plain": [
       "| 8157         | 1.1e+08 | 58.0942     | 37.21s       |"
      ]
     },
     "metadata": {},
     "output_type": "display_data"
    },
    {
     "data": {
      "text/html": [
       "<pre>| 8440         | 1.2e+08 | 60.1097     | 38.22s       |</pre>"
      ],
      "text/plain": [
       "| 8440         | 1.2e+08 | 60.1097     | 38.22s       |"
      ]
     },
     "metadata": {},
     "output_type": "display_data"
    },
    {
     "data": {
      "text/html": [
       "<pre>| 8720         | 1.2e+08 | 62.1038     | 39.22s       |</pre>"
      ],
      "text/plain": [
       "| 8720         | 1.2e+08 | 62.1038     | 39.22s       |"
      ]
     },
     "metadata": {},
     "output_type": "display_data"
    },
    {
     "data": {
      "text/html": [
       "<pre>| 9013         | 1.3e+08 | 64.1906     | 40.23s       |</pre>"
      ],
      "text/plain": [
       "| 9013         | 1.3e+08 | 64.1906     | 40.23s       |"
      ]
     },
     "metadata": {},
     "output_type": "display_data"
    },
    {
     "data": {
      "text/html": [
       "<pre>| 9299         | 1.3e+08 | 66.2275     | 41.23s       |</pre>"
      ],
      "text/plain": [
       "| 9299         | 1.3e+08 | 66.2275     | 41.23s       |"
      ]
     },
     "metadata": {},
     "output_type": "display_data"
    },
    {
     "data": {
      "text/html": [
       "<pre>| 9579         | 1.3e+08 | 68.2216     | 42.24s       |</pre>"
      ],
      "text/plain": [
       "| 9579         | 1.3e+08 | 68.2216     | 42.24s       |"
      ]
     },
     "metadata": {},
     "output_type": "display_data"
    },
    {
     "data": {
      "text/html": [
       "<pre>| 9863         | 1.4e+08 | 70.2443     | 43.24s       |</pre>"
      ],
      "text/plain": [
       "| 9863         | 1.4e+08 | 70.2443     | 43.24s       |"
      ]
     },
     "metadata": {},
     "output_type": "display_data"
    },
    {
     "data": {
      "text/html": [
       "<pre>| 10142        | 1.4e+08 | 72.2313     | 44.24s       |</pre>"
      ],
      "text/plain": [
       "| 10142        | 1.4e+08 | 72.2313     | 44.24s       |"
      ]
     },
     "metadata": {},
     "output_type": "display_data"
    },
    {
     "data": {
      "text/html": [
       "<pre>| 10354        | 1.5e+08 | 73.7412     | 45.25s       |</pre>"
      ],
      "text/plain": [
       "| 10354        | 1.5e+08 | 73.7412     | 45.25s       |"
      ]
     },
     "metadata": {},
     "output_type": "display_data"
    },
    {
     "data": {
      "text/html": [
       "<pre>| 10618        | 1.5e+08 | 75.6214     | 46.25s       |</pre>"
      ],
      "text/plain": [
       "| 10618        | 1.5e+08 | 75.6214     | 46.25s       |"
      ]
     },
     "metadata": {},
     "output_type": "display_data"
    },
    {
     "data": {
      "text/html": [
       "<pre>| 10899        | 1.5e+08 | 77.6227     | 47.26s       |</pre>"
      ],
      "text/plain": [
       "| 10899        | 1.5e+08 | 77.6227     | 47.26s       |"
      ]
     },
     "metadata": {},
     "output_type": "display_data"
    },
    {
     "data": {
      "text/html": [
       "<pre>| 11179        | 1.6e+08 | 79.6168     | 48.26s       |</pre>"
      ],
      "text/plain": [
       "| 11179        | 1.6e+08 | 79.6168     | 48.26s       |"
      ]
     },
     "metadata": {},
     "output_type": "display_data"
    },
    {
     "data": {
      "text/html": [
       "<pre>| 11460        | 1.6e+08 | 81.6181     | 49.27s       |</pre>"
      ],
      "text/plain": [
       "| 11460        | 1.6e+08 | 81.6181     | 49.27s       |"
      ]
     },
     "metadata": {},
     "output_type": "display_data"
    },
    {
     "data": {
      "text/html": [
       "<pre>| 11748        | 1.6e+08 | 83.6693     | 50.27s       |</pre>"
      ],
      "text/plain": [
       "| 11748        | 1.6e+08 | 83.6693     | 50.27s       |"
      ]
     },
     "metadata": {},
     "output_type": "display_data"
    },
    {
     "data": {
      "text/html": [
       "<pre>| 12030        | 1.7e+08 | 85.6777     | 51.27s       |</pre>"
      ],
      "text/plain": [
       "| 12030        | 1.7e+08 | 85.6777     | 51.27s       |"
      ]
     },
     "metadata": {},
     "output_type": "display_data"
    },
    {
     "data": {
      "text/html": [
       "<pre>| 12310        | 1.7e+08 | 87.6718     | 52.28s       |</pre>"
      ],
      "text/plain": [
       "| 12310        | 1.7e+08 | 87.6718     | 52.28s       |"
      ]
     },
     "metadata": {},
     "output_type": "display_data"
    },
    {
     "data": {
      "text/html": [
       "<pre>| 12596        | 1.8e+08 | 89.7087     | 53.29s       |</pre>"
      ],
      "text/plain": [
       "| 12596        | 1.8e+08 | 89.7087     | 53.29s       |"
      ]
     },
     "metadata": {},
     "output_type": "display_data"
    },
    {
     "data": {
      "text/html": [
       "<pre>| 12876        | 1.8e+08 | 91.7029     | 54.29s       |</pre>"
      ],
      "text/plain": [
       "| 12876        | 1.8e+08 | 91.7029     | 54.29s       |"
      ]
     },
     "metadata": {},
     "output_type": "display_data"
    },
    {
     "data": {
      "text/html": [
       "<pre>| 13159        | 1.8e+08 | 93.7184     | 55.29s       |</pre>"
      ],
      "text/plain": [
       "| 13159        | 1.8e+08 | 93.7184     | 55.29s       |"
      ]
     },
     "metadata": {},
     "output_type": "display_data"
    },
    {
     "data": {
      "text/html": [
       "<pre>| 13442        | 1.9e+08 | 95.7339     | 56.30s       |</pre>"
      ],
      "text/plain": [
       "| 13442        | 1.9e+08 | 95.7339     | 56.30s       |"
      ]
     },
     "metadata": {},
     "output_type": "display_data"
    },
    {
     "data": {
      "text/html": [
       "<pre>| 13728        | 1.9e+08 | 97.7708     | 57.30s       |</pre>"
      ],
      "text/plain": [
       "| 13728        | 1.9e+08 | 97.7708     | 57.30s       |"
      ]
     },
     "metadata": {},
     "output_type": "display_data"
    },
    {
     "data": {
      "text/html": [
       "<pre>| 14004        | 2e+08   | 99.7365     | 58.31s       |</pre>"
      ],
      "text/plain": [
       "| 14004        | 2e+08   | 99.7365     | 58.31s       |"
      ]
     },
     "metadata": {},
     "output_type": "display_data"
    },
    {
     "data": {
      "text/html": [
       "<pre>| Done         |         | 100         | 58.46s       |</pre>"
      ],
      "text/plain": [
       "| Done         |         | 100         | 58.46s       |"
      ]
     },
     "metadata": {},
     "output_type": "display_data"
    },
    {
     "data": {
      "text/html": [
       "<pre>+--------------+---------+-------------+--------------+</pre>"
      ],
      "text/plain": [
       "+--------------+---------+-------------+--------------+"
      ]
     },
     "metadata": {},
     "output_type": "display_data"
    },
    {
     "data": {
      "text/html": [
       "<pre>Warning: Column 'play' ignored.</pre>"
      ],
      "text/plain": [
       "Warning: Column 'play' ignored."
      ]
     },
     "metadata": {},
     "output_type": "display_data"
    },
    {
     "data": {
      "text/html": [
       "<pre>    To use this column as the target, set target = \"play\" and use a method that allows the use of a target.</pre>"
      ],
      "text/plain": [
       "    To use this column as the target, set target = \"play\" and use a method that allows the use of a target."
      ]
     },
     "metadata": {},
     "output_type": "display_data"
    },
    {
     "data": {
      "text/html": [
       "<pre>Preparing data set.</pre>"
      ],
      "text/plain": [
       "Preparing data set."
      ]
     },
     "metadata": {},
     "output_type": "display_data"
    },
    {
     "data": {
      "text/html": [
       "<pre>    Data has 14041 observations with 13631 users and 10569 items.</pre>"
      ],
      "text/plain": [
       "    Data has 14041 observations with 13631 users and 10569 items."
      ]
     },
     "metadata": {},
     "output_type": "display_data"
    },
    {
     "data": {
      "text/html": [
       "<pre>    Data prepared in: 0.929653s</pre>"
      ],
      "text/plain": [
       "    Data prepared in: 0.929653s"
      ]
     },
     "metadata": {},
     "output_type": "display_data"
    },
    {
     "data": {
      "text/html": [
       "<pre>Loading user-provided nearest items.</pre>"
      ],
      "text/plain": [
       "Loading user-provided nearest items."
      ]
     },
     "metadata": {},
     "output_type": "display_data"
    },
    {
     "data": {
      "text/html": [
       "<pre>Generating candidate set for working with new users.</pre>"
      ],
      "text/plain": [
       "Generating candidate set for working with new users."
      ]
     },
     "metadata": {},
     "output_type": "display_data"
    },
    {
     "data": {
      "text/html": [
       "<pre>Finished training in 0.073936s</pre>"
      ],
      "text/plain": [
       "Finished training in 0.073936s"
      ]
     },
     "metadata": {},
     "output_type": "display_data"
    }
   ],
   "source": [
    "content = gl.item_content_recommender.create(train_item_data,\n",
    "                                             item_id = 'song_id',\n",
    "                                             user_id = 'user_id',\n",
    "                                             observation_data = obs_data)"
   ]
  },
  {
   "cell_type": "markdown",
   "metadata": {},
   "source": [
    "**Evaluate Content Based Recomender Precision and Recall**"
   ]
  },
  {
   "cell_type": "code",
   "execution_count": 18,
   "metadata": {
    "collapsed": false
   },
   "outputs": [
    {
     "data": {
      "text/html": [
       "<pre>recommendations finished on 1000/5870 queries. users per second: 9129.25</pre>"
      ],
      "text/plain": [
       "recommendations finished on 1000/5870 queries. users per second: 9129.25"
      ]
     },
     "metadata": {},
     "output_type": "display_data"
    },
    {
     "data": {
      "text/html": [
       "<pre>recommendations finished on 2000/5870 queries. users per second: 9493.21</pre>"
      ],
      "text/plain": [
       "recommendations finished on 2000/5870 queries. users per second: 9493.21"
      ]
     },
     "metadata": {},
     "output_type": "display_data"
    },
    {
     "data": {
      "text/html": [
       "<pre>recommendations finished on 3000/5870 queries. users per second: 9660.96</pre>"
      ],
      "text/plain": [
       "recommendations finished on 3000/5870 queries. users per second: 9660.96"
      ]
     },
     "metadata": {},
     "output_type": "display_data"
    },
    {
     "data": {
      "text/html": [
       "<pre>recommendations finished on 4000/5870 queries. users per second: 9815.83</pre>"
      ],
      "text/plain": [
       "recommendations finished on 4000/5870 queries. users per second: 9815.83"
      ]
     },
     "metadata": {},
     "output_type": "display_data"
    },
    {
     "data": {
      "text/html": [
       "<pre>recommendations finished on 5000/5870 queries. users per second: 9213.38</pre>"
      ],
      "text/plain": [
       "recommendations finished on 5000/5870 queries. users per second: 9213.38"
      ]
     },
     "metadata": {},
     "output_type": "display_data"
    },
    {
     "data": {
      "text/plain": [
       "{'precision_recall_by_user': Columns:\n",
       " \tuser_id\tstr\n",
       " \tcutoff\tint\n",
       " \tprecision\tfloat\n",
       " \trecall\tfloat\n",
       " \tcount\tint\n",
       " \n",
       " Rows: 105660\n",
       " \n",
       " Data:\n",
       " +-------------------------------+--------+-----------+--------+-------+\n",
       " |            user_id            | cutoff | precision | recall | count |\n",
       " +-------------------------------+--------+-----------+--------+-------+\n",
       " | 0002e94348b2543c6e6ccf408b... |   1    |    0.0    |  0.0   |   1   |\n",
       " | 0002e94348b2543c6e6ccf408b... |   2    |    0.0    |  0.0   |   1   |\n",
       " | 0002e94348b2543c6e6ccf408b... |   3    |    0.0    |  0.0   |   1   |\n",
       " | 0002e94348b2543c6e6ccf408b... |   4    |    0.0    |  0.0   |   1   |\n",
       " | 0002e94348b2543c6e6ccf408b... |   5    |    0.0    |  0.0   |   1   |\n",
       " | 0002e94348b2543c6e6ccf408b... |   6    |    0.0    |  0.0   |   1   |\n",
       " | 0002e94348b2543c6e6ccf408b... |   7    |    0.0    |  0.0   |   1   |\n",
       " | 0002e94348b2543c6e6ccf408b... |   8    |    0.0    |  0.0   |   1   |\n",
       " | 0002e94348b2543c6e6ccf408b... |   9    |    0.0    |  0.0   |   1   |\n",
       " | 0002e94348b2543c6e6ccf408b... |   10   |    0.0    |  0.0   |   1   |\n",
       " +-------------------------------+--------+-----------+--------+-------+\n",
       " [105660 rows x 5 columns]\n",
       " Note: Only the head of the SFrame is printed.\n",
       " You can use print_rows(num_rows=m, num_columns=n) to print more rows and columns.,\n",
       " 'precision_recall_overall': Columns:\n",
       " \tcutoff\tint\n",
       " \tprecision\tfloat\n",
       " \trecall\tfloat\n",
       " \n",
       " Rows: 18\n",
       " \n",
       " Data:\n",
       " +--------+------------------+------------------+\n",
       " | cutoff |    precision     |      recall      |\n",
       " +--------+------------------+------------------+\n",
       " |   1    | 0.00289608177172 | 0.00289608177172 |\n",
       " |   2    | 0.00281090289608 | 0.00562180579216 |\n",
       " |   3    | 0.00238500851789 | 0.00715502555366 |\n",
       " |   4    | 0.00204429301533 | 0.00817717206133 |\n",
       " |   5    | 0.00190800681431 | 0.00954003407155 |\n",
       " |   6    | 0.00173197047132 | 0.0103918228279  |\n",
       " |   7    | 0.00158189340472 |  0.011073253833  |\n",
       " |   8    | 0.00166098807496 | 0.0132879045997  |\n",
       " |   9    | 0.00160893431762 | 0.0144804088586  |\n",
       " |   10   | 0.00151618398637 | 0.0151618398637  |\n",
       " +--------+------------------+------------------+\n",
       " [18 rows x 3 columns]\n",
       " Note: Only the head of the SFrame is printed.\n",
       " You can use print_rows(num_rows=m, num_columns=n) to print more rows and columns.}"
      ]
     },
     "execution_count": 18,
     "metadata": {},
     "output_type": "execute_result"
    }
   ],
   "source": [
    "eval_content = content.evaluate_precision_recall(test)\n",
    "\n",
    "eval_content"
   ]
  },
  {
   "cell_type": "markdown",
   "metadata": {},
   "source": [
    "*Find top 5 per user recomendations*"
   ]
  },
  {
   "cell_type": "code",
   "execution_count": 19,
   "metadata": {
    "collapsed": false,
    "scrolled": true
   },
   "outputs": [
    {
     "data": {
      "text/html": [
       "<pre>recommendations finished on 1000/13631 queries. users per second: 13176.1</pre>"
      ],
      "text/plain": [
       "recommendations finished on 1000/13631 queries. users per second: 13176.1"
      ]
     },
     "metadata": {},
     "output_type": "display_data"
    },
    {
     "data": {
      "text/html": [
       "<pre>recommendations finished on 2000/13631 queries. users per second: 14180.6</pre>"
      ],
      "text/plain": [
       "recommendations finished on 2000/13631 queries. users per second: 14180.6"
      ]
     },
     "metadata": {},
     "output_type": "display_data"
    },
    {
     "data": {
      "text/html": [
       "<pre>recommendations finished on 3000/13631 queries. users per second: 13963.4</pre>"
      ],
      "text/plain": [
       "recommendations finished on 3000/13631 queries. users per second: 13963.4"
      ]
     },
     "metadata": {},
     "output_type": "display_data"
    },
    {
     "data": {
      "text/html": [
       "<pre>recommendations finished on 4000/13631 queries. users per second: 13745.2</pre>"
      ],
      "text/plain": [
       "recommendations finished on 4000/13631 queries. users per second: 13745.2"
      ]
     },
     "metadata": {},
     "output_type": "display_data"
    },
    {
     "data": {
      "text/html": [
       "<pre>recommendations finished on 5000/13631 queries. users per second: 13673.5</pre>"
      ],
      "text/plain": [
       "recommendations finished on 5000/13631 queries. users per second: 13673.5"
      ]
     },
     "metadata": {},
     "output_type": "display_data"
    },
    {
     "data": {
      "text/html": [
       "<pre>recommendations finished on 6000/13631 queries. users per second: 13574.2</pre>"
      ],
      "text/plain": [
       "recommendations finished on 6000/13631 queries. users per second: 13574.2"
      ]
     },
     "metadata": {},
     "output_type": "display_data"
    },
    {
     "data": {
      "text/html": [
       "<pre>recommendations finished on 7000/13631 queries. users per second: 13528.6</pre>"
      ],
      "text/plain": [
       "recommendations finished on 7000/13631 queries. users per second: 13528.6"
      ]
     },
     "metadata": {},
     "output_type": "display_data"
    },
    {
     "data": {
      "text/html": [
       "<pre>recommendations finished on 8000/13631 queries. users per second: 13630.2</pre>"
      ],
      "text/plain": [
       "recommendations finished on 8000/13631 queries. users per second: 13630.2"
      ]
     },
     "metadata": {},
     "output_type": "display_data"
    },
    {
     "data": {
      "text/html": [
       "<pre>recommendations finished on 9000/13631 queries. users per second: 12773.8</pre>"
      ],
      "text/plain": [
       "recommendations finished on 9000/13631 queries. users per second: 12773.8"
      ]
     },
     "metadata": {},
     "output_type": "display_data"
    },
    {
     "data": {
      "text/html": [
       "<pre>recommendations finished on 10000/13631 queries. users per second: 12271.3</pre>"
      ],
      "text/plain": [
       "recommendations finished on 10000/13631 queries. users per second: 12271.3"
      ]
     },
     "metadata": {},
     "output_type": "display_data"
    },
    {
     "data": {
      "text/html": [
       "<pre>recommendations finished on 11000/13631 queries. users per second: 12393.5</pre>"
      ],
      "text/plain": [
       "recommendations finished on 11000/13631 queries. users per second: 12393.5"
      ]
     },
     "metadata": {},
     "output_type": "display_data"
    },
    {
     "data": {
      "text/html": [
       "<pre>recommendations finished on 12000/13631 queries. users per second: 12423.3</pre>"
      ],
      "text/plain": [
       "recommendations finished on 12000/13631 queries. users per second: 12423.3"
      ]
     },
     "metadata": {},
     "output_type": "display_data"
    },
    {
     "data": {
      "text/html": [
       "<pre>recommendations finished on 13000/13631 queries. users per second: 12397.8</pre>"
      ],
      "text/plain": [
       "recommendations finished on 13000/13631 queries. users per second: 12397.8"
      ]
     },
     "metadata": {},
     "output_type": "display_data"
    },
    {
     "data": {
      "text/html": [
       "<div style=\"max-height:1000px;max-width:1500px;overflow:auto;\"><table frame=\"box\" rules=\"cols\">\n",
       "    <tr>\n",
       "        <th style=\"padding-left: 1em; padding-right: 1em; text-align: center\">user_id</th>\n",
       "        <th style=\"padding-left: 1em; padding-right: 1em; text-align: center\">song_id</th>\n",
       "        <th style=\"padding-left: 1em; padding-right: 1em; text-align: center\">score</th>\n",
       "        <th style=\"padding-left: 1em; padding-right: 1em; text-align: center\">rank</th>\n",
       "    </tr>\n",
       "    <tr>\n",
       "        <td style=\"padding-left: 1em; padding-right: 1em; text-align: center; vertical-align: top\">5f3708108a564cd6489e215a0<br>7c8cb2316ef7e13 ...</td>\n",
       "        <td style=\"padding-left: 1em; padding-right: 1em; text-align: center; vertical-align: top\">SOFRQTD12A81C233C0</td>\n",
       "        <td style=\"padding-left: 1em; padding-right: 1em; text-align: center; vertical-align: top\">1.0</td>\n",
       "        <td style=\"padding-left: 1em; padding-right: 1em; text-align: center; vertical-align: top\">1</td>\n",
       "    </tr>\n",
       "    <tr>\n",
       "        <td style=\"padding-left: 1em; padding-right: 1em; text-align: center; vertical-align: top\">5f3708108a564cd6489e215a0<br>7c8cb2316ef7e13 ...</td>\n",
       "        <td style=\"padding-left: 1em; padding-right: 1em; text-align: center; vertical-align: top\">SOAUWYT12A81C206F1</td>\n",
       "        <td style=\"padding-left: 1em; padding-right: 1em; text-align: center; vertical-align: top\">0.964285714286</td>\n",
       "        <td style=\"padding-left: 1em; padding-right: 1em; text-align: center; vertical-align: top\">2</td>\n",
       "    </tr>\n",
       "    <tr>\n",
       "        <td style=\"padding-left: 1em; padding-right: 1em; text-align: center; vertical-align: top\">5f3708108a564cd6489e215a0<br>7c8cb2316ef7e13 ...</td>\n",
       "        <td style=\"padding-left: 1em; padding-right: 1em; text-align: center; vertical-align: top\">SOAXGDH12A8C13F8A1</td>\n",
       "        <td style=\"padding-left: 1em; padding-right: 1em; text-align: center; vertical-align: top\">0.928571428571</td>\n",
       "        <td style=\"padding-left: 1em; padding-right: 1em; text-align: center; vertical-align: top\">3</td>\n",
       "    </tr>\n",
       "    <tr>\n",
       "        <td style=\"padding-left: 1em; padding-right: 1em; text-align: center; vertical-align: top\">5f3708108a564cd6489e215a0<br>7c8cb2316ef7e13 ...</td>\n",
       "        <td style=\"padding-left: 1em; padding-right: 1em; text-align: center; vertical-align: top\">SOSXLTC12AF72A7F54</td>\n",
       "        <td style=\"padding-left: 1em; padding-right: 1em; text-align: center; vertical-align: top\">0.892857142857</td>\n",
       "        <td style=\"padding-left: 1em; padding-right: 1em; text-align: center; vertical-align: top\">4</td>\n",
       "    </tr>\n",
       "    <tr>\n",
       "        <td style=\"padding-left: 1em; padding-right: 1em; text-align: center; vertical-align: top\">5f3708108a564cd6489e215a0<br>7c8cb2316ef7e13 ...</td>\n",
       "        <td style=\"padding-left: 1em; padding-right: 1em; text-align: center; vertical-align: top\">SOEGIYH12A6D4FC0E3</td>\n",
       "        <td style=\"padding-left: 1em; padding-right: 1em; text-align: center; vertical-align: top\">0.75</td>\n",
       "        <td style=\"padding-left: 1em; padding-right: 1em; text-align: center; vertical-align: top\">5</td>\n",
       "    </tr>\n",
       "    <tr>\n",
       "        <td style=\"padding-left: 1em; padding-right: 1em; text-align: center; vertical-align: top\">8b6d6eae947e52056c713ac1e<br>727fa3d3573b389 ...</td>\n",
       "        <td style=\"padding-left: 1em; padding-right: 1em; text-align: center; vertical-align: top\">SOFRQTD12A81C233C0</td>\n",
       "        <td style=\"padding-left: 1em; padding-right: 1em; text-align: center; vertical-align: top\">1.0</td>\n",
       "        <td style=\"padding-left: 1em; padding-right: 1em; text-align: center; vertical-align: top\">1</td>\n",
       "    </tr>\n",
       "    <tr>\n",
       "        <td style=\"padding-left: 1em; padding-right: 1em; text-align: center; vertical-align: top\">8b6d6eae947e52056c713ac1e<br>727fa3d3573b389 ...</td>\n",
       "        <td style=\"padding-left: 1em; padding-right: 1em; text-align: center; vertical-align: top\">SOAUWYT12A81C206F1</td>\n",
       "        <td style=\"padding-left: 1em; padding-right: 1em; text-align: center; vertical-align: top\">0.964285714286</td>\n",
       "        <td style=\"padding-left: 1em; padding-right: 1em; text-align: center; vertical-align: top\">2</td>\n",
       "    </tr>\n",
       "    <tr>\n",
       "        <td style=\"padding-left: 1em; padding-right: 1em; text-align: center; vertical-align: top\">8b6d6eae947e52056c713ac1e<br>727fa3d3573b389 ...</td>\n",
       "        <td style=\"padding-left: 1em; padding-right: 1em; text-align: center; vertical-align: top\">SOAXGDH12A8C13F8A1</td>\n",
       "        <td style=\"padding-left: 1em; padding-right: 1em; text-align: center; vertical-align: top\">0.928571428571</td>\n",
       "        <td style=\"padding-left: 1em; padding-right: 1em; text-align: center; vertical-align: top\">3</td>\n",
       "    </tr>\n",
       "    <tr>\n",
       "        <td style=\"padding-left: 1em; padding-right: 1em; text-align: center; vertical-align: top\">8b6d6eae947e52056c713ac1e<br>727fa3d3573b389 ...</td>\n",
       "        <td style=\"padding-left: 1em; padding-right: 1em; text-align: center; vertical-align: top\">SOSXLTC12AF72A7F54</td>\n",
       "        <td style=\"padding-left: 1em; padding-right: 1em; text-align: center; vertical-align: top\">0.892857142857</td>\n",
       "        <td style=\"padding-left: 1em; padding-right: 1em; text-align: center; vertical-align: top\">4</td>\n",
       "    </tr>\n",
       "    <tr>\n",
       "        <td style=\"padding-left: 1em; padding-right: 1em; text-align: center; vertical-align: top\">8b6d6eae947e52056c713ac1e<br>727fa3d3573b389 ...</td>\n",
       "        <td style=\"padding-left: 1em; padding-right: 1em; text-align: center; vertical-align: top\">SOEGIYH12A6D4FC0E3</td>\n",
       "        <td style=\"padding-left: 1em; padding-right: 1em; text-align: center; vertical-align: top\">0.75</td>\n",
       "        <td style=\"padding-left: 1em; padding-right: 1em; text-align: center; vertical-align: top\">5</td>\n",
       "    </tr>\n",
       "</table>\n",
       "[68155 rows x 4 columns]<br/>Note: Only the head of the SFrame is printed.<br/>You can use print_rows(num_rows=m, num_columns=n) to print more rows and columns.\n",
       "</div>"
      ],
      "text/plain": [
       "Columns:\n",
       "\tuser_id\tstr\n",
       "\tsong_id\tstr\n",
       "\tscore\tfloat\n",
       "\trank\tint\n",
       "\n",
       "Rows: 68155\n",
       "\n",
       "Data:\n",
       "+-------------------------------+--------------------+----------------+------+\n",
       "|            user_id            |      song_id       |     score      | rank |\n",
       "+-------------------------------+--------------------+----------------+------+\n",
       "| 5f3708108a564cd6489e215a07... | SOFRQTD12A81C233C0 |      1.0       |  1   |\n",
       "| 5f3708108a564cd6489e215a07... | SOAUWYT12A81C206F1 | 0.964285714286 |  2   |\n",
       "| 5f3708108a564cd6489e215a07... | SOAXGDH12A8C13F8A1 | 0.928571428571 |  3   |\n",
       "| 5f3708108a564cd6489e215a07... | SOSXLTC12AF72A7F54 | 0.892857142857 |  4   |\n",
       "| 5f3708108a564cd6489e215a07... | SOEGIYH12A6D4FC0E3 |      0.75      |  5   |\n",
       "| 8b6d6eae947e52056c713ac1e7... | SOFRQTD12A81C233C0 |      1.0       |  1   |\n",
       "| 8b6d6eae947e52056c713ac1e7... | SOAUWYT12A81C206F1 | 0.964285714286 |  2   |\n",
       "| 8b6d6eae947e52056c713ac1e7... | SOAXGDH12A8C13F8A1 | 0.928571428571 |  3   |\n",
       "| 8b6d6eae947e52056c713ac1e7... | SOSXLTC12AF72A7F54 | 0.892857142857 |  4   |\n",
       "| 8b6d6eae947e52056c713ac1e7... | SOEGIYH12A6D4FC0E3 |      0.75      |  5   |\n",
       "+-------------------------------+--------------------+----------------+------+\n",
       "[68155 rows x 4 columns]\n",
       "Note: Only the head of the SFrame is printed.\n",
       "You can use print_rows(num_rows=m, num_columns=n) to print more rows and columns."
      ]
     },
     "execution_count": 19,
     "metadata": {},
     "output_type": "execute_result"
    }
   ],
   "source": [
    "content.recommend(k=5)"
   ]
  },
  {
   "cell_type": "markdown",
   "metadata": {},
   "source": [
    "## Item - Item Recommender"
   ]
  },
  {
   "cell_type": "markdown",
   "metadata": {},
   "source": [
    "Documentation for this model:\n",
    "\n",
    "https://turi.com/products/create/docs/generated/graphlab.recommender.item_similarity_recommender.create.html#graphlab.recommender.item_similarity_recommender.create"
   ]
  },
  {
   "cell_type": "markdown",
   "metadata": {},
   "source": [
    "*Create Item - Item Recomender*"
   ]
  },
  {
   "cell_type": "code",
   "execution_count": 20,
   "metadata": {
    "collapsed": false
   },
   "outputs": [
    {
     "data": {
      "text/html": [
       "<pre>Recsys training: model = item_similarity</pre>"
      ],
      "text/plain": [
       "Recsys training: model = item_similarity"
      ]
     },
     "metadata": {},
     "output_type": "display_data"
    },
    {
     "data": {
      "text/html": [
       "<pre>Warning: Ignoring columns artist_familiarity, artist_hotttnesss, artist_id, artist_name, release, song_hotttnesss, title, duration, key, loudness, mode, tempo, time_signature, year, play_count, play;</pre>"
      ],
      "text/plain": [
       "Warning: Ignoring columns artist_familiarity, artist_hotttnesss, artist_id, artist_name, release, song_hotttnesss, title, duration, key, loudness, mode, tempo, time_signature, year, play_count, play;"
      ]
     },
     "metadata": {},
     "output_type": "display_data"
    },
    {
     "data": {
      "text/html": [
       "<pre>    To use one of these as a target column, set target = <column_name></pre>"
      ],
      "text/plain": [
       "    To use one of these as a target column, set target = <column_name>"
      ]
     },
     "metadata": {},
     "output_type": "display_data"
    },
    {
     "data": {
      "text/html": [
       "<pre>    and use a method that allows the use of a target.</pre>"
      ],
      "text/plain": [
       "    and use a method that allows the use of a target."
      ]
     },
     "metadata": {},
     "output_type": "display_data"
    },
    {
     "data": {
      "text/html": [
       "<pre>Preparing data set.</pre>"
      ],
      "text/plain": [
       "Preparing data set."
      ]
     },
     "metadata": {},
     "output_type": "display_data"
    },
    {
     "data": {
      "text/html": [
       "<pre>    Data has 14041 observations with 13631 users and 10569 items.</pre>"
      ],
      "text/plain": [
       "    Data has 14041 observations with 13631 users and 10569 items."
      ]
     },
     "metadata": {},
     "output_type": "display_data"
    },
    {
     "data": {
      "text/html": [
       "<pre>    Data prepared in: 0.09435s</pre>"
      ],
      "text/plain": [
       "    Data prepared in: 0.09435s"
      ]
     },
     "metadata": {},
     "output_type": "display_data"
    },
    {
     "data": {
      "text/html": [
       "<pre>Training model from provided data.</pre>"
      ],
      "text/plain": [
       "Training model from provided data."
      ]
     },
     "metadata": {},
     "output_type": "display_data"
    },
    {
     "data": {
      "text/html": [
       "<pre>Gathering per-item and per-user statistics.</pre>"
      ],
      "text/plain": [
       "Gathering per-item and per-user statistics."
      ]
     },
     "metadata": {},
     "output_type": "display_data"
    },
    {
     "data": {
      "text/html": [
       "<pre>+--------------------------------+------------+</pre>"
      ],
      "text/plain": [
       "+--------------------------------+------------+"
      ]
     },
     "metadata": {},
     "output_type": "display_data"
    },
    {
     "data": {
      "text/html": [
       "<pre>| Elapsed Time (Item Statistics) | % Complete |</pre>"
      ],
      "text/plain": [
       "| Elapsed Time (Item Statistics) | % Complete |"
      ]
     },
     "metadata": {},
     "output_type": "display_data"
    },
    {
     "data": {
      "text/html": [
       "<pre>+--------------------------------+------------+</pre>"
      ],
      "text/plain": [
       "+--------------------------------+------------+"
      ]
     },
     "metadata": {},
     "output_type": "display_data"
    },
    {
     "data": {
      "text/html": [
       "<pre>| 23.906ms                       | 29.25      |</pre>"
      ],
      "text/plain": [
       "| 23.906ms                       | 29.25      |"
      ]
     },
     "metadata": {},
     "output_type": "display_data"
    },
    {
     "data": {
      "text/html": [
       "<pre>| 27.264ms                       | 100        |</pre>"
      ],
      "text/plain": [
       "| 27.264ms                       | 100        |"
      ]
     },
     "metadata": {},
     "output_type": "display_data"
    },
    {
     "data": {
      "text/html": [
       "<pre>+--------------------------------+------------+</pre>"
      ],
      "text/plain": [
       "+--------------------------------+------------+"
      ]
     },
     "metadata": {},
     "output_type": "display_data"
    },
    {
     "data": {
      "text/html": [
       "<pre>Setting up lookup tables.</pre>"
      ],
      "text/plain": [
       "Setting up lookup tables."
      ]
     },
     "metadata": {},
     "output_type": "display_data"
    },
    {
     "data": {
      "text/html": [
       "<pre>Processing data in one pass using dense lookup tables.</pre>"
      ],
      "text/plain": [
       "Processing data in one pass using dense lookup tables."
      ]
     },
     "metadata": {},
     "output_type": "display_data"
    },
    {
     "data": {
      "text/html": [
       "<pre>+-------------------------------------+------------------+-----------------+</pre>"
      ],
      "text/plain": [
       "+-------------------------------------+------------------+-----------------+"
      ]
     },
     "metadata": {},
     "output_type": "display_data"
    },
    {
     "data": {
      "text/html": [
       "<pre>| Elapsed Time (Constructing Lookups) | Total % Complete | Items Processed |</pre>"
      ],
      "text/plain": [
       "| Elapsed Time (Constructing Lookups) | Total % Complete | Items Processed |"
      ]
     },
     "metadata": {},
     "output_type": "display_data"
    },
    {
     "data": {
      "text/html": [
       "<pre>+-------------------------------------+------------------+-----------------+</pre>"
      ],
      "text/plain": [
       "+-------------------------------------+------------------+-----------------+"
      ]
     },
     "metadata": {},
     "output_type": "display_data"
    },
    {
     "data": {
      "text/html": [
       "<pre>| 579.662ms                           | 0                | 0               |</pre>"
      ],
      "text/plain": [
       "| 579.662ms                           | 0                | 0               |"
      ]
     },
     "metadata": {},
     "output_type": "display_data"
    },
    {
     "data": {
      "text/html": [
       "<pre>| 1.33s                               | 100              | 10569           |</pre>"
      ],
      "text/plain": [
       "| 1.33s                               | 100              | 10569           |"
      ]
     },
     "metadata": {},
     "output_type": "display_data"
    },
    {
     "data": {
      "text/html": [
       "<pre>+-------------------------------------+------------------+-----------------+</pre>"
      ],
      "text/plain": [
       "+-------------------------------------+------------------+-----------------+"
      ]
     },
     "metadata": {},
     "output_type": "display_data"
    },
    {
     "data": {
      "text/html": [
       "<pre>Finalizing lookup tables.</pre>"
      ],
      "text/plain": [
       "Finalizing lookup tables."
      ]
     },
     "metadata": {},
     "output_type": "display_data"
    },
    {
     "data": {
      "text/html": [
       "<pre>Generating candidate set for working with new users.</pre>"
      ],
      "text/plain": [
       "Generating candidate set for working with new users."
      ]
     },
     "metadata": {},
     "output_type": "display_data"
    },
    {
     "data": {
      "text/html": [
       "<pre>Finished training in 1.34735s</pre>"
      ],
      "text/plain": [
       "Finished training in 1.34735s"
      ]
     },
     "metadata": {},
     "output_type": "display_data"
    }
   ],
   "source": [
    "item_rec = gl.item_similarity_recommender.create(train,\n",
    "                                              user_id = 'user_id',\n",
    "                                              item_id = 'song_id',\n",
    "                                              similarity_type = 'pearson')"
   ]
  },
  {
   "cell_type": "markdown",
   "metadata": {},
   "source": [
    "**Evaluate Item - Item Recomender Precision and Recall on Test Data**"
   ]
  },
  {
   "cell_type": "code",
   "execution_count": 21,
   "metadata": {
    "collapsed": false
   },
   "outputs": [
    {
     "data": {
      "text/html": [
       "<pre>recommendations finished on 1000/5870 queries. users per second: 15603.1</pre>"
      ],
      "text/plain": [
       "recommendations finished on 1000/5870 queries. users per second: 15603.1"
      ]
     },
     "metadata": {},
     "output_type": "display_data"
    },
    {
     "data": {
      "text/html": [
       "<pre>recommendations finished on 2000/5870 queries. users per second: 16051.1</pre>"
      ],
      "text/plain": [
       "recommendations finished on 2000/5870 queries. users per second: 16051.1"
      ]
     },
     "metadata": {},
     "output_type": "display_data"
    },
    {
     "data": {
      "text/html": [
       "<pre>recommendations finished on 3000/5870 queries. users per second: 16523.7</pre>"
      ],
      "text/plain": [
       "recommendations finished on 3000/5870 queries. users per second: 16523.7"
      ]
     },
     "metadata": {},
     "output_type": "display_data"
    },
    {
     "data": {
      "text/html": [
       "<pre>recommendations finished on 4000/5870 queries. users per second: 16779.8</pre>"
      ],
      "text/plain": [
       "recommendations finished on 4000/5870 queries. users per second: 16779.8"
      ]
     },
     "metadata": {},
     "output_type": "display_data"
    },
    {
     "data": {
      "text/html": [
       "<pre>recommendations finished on 5000/5870 queries. users per second: 16922.3</pre>"
      ],
      "text/plain": [
       "recommendations finished on 5000/5870 queries. users per second: 16922.3"
      ]
     },
     "metadata": {},
     "output_type": "display_data"
    },
    {
     "data": {
      "text/plain": [
       "{'precision_recall_by_user': Columns:\n",
       " \tuser_id\tstr\n",
       " \tcutoff\tint\n",
       " \tprecision\tfloat\n",
       " \trecall\tfloat\n",
       " \tcount\tint\n",
       " \n",
       " Rows: 105660\n",
       " \n",
       " Data:\n",
       " +-------------------------------+--------+-----------+--------+-------+\n",
       " |            user_id            | cutoff | precision | recall | count |\n",
       " +-------------------------------+--------+-----------+--------+-------+\n",
       " | 0002e94348b2543c6e6ccf408b... |   1    |    0.0    |  0.0   |   1   |\n",
       " | 0002e94348b2543c6e6ccf408b... |   2    |    0.0    |  0.0   |   1   |\n",
       " | 0002e94348b2543c6e6ccf408b... |   3    |    0.0    |  0.0   |   1   |\n",
       " | 0002e94348b2543c6e6ccf408b... |   4    |    0.0    |  0.0   |   1   |\n",
       " | 0002e94348b2543c6e6ccf408b... |   5    |    0.0    |  0.0   |   1   |\n",
       " | 0002e94348b2543c6e6ccf408b... |   6    |    0.0    |  0.0   |   1   |\n",
       " | 0002e94348b2543c6e6ccf408b... |   7    |    0.0    |  0.0   |   1   |\n",
       " | 0002e94348b2543c6e6ccf408b... |   8    |    0.0    |  0.0   |   1   |\n",
       " | 0002e94348b2543c6e6ccf408b... |   9    |    0.0    |  0.0   |   1   |\n",
       " | 0002e94348b2543c6e6ccf408b... |   10   |    0.0    |  0.0   |   1   |\n",
       " +-------------------------------+--------+-----------+--------+-------+\n",
       " [105660 rows x 5 columns]\n",
       " Note: Only the head of the SFrame is printed.\n",
       " You can use print_rows(num_rows=m, num_columns=n) to print more rows and columns.,\n",
       " 'precision_recall_overall': Columns:\n",
       " \tcutoff\tint\n",
       " \tprecision\tfloat\n",
       " \trecall\tfloat\n",
       " \n",
       " Rows: 18\n",
       " \n",
       " Data:\n",
       " +--------+------------------+------------------+\n",
       " | cutoff |    precision     |      recall      |\n",
       " +--------+------------------+------------------+\n",
       " |   1    | 0.00289608177172 | 0.00289608177172 |\n",
       " |   2    | 0.00281090289608 | 0.00562180579216 |\n",
       " |   3    | 0.00238500851789 | 0.00715502555366 |\n",
       " |   4    | 0.00204429301533 | 0.00817717206133 |\n",
       " |   5    | 0.00190800681431 | 0.00954003407155 |\n",
       " |   6    | 0.00173197047132 | 0.0103918228279  |\n",
       " |   7    | 0.00158189340472 |  0.011073253833  |\n",
       " |   8    | 0.00166098807496 | 0.0132879045997  |\n",
       " |   9    | 0.00160893431762 | 0.0144804088586  |\n",
       " |   10   | 0.00151618398637 | 0.0151618398637  |\n",
       " +--------+------------------+------------------+\n",
       " [18 rows x 3 columns]\n",
       " Note: Only the head of the SFrame is printed.\n",
       " You can use print_rows(num_rows=m, num_columns=n) to print more rows and columns.}"
      ]
     },
     "execution_count": 21,
     "metadata": {},
     "output_type": "execute_result"
    }
   ],
   "source": [
    "eval_item = content.evaluate_precision_recall(test)\n",
    "\n",
    "eval_item"
   ]
  },
  {
   "cell_type": "markdown",
   "metadata": {},
   "source": [
    "*Top 5 recomendations per user*"
   ]
  },
  {
   "cell_type": "code",
   "execution_count": 22,
   "metadata": {
    "collapsed": false
   },
   "outputs": [
    {
     "data": {
      "text/html": [
       "<pre>recommendations finished on 1000/13631 queries. users per second: 13571.1</pre>"
      ],
      "text/plain": [
       "recommendations finished on 1000/13631 queries. users per second: 13571.1"
      ]
     },
     "metadata": {},
     "output_type": "display_data"
    },
    {
     "data": {
      "text/html": [
       "<pre>recommendations finished on 2000/13631 queries. users per second: 14123.3</pre>"
      ],
      "text/plain": [
       "recommendations finished on 2000/13631 queries. users per second: 14123.3"
      ]
     },
     "metadata": {},
     "output_type": "display_data"
    },
    {
     "data": {
      "text/html": [
       "<pre>recommendations finished on 3000/13631 queries. users per second: 14334.4</pre>"
      ],
      "text/plain": [
       "recommendations finished on 3000/13631 queries. users per second: 14334.4"
      ]
     },
     "metadata": {},
     "output_type": "display_data"
    },
    {
     "data": {
      "text/html": [
       "<pre>recommendations finished on 4000/13631 queries. users per second: 14363.9</pre>"
      ],
      "text/plain": [
       "recommendations finished on 4000/13631 queries. users per second: 14363.9"
      ]
     },
     "metadata": {},
     "output_type": "display_data"
    },
    {
     "data": {
      "text/html": [
       "<pre>recommendations finished on 5000/13631 queries. users per second: 14403.7</pre>"
      ],
      "text/plain": [
       "recommendations finished on 5000/13631 queries. users per second: 14403.7"
      ]
     },
     "metadata": {},
     "output_type": "display_data"
    },
    {
     "data": {
      "text/html": [
       "<pre>recommendations finished on 6000/13631 queries. users per second: 14370.6</pre>"
      ],
      "text/plain": [
       "recommendations finished on 6000/13631 queries. users per second: 14370.6"
      ]
     },
     "metadata": {},
     "output_type": "display_data"
    },
    {
     "data": {
      "text/html": [
       "<pre>recommendations finished on 7000/13631 queries. users per second: 14255.1</pre>"
      ],
      "text/plain": [
       "recommendations finished on 7000/13631 queries. users per second: 14255.1"
      ]
     },
     "metadata": {},
     "output_type": "display_data"
    },
    {
     "data": {
      "text/html": [
       "<pre>recommendations finished on 8000/13631 queries. users per second: 14262.3</pre>"
      ],
      "text/plain": [
       "recommendations finished on 8000/13631 queries. users per second: 14262.3"
      ]
     },
     "metadata": {},
     "output_type": "display_data"
    },
    {
     "data": {
      "text/html": [
       "<pre>recommendations finished on 9000/13631 queries. users per second: 14250</pre>"
      ],
      "text/plain": [
       "recommendations finished on 9000/13631 queries. users per second: 14250"
      ]
     },
     "metadata": {},
     "output_type": "display_data"
    },
    {
     "data": {
      "text/html": [
       "<pre>recommendations finished on 10000/13631 queries. users per second: 14287.4</pre>"
      ],
      "text/plain": [
       "recommendations finished on 10000/13631 queries. users per second: 14287.4"
      ]
     },
     "metadata": {},
     "output_type": "display_data"
    },
    {
     "data": {
      "text/html": [
       "<pre>recommendations finished on 11000/13631 queries. users per second: 14283</pre>"
      ],
      "text/plain": [
       "recommendations finished on 11000/13631 queries. users per second: 14283"
      ]
     },
     "metadata": {},
     "output_type": "display_data"
    },
    {
     "data": {
      "text/html": [
       "<pre>recommendations finished on 12000/13631 queries. users per second: 14279.4</pre>"
      ],
      "text/plain": [
       "recommendations finished on 12000/13631 queries. users per second: 14279.4"
      ]
     },
     "metadata": {},
     "output_type": "display_data"
    },
    {
     "data": {
      "text/html": [
       "<pre>recommendations finished on 13000/13631 queries. users per second: 14260.9</pre>"
      ],
      "text/plain": [
       "recommendations finished on 13000/13631 queries. users per second: 14260.9"
      ]
     },
     "metadata": {},
     "output_type": "display_data"
    },
    {
     "data": {
      "text/html": [
       "<div style=\"max-height:1000px;max-width:1500px;overflow:auto;\"><table frame=\"box\" rules=\"cols\">\n",
       "    <tr>\n",
       "        <th style=\"padding-left: 1em; padding-right: 1em; text-align: center\">user_id</th>\n",
       "        <th style=\"padding-left: 1em; padding-right: 1em; text-align: center\">song_id</th>\n",
       "        <th style=\"padding-left: 1em; padding-right: 1em; text-align: center\">score</th>\n",
       "        <th style=\"padding-left: 1em; padding-right: 1em; text-align: center\">rank</th>\n",
       "    </tr>\n",
       "    <tr>\n",
       "        <td style=\"padding-left: 1em; padding-right: 1em; text-align: center; vertical-align: top\">5f3708108a564cd6489e215a0<br>7c8cb2316ef7e13 ...</td>\n",
       "        <td style=\"padding-left: 1em; padding-right: 1em; text-align: center; vertical-align: top\">SOFRQTD12A81C233C0</td>\n",
       "        <td style=\"padding-left: 1em; padding-right: 1em; text-align: center; vertical-align: top\">1.0</td>\n",
       "        <td style=\"padding-left: 1em; padding-right: 1em; text-align: center; vertical-align: top\">1</td>\n",
       "    </tr>\n",
       "    <tr>\n",
       "        <td style=\"padding-left: 1em; padding-right: 1em; text-align: center; vertical-align: top\">5f3708108a564cd6489e215a0<br>7c8cb2316ef7e13 ...</td>\n",
       "        <td style=\"padding-left: 1em; padding-right: 1em; text-align: center; vertical-align: top\">SOAUWYT12A81C206F1</td>\n",
       "        <td style=\"padding-left: 1em; padding-right: 1em; text-align: center; vertical-align: top\">0.964285714286</td>\n",
       "        <td style=\"padding-left: 1em; padding-right: 1em; text-align: center; vertical-align: top\">2</td>\n",
       "    </tr>\n",
       "    <tr>\n",
       "        <td style=\"padding-left: 1em; padding-right: 1em; text-align: center; vertical-align: top\">5f3708108a564cd6489e215a0<br>7c8cb2316ef7e13 ...</td>\n",
       "        <td style=\"padding-left: 1em; padding-right: 1em; text-align: center; vertical-align: top\">SOAXGDH12A8C13F8A1</td>\n",
       "        <td style=\"padding-left: 1em; padding-right: 1em; text-align: center; vertical-align: top\">0.928571428571</td>\n",
       "        <td style=\"padding-left: 1em; padding-right: 1em; text-align: center; vertical-align: top\">3</td>\n",
       "    </tr>\n",
       "    <tr>\n",
       "        <td style=\"padding-left: 1em; padding-right: 1em; text-align: center; vertical-align: top\">5f3708108a564cd6489e215a0<br>7c8cb2316ef7e13 ...</td>\n",
       "        <td style=\"padding-left: 1em; padding-right: 1em; text-align: center; vertical-align: top\">SOSXLTC12AF72A7F54</td>\n",
       "        <td style=\"padding-left: 1em; padding-right: 1em; text-align: center; vertical-align: top\">0.892857142857</td>\n",
       "        <td style=\"padding-left: 1em; padding-right: 1em; text-align: center; vertical-align: top\">4</td>\n",
       "    </tr>\n",
       "    <tr>\n",
       "        <td style=\"padding-left: 1em; padding-right: 1em; text-align: center; vertical-align: top\">5f3708108a564cd6489e215a0<br>7c8cb2316ef7e13 ...</td>\n",
       "        <td style=\"padding-left: 1em; padding-right: 1em; text-align: center; vertical-align: top\">SOEGIYH12A6D4FC0E3</td>\n",
       "        <td style=\"padding-left: 1em; padding-right: 1em; text-align: center; vertical-align: top\">0.75</td>\n",
       "        <td style=\"padding-left: 1em; padding-right: 1em; text-align: center; vertical-align: top\">5</td>\n",
       "    </tr>\n",
       "    <tr>\n",
       "        <td style=\"padding-left: 1em; padding-right: 1em; text-align: center; vertical-align: top\">8b6d6eae947e52056c713ac1e<br>727fa3d3573b389 ...</td>\n",
       "        <td style=\"padding-left: 1em; padding-right: 1em; text-align: center; vertical-align: top\">SOFRQTD12A81C233C0</td>\n",
       "        <td style=\"padding-left: 1em; padding-right: 1em; text-align: center; vertical-align: top\">1.0</td>\n",
       "        <td style=\"padding-left: 1em; padding-right: 1em; text-align: center; vertical-align: top\">1</td>\n",
       "    </tr>\n",
       "    <tr>\n",
       "        <td style=\"padding-left: 1em; padding-right: 1em; text-align: center; vertical-align: top\">8b6d6eae947e52056c713ac1e<br>727fa3d3573b389 ...</td>\n",
       "        <td style=\"padding-left: 1em; padding-right: 1em; text-align: center; vertical-align: top\">SOAUWYT12A81C206F1</td>\n",
       "        <td style=\"padding-left: 1em; padding-right: 1em; text-align: center; vertical-align: top\">0.964285714286</td>\n",
       "        <td style=\"padding-left: 1em; padding-right: 1em; text-align: center; vertical-align: top\">2</td>\n",
       "    </tr>\n",
       "    <tr>\n",
       "        <td style=\"padding-left: 1em; padding-right: 1em; text-align: center; vertical-align: top\">8b6d6eae947e52056c713ac1e<br>727fa3d3573b389 ...</td>\n",
       "        <td style=\"padding-left: 1em; padding-right: 1em; text-align: center; vertical-align: top\">SOAXGDH12A8C13F8A1</td>\n",
       "        <td style=\"padding-left: 1em; padding-right: 1em; text-align: center; vertical-align: top\">0.928571428571</td>\n",
       "        <td style=\"padding-left: 1em; padding-right: 1em; text-align: center; vertical-align: top\">3</td>\n",
       "    </tr>\n",
       "    <tr>\n",
       "        <td style=\"padding-left: 1em; padding-right: 1em; text-align: center; vertical-align: top\">8b6d6eae947e52056c713ac1e<br>727fa3d3573b389 ...</td>\n",
       "        <td style=\"padding-left: 1em; padding-right: 1em; text-align: center; vertical-align: top\">SOSXLTC12AF72A7F54</td>\n",
       "        <td style=\"padding-left: 1em; padding-right: 1em; text-align: center; vertical-align: top\">0.892857142857</td>\n",
       "        <td style=\"padding-left: 1em; padding-right: 1em; text-align: center; vertical-align: top\">4</td>\n",
       "    </tr>\n",
       "    <tr>\n",
       "        <td style=\"padding-left: 1em; padding-right: 1em; text-align: center; vertical-align: top\">8b6d6eae947e52056c713ac1e<br>727fa3d3573b389 ...</td>\n",
       "        <td style=\"padding-left: 1em; padding-right: 1em; text-align: center; vertical-align: top\">SOEGIYH12A6D4FC0E3</td>\n",
       "        <td style=\"padding-left: 1em; padding-right: 1em; text-align: center; vertical-align: top\">0.75</td>\n",
       "        <td style=\"padding-left: 1em; padding-right: 1em; text-align: center; vertical-align: top\">5</td>\n",
       "    </tr>\n",
       "</table>\n",
       "[68155 rows x 4 columns]<br/>Note: Only the head of the SFrame is printed.<br/>You can use print_rows(num_rows=m, num_columns=n) to print more rows and columns.\n",
       "</div>"
      ],
      "text/plain": [
       "Columns:\n",
       "\tuser_id\tstr\n",
       "\tsong_id\tstr\n",
       "\tscore\tfloat\n",
       "\trank\tint\n",
       "\n",
       "Rows: 68155\n",
       "\n",
       "Data:\n",
       "+-------------------------------+--------------------+----------------+------+\n",
       "|            user_id            |      song_id       |     score      | rank |\n",
       "+-------------------------------+--------------------+----------------+------+\n",
       "| 5f3708108a564cd6489e215a07... | SOFRQTD12A81C233C0 |      1.0       |  1   |\n",
       "| 5f3708108a564cd6489e215a07... | SOAUWYT12A81C206F1 | 0.964285714286 |  2   |\n",
       "| 5f3708108a564cd6489e215a07... | SOAXGDH12A8C13F8A1 | 0.928571428571 |  3   |\n",
       "| 5f3708108a564cd6489e215a07... | SOSXLTC12AF72A7F54 | 0.892857142857 |  4   |\n",
       "| 5f3708108a564cd6489e215a07... | SOEGIYH12A6D4FC0E3 |      0.75      |  5   |\n",
       "| 8b6d6eae947e52056c713ac1e7... | SOFRQTD12A81C233C0 |      1.0       |  1   |\n",
       "| 8b6d6eae947e52056c713ac1e7... | SOAUWYT12A81C206F1 | 0.964285714286 |  2   |\n",
       "| 8b6d6eae947e52056c713ac1e7... | SOAXGDH12A8C13F8A1 | 0.928571428571 |  3   |\n",
       "| 8b6d6eae947e52056c713ac1e7... | SOSXLTC12AF72A7F54 | 0.892857142857 |  4   |\n",
       "| 8b6d6eae947e52056c713ac1e7... | SOEGIYH12A6D4FC0E3 |      0.75      |  5   |\n",
       "+-------------------------------+--------------------+----------------+------+\n",
       "[68155 rows x 4 columns]\n",
       "Note: Only the head of the SFrame is printed.\n",
       "You can use print_rows(num_rows=m, num_columns=n) to print more rows and columns."
      ]
     },
     "execution_count": 22,
     "metadata": {},
     "output_type": "execute_result"
    }
   ],
   "source": [
    "item_rec.recommend(k=5)"
   ]
  },
  {
   "cell_type": "markdown",
   "metadata": {},
   "source": [
    "## Ranking Matrix Factorization"
   ]
  },
  {
   "cell_type": "markdown",
   "metadata": {},
   "source": [
    "Matrix factorization algorithm for implicit data. Determine n-ranked items since predicting 'ratings' does not makes sense for implicit of data."
   ]
  },
  {
   "cell_type": "markdown",
   "metadata": {},
   "source": [
    "Model documentation:\n",
    "\n",
    "https://turi.com/products/create/docs/generated/graphlab.recommender.ranking_factorization_recommender.create.html#graphlab.recommender.ranking_factorization_recommender.create"
   ]
  },
  {
   "cell_type": "code",
   "execution_count": 23,
   "metadata": {
    "collapsed": true
   },
   "outputs": [],
   "source": [
    "data_matfact = train[['user_id','song_id','play']]"
   ]
  },
  {
   "cell_type": "code",
   "execution_count": 24,
   "metadata": {
    "collapsed": false
   },
   "outputs": [
    {
     "data": {
      "text/html": [
       "<pre>Recsys training: model = ranking_factorization_recommender</pre>"
      ],
      "text/plain": [
       "Recsys training: model = ranking_factorization_recommender"
      ]
     },
     "metadata": {},
     "output_type": "display_data"
    },
    {
     "data": {
      "text/html": [
       "<pre>Preparing data set.</pre>"
      ],
      "text/plain": [
       "Preparing data set."
      ]
     },
     "metadata": {},
     "output_type": "display_data"
    },
    {
     "data": {
      "text/html": [
       "<pre>    Data has 14041 observations with 13631 users and 10569 items.</pre>"
      ],
      "text/plain": [
       "    Data has 14041 observations with 13631 users and 10569 items."
      ]
     },
     "metadata": {},
     "output_type": "display_data"
    },
    {
     "data": {
      "text/html": [
       "<pre>    Data prepared in: 0.048946s</pre>"
      ],
      "text/plain": [
       "    Data prepared in: 0.048946s"
      ]
     },
     "metadata": {},
     "output_type": "display_data"
    },
    {
     "data": {
      "text/html": [
       "<pre>Training ranking_factorization_recommender for recommendations.</pre>"
      ],
      "text/plain": [
       "Training ranking_factorization_recommender for recommendations."
      ]
     },
     "metadata": {},
     "output_type": "display_data"
    },
    {
     "data": {
      "text/html": [
       "<pre>+--------------------------------+--------------------------------------------------+----------+</pre>"
      ],
      "text/plain": [
       "+--------------------------------+--------------------------------------------------+----------+"
      ]
     },
     "metadata": {},
     "output_type": "display_data"
    },
    {
     "data": {
      "text/html": [
       "<pre>| Parameter                      | Description                                      | Value    |</pre>"
      ],
      "text/plain": [
       "| Parameter                      | Description                                      | Value    |"
      ]
     },
     "metadata": {},
     "output_type": "display_data"
    },
    {
     "data": {
      "text/html": [
       "<pre>+--------------------------------+--------------------------------------------------+----------+</pre>"
      ],
      "text/plain": [
       "+--------------------------------+--------------------------------------------------+----------+"
      ]
     },
     "metadata": {},
     "output_type": "display_data"
    },
    {
     "data": {
      "text/html": [
       "<pre>| num_factors                    | Factor Dimension                                 | 32       |</pre>"
      ],
      "text/plain": [
       "| num_factors                    | Factor Dimension                                 | 32       |"
      ]
     },
     "metadata": {},
     "output_type": "display_data"
    },
    {
     "data": {
      "text/html": [
       "<pre>| regularization                 | L2 Regularization on Factors                     | 1e-09    |</pre>"
      ],
      "text/plain": [
       "| regularization                 | L2 Regularization on Factors                     | 1e-09    |"
      ]
     },
     "metadata": {},
     "output_type": "display_data"
    },
    {
     "data": {
      "text/html": [
       "<pre>| solver                         | Solver used for training                         | adagrad  |</pre>"
      ],
      "text/plain": [
       "| solver                         | Solver used for training                         | adagrad  |"
      ]
     },
     "metadata": {},
     "output_type": "display_data"
    },
    {
     "data": {
      "text/html": [
       "<pre>| linear_regularization          | L2 Regularization on Linear Coefficients         | 1e-09    |</pre>"
      ],
      "text/plain": [
       "| linear_regularization          | L2 Regularization on Linear Coefficients         | 1e-09    |"
      ]
     },
     "metadata": {},
     "output_type": "display_data"
    },
    {
     "data": {
      "text/html": [
       "<pre>| binary_target                  | Assume Binary Targets                            | True     |</pre>"
      ],
      "text/plain": [
       "| binary_target                  | Assume Binary Targets                            | True     |"
      ]
     },
     "metadata": {},
     "output_type": "display_data"
    },
    {
     "data": {
      "text/html": [
       "<pre>| max_iterations                 | Maximum Number of Iterations                     | 25       |</pre>"
      ],
      "text/plain": [
       "| max_iterations                 | Maximum Number of Iterations                     | 25       |"
      ]
     },
     "metadata": {},
     "output_type": "display_data"
    },
    {
     "data": {
      "text/html": [
       "<pre>+--------------------------------+--------------------------------------------------+----------+</pre>"
      ],
      "text/plain": [
       "+--------------------------------+--------------------------------------------------+----------+"
      ]
     },
     "metadata": {},
     "output_type": "display_data"
    },
    {
     "data": {
      "text/html": [
       "<pre>  Optimizing model using SGD; tuning step size.</pre>"
      ],
      "text/plain": [
       "  Optimizing model using SGD; tuning step size."
      ]
     },
     "metadata": {},
     "output_type": "display_data"
    },
    {
     "data": {
      "text/html": [
       "<pre>  Using 10000 / 14041 points for tuning the step size.</pre>"
      ],
      "text/plain": [
       "  Using 10000 / 14041 points for tuning the step size."
      ]
     },
     "metadata": {},
     "output_type": "display_data"
    },
    {
     "data": {
      "text/html": [
       "<pre>+---------+-------------------+------------------------------------------+</pre>"
      ],
      "text/plain": [
       "+---------+-------------------+------------------------------------------+"
      ]
     },
     "metadata": {},
     "output_type": "display_data"
    },
    {
     "data": {
      "text/html": [
       "<pre>| Attempt | Initial Step Size | Estimated Objective Value                |</pre>"
      ],
      "text/plain": [
       "| Attempt | Initial Step Size | Estimated Objective Value                |"
      ]
     },
     "metadata": {},
     "output_type": "display_data"
    },
    {
     "data": {
      "text/html": [
       "<pre>+---------+-------------------+------------------------------------------+</pre>"
      ],
      "text/plain": [
       "+---------+-------------------+------------------------------------------+"
      ]
     },
     "metadata": {},
     "output_type": "display_data"
    },
    {
     "data": {
      "text/html": [
       "<pre>| 0       | 16.6667           | No Decrease (8.00331 >= 1.38644)         |</pre>"
      ],
      "text/plain": [
       "| 0       | 16.6667           | No Decrease (8.00331 >= 1.38644)         |"
      ]
     },
     "metadata": {},
     "output_type": "display_data"
    },
    {
     "data": {
      "text/html": [
       "<pre>| 1       | 4.16667           | 0.94696                                  |</pre>"
      ],
      "text/plain": [
       "| 1       | 4.16667           | 0.94696                                  |"
      ]
     },
     "metadata": {},
     "output_type": "display_data"
    },
    {
     "data": {
      "text/html": [
       "<pre>| 2       | 2.08333           | 0.903993                                 |</pre>"
      ],
      "text/plain": [
       "| 2       | 2.08333           | 0.903993                                 |"
      ]
     },
     "metadata": {},
     "output_type": "display_data"
    },
    {
     "data": {
      "text/html": [
       "<pre>| 3       | 1.04167           | 0.588486                                 |</pre>"
      ],
      "text/plain": [
       "| 3       | 1.04167           | 0.588486                                 |"
      ]
     },
     "metadata": {},
     "output_type": "display_data"
    },
    {
     "data": {
      "text/html": [
       "<pre>| 4       | 0.520833          | 0.177681                                 |</pre>"
      ],
      "text/plain": [
       "| 4       | 0.520833          | 0.177681                                 |"
      ]
     },
     "metadata": {},
     "output_type": "display_data"
    },
    {
     "data": {
      "text/html": [
       "<pre>| 5       | 0.260417          | 0.295667                                 |</pre>"
      ],
      "text/plain": [
       "| 5       | 0.260417          | 0.295667                                 |"
      ]
     },
     "metadata": {},
     "output_type": "display_data"
    },
    {
     "data": {
      "text/html": [
       "<pre>| 6       | 0.130208          | 0.638                                    |</pre>"
      ],
      "text/plain": [
       "| 6       | 0.130208          | 0.638                                    |"
      ]
     },
     "metadata": {},
     "output_type": "display_data"
    },
    {
     "data": {
      "text/html": [
       "<pre>+---------+-------------------+------------------------------------------+</pre>"
      ],
      "text/plain": [
       "+---------+-------------------+------------------------------------------+"
      ]
     },
     "metadata": {},
     "output_type": "display_data"
    },
    {
     "data": {
      "text/html": [
       "<pre>| Final   | 0.520833          | 0.177681                                 |</pre>"
      ],
      "text/plain": [
       "| Final   | 0.520833          | 0.177681                                 |"
      ]
     },
     "metadata": {},
     "output_type": "display_data"
    },
    {
     "data": {
      "text/html": [
       "<pre>+---------+-------------------+------------------------------------------+</pre>"
      ],
      "text/plain": [
       "+---------+-------------------+------------------------------------------+"
      ]
     },
     "metadata": {},
     "output_type": "display_data"
    },
    {
     "data": {
      "text/html": [
       "<pre>Starting Optimization.</pre>"
      ],
      "text/plain": [
       "Starting Optimization."
      ]
     },
     "metadata": {},
     "output_type": "display_data"
    },
    {
     "data": {
      "text/html": [
       "<pre>+---------+--------------+-------------------+-----------------------------------+-------------+</pre>"
      ],
      "text/plain": [
       "+---------+--------------+-------------------+-----------------------------------+-------------+"
      ]
     },
     "metadata": {},
     "output_type": "display_data"
    },
    {
     "data": {
      "text/html": [
       "<pre>| Iter.   | Elapsed Time | Approx. Objective | Approx. Training Predictive Error | Step Size   |</pre>"
      ],
      "text/plain": [
       "| Iter.   | Elapsed Time | Approx. Objective | Approx. Training Predictive Error | Step Size   |"
      ]
     },
     "metadata": {},
     "output_type": "display_data"
    },
    {
     "data": {
      "text/html": [
       "<pre>+---------+--------------+-------------------+-----------------------------------+-------------+</pre>"
      ],
      "text/plain": [
       "+---------+--------------+-------------------+-----------------------------------+-------------+"
      ]
     },
     "metadata": {},
     "output_type": "display_data"
    },
    {
     "data": {
      "text/html": [
       "<pre>| Initial | 144us        | 1.38644           | 0.693151                          |             |</pre>"
      ],
      "text/plain": [
       "| Initial | 144us        | 1.38644           | 0.693151                          |             |"
      ]
     },
     "metadata": {},
     "output_type": "display_data"
    },
    {
     "data": {
      "text/html": [
       "<pre>+---------+--------------+-------------------+-----------------------------------+-------------+</pre>"
      ],
      "text/plain": [
       "+---------+--------------+-------------------+-----------------------------------+-------------+"
      ]
     },
     "metadata": {},
     "output_type": "display_data"
    },
    {
     "data": {
      "text/html": [
       "<pre>| 1       | 58.446ms     | 2.23978           | 1.06674                           | 0.520833    |</pre>"
      ],
      "text/plain": [
       "| 1       | 58.446ms     | 2.23978           | 1.06674                           | 0.520833    |"
      ]
     },
     "metadata": {},
     "output_type": "display_data"
    },
    {
     "data": {
      "text/html": [
       "<pre>| 2       | 117.528ms    | 1.54687           | 0.31477                           | 0.520833    |</pre>"
      ],
      "text/plain": [
       "| 2       | 117.528ms    | 1.54687           | 0.31477                           | 0.520833    |"
      ]
     },
     "metadata": {},
     "output_type": "display_data"
    },
    {
     "data": {
      "text/html": [
       "<pre>| 3       | 183.854ms    | 0.725923          | 0.3171                            | 0.520833    |</pre>"
      ],
      "text/plain": [
       "| 3       | 183.854ms    | 0.725923          | 0.3171                            | 0.520833    |"
      ]
     },
     "metadata": {},
     "output_type": "display_data"
    },
    {
     "data": {
      "text/html": [
       "<pre>| 4       | 235.019ms    | 0.384717          | 0.0944721                         | 0.520833    |</pre>"
      ],
      "text/plain": [
       "| 4       | 235.019ms    | 0.384717          | 0.0944721                         | 0.520833    |"
      ]
     },
     "metadata": {},
     "output_type": "display_data"
    },
    {
     "data": {
      "text/html": [
       "<pre>| 5       | 306.348ms    | 0.242892          | 0.0751645                         | 0.520833    |</pre>"
      ],
      "text/plain": [
       "| 5       | 306.348ms    | 0.242892          | 0.0751645                         | 0.520833    |"
      ]
     },
     "metadata": {},
     "output_type": "display_data"
    },
    {
     "data": {
      "text/html": [
       "<pre>| 6       | 341.905ms    | 0.171337          | 0.0513107                         | 0.520833    |</pre>"
      ],
      "text/plain": [
       "| 6       | 341.905ms    | 0.171337          | 0.0513107                         | 0.520833    |"
      ]
     },
     "metadata": {},
     "output_type": "display_data"
    },
    {
     "data": {
      "text/html": [
       "<pre>| 11      | 633.144ms    | 0.0818025         | 0.0272126                         | 0.520833    |</pre>"
      ],
      "text/plain": [
       "| 11      | 633.144ms    | 0.0818025         | 0.0272126                         | 0.520833    |"
      ]
     },
     "metadata": {},
     "output_type": "display_data"
    },
    {
     "data": {
      "text/html": [
       "<pre>| 25      | 1.37s        | 0.0446392         | 0.0151952                         | 0.520833    |</pre>"
      ],
      "text/plain": [
       "| 25      | 1.37s        | 0.0446392         | 0.0151952                         | 0.520833    |"
      ]
     },
     "metadata": {},
     "output_type": "display_data"
    },
    {
     "data": {
      "text/html": [
       "<pre>+---------+--------------+-------------------+-----------------------------------+-------------+</pre>"
      ],
      "text/plain": [
       "+---------+--------------+-------------------+-----------------------------------+-------------+"
      ]
     },
     "metadata": {},
     "output_type": "display_data"
    },
    {
     "data": {
      "text/html": [
       "<pre>Optimization Complete: Maximum number of passes through the data reached.</pre>"
      ],
      "text/plain": [
       "Optimization Complete: Maximum number of passes through the data reached."
      ]
     },
     "metadata": {},
     "output_type": "display_data"
    },
    {
     "data": {
      "text/html": [
       "<pre>Computing final objective value and training Predictive Error.</pre>"
      ],
      "text/plain": [
       "Computing final objective value and training Predictive Error."
      ]
     },
     "metadata": {},
     "output_type": "display_data"
    },
    {
     "data": {
      "text/html": [
       "<pre>       Final objective value: 0.0378903</pre>"
      ],
      "text/plain": [
       "       Final objective value: 0.0378903"
      ]
     },
     "metadata": {},
     "output_type": "display_data"
    },
    {
     "data": {
      "text/html": [
       "<pre>       Final training Predictive Error: 0.0114826</pre>"
      ],
      "text/plain": [
       "       Final training Predictive Error: 0.0114826"
      ]
     },
     "metadata": {},
     "output_type": "display_data"
    }
   ],
   "source": [
    "matfac_rec = gl.ranking_factorization_recommender.create(data_matfact ,\n",
    "                                                         user_id = 'user_id',\n",
    "                                                         item_id = 'song_id')"
   ]
  },
  {
   "cell_type": "code",
   "execution_count": 25,
   "metadata": {
    "collapsed": false
   },
   "outputs": [
    {
     "data": {
      "text/html": [
       "<pre>recommendations finished on 1000/5870 queries. users per second: 2064.15</pre>"
      ],
      "text/plain": [
       "recommendations finished on 1000/5870 queries. users per second: 2064.15"
      ]
     },
     "metadata": {},
     "output_type": "display_data"
    },
    {
     "data": {
      "text/html": [
       "<pre>recommendations finished on 2000/5870 queries. users per second: 2048.17</pre>"
      ],
      "text/plain": [
       "recommendations finished on 2000/5870 queries. users per second: 2048.17"
      ]
     },
     "metadata": {},
     "output_type": "display_data"
    },
    {
     "data": {
      "text/html": [
       "<pre>recommendations finished on 3000/5870 queries. users per second: 2062.84</pre>"
      ],
      "text/plain": [
       "recommendations finished on 3000/5870 queries. users per second: 2062.84"
      ]
     },
     "metadata": {},
     "output_type": "display_data"
    },
    {
     "data": {
      "text/html": [
       "<pre>recommendations finished on 4000/5870 queries. users per second: 2087.72</pre>"
      ],
      "text/plain": [
       "recommendations finished on 4000/5870 queries. users per second: 2087.72"
      ]
     },
     "metadata": {},
     "output_type": "display_data"
    },
    {
     "data": {
      "text/html": [
       "<pre>recommendations finished on 5000/5870 queries. users per second: 2085.58</pre>"
      ],
      "text/plain": [
       "recommendations finished on 5000/5870 queries. users per second: 2085.58"
      ]
     },
     "metadata": {},
     "output_type": "display_data"
    },
    {
     "data": {
      "text/plain": [
       "{'precision_recall_by_user': Columns:\n",
       " \tuser_id\tstr\n",
       " \tcutoff\tint\n",
       " \tprecision\tfloat\n",
       " \trecall\tfloat\n",
       " \tcount\tint\n",
       " \n",
       " Rows: 105660\n",
       " \n",
       " Data:\n",
       " +-------------------------------+--------+-----------+--------+-------+\n",
       " |            user_id            | cutoff | precision | recall | count |\n",
       " +-------------------------------+--------+-----------+--------+-------+\n",
       " | 0002e94348b2543c6e6ccf408b... |   1    |    0.0    |  0.0   |   1   |\n",
       " | 0002e94348b2543c6e6ccf408b... |   2    |    0.0    |  0.0   |   1   |\n",
       " | 0002e94348b2543c6e6ccf408b... |   3    |    0.0    |  0.0   |   1   |\n",
       " | 0002e94348b2543c6e6ccf408b... |   4    |    0.0    |  0.0   |   1   |\n",
       " | 0002e94348b2543c6e6ccf408b... |   5    |    0.0    |  0.0   |   1   |\n",
       " | 0002e94348b2543c6e6ccf408b... |   6    |    0.0    |  0.0   |   1   |\n",
       " | 0002e94348b2543c6e6ccf408b... |   7    |    0.0    |  0.0   |   1   |\n",
       " | 0002e94348b2543c6e6ccf408b... |   8    |    0.0    |  0.0   |   1   |\n",
       " | 0002e94348b2543c6e6ccf408b... |   9    |    0.0    |  0.0   |   1   |\n",
       " | 0002e94348b2543c6e6ccf408b... |   10   |    0.0    |  0.0   |   1   |\n",
       " +-------------------------------+--------+-----------+--------+-------+\n",
       " [105660 rows x 5 columns]\n",
       " Note: Only the head of the SFrame is printed.\n",
       " You can use print_rows(num_rows=m, num_columns=n) to print more rows and columns.,\n",
       " 'precision_recall_overall': Columns:\n",
       " \tcutoff\tint\n",
       " \tprecision\tfloat\n",
       " \trecall\tfloat\n",
       " \n",
       " Rows: 18\n",
       " \n",
       " Data:\n",
       " +--------+-------------------+------------------+\n",
       " | cutoff |     precision     |      recall      |\n",
       " +--------+-------------------+------------------+\n",
       " |   1    |  0.00272572402044 | 0.00272572402044 |\n",
       " |   2    |  0.00144804088586 | 0.00289608177172 |\n",
       " |   3    |  0.00130607609313 | 0.00391822827939 |\n",
       " |   4    |  0.00170357751278 | 0.00681431005111 |\n",
       " |   5    |  0.00156729131175 | 0.00783645655877 |\n",
       " |   6    |  0.00130607609313 | 0.00783645655877 |\n",
       " |   7    |  0.00111949379411 | 0.00783645655877 |\n",
       " |   8    | 0.000979557069847 | 0.00783645655877 |\n",
       " |   9    | 0.000870717395419 | 0.00783645655877 |\n",
       " |   10   | 0.000783645655877 | 0.00783645655877 |\n",
       " +--------+-------------------+------------------+\n",
       " [18 rows x 3 columns]\n",
       " Note: Only the head of the SFrame is printed.\n",
       " You can use print_rows(num_rows=m, num_columns=n) to print more rows and columns.}"
      ]
     },
     "execution_count": 25,
     "metadata": {},
     "output_type": "execute_result"
    }
   ],
   "source": [
    "eval_matfact = matfac_rec.evaluate_precision_recall(test)\n",
    "\n",
    "eval_matfact"
   ]
  },
  {
   "cell_type": "markdown",
   "metadata": {},
   "source": [
    "*Top 5 recomendations per user*"
   ]
  },
  {
   "cell_type": "code",
   "execution_count": 26,
   "metadata": {
    "collapsed": false
   },
   "outputs": [
    {
     "data": {
      "text/html": [
       "<pre>recommendations finished on 1000/13631 queries. users per second: 1592.82</pre>"
      ],
      "text/plain": [
       "recommendations finished on 1000/13631 queries. users per second: 1592.82"
      ]
     },
     "metadata": {},
     "output_type": "display_data"
    },
    {
     "data": {
      "text/html": [
       "<pre>recommendations finished on 2000/13631 queries. users per second: 1600.16</pre>"
      ],
      "text/plain": [
       "recommendations finished on 2000/13631 queries. users per second: 1600.16"
      ]
     },
     "metadata": {},
     "output_type": "display_data"
    },
    {
     "data": {
      "text/html": [
       "<pre>recommendations finished on 3000/13631 queries. users per second: 1597.6</pre>"
      ],
      "text/plain": [
       "recommendations finished on 3000/13631 queries. users per second: 1597.6"
      ]
     },
     "metadata": {},
     "output_type": "display_data"
    },
    {
     "data": {
      "text/html": [
       "<pre>recommendations finished on 4000/13631 queries. users per second: 1596.71</pre>"
      ],
      "text/plain": [
       "recommendations finished on 4000/13631 queries. users per second: 1596.71"
      ]
     },
     "metadata": {},
     "output_type": "display_data"
    },
    {
     "data": {
      "text/html": [
       "<pre>recommendations finished on 5000/13631 queries. users per second: 1595.4</pre>"
      ],
      "text/plain": [
       "recommendations finished on 5000/13631 queries. users per second: 1595.4"
      ]
     },
     "metadata": {},
     "output_type": "display_data"
    },
    {
     "data": {
      "text/html": [
       "<pre>recommendations finished on 6000/13631 queries. users per second: 1596.85</pre>"
      ],
      "text/plain": [
       "recommendations finished on 6000/13631 queries. users per second: 1596.85"
      ]
     },
     "metadata": {},
     "output_type": "display_data"
    },
    {
     "data": {
      "text/html": [
       "<pre>recommendations finished on 7000/13631 queries. users per second: 1574.27</pre>"
      ],
      "text/plain": [
       "recommendations finished on 7000/13631 queries. users per second: 1574.27"
      ]
     },
     "metadata": {},
     "output_type": "display_data"
    },
    {
     "data": {
      "text/html": [
       "<pre>recommendations finished on 8000/13631 queries. users per second: 1512.48</pre>"
      ],
      "text/plain": [
       "recommendations finished on 8000/13631 queries. users per second: 1512.48"
      ]
     },
     "metadata": {},
     "output_type": "display_data"
    },
    {
     "data": {
      "text/html": [
       "<pre>recommendations finished on 9000/13631 queries. users per second: 1458.07</pre>"
      ],
      "text/plain": [
       "recommendations finished on 9000/13631 queries. users per second: 1458.07"
      ]
     },
     "metadata": {},
     "output_type": "display_data"
    },
    {
     "data": {
      "text/html": [
       "<pre>recommendations finished on 10000/13631 queries. users per second: 1467.7</pre>"
      ],
      "text/plain": [
       "recommendations finished on 10000/13631 queries. users per second: 1467.7"
      ]
     },
     "metadata": {},
     "output_type": "display_data"
    },
    {
     "data": {
      "text/html": [
       "<pre>recommendations finished on 11000/13631 queries. users per second: 1465.28</pre>"
      ],
      "text/plain": [
       "recommendations finished on 11000/13631 queries. users per second: 1465.28"
      ]
     },
     "metadata": {},
     "output_type": "display_data"
    },
    {
     "data": {
      "text/html": [
       "<pre>recommendations finished on 12000/13631 queries. users per second: 1459.18</pre>"
      ],
      "text/plain": [
       "recommendations finished on 12000/13631 queries. users per second: 1459.18"
      ]
     },
     "metadata": {},
     "output_type": "display_data"
    },
    {
     "data": {
      "text/html": [
       "<pre>recommendations finished on 13000/13631 queries. users per second: 1449.36</pre>"
      ],
      "text/plain": [
       "recommendations finished on 13000/13631 queries. users per second: 1449.36"
      ]
     },
     "metadata": {},
     "output_type": "display_data"
    },
    {
     "data": {
      "text/html": [
       "<div style=\"max-height:1000px;max-width:1500px;overflow:auto;\"><table frame=\"box\" rules=\"cols\">\n",
       "    <tr>\n",
       "        <th style=\"padding-left: 1em; padding-right: 1em; text-align: center\">user_id</th>\n",
       "        <th style=\"padding-left: 1em; padding-right: 1em; text-align: center\">song_id</th>\n",
       "        <th style=\"padding-left: 1em; padding-right: 1em; text-align: center\">score</th>\n",
       "        <th style=\"padding-left: 1em; padding-right: 1em; text-align: center\">rank</th>\n",
       "    </tr>\n",
       "    <tr>\n",
       "        <td style=\"padding-left: 1em; padding-right: 1em; text-align: center; vertical-align: top\">5f3708108a564cd6489e215a0<br>7c8cb2316ef7e13 ...</td>\n",
       "        <td style=\"padding-left: 1em; padding-right: 1em; text-align: center; vertical-align: top\">SODPNLZ12A6701F809</td>\n",
       "        <td style=\"padding-left: 1em; padding-right: 1em; text-align: center; vertical-align: top\">0.990350569545</td>\n",
       "        <td style=\"padding-left: 1em; padding-right: 1em; text-align: center; vertical-align: top\">1</td>\n",
       "    </tr>\n",
       "    <tr>\n",
       "        <td style=\"padding-left: 1em; padding-right: 1em; text-align: center; vertical-align: top\">5f3708108a564cd6489e215a0<br>7c8cb2316ef7e13 ...</td>\n",
       "        <td style=\"padding-left: 1em; padding-right: 1em; text-align: center; vertical-align: top\">SOJEORL12AB0189A8B</td>\n",
       "        <td style=\"padding-left: 1em; padding-right: 1em; text-align: center; vertical-align: top\">0.981865608214</td>\n",
       "        <td style=\"padding-left: 1em; padding-right: 1em; text-align: center; vertical-align: top\">2</td>\n",
       "    </tr>\n",
       "    <tr>\n",
       "        <td style=\"padding-left: 1em; padding-right: 1em; text-align: center; vertical-align: top\">5f3708108a564cd6489e215a0<br>7c8cb2316ef7e13 ...</td>\n",
       "        <td style=\"padding-left: 1em; padding-right: 1em; text-align: center; vertical-align: top\">SOMRYYN12A6310F0F3</td>\n",
       "        <td style=\"padding-left: 1em; padding-right: 1em; text-align: center; vertical-align: top\">0.975313988149</td>\n",
       "        <td style=\"padding-left: 1em; padding-right: 1em; text-align: center; vertical-align: top\">3</td>\n",
       "    </tr>\n",
       "    <tr>\n",
       "        <td style=\"padding-left: 1em; padding-right: 1em; text-align: center; vertical-align: top\">5f3708108a564cd6489e215a0<br>7c8cb2316ef7e13 ...</td>\n",
       "        <td style=\"padding-left: 1em; padding-right: 1em; text-align: center; vertical-align: top\">SOQRXHS12A58A75C25</td>\n",
       "        <td style=\"padding-left: 1em; padding-right: 1em; text-align: center; vertical-align: top\">0.960859007429</td>\n",
       "        <td style=\"padding-left: 1em; padding-right: 1em; text-align: center; vertical-align: top\">4</td>\n",
       "    </tr>\n",
       "    <tr>\n",
       "        <td style=\"padding-left: 1em; padding-right: 1em; text-align: center; vertical-align: top\">5f3708108a564cd6489e215a0<br>7c8cb2316ef7e13 ...</td>\n",
       "        <td style=\"padding-left: 1em; padding-right: 1em; text-align: center; vertical-align: top\">SONIQRE12AF72A2B02</td>\n",
       "        <td style=\"padding-left: 1em; padding-right: 1em; text-align: center; vertical-align: top\">0.898857222801</td>\n",
       "        <td style=\"padding-left: 1em; padding-right: 1em; text-align: center; vertical-align: top\">5</td>\n",
       "    </tr>\n",
       "    <tr>\n",
       "        <td style=\"padding-left: 1em; padding-right: 1em; text-align: center; vertical-align: top\">8b6d6eae947e52056c713ac1e<br>727fa3d3573b389 ...</td>\n",
       "        <td style=\"padding-left: 1em; padding-right: 1em; text-align: center; vertical-align: top\">SOSWARV12A8C13706E</td>\n",
       "        <td style=\"padding-left: 1em; padding-right: 1em; text-align: center; vertical-align: top\">0.72897589268</td>\n",
       "        <td style=\"padding-left: 1em; padding-right: 1em; text-align: center; vertical-align: top\">1</td>\n",
       "    </tr>\n",
       "    <tr>\n",
       "        <td style=\"padding-left: 1em; padding-right: 1em; text-align: center; vertical-align: top\">8b6d6eae947e52056c713ac1e<br>727fa3d3573b389 ...</td>\n",
       "        <td style=\"padding-left: 1em; padding-right: 1em; text-align: center; vertical-align: top\">SOMMONH12A6D4F41CD</td>\n",
       "        <td style=\"padding-left: 1em; padding-right: 1em; text-align: center; vertical-align: top\">0.689570371148</td>\n",
       "        <td style=\"padding-left: 1em; padding-right: 1em; text-align: center; vertical-align: top\">2</td>\n",
       "    </tr>\n",
       "    <tr>\n",
       "        <td style=\"padding-left: 1em; padding-right: 1em; text-align: center; vertical-align: top\">8b6d6eae947e52056c713ac1e<br>727fa3d3573b389 ...</td>\n",
       "        <td style=\"padding-left: 1em; padding-right: 1em; text-align: center; vertical-align: top\">SOOZNZY12A8151B80A</td>\n",
       "        <td style=\"padding-left: 1em; padding-right: 1em; text-align: center; vertical-align: top\">0.687933997421</td>\n",
       "        <td style=\"padding-left: 1em; padding-right: 1em; text-align: center; vertical-align: top\">3</td>\n",
       "    </tr>\n",
       "    <tr>\n",
       "        <td style=\"padding-left: 1em; padding-right: 1em; text-align: center; vertical-align: top\">8b6d6eae947e52056c713ac1e<br>727fa3d3573b389 ...</td>\n",
       "        <td style=\"padding-left: 1em; padding-right: 1em; text-align: center; vertical-align: top\">SOZRILK12A8C139F4F</td>\n",
       "        <td style=\"padding-left: 1em; padding-right: 1em; text-align: center; vertical-align: top\">0.630562035718</td>\n",
       "        <td style=\"padding-left: 1em; padding-right: 1em; text-align: center; vertical-align: top\">4</td>\n",
       "    </tr>\n",
       "    <tr>\n",
       "        <td style=\"padding-left: 1em; padding-right: 1em; text-align: center; vertical-align: top\">8b6d6eae947e52056c713ac1e<br>727fa3d3573b389 ...</td>\n",
       "        <td style=\"padding-left: 1em; padding-right: 1em; text-align: center; vertical-align: top\">SOBIQVE12A8C13FEFF</td>\n",
       "        <td style=\"padding-left: 1em; padding-right: 1em; text-align: center; vertical-align: top\">0.582838045094</td>\n",
       "        <td style=\"padding-left: 1em; padding-right: 1em; text-align: center; vertical-align: top\">5</td>\n",
       "    </tr>\n",
       "</table>\n",
       "[68155 rows x 4 columns]<br/>Note: Only the head of the SFrame is printed.<br/>You can use print_rows(num_rows=m, num_columns=n) to print more rows and columns.\n",
       "</div>"
      ],
      "text/plain": [
       "Columns:\n",
       "\tuser_id\tstr\n",
       "\tsong_id\tstr\n",
       "\tscore\tfloat\n",
       "\trank\tint\n",
       "\n",
       "Rows: 68155\n",
       "\n",
       "Data:\n",
       "+-------------------------------+--------------------+----------------+------+\n",
       "|            user_id            |      song_id       |     score      | rank |\n",
       "+-------------------------------+--------------------+----------------+------+\n",
       "| 5f3708108a564cd6489e215a07... | SODPNLZ12A6701F809 | 0.990350569545 |  1   |\n",
       "| 5f3708108a564cd6489e215a07... | SOJEORL12AB0189A8B | 0.981865608214 |  2   |\n",
       "| 5f3708108a564cd6489e215a07... | SOMRYYN12A6310F0F3 | 0.975313988149 |  3   |\n",
       "| 5f3708108a564cd6489e215a07... | SOQRXHS12A58A75C25 | 0.960859007429 |  4   |\n",
       "| 5f3708108a564cd6489e215a07... | SONIQRE12AF72A2B02 | 0.898857222801 |  5   |\n",
       "| 8b6d6eae947e52056c713ac1e7... | SOSWARV12A8C13706E | 0.72897589268  |  1   |\n",
       "| 8b6d6eae947e52056c713ac1e7... | SOMMONH12A6D4F41CD | 0.689570371148 |  2   |\n",
       "| 8b6d6eae947e52056c713ac1e7... | SOOZNZY12A8151B80A | 0.687933997421 |  3   |\n",
       "| 8b6d6eae947e52056c713ac1e7... | SOZRILK12A8C139F4F | 0.630562035718 |  4   |\n",
       "| 8b6d6eae947e52056c713ac1e7... | SOBIQVE12A8C13FEFF | 0.582838045094 |  5   |\n",
       "+-------------------------------+--------------------+----------------+------+\n",
       "[68155 rows x 4 columns]\n",
       "Note: Only the head of the SFrame is printed.\n",
       "You can use print_rows(num_rows=m, num_columns=n) to print more rows and columns."
      ]
     },
     "execution_count": 26,
     "metadata": {},
     "output_type": "execute_result"
    }
   ],
   "source": [
    "matfac_rec.recommend(k=5)"
   ]
  },
  {
   "cell_type": "markdown",
   "metadata": {},
   "source": [
    "## Graph Precision and Recall Curves"
   ]
  },
  {
   "cell_type": "markdown",
   "metadata": {},
   "source": [
    "Explore how to get evaluation results out."
   ]
  },
  {
   "cell_type": "code",
   "execution_count": 27,
   "metadata": {
    "collapsed": false
   },
   "outputs": [
    {
     "name": "stdout",
     "output_type": "stream",
     "text": [
      "<type 'dict'>\n"
     ]
    },
    {
     "data": {
      "text/plain": [
       "['precision_recall_overall', 'precision_recall_by_user']"
      ]
     },
     "execution_count": 27,
     "metadata": {},
     "output_type": "execute_result"
    }
   ],
   "source": [
    "print(type(eval_song_pop))\n",
    "\n",
    "eval_song_pop.keys()"
   ]
  },
  {
   "cell_type": "markdown",
   "metadata": {},
   "source": [
    "Create Columns"
   ]
  },
  {
   "cell_type": "code",
   "execution_count": 28,
   "metadata": {
    "collapsed": false
   },
   "outputs": [],
   "source": [
    "c_songpop = gl.SArray(['Song Popularity'] * 18)\n",
    "c_artpop = gl.SArray(['Artist Popularity'] * 18)\n",
    "c_cont = gl.SArray(['Content-Based'] * 18)\n",
    "c_item = gl.SArray(['Item-Item'] * 18)\n",
    "c_matfact = gl.SArray(['Matrix Factorization (SVD)'] * 18)"
   ]
  },
  {
   "cell_type": "markdown",
   "metadata": {},
   "source": [
    "Add Identifying Columns & Convert to DataFrame"
   ]
  },
  {
   "cell_type": "code",
   "execution_count": 29,
   "metadata": {
    "collapsed": false
   },
   "outputs": [],
   "source": [
    "pres_recall1 = eval_song_pop['precision_recall_overall'].add_column(c_songpop, name='Recommender Type').to_dataframe()\n",
    "\n",
    "pres_recall2 = eval_artist_pop['precision_recall_overall'].add_column(c_artpop, name='Recommender Type').to_dataframe()\n",
    "\n",
    "pres_recall3 = eval_content['precision_recall_overall'].add_column(c_cont, name='Recommender Type').to_dataframe()\n",
    "\n",
    "pres_recall4 = eval_item['precision_recall_overall'].add_column(c_item, name='Recommender Type').to_dataframe()\n",
    "\n",
    "pres_recall5 = eval_matfact['precision_recall_overall'].add_column(c_matfact, name='Recommender Type').to_dataframe()"
   ]
  },
  {
   "cell_type": "markdown",
   "metadata": {},
   "source": [
    "Convert each to df"
   ]
  },
  {
   "cell_type": "code",
   "execution_count": 30,
   "metadata": {
    "collapsed": false
   },
   "outputs": [
    {
     "data": {
      "text/html": [
       "<div>\n",
       "<table border=\"1\" class=\"dataframe\">\n",
       "  <thead>\n",
       "    <tr style=\"text-align: right;\">\n",
       "      <th></th>\n",
       "      <th>cutoff</th>\n",
       "      <th>precision</th>\n",
       "      <th>recall</th>\n",
       "      <th>Recommender Type</th>\n",
       "    </tr>\n",
       "  </thead>\n",
       "  <tbody>\n",
       "    <tr>\n",
       "      <th>0</th>\n",
       "      <td>1</td>\n",
       "      <td>0.002896</td>\n",
       "      <td>0.002896</td>\n",
       "      <td>Song Popularity</td>\n",
       "    </tr>\n",
       "    <tr>\n",
       "      <th>1</th>\n",
       "      <td>2</td>\n",
       "      <td>0.002811</td>\n",
       "      <td>0.005622</td>\n",
       "      <td>Song Popularity</td>\n",
       "    </tr>\n",
       "    <tr>\n",
       "      <th>2</th>\n",
       "      <td>3</td>\n",
       "      <td>0.002385</td>\n",
       "      <td>0.007155</td>\n",
       "      <td>Song Popularity</td>\n",
       "    </tr>\n",
       "    <tr>\n",
       "      <th>3</th>\n",
       "      <td>4</td>\n",
       "      <td>0.002044</td>\n",
       "      <td>0.008177</td>\n",
       "      <td>Song Popularity</td>\n",
       "    </tr>\n",
       "    <tr>\n",
       "      <th>4</th>\n",
       "      <td>5</td>\n",
       "      <td>0.001908</td>\n",
       "      <td>0.009540</td>\n",
       "      <td>Song Popularity</td>\n",
       "    </tr>\n",
       "  </tbody>\n",
       "</table>\n",
       "</div>"
      ],
      "text/plain": [
       "   cutoff  precision    recall Recommender Type\n",
       "0       1   0.002896  0.002896  Song Popularity\n",
       "1       2   0.002811  0.005622  Song Popularity\n",
       "2       3   0.002385  0.007155  Song Popularity\n",
       "3       4   0.002044  0.008177  Song Popularity\n",
       "4       5   0.001908  0.009540  Song Popularity"
      ]
     },
     "execution_count": 30,
     "metadata": {},
     "output_type": "execute_result"
    }
   ],
   "source": [
    "frames = [pres_recall1, pres_recall2, pres_recall3, pres_recall4, pres_recall5]\n",
    "\n",
    "precision_recall_overall = pd.concat(frames)\n",
    "\n",
    "precision_recall_overall.head()"
   ]
  },
  {
   "cell_type": "code",
   "execution_count": 31,
   "metadata": {
    "collapsed": false
   },
   "outputs": [
    {
     "data": {
      "image/png": "[encoded data removed]",
      "text/plain": [
       "<matplotlib.figure.Figure at 0x123e233d0>"
      ]
     },
     "metadata": {},
     "output_type": "display_data"
    }
   ],
   "source": [
    "%matplotlib inline\n",
    "\n",
    "sns.set_style(\"whitegrid\")\n",
    "\n",
    "sns.despine()\n",
    "\n",
    "sns.lineplot(x='recall', y='precision', data = precision_recall_overall, \n",
    "             hue='Recommender Type', markers=True)\n",
    "\n",
    "plt.title('Precision-Recall Comparisons \\n')\n",
    "\n",
    "plt.legend(bbox_to_anchor=(1.05, 1), loc=2, borderaxespad=0.)\n",
    "\n",
    "#plt.xticks(np.arange(0, 1.2, step=0.2))\n",
    "#plt.yticks(np.arange(0, 1.2, step=0.2))\n",
    "\n",
    "plt.show()"
   ]
  },
  {
   "cell_type": "markdown",
   "metadata": {
    "collapsed": true
   },
   "source": [
    "## IDEAS & NEXT STEPS"
   ]
  },
  {
   "cell_type": "markdown",
   "metadata": {
    "collapsed": true
   },
   "source": [
    "+ Add more data. Find out how much my machine can handle.\n",
    "+ Parameter Tuning - *particularly item based, matrix factorization.*\n",
    "+ Add interaction confidence? (matrix factorization)\n",
    "+ Cross - Validation (kfolds = n)\n",
    "+ Add other accuracy metrics\n",
    "+ Bring other side information about items to improve performance (artist tags)?"
   ]
  },
  {
   "cell_type": "markdown",
   "metadata": {
    "collapsed": true
   },
   "source": [
    "# End of Notebook"
   ]
  }
 ],
 "metadata": {
  "kernelspec": {
   "display_name": "Python 2",
   "language": "python",
   "name": "python2"
  },
  "language_info": {
   "codemirror_mode": {
    "name": "ipython",
    "version": 2
   },
   "file_extension": ".py",
   "mimetype": "text/x-python",
   "name": "python",
   "nbconvert_exporter": "python",
   "pygments_lexer": "ipython2",
   "version": "2.7.11"
  }
 },
 "nbformat": 4,
 "nbformat_minor": 2
}
