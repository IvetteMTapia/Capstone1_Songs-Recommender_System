{
 "cells": [
  {
   "cell_type": "markdown",
   "metadata": {},
   "source": [
    "# Million Song Data Set & Complimentary Datasets Wrangling"
   ]
  },
  {
   "cell_type": "markdown",
   "metadata": {},
   "source": [
    "### **Import Libraries**"
   ]
  },
  {
   "cell_type": "code",
   "execution_count": 1,
   "metadata": {},
   "outputs": [
    {
     "name": "stderr",
     "output_type": "stream",
     "text": [
      "/anaconda3/lib/python3.6/site-packages/h5py/__init__.py:36: FutureWarning: Conversion of the second argument of issubdtype from `float` to `np.floating` is deprecated. In future, it will be treated as `np.float64 == np.dtype(float).type`.\n",
      "  from ._conv import register_converters as _register_converters\n"
     ]
    }
   ],
   "source": [
    "import pandas as pd\n",
    "import numpy as np\n",
    "import tables\n",
    "import sys\n",
    "import os\n",
    "\n",
    "sys.path.append('/Users/ivettetapia 1/Symbolic Link Seagate Drive/Springboard/Capstone 1_Mus_Recomend/MSongsDB/PythonSrc')\n",
    "import hdf5_getters\n",
    "import h5py"
   ]
  },
  {
   "cell_type": "markdown",
   "metadata": {},
   "source": [
    "### Part 1. Upload MSD Data"
   ]
  },
  {
   "cell_type": "markdown",
   "metadata": {},
   "source": [
    "> #### <font color =red >_File Structure Exploration_</font>"
   ]
  },
  {
   "cell_type": "code",
   "execution_count": 2,
   "metadata": {
    "scrolled": true
   },
   "outputs": [
    {
     "name": "stdout",
     "output_type": "stream",
     "text": [
      "<class 'h5py._hl.files.File'>\n",
      "\n",
      "File Groups\n",
      "-------------------------------------------------\n",
      "analysis\n",
      "metadata\n",
      "musicbrainz\n",
      "\n",
      "Data within the ANALYSIS group\n",
      "-------------------------------------------------\n",
      "bars_confidence\n",
      "bars_start\n",
      "beats_confidence\n",
      "beats_start\n",
      "sections_confidence\n",
      "sections_start\n",
      "segments_confidence\n",
      "segments_loudness_max\n",
      "segments_loudness_max_time\n",
      "segments_loudness_start\n",
      "segments_pitches\n",
      "segments_start\n",
      "segments_timbre\n",
      "songs\n",
      "tatums_confidence\n",
      "tatums_start\n",
      "\n",
      "Data within the METADATA group\n",
      "-------------------------------------------------\n",
      "artist_terms\n",
      "artist_terms_freq\n",
      "artist_terms_weight\n",
      "similar_artists\n",
      "songs\n",
      "\n",
      "Data within the MUSICBRAINZ group\n",
      "-------------------------------------------------\n",
      "artist_mbtags\n",
      "artist_mbtags_count\n",
      "songs\n"
     ]
    }
   ],
   "source": [
    "example1_hd5_path = '/Users/ivettetapia 1/Symbolic Link Seagate Drive/Springboard/Capstone 1_Mus_Recomend/Data/MSD Complete Dataset/A/E/B/TRAEBAE128F9307121.h5'\n",
    "\n",
    "example2_hd5_path = '/Users/ivettetapia 1/Symbolic Link Seagate Drive/Springboard/Capstone 1_Mus_Recomend/Data/MSD Complete Dataset/A/E/B/TRAEBRA12903CAD82E.h5'\n",
    "\n",
    "data = h5py.File(example1_hd5_path, 'r')\n",
    "\n",
    "data2= h5py.File(example2_hd5_path, 'r')\n",
    "\n",
    "print(type(data))\n",
    "\n",
    "print()\n",
    "print('File Groups')\n",
    "print('-------------------------------------------------')\n",
    "\n",
    "for key in data.keys():\n",
    "    print(key)\n",
    "\n",
    "print()\n",
    "print('Data within the ANALYSIS group')\n",
    "print('-------------------------------------------------')\n",
    "    \n",
    "for key in data['analysis']:\n",
    "    print(key)\n",
    "    \n",
    "print()\n",
    "print('Data within the METADATA group')\n",
    "print('-------------------------------------------------')\n",
    "\n",
    "for key in data['metadata']:\n",
    "    print(key)\n",
    "\n",
    "print()\n",
    "print('Data within the MUSICBRAINZ group')\n",
    "print('-------------------------------------------------')\n",
    "\n",
    "for key in data['musicbrainz']:\n",
    "    print(key)"
   ]
  },
  {
   "cell_type": "code",
   "execution_count": 3,
   "metadata": {},
   "outputs": [
    {
     "name": "stdout",
     "output_type": "stream",
     "text": [
      "<class 'numpy.ndarray'>\n"
     ]
    },
    {
     "data": {
      "text/plain": [
       "array([(22050, b'f3c806280f75a7c0c90b99b4438de424', 0., 326.3473, 4.197, 0., 0, 0, 0, 0, 0, 0, 0, 0, 0, 0, 0, 0, 0, 0, 0, 10, 0.641, -5.852, 1, 0.45, 322.2, 105.966, 5, 0.878, b'TRAEBAE128F9307121')],\n",
       "      dtype=[('analysis_sample_rate', '<i4'), ('audio_md5', 'S32'), ('danceability', '<f8'), ('duration', '<f8'), ('end_of_fade_in', '<f8'), ('energy', '<f8'), ('idx_bars_confidence', '<i4'), ('idx_bars_start', '<i4'), ('idx_beats_confidence', '<i4'), ('idx_beats_start', '<i4'), ('idx_sections_confidence', '<i4'), ('idx_sections_start', '<i4'), ('idx_segments_confidence', '<i4'), ('idx_segments_loudness_max', '<i4'), ('idx_segments_loudness_max_time', '<i4'), ('idx_segments_loudness_start', '<i4'), ('idx_segments_pitches', '<i4'), ('idx_segments_start', '<i4'), ('idx_segments_timbre', '<i4'), ('idx_tatums_confidence', '<i4'), ('idx_tatums_start', '<i4'), ('key', '<i4'), ('key_confidence', '<f8'), ('loudness', '<f8'), ('mode', '<i4'), ('mode_confidence', '<f8'), ('start_of_fade_out', '<f8'), ('tempo', '<f8'), ('time_signature', '<i4'), ('time_signature_confidence', '<f8'), ('track_id', 'S32')])"
      ]
     },
     "execution_count": 3,
     "metadata": {},
     "output_type": "execute_result"
    }
   ],
   "source": [
    "#See contents of metadata files for songs\n",
    "\n",
    "print(type(data['analysis']['songs'].value))\n",
    "\n",
    "data['analysis']['songs'].value"
   ]
  },
  {
   "cell_type": "code",
   "execution_count": 4,
   "metadata": {},
   "outputs": [
    {
     "name": "stdout",
     "output_type": "stream",
     "text": [
      "CPU times: user 4 µs, sys: 0 ns, total: 4 µs\n",
      "Wall time: 10 µs\n"
     ]
    },
    {
     "data": {
      "text/html": [
       "<div>\n",
       "<style scoped>\n",
       "    .dataframe tbody tr th:only-of-type {\n",
       "        vertical-align: middle;\n",
       "    }\n",
       "\n",
       "    .dataframe tbody tr th {\n",
       "        vertical-align: top;\n",
       "    }\n",
       "\n",
       "    .dataframe thead th {\n",
       "        text-align: right;\n",
       "    }\n",
       "</style>\n",
       "<table border=\"1\" class=\"dataframe\">\n",
       "  <thead>\n",
       "    <tr style=\"text-align: right;\">\n",
       "      <th></th>\n",
       "      <th>analyzer_version</th>\n",
       "      <th>artist_7digitalid</th>\n",
       "      <th>artist_familiarity</th>\n",
       "      <th>artist_hotttnesss</th>\n",
       "      <th>artist_id</th>\n",
       "      <th>artist_latitude</th>\n",
       "      <th>artist_location</th>\n",
       "      <th>artist_longitude</th>\n",
       "      <th>artist_mbid</th>\n",
       "      <th>artist_name</th>\n",
       "      <th>artist_playmeid</th>\n",
       "      <th>genre</th>\n",
       "      <th>idx_artist_terms</th>\n",
       "      <th>idx_similar_artists</th>\n",
       "      <th>release</th>\n",
       "      <th>release_7digitalid</th>\n",
       "      <th>song_hotttnesss</th>\n",
       "      <th>song_id</th>\n",
       "      <th>title</th>\n",
       "      <th>track_7digitalid</th>\n",
       "    </tr>\n",
       "  </thead>\n",
       "  <tbody>\n",
       "    <tr>\n",
       "      <th>0</th>\n",
       "      <td>b''</td>\n",
       "      <td>363162</td>\n",
       "      <td>0.454109</td>\n",
       "      <td>0.265329</td>\n",
       "      <td>b'ARCQYL51187B9A438E'</td>\n",
       "      <td>NaN</td>\n",
       "      <td>b''</td>\n",
       "      <td>NaN</td>\n",
       "      <td>b'f726872e-9c0b-46d3-ac72-13b331ad3609'</td>\n",
       "      <td>b'Mutandina'</td>\n",
       "      <td>-1</td>\n",
       "      <td>b''</td>\n",
       "      <td>0</td>\n",
       "      <td>0</td>\n",
       "      <td>b'Mutandina'</td>\n",
       "      <td>490479</td>\n",
       "      <td>0.198218</td>\n",
       "      <td>b'SOSNZVL12AB017CD61'</td>\n",
       "      <td>b'Juego'</td>\n",
       "      <td>5433193</td>\n",
       "    </tr>\n",
       "    <tr>\n",
       "      <th>0</th>\n",
       "      <td>b''</td>\n",
       "      <td>371905</td>\n",
       "      <td>0.493659</td>\n",
       "      <td>0.346168</td>\n",
       "      <td>b'ARUGXXF1241B9C451C'</td>\n",
       "      <td>NaN</td>\n",
       "      <td>b''</td>\n",
       "      <td>NaN</td>\n",
       "      <td>b'7dd03e59-826e-4ca8-80b9-a7b9960815b5'</td>\n",
       "      <td>b'Ferry Tayle'</td>\n",
       "      <td>-1</td>\n",
       "      <td>b''</td>\n",
       "      <td>0</td>\n",
       "      <td>0</td>\n",
       "      <td>b'Duo'</td>\n",
       "      <td>576820</td>\n",
       "      <td>NaN</td>\n",
       "      <td>b'SOIGKIJ12AB01859AB'</td>\n",
       "      <td>b'Duo'</td>\n",
       "      <td>6392677</td>\n",
       "    </tr>\n",
       "  </tbody>\n",
       "</table>\n",
       "</div>"
      ],
      "text/plain": [
       "  analyzer_version  artist_7digitalid  artist_familiarity  artist_hotttnesss  \\\n",
       "0              b''             363162            0.454109           0.265329   \n",
       "0              b''             371905            0.493659           0.346168   \n",
       "\n",
       "               artist_id  artist_latitude artist_location  artist_longitude  \\\n",
       "0  b'ARCQYL51187B9A438E'              NaN             b''               NaN   \n",
       "0  b'ARUGXXF1241B9C451C'              NaN             b''               NaN   \n",
       "\n",
       "                               artist_mbid     artist_name  artist_playmeid  \\\n",
       "0  b'f726872e-9c0b-46d3-ac72-13b331ad3609'    b'Mutandina'               -1   \n",
       "0  b'7dd03e59-826e-4ca8-80b9-a7b9960815b5'  b'Ferry Tayle'               -1   \n",
       "\n",
       "  genre  idx_artist_terms  idx_similar_artists       release  \\\n",
       "0   b''                 0                    0  b'Mutandina'   \n",
       "0   b''                 0                    0        b'Duo'   \n",
       "\n",
       "   release_7digitalid  song_hotttnesss                song_id     title  \\\n",
       "0              490479         0.198218  b'SOSNZVL12AB017CD61'  b'Juego'   \n",
       "0              576820              NaN  b'SOIGKIJ12AB01859AB'    b'Duo'   \n",
       "\n",
       "   track_7digitalid  \n",
       "0           5433193  \n",
       "0           6392677  "
      ]
     },
     "execution_count": 4,
     "metadata": {},
     "output_type": "execute_result"
    }
   ],
   "source": [
    "%time\n",
    "#Idea 1. Open Files, Extract Needed Arrays and Pass into DF\n",
    "\n",
    "#Step 1. Pass numpy arrays into df\n",
    "\n",
    "df_data1= pd.DataFrame(data['metadata']['songs'].value)\n",
    "\n",
    "df_data2= pd.DataFrame(data2['metadata']['songs'].value)\n",
    "\n",
    "#Step 2. Start empty df\n",
    "\n",
    "empty_df = pd.DataFrame()\n",
    "\n",
    "#Step 3. Append files\n",
    "\n",
    "empty_df = empty_df.append(df_data1)\n",
    "\n",
    "empty_df = empty_df.append(df_data2)\n",
    "\n",
    "empty_df"
   ]
  },
  {
   "cell_type": "code",
   "execution_count": null,
   "metadata": {},
   "outputs": [],
   "source": [
    "%time\n",
    "#Idea 2. Append Numpy Arrays, Pass Result into DF \n",
    "\n",
    "df_data1= data['metadata']['songs'].value\n",
    "\n",
    "df_data2= data2['metadata']['songs'].value\n",
    "\n",
    "array = np.append(df_data1,df_data2)\n",
    "\n",
    "array_df = pd.DataFrame(array)\n",
    "\n",
    "array_df\n"
   ]
  },
  {
   "cell_type": "code",
   "execution_count": 5,
   "metadata": {
    "scrolled": true
   },
   "outputs": [
    {
     "name": "stdout",
     "output_type": "stream",
     "text": [
      "/Users/ivettetapia 1/Symbolic Link Seagate Drive/Springboard/Capstone 1_Mus_Recomend/Data/A/Test/TRAEBDE128F934EF2A.h5\n",
      "/Users/ivettetapia 1/Symbolic Link Seagate Drive/Springboard/Capstone 1_Mus_Recomend/Data/A/Test/TRAEBDG128F92EF926.h5\n",
      "/Users/ivettetapia 1/Symbolic Link Seagate Drive/Springboard/Capstone 1_Mus_Recomend/Data/A/Test/TRAEBEE12903CC876F.h5\n",
      "/Users/ivettetapia 1/Symbolic Link Seagate Drive/Springboard/Capstone 1_Mus_Recomend/Data/A/Test/TRAEBEG12903D0F935.h5\n",
      "/Users/ivettetapia 1/Symbolic Link Seagate Drive/Springboard/Capstone 1_Mus_Recomend/Data/A/Test/TRAEBET128F92EE024.h5\n",
      "/Users/ivettetapia 1/Symbolic Link Seagate Drive/Springboard/Capstone 1_Mus_Recomend/Data/A/Test/TRAEBFW128F92EDDE6.h5\n",
      "/Users/ivettetapia 1/Symbolic Link Seagate Drive/Springboard/Capstone 1_Mus_Recomend/Data/A/Test/TRAEBGR128F9305D69.h5\n",
      "/Users/ivettetapia 1/Symbolic Link Seagate Drive/Springboard/Capstone 1_Mus_Recomend/Data/A/Test/TRAEBHW12903CE6A74.h5\n",
      "/Users/ivettetapia 1/Symbolic Link Seagate Drive/Springboard/Capstone 1_Mus_Recomend/Data/A/Test/TRAEBJZ12903CEBC8F.h5\n",
      "/Users/ivettetapia 1/Symbolic Link Seagate Drive/Springboard/Capstone 1_Mus_Recomend/Data/A/Test/TRAEBKD12903D00D5C.h5\n"
     ]
    }
   ],
   "source": [
    "#Test File List\n",
    "\n",
    "rootdir = '/Users/ivettetapia 1/Symbolic Link Seagate Drive/Springboard/Capstone 1_Mus_Recomend/Data/A'\n",
    "\n",
    "for subdir, dirs, files in os.walk(rootdir):\n",
    "    \n",
    "    for file in files:\n",
    "        \n",
    "        #print os.path.join(subdir, file)\n",
    "        \n",
    "        filepath = subdir + os.sep + file\n",
    "\n",
    "        if file.endswith(\".h5\"):\n",
    "            \n",
    "            print(filepath)"
   ]
  },
  {
   "cell_type": "code",
   "execution_count": 6,
   "metadata": {},
   "outputs": [
    {
     "ename": "OSError",
     "evalue": "Unable to open file (unable to open file: name = 'TRAEBDE128F934EF2A.h5', errno = 2, error message = 'No such file or directory', flags = 0, o_flags = 0)",
     "output_type": "error",
     "traceback": [
      "\u001b[0;31m---------------------------------------------------------------------------\u001b[0m",
      "\u001b[0;31mOSError\u001b[0m                                   Traceback (most recent call last)",
      "\u001b[0;32m<ipython-input-6-ac2f37b60d7e>\u001b[0m in \u001b[0;36m<module>\u001b[0;34m()\u001b[0m\n\u001b[1;32m     16\u001b[0m         \u001b[0;32mif\u001b[0m \u001b[0mfilepath\u001b[0m\u001b[0;34m.\u001b[0m\u001b[0mendswith\u001b[0m\u001b[0;34m(\u001b[0m\u001b[0;34m\".h5\"\u001b[0m\u001b[0;34m)\u001b[0m\u001b[0;34m:\u001b[0m\u001b[0;34m\u001b[0m\u001b[0m\n\u001b[1;32m     17\u001b[0m \u001b[0;34m\u001b[0m\u001b[0m\n\u001b[0;32m---> 18\u001b[0;31m             \u001b[0mdata\u001b[0m \u001b[0;34m=\u001b[0m \u001b[0mh5py\u001b[0m\u001b[0;34m.\u001b[0m\u001b[0mFile\u001b[0m\u001b[0;34m(\u001b[0m\u001b[0mfile\u001b[0m\u001b[0;34m,\u001b[0m \u001b[0;34m'r'\u001b[0m\u001b[0;34m)\u001b[0m\u001b[0;34m\u001b[0m\u001b[0m\n\u001b[0m\u001b[1;32m     19\u001b[0m \u001b[0;34m\u001b[0m\u001b[0m\n\u001b[1;32m     20\u001b[0m             \u001b[0marray\u001b[0m \u001b[0;34m=\u001b[0m \u001b[0mdata\u001b[0m\u001b[0;34m[\u001b[0m\u001b[0mgroup\u001b[0m\u001b[0;34m]\u001b[0m\u001b[0;34m[\u001b[0m\u001b[0mkey\u001b[0m\u001b[0;34m]\u001b[0m\u001b[0;34m.\u001b[0m\u001b[0mvalue\u001b[0m\u001b[0;34m\u001b[0m\u001b[0m\n",
      "\u001b[0;32m/anaconda3/lib/python3.6/site-packages/h5py/_hl/files.py\u001b[0m in \u001b[0;36m__init__\u001b[0;34m(self, name, mode, driver, libver, userblock_size, swmr, **kwds)\u001b[0m\n\u001b[1;32m    267\u001b[0m             \u001b[0;32mwith\u001b[0m \u001b[0mphil\u001b[0m\u001b[0;34m:\u001b[0m\u001b[0;34m\u001b[0m\u001b[0m\n\u001b[1;32m    268\u001b[0m                 \u001b[0mfapl\u001b[0m \u001b[0;34m=\u001b[0m \u001b[0mmake_fapl\u001b[0m\u001b[0;34m(\u001b[0m\u001b[0mdriver\u001b[0m\u001b[0;34m,\u001b[0m \u001b[0mlibver\u001b[0m\u001b[0;34m,\u001b[0m \u001b[0;34m**\u001b[0m\u001b[0mkwds\u001b[0m\u001b[0;34m)\u001b[0m\u001b[0;34m\u001b[0m\u001b[0m\n\u001b[0;32m--> 269\u001b[0;31m                 \u001b[0mfid\u001b[0m \u001b[0;34m=\u001b[0m \u001b[0mmake_fid\u001b[0m\u001b[0;34m(\u001b[0m\u001b[0mname\u001b[0m\u001b[0;34m,\u001b[0m \u001b[0mmode\u001b[0m\u001b[0;34m,\u001b[0m \u001b[0muserblock_size\u001b[0m\u001b[0;34m,\u001b[0m \u001b[0mfapl\u001b[0m\u001b[0;34m,\u001b[0m \u001b[0mswmr\u001b[0m\u001b[0;34m=\u001b[0m\u001b[0mswmr\u001b[0m\u001b[0;34m)\u001b[0m\u001b[0;34m\u001b[0m\u001b[0m\n\u001b[0m\u001b[1;32m    270\u001b[0m \u001b[0;34m\u001b[0m\u001b[0m\n\u001b[1;32m    271\u001b[0m                 \u001b[0;32mif\u001b[0m \u001b[0mswmr_support\u001b[0m\u001b[0;34m:\u001b[0m\u001b[0;34m\u001b[0m\u001b[0m\n",
      "\u001b[0;32m/anaconda3/lib/python3.6/site-packages/h5py/_hl/files.py\u001b[0m in \u001b[0;36mmake_fid\u001b[0;34m(name, mode, userblock_size, fapl, fcpl, swmr)\u001b[0m\n\u001b[1;32m     97\u001b[0m         \u001b[0;32mif\u001b[0m \u001b[0mswmr\u001b[0m \u001b[0;32mand\u001b[0m \u001b[0mswmr_support\u001b[0m\u001b[0;34m:\u001b[0m\u001b[0;34m\u001b[0m\u001b[0m\n\u001b[1;32m     98\u001b[0m             \u001b[0mflags\u001b[0m \u001b[0;34m|=\u001b[0m \u001b[0mh5f\u001b[0m\u001b[0;34m.\u001b[0m\u001b[0mACC_SWMR_READ\u001b[0m\u001b[0;34m\u001b[0m\u001b[0m\n\u001b[0;32m---> 99\u001b[0;31m         \u001b[0mfid\u001b[0m \u001b[0;34m=\u001b[0m \u001b[0mh5f\u001b[0m\u001b[0;34m.\u001b[0m\u001b[0mopen\u001b[0m\u001b[0;34m(\u001b[0m\u001b[0mname\u001b[0m\u001b[0;34m,\u001b[0m \u001b[0mflags\u001b[0m\u001b[0;34m,\u001b[0m \u001b[0mfapl\u001b[0m\u001b[0;34m=\u001b[0m\u001b[0mfapl\u001b[0m\u001b[0;34m)\u001b[0m\u001b[0;34m\u001b[0m\u001b[0m\n\u001b[0m\u001b[1;32m    100\u001b[0m     \u001b[0;32melif\u001b[0m \u001b[0mmode\u001b[0m \u001b[0;34m==\u001b[0m \u001b[0;34m'r+'\u001b[0m\u001b[0;34m:\u001b[0m\u001b[0;34m\u001b[0m\u001b[0m\n\u001b[1;32m    101\u001b[0m         \u001b[0mfid\u001b[0m \u001b[0;34m=\u001b[0m \u001b[0mh5f\u001b[0m\u001b[0;34m.\u001b[0m\u001b[0mopen\u001b[0m\u001b[0;34m(\u001b[0m\u001b[0mname\u001b[0m\u001b[0;34m,\u001b[0m \u001b[0mh5f\u001b[0m\u001b[0;34m.\u001b[0m\u001b[0mACC_RDWR\u001b[0m\u001b[0;34m,\u001b[0m \u001b[0mfapl\u001b[0m\u001b[0;34m=\u001b[0m\u001b[0mfapl\u001b[0m\u001b[0;34m)\u001b[0m\u001b[0;34m\u001b[0m\u001b[0m\n",
      "\u001b[0;32mh5py/_objects.pyx\u001b[0m in \u001b[0;36mh5py._objects.with_phil.wrapper\u001b[0;34m()\u001b[0m\n",
      "\u001b[0;32mh5py/_objects.pyx\u001b[0m in \u001b[0;36mh5py._objects.with_phil.wrapper\u001b[0;34m()\u001b[0m\n",
      "\u001b[0;32mh5py/h5f.pyx\u001b[0m in \u001b[0;36mh5py.h5f.open\u001b[0;34m()\u001b[0m\n",
      "\u001b[0;31mOSError\u001b[0m: Unable to open file (unable to open file: name = 'TRAEBDE128F934EF2A.h5', errno = 2, error message = 'No such file or directory', flags = 0, o_flags = 0)"
     ]
    }
   ],
   "source": [
    "#Draft Iterator. It does not work, cannot find directory.\n",
    "\n",
    "rootdir = '/Users/ivettetapia 1/Symbolic Link Seagate Drive/Springboard/Capstone 1_Mus_Recomend/Data/A'\n",
    "\n",
    "def get_song_data(rootdir=rootdir,group='metadata',key='songs'):\n",
    "    \n",
    "    ''' Takes a root directory, the group and the group key \n",
    "        and returns the data of the group key as a pandas dataframe'''\n",
    "\n",
    "for subdir, dirs, files in os.walk(rootdir):\n",
    "    \n",
    "    for file in files:\n",
    "        \n",
    "        filepath = subdir + os.sep + file\n",
    "        \n",
    "        if filepath.endswith(\".h5\"):\n",
    "            \n",
    "            data = h5py.File(file, 'r')\n",
    "            \n",
    "            array = data[group][key].value\n",
    "            \n",
    "            array_append = np.append(array)\n",
    "            \n",
    "            array_df = pd.DataFrame(array)\n",
    "            \n",
    "            data.close()\n",
    "return(array_df)"
   ]
  },
  {
   "cell_type": "markdown",
   "metadata": {},
   "source": [
    "### Part 2. Upload User Listening Data into a DataFrame"
   ]
  },
  {
   "cell_type": "code",
   "execution_count": 7,
   "metadata": {},
   "outputs": [
    {
     "name": "stdout",
     "output_type": "stream",
     "text": [
      "<class 'pandas.core.frame.DataFrame'>\n",
      "RangeIndex: 48373586 entries, 0 to 48373585\n",
      "Data columns (total 4 columns):\n",
      "user_id       object\n",
      "song_id       object\n",
      "play_count    int64\n",
      "play          int64\n",
      "dtypes: int64(2), object(2)\n",
      "memory usage: 1.4+ GB\n",
      "                                    user_id             song_id  play_count  \\\n",
      "0  b80344d063b5ccb3212f76538f3d9e43d87dca9e  SOAKIMP12A8C130995           1   \n",
      "1  b80344d063b5ccb3212f76538f3d9e43d87dca9e  SOAPDEY12A81C210A9           1   \n",
      "2  b80344d063b5ccb3212f76538f3d9e43d87dca9e  SOBBMDR12A8C13253B           2   \n",
      "3  b80344d063b5ccb3212f76538f3d9e43d87dca9e  SOBFNSP12AF72A0E22           1   \n",
      "4  b80344d063b5ccb3212f76538f3d9e43d87dca9e  SOBFOVM12A58A7D494           1   \n",
      "\n",
      "   play  \n",
      "0     1  \n",
      "1     1  \n",
      "2     1  \n",
      "3     1  \n",
      "4     1  \n",
      "CPU times: user 49.3 s, sys: 10.7 s, total: 1min\n",
      "Wall time: 1min 3s\n"
     ]
    }
   ],
   "source": [
    "%%time\n",
    "\n",
    "#Loading File Testing\n",
    "#10K rows: 19.4ms, walltime: 24.3ms\n",
    "#50K rows: 67.5ms, walltime: 378ms\n",
    "#100K rows: 127ms, walltime: 507ms\n",
    "#1M rows: 1.11s, walltime: 1.58s\n",
    "#10M rows: 9.65s, walltime: 11.2s\n",
    "#20M rows: 19s, walltime: 22.1s\n",
    "#40M rows: 39.8s, walltime: 49.3s\n",
    "#Full dataset 48.8M rows: 49.2s, walltime: 1m 6s\n",
    "#No errors, memory suffient\n",
    "\n",
    "users_path = '/Users/ivettetapia 1/Symbolic Link Seagate Drive/Springboard/Capstone 1_Mus_Recomend/Data/Taste_Profile_Subset.txt'\n",
    "\n",
    "users_listening_data = pd.read_csv(users_path, header = None, \n",
    "                                   names = ['user_id','song_id','play_count'],\n",
    "                                   sep = '\\s+')\n",
    "\n",
    "users_listening_data['play'] = 1 #this adds a column with value 1 to indicate the user played the song.\n",
    "\n",
    "users_listening_data.info()\n",
    "\n",
    "print(users_listening_data.head())"
   ]
  },
  {
   "cell_type": "markdown",
   "metadata": {},
   "source": [
    "### Part 3. Upload Known Song Mismatches"
   ]
  },
  {
   "cell_type": "markdown",
   "metadata": {},
   "source": [
    "> #### <font color =red >_The purpose of uploading this is to clean MSD later on to remove innacurate entries that can affect model fitting later on._</font>"
   ]
  },
  {
   "cell_type": "code",
   "execution_count": 8,
   "metadata": {},
   "outputs": [
    {
     "name": "stdout",
     "output_type": "stream",
     "text": [
      "<class 'pandas.core.frame.DataFrame'>\n",
      "RangeIndex: 19094 entries, 0 to 19093\n",
      "Data columns (total 3 columns):\n",
      "error       19094 non-null object\n",
      "song_id     19094 non-null object\n",
      "track_id    19094 non-null object\n",
      "dtypes: object(3)\n",
      "memory usage: 447.6+ KB\n",
      "       error             song_id            track_id\n",
      "0      ERROR  SOUMNSI12AB0182807  TRMMGKQ128F9325E10\n",
      "1      ERROR  SOCMRBE12AB018C546  TRMMREB12903CEB1B1\n",
      "2      ERROR  SOLPHZY12AC468ABA8  TRMMBOC12903CEB46E\n",
      "3      ERROR  SONGHTM12A8C1374EF  TRMMITP128F425D8D0\n",
      "4      ERROR  SONGXCA12A8C13E82E  TRMMAYZ128F429ECE6\n",
      "5      ERROR  SOMBCRC12A67ADA435  TRMMNVU128EF343EED\n",
      "6      ERROR  SOTDWDK12A8C13617B  TRMMNCZ128F426FF0E\n",
      "7      ERROR  SOEBURP12AB018C2FB  TRMMPBS12903CE90E1\n",
      "8      ERROR  SOSRJHS12A6D4FDAA3  TRMWMEL128F421DA68\n",
      "9      ERROR  SOIYAAQ12A6D4F954A  TRMWHRI128F147EA8E\n",
      "10     ERROR  SOUQUOG12A6D4F5965  TRMWCQW128F147DE05\n",
      "11     ERROR  SORRXFX12A8C141030  TRMWRQM128F92CCC1C\n",
      "12     ERROR  SOBWQMY12AB018AEAD  TRMWBQO128F935220C\n",
      "13     ERROR  SOCYTXQ12AB018E7C9  TRMWQBZ12903CC6AEF\n",
      "14     ERROR  SOKMSQN12A6D4FA08E  TRMWQNL128F92C6A25\n",
      "15     ERROR  SOFXDWK12A58A77B03  TRMWAQB128F428764C\n",
      "16     ERROR  SOBPEIN12AB018113A  TRMWPYJ128F931C084\n",
      "17     ERROR  SOANRSQ12A81C2147D  TRMWDXD128F42554E8\n",
      "18     ERROR  SOVWUNG12A8C137891  TRMGMLW128F426A200\n",
      "19     ERROR  SOOBZPE12AC468DFAF  TRMGWMD12903D03949\n",
      "20     ERROR  SOJTFZA12A8C13704E  TRMGGOK128F426FDEB\n",
      "21     ERROR  SOZZXCP12A8C13832E  TRMGQMW128F9311251\n",
      "22     ERROR  SOVUCOS12A8AE469B8  TRMGLXV128F9335A6F\n",
      "23     ERROR  SOVHSQO12AB018ECB7  TRMGVSC12903CD50B7\n",
      "24     ERROR  SOJXEKU12A58A7B864  TRMHRYL128F4277CAC\n",
      "25     ERROR  SOTNJQF12AAF3B3E2C  TRMHBDU128F92F0521\n",
      "26     ERROR  SOSSRTX12AB017FC38  TRMHLAT128F92ED819\n",
      "27     ERROR  SOUOJWF12AB0189C11  TRMHETY128F9331C30\n",
      "28     ERROR  SOLSHMI12A8C142CD4  TRMHOEV12903CB61E2\n",
      "29     ERROR  SOHDVUX12A58A7B49D  TRMCWLA12903CA2471\n",
      "...      ...                 ...                 ...\n",
      "19064  ERROR  SOGIOUW12CF4E07D5F  TRYXILS128F426BF60\n",
      "19065  ERROR  SOFUNBK12A679C805B  TRYXIPE128E07934C0\n",
      "19066  ERROR  SOUVYPN12D021B3727  TRYXTQF128F42ACC63\n",
      "19067  ERROR  SOMSMWZ12D02192691  TRYXUKJ128F42A259B\n",
      "19068  ERROR  SOWPKOG12AB01897FD  TRYXLOA128F933EE0D\n",
      "19069  ERROR  SOMOHDL12A8AE479E6  TRYXEPU128F4241E7C\n",
      "19070  ERROR  SOZKSIP12D02199328  TRYXEVB128E07912A2\n",
      "19071  ERROR  SOPLLLH12A67020BD6  TRYXOAL128E0791D5D\n",
      "19072  ERROR  SOKIIBL12AB018A45B  TRYXOVY128F932C2B2\n",
      "19073  ERROR  SOZYEYR12AF72A315C  TRYXKXZ128E0784212\n",
      "19074  ERROR  SOYVFWC127D977AFA5  TRYKWHR12903CC0B6A\n",
      "19075  ERROR  SOIWUNF12A6310E8D3  TRYKGHO128E0781EE7\n",
      "19076  ERROR  SOTCFVK12A58A7BB4D  TRYKRAY128F9335BBE\n",
      "19077  ERROR  SOQHVEI12A8C1323C1  TRYKRIX128F4249C59\n",
      "19078  ERROR  SOINCJN12AB017D374  TRYKPKU128F930B587\n",
      "19079  ERROR  SONXYRP12AB017DCCC  TRYKTVB128F9319ED5\n",
      "19080  ERROR  SOMAHAJ12A8C1392AC  TRYKVGL128F4253C21\n",
      "19081  ERROR  SOTBRIU12A8C13ED4F  TRYKVPP128F427C714\n",
      "19082  ERROR  SOFXPZA12A8C13DD8A  TRYKOOX128F42A0C7A\n",
      "19083  ERROR  SOEWTGB12AB018AADB  TRYKXPG12903CCB6DE\n",
      "19084  ERROR  SOSYZEY12D0219BEC3  TRYYMYM128F42ACC7F\n",
      "19085  ERROR  SORRHID12D0219331D  TRYYGXT12903CE1ADB\n",
      "19086  ERROR  SOONYPK12A6D4F89EE  TRYYCZU128F1478486\n",
      "19087  ERROR  SOUKFXO12A8C1383BE  TRYYCFI128F427EEF5\n",
      "19088  ERROR  SORLBUJ12D02195076  TRYYQHP128F9313D41\n",
      "19089  ERROR  SOMTOWW12AB017E51B  TRYYITV128F9311F31\n",
      "19090  ERROR  SOHVHIK12A6D4F6192  TRYYNAO128E0793B81\n",
      "19091  ERROR  SOIZEXJ12D021996B5  TRYYDPQ12903CE6856\n",
      "19092  ERROR  SOHQOLH12AAF3B4C38  TRYYXFI128F932D175\n",
      "19093  ERROR  SOELYAZ12A6BD4E103  TRYYYWS128EF34A1FF\n",
      "\n",
      "[19094 rows x 3 columns]\n",
      "CPU times: user 33 ms, sys: 13.5 ms, total: 46.5 ms\n",
      "Wall time: 362 ms\n"
     ]
    }
   ],
   "source": [
    "%%time \n",
    "\n",
    "msd_mismatch_path = '/Users/ivettetapia 1/Symbolic Link Seagate Drive/Springboard/Capstone 1_Mus_Recomend/Data/MSD_Mismatches.csv'\n",
    "\n",
    "msd_mismatch_data = pd.read_csv(msd_mismatch_path, names= ['error','song_id','track_id'], header=None)\n",
    "\n",
    "msd_mismatch_data.info()\n",
    "\n",
    "print(msd_mismatch_data)"
   ]
  },
  {
   "cell_type": "markdown",
   "metadata": {},
   "source": [
    "### Part 4. Upload Known Song Duplicates"
   ]
  },
  {
   "cell_type": "markdown",
   "metadata": {},
   "source": [
    "> #### <font color =red >_The purpose of uploading this dataset is to clean MSD later if needed. Duplicate entries can affect model fitting later on._</font>"
   ]
  },
  {
   "cell_type": "code",
   "execution_count": 9,
   "metadata": {},
   "outputs": [
    {
     "name": "stdout",
     "output_type": "stream",
     "text": [
      "<class 'pandas.core.frame.DataFrame'>\n",
      "RangeIndex: 131661 entries, 0 to 131660\n",
      "Data columns (total 2 columns):\n",
      "track_id     131661 non-null object\n",
      "song_name    131661 non-null object\n",
      "dtypes: object(2)\n",
      "memory usage: 2.0+ MB\n",
      "                  track_id                                          song_name\n",
      "0       TRFCVSW12903D0A298               1 The Del Vikings - Whispering Bells\n",
      "1       TRCWFEM128F9320F94               1 The Del Vikings - Whispering Bells\n",
      "2       TRKYJRK12903CE6493               1 The Del Vikings - Whispering Bells\n",
      "3       TRWTOBV128F9300F8A               1 The Del Vikings - Whispering Bells\n",
      "4       TRWFIGX128F42920CA                  2 ANGELZOOM - Blasphemous rumours\n",
      "5       TRFBNON128F4292174                  2 ANGELZOOM - Blasphemous rumours\n",
      "6       TRXXZSH128F1468B07           3 Dion & The Belmonts - A Lover's Prayer\n",
      "7       TRHCDQC12903CB39D3           3 Dion & The Belmonts - A Lover's Prayer\n",
      "8       TRUYEKK128F42591B4                      4 Sentidos Opuestos - La Vida\n",
      "9       TRVIIZQ128F425C2B8                      4 Sentidos Opuestos - La Vida\n",
      "10      TRONJDJ12903D13D28                     5 George Hamilton IV - Abilene\n",
      "11      TRIBQPK128F92F06DE                     5 George Hamilton IV - Abilene\n",
      "12      TRKPICM12903CC84E6                     5 George Hamilton IV - Abilene\n",
      "13      TRSAVIQ128F428A577                     5 George Hamilton IV - Abilene\n",
      "14      TRWJBVG128F92FC109                     5 George Hamilton IV - Abilene\n",
      "15      TRTBDIR128F42BAAB3                6 Jesse Malin - In The Modern World\n",
      "16      TRWDAPI128F92C53A2                6 Jesse Malin - In The Modern World\n",
      "17      TRCYBUW128F92FA3EB                                   7 Darko - Danote\n",
      "18      TRROERG128F92FA3D2                                   7 Darko - Danote\n",
      "19      TRAGZNX128F92F40E9                                   7 Darko - Danote\n",
      "20      TRCRROI128F9351DEC  8 Chuck Jackson - (You Can't Let The Boy Overp...\n",
      "21      TRYYJGT128E0798FCB  8 Chuck Jackson - (You Can't Let The Boy Overp...\n",
      "22      TRVBTFD128F9333BC0                            9 Soda Stereo - Tele-Ka\n",
      "23      TRTZIEN128F934048F                            9 Soda Stereo - Tele-Ka\n",
      "24      TRYQNYE12903CA88B0                               10 Whodini - Friends\n",
      "25      TRMTELK128F42A27AF                               10 Whodini - Friends\n",
      "26      TRNIHDA128F934D31B            11 Let's Go Outside - I See You Dancing\n",
      "27      TRUJZVU128F930FE65            11 Let's Go Outside - I See You Dancing\n",
      "28      TRVABMB128F92F95E5                       12 Pentangle - Cold Mountain\n",
      "29      TRKQGIM12903CAF869                       12 Pentangle - Cold Mountain\n",
      "...                    ...                                                ...\n",
      "131631  TRJZMFN12903D0A65E  53457 The White Stripes - The Union Forever (L...\n",
      "131632  TRLTMIG12903CCE87C  53457 The White Stripes - The Union Forever (L...\n",
      "131633  TRCTHUB128F9316050    53458 Franz Ferdinand - The Fallen (Radio Edit)\n",
      "131634  TRYXFPU128F4229942    53458 Franz Ferdinand - The Fallen (Radio Edit)\n",
      "131635  TRLHVGF128E0782EA8                 53459 Nickelback - Not Leavin' Yet\n",
      "131636  TRCSVKG128F42365CC                 53459 Nickelback - Not Leavin' Yet\n",
      "131637  TRKOKSF128EF35A547             53460 John Frizzell - Beavis the Sperm\n",
      "131638  TRVBTUC128F92E2BC9             53460 John Frizzell - Beavis the Sperm\n",
      "131639  TRAAKDG128F42A0ECB  53461 Shakira Featuring Wyclef Jean - Hips Don...\n",
      "131640  TRVSRJL128F14976B6  53461 Shakira Featuring Wyclef Jean - Hips Don...\n",
      "131641  TRXVFBK128F92E2F29          53462 Tony Marshall - Es liegt nur an Dir\n",
      "131642  TRNCGLX12903CCF207          53462 Tony Marshall - Es liegt nur an Dir\n",
      "131643  TRUDODD12903CAE6EB  53463 Lee Cabrera Vs Thomas Gold Ft. Tara MacD...\n",
      "131644  TRFTQEF128F9348597  53463 Lee Cabrera Vs Thomas Gold Ft. Tara MacD...\n",
      "131645  TRTULVX128F93001C3  53464 Paola Dipietromaria - Dalla Messe Solemn...\n",
      "131646  TRZYKQE128F424E0D8  53464 Paola Dipietromaria - Dalla Messe Solemn...\n",
      "131647  TRZRBON128F4227D1C  53465 Evidence featuring Casual - Hot & Cold F...\n",
      "131648  TROLHDA128F4290E37  53465 Evidence featuring Casual - Hot & Cold F...\n",
      "131649  TRKBNSF128F92E6E5E  53466 The Rolling Stones - It's Only Rock 'n' ...\n",
      "131650  TRKKAXM12903CB9EB4  53466 The Rolling Stones - It's Only Rock 'n' ...\n",
      "131651  TRFKWJW12903CD3E3F  53467 Tineke Schouten - De Tongbreker (Tineke ...\n",
      "131652  TRYWQZV12903CB413C  53467 Tineke Schouten - De Tongbreker (Tineke ...\n",
      "131653  TRKMSYQ128F425D7BA                          53468 Lilly Allen - Naive\n",
      "131654  TRPZSRF128F1484C3B                          53468 Lilly Allen - Naive\n",
      "131655  TRBGZBP12903CDBF32  53469 The Ultimate Beatles Cover Band - She Ca...\n",
      "131656  TRVTTQH12903C9B37B  53469 The Ultimate Beatles Cover Band - She Ca...\n",
      "131657  TRDNEDV128F92FFE25  53470 Lito y Manolo - The Gypsies - No Pares S...\n",
      "131658  TRUYBTI128F422D6CC  53470 Lito y Manolo - The Gypsies - No Pares S...\n",
      "131659  TRXVMUN128E0784025             53471 Bon Jovi - The One That Got Away\n",
      "131660  TRBAAOT128F4261A18             53471 Bon Jovi - The One That Got Away\n",
      "\n",
      "[131661 rows x 2 columns]\n",
      "CPU times: user 244 ms, sys: 51.1 ms, total: 295 ms\n",
      "Wall time: 1.25 s\n"
     ]
    }
   ],
   "source": [
    "%%time\n",
    "\n",
    "msd_duplicates_path = '/Users/ivettetapia 1/Symbolic Link Seagate Drive/Springboard/Capstone 1_Mus_Recomend/Data/MSD_Duplicates.csv'\n",
    "\n",
    "msd_duplicates_data = pd.read_csv(msd_duplicates_path, header=None, \n",
    "                                  names=['track_id','song_name','null'])\n",
    "\n",
    "msd_duplicates_data[['song_name']] = msd_duplicates_data[['song_name']].fillna(method='ffill')\n",
    "\n",
    "msd_duplicates_data = msd_duplicates_data[['track_id','song_name']].dropna().reset_index(drop=True)\n",
    "\n",
    "msd_duplicates_data.info()\n",
    "\n",
    "print(msd_duplicates_data)"
   ]
  }
 ],
 "metadata": {
  "kernelspec": {
   "display_name": "Python 3",
   "language": "python",
   "name": "python3"
  },
  "language_info": {
   "codemirror_mode": {
    "name": "ipython",
    "version": 3
   },
   "file_extension": ".py",
   "mimetype": "text/x-python",
   "name": "python",
   "nbconvert_exporter": "python",
   "pygments_lexer": "ipython3",
   "version": "3.6.4"
  }
 },
 "nbformat": 4,
 "nbformat_minor": 2
}
